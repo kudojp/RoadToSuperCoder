{
 "cells": [
  {
   "cell_type": "markdown",
   "metadata": {},
   "source": [
    "# Design Patterns\n",
    "\n",
    "- Memo for design patterns."
   ]
  },
  {
   "cell_type": "markdown",
   "metadata": {},
   "source": [
    "## Iterator pattern\n",
    "\n",
    "\n",
    "### Summary\n",
    "\n",
    "Iterators enables you to represent sequences with or without using a data structure. All you have to know is its two interface: `#has_next()` and `#next()`. You cannot get elements which have already traversed.\n",
    "\n",
    "### Interface\n",
    "\n",
    "\n",
    "- has_next() -> Boolean (Returns whether you have next element to traverse)\n",
    "- next() -> Item (Returns the next element)\n",
    "\n",
    "### Benefits\n",
    "\n",
    "- You can create iterator `with` or `without` an underlying object.\n",
    "    - with: Linked List, an Array, a Tree, a State Machine, a file reader\n",
    "    - without: number generator(e.g. range of sequence(min=10, max=50))\n",
    "- You can make iteration on `infinite` or `infinite` sequence.\n",
    "    - finite: LinkedList, infinite range(e.g. min=10)\n",
    "    - infinite: Array, finite range (e.g. min=10, max=50)\n",
    "\n",
    "- It is space efficient.\n",
    "    - It takes only O(1) space since it does not copy the whole data.\n",
    "\n",
    "- You don't have to know `how the underlying data structure works` as well as `the spefic way to traverse it`.\n",
    "    - (e.g. Implementing traversal of LinkedList is confusing)\n",
    "\n",
    "\n",
    "### How to use\n",
    "\n",
    "- https://github.com/kudojp/TourReservationSystem-Java2019\n",
    "\n",
    "### Ref\n",
    "\n",
    "- https://leetcode.com/problems/peeking-iterator/solution/    \n",
    "- c.f. Cursor Pattern (interchangeable???)"
   ]
  },
  {
   "cell_type": "code",
   "execution_count": null,
   "metadata": {},
   "outputs": [],
   "source": []
  }
 ],
 "metadata": {
  "kernelspec": {
   "display_name": "Python 3",
   "language": "python",
   "name": "python3"
  },
  "language_info": {
   "codemirror_mode": {
    "name": "ipython",
    "version": 3
   },
   "file_extension": ".py",
   "mimetype": "text/x-python",
   "name": "python",
   "nbconvert_exporter": "python",
   "pygments_lexer": "ipython3",
   "version": "3.8.1"
  }
 },
 "nbformat": 4,
 "nbformat_minor": 4
}
