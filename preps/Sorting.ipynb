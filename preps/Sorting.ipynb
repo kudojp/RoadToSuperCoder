{
 "cells": [
  {
   "cell_type": "code",
   "execution_count": null,
   "id": "f2b16846-610c-4d73-af7e-407d381c0913",
   "metadata": {},
   "outputs": [],
   "source": [
    "# 556. Next Greater Element III\n",
    "\n",
    "def nextGreaterElement(self, n: int) -> int:\n",
    "    digits = [int(d) for d in str(n)]\n",
    "\n",
    "    if len(digits) == 1:\n",
    "        return -1\n",
    "\n",
    "    prev = digits[-1]\n",
    "\n",
    "    for i in range(len(digits)-2, -1, -1):\n",
    "        if digits[i] >= digits[i+1]:\n",
    "            continue\n",
    "        \n",
    "        # find the smallest element larger than digits[i]\n",
    "        for j in range(len(digits)-1, i, -1):\n",
    "            if digits[i] < digits[j]:\n",
    "                break\n",
    "        digits[i], digits[j] = digits[j], digits[i]\n",
    "\n",
    "        # Now idx = i+1 ~ len(digits)-1 is sorted in descending order. So I reverse them.\n",
    "        left, right = i + 1, len(digits) - 1\n",
    "        while left < right:\n",
    "            digits[left], digits[right] = digits[right], digits[left]\n",
    "            left += 1\n",
    "            right -= 1\n",
    "\n",
    "        ans = int(\"\".join([str(d) for d in digits]))\n",
    "\n",
    "        if 2 ** 31 <= ans:\n",
    "            return -1\n",
    "        return ans\n",
    "\n",
    "    return -1"
   ]
  }
 ],
 "metadata": {
  "kernelspec": {
   "display_name": "Python 3 (ipykernel)",
   "language": "python",
   "name": "python3"
  },
  "language_info": {
   "codemirror_mode": {
    "name": "ipython",
    "version": 3
   },
   "file_extension": ".py",
   "mimetype": "text/x-python",
   "name": "python",
   "nbconvert_exporter": "python",
   "pygments_lexer": "ipython3",
   "version": "3.12.2"
  }
 },
 "nbformat": 4,
 "nbformat_minor": 5
}
