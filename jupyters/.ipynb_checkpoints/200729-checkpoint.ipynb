{
 "cells": [
  {
   "cell_type": "markdown",
   "metadata": {},
   "source": [
    "# c-スフィンクスのなぞなぞ\n",
    "https://atcoder.jp/contests/abc006/tasks/abc006_3\n"
   ]
  },
  {
   "cell_type": "markdown",
   "metadata": {},
   "source": [
    "## 総当たり O(n^2)"
   ]
  },
  {
   "cell_type": "code",
   "execution_count": 8,
   "metadata": {},
   "outputs": [
    {
     "name": "stdout",
     "output_type": "stream",
     "text": [
      "1 2\n",
      "1 0 0 \n",
      "\n"
     ]
    },
    {
     "ename": "SystemExit",
     "evalue": "",
     "output_type": "error",
     "traceback": [
      "An exception has occurred, use %tb to see the full traceback.\n",
      "\u001b[0;31mSystemExit\u001b[0m\n"
     ]
    }
   ],
   "source": [
    "import sys\n",
    "n, m = map(lambda x: int(x), input().split())\n",
    "\n",
    "for num_adult in range(n+1):\n",
    "    for num_old in range(n-num_adult+1):\n",
    "        num_baby = n - num_adult - num_old\n",
    "        if 2*num_adult + 3*num_old + 4*num_baby == m:\n",
    "            print(num_adult, num_old, num_baby, '\\n')\n",
    "            sys.exit()\n",
    "print('-1 -1 -1\\n')"
   ]
  },
  {
   "cell_type": "markdown",
   "metadata": {},
   "source": [
    "## ３が奇数であることに注目して O()"
   ]
  },
  {
   "cell_type": "code",
   "execution_count": 29,
   "metadata": {},
   "outputs": [
    {
     "name": "stdout",
     "output_type": "stream",
     "text": [
      "2 5\n",
      "3.5 1 -1.5\n"
     ]
    },
    {
     "ename": "SystemExit",
     "evalue": "",
     "output_type": "error",
     "traceback": [
      "An exception has occurred, use %tb to see the full traceback.\n",
      "\u001b[0;31mSystemExit\u001b[0m\n"
     ]
    }
   ],
   "source": [
    "import sys\n",
    "n, m = map(lambda x: int(x), input().split())\n",
    "\n",
    "if m % 2 != 0:\n",
    "    num_adult = (4*m-12-n+1)/2\n",
    "    num_baby = (n-1-2*m+6)/2\n",
    "    if (0 < num_adult) & (0 < num_baby):\n",
    "        print(\"{} 1 {}\".format(num_adult, num_baby))\n",
    "        sys.exit()\n",
    "    print('-1 -1 -1\\n')\n",
    "    sys.exit()\n",
    "\n",
    "              \n",
    "num_adult = (4*m-n)/2\n",
    "num_baby = (n-2*m)/2\n",
    "if (0 < num_adult) & (0 < num_baby):\n",
    "    print(\"{} 0 {}\".format(num_adult, num_baby))\n",
    "    sys.exit()\n",
    "print('-1 -1 -1\\n')\n"
   ]
  },
  {
   "cell_type": "markdown",
   "metadata": {},
   "source": [
    "- 2 x + 4 y = n\n",
    "- x + y = m　\n",
    "\n",
    "の時、x, y = (4m-n)/2, (n-2m)/2"
   ]
  },
  {
   "cell_type": "code",
   "execution_count": null,
   "metadata": {},
   "outputs": [],
   "source": []
  }
 ],
 "metadata": {
  "kernelspec": {
   "display_name": "Python 3",
   "language": "python",
   "name": "python3"
  },
  "language_info": {
   "codemirror_mode": {
    "name": "ipython",
    "version": 3
   },
   "file_extension": ".py",
   "mimetype": "text/x-python",
   "name": "python",
   "nbconvert_exporter": "python",
   "pygments_lexer": "ipython3",
   "version": "3.7.6"
  }
 },
 "nbformat": 4,
 "nbformat_minor": 4
}
