{
 "cells": [
  {
   "cell_type": "markdown",
   "metadata": {},
   "source": [
    "# C - 柱柱柱柱柱\n",
    "実行時間制限: 2 sec / メモリ制限: 256 MB\n",
    "\n",
    "問題文\n",
    "N\n",
    " 本の木の柱が左から右へ一列に並んだアスレチックがあります。左から \n",
    "i\n",
    " 本目の柱の高さは \n",
    "a\n",
    "i\n",
    " センチメートルです。\n",
    "\n",
    "高橋君は左から \n",
    "1\n",
    " 本目の柱からスタートし、右へ柱を渡っていき \n",
    "N\n",
    " 本目の柱まで行こうとしています。\n",
    "\n",
    "高橋君がある柱にいるとき、次には現在の柱から \n",
    "1\n",
    " 個もしくは \n",
    "2\n",
    " 個右にある柱のどちらかへ移動することができます。\n",
    "\n",
    "移動するときには、現在いる柱の高さと、移動後の柱の高さの差の絶対値のぶんだけコストがかかります。\n",
    "\n",
    "N\n",
    " 本目の柱まで行くとき、コストの合計の最小値はいくらになるでしょうか。"
   ]
  },
  {
   "cell_type": "markdown",
   "metadata": {},
   "source": [
    "## 再帰関数を使う\n",
    "\n",
    "- 多分深さ探索ってやつをしている"
   ]
  },
  {
   "cell_type": "code",
   "execution_count": 30,
   "metadata": {},
   "outputs": [
    {
     "name": "stdout",
     "output_type": "stream",
     "text": [
      "9\n",
      "314 159 265 358 979 323 846 264 338\n",
      "310\n"
     ]
    }
   ],
   "source": [
    "import sys\n",
    "\n",
    "n = int(input())\n",
    "heights = list(map(lambda x: int(x), input().split()))\n",
    "\n",
    "def cost_func(current_height, remaining_heights):\n",
    "    if len(remaining_heights) == 1:\n",
    "        return abs(remaining_heights[0] - current_height)\n",
    "    if len(remaining_heights) == 2:\n",
    "        cost_with_1step = abs(remaining_heights[1] - current_height)\n",
    "        cost_with_2steps = abs(remaining_heights[0] - current_height) + abs(remaining_heights[1] - current_height)\n",
    "        return min(cost_with_1step, cost_with_2steps)\n",
    "        \n",
    "    cost_after_one_step = abs(remaining_heights[0] - current_height) + cost_func(remaining_heights[0], remaining_heights[1:])\n",
    "    cost_after_two_step = abs(remaining_heights[1] - current_height) + cost_func(remaining_heights[1], remaining_heights[2:])\n",
    "    return min(cost_after_one_step, cost_after_two_step)\n",
    "\n",
    "print(cost_func(heights[0], heights[1:]))"
   ]
  },
  {
   "cell_type": "markdown",
   "metadata": {},
   "source": [
    "## 探索を効率化する"
   ]
  },
  {
   "cell_type": "code",
   "execution_count": 55,
   "metadata": {},
   "outputs": [
    {
     "ename": "SyntaxError",
     "evalue": "invalid syntax (<ipython-input-55-d47f4db05bfc>, line 39)",
     "output_type": "error",
     "traceback": [
      "\u001b[0;36m  File \u001b[0;32m\"<ipython-input-55-d47f4db05bfc>\"\u001b[0;36m, line \u001b[0;32m39\u001b[0m\n\u001b[0;31m    cost_after_one_step = abs(remaining_heights[0] - current_height) + cost_func(remaining_heights[0], remaini:g_heights[1:])\u001b[0m\n\u001b[0m                                                                                                              ^\u001b[0m\n\u001b[0;31mSyntaxError\u001b[0m\u001b[0;31m:\u001b[0m invalid syntax\n"
     ]
    }
   ],
   "source": [
    "import sys\n",
    "from functools import lru_cache\n",
    "sys.setrecursionlimit(20000) # 再起呼び出しの最大数をセット\n",
    "\n",
    "import time\n",
    "t = time.time()\n",
    "n = int(input())\n",
    "heights = tuple(map(lambda x: int(x), input().split()))\n",
    "\n",
    "# 関数をメモ化\n",
    "@lru_cache(maxsize=None)\n",
    "def cost_func(current_height, remaining_heights):\n",
    "    if len(remaining_heights) == 1:\n",
    "        return abs(remaining_heights[0] - current_height)\n",
    "    if len(remaining_heights) == 2:\n",
    "        cost_with_1step = abs(remaining_heights[1] - current_height)\n",
    "        cost_with_2steps = abs(remaining_heights[0] - current_height) + abs(remaining_heights[1] - current_height)\n",
    "        return min(cost_with_1step, cost_with_2steps)\n",
    "    \n",
    "    # 短調増加中は全部一歩で進む\n",
    "#     # (1) 2 3 4 5 -10　だと　i=4でエラー、i=2までは短調増加でどちらでok\n",
    "#     first_gap = remaining_heights[0] - current_height\n",
    "#     for i in range(1, len(remaining_heights)):\n",
    "#         if  (remaining_heights[i] - remaining_heights[i-1]) * first_gap <= 0:\n",
    "#             break\n",
    "#     if i >= 3:\n",
    "#         return remaining_heights[i-1] - current_height + cost_func(remaining_heights[i-1], remaining_heights[i-2:])\n",
    "    if len(remaining_heights) >= 3:\n",
    "        if (current_height < remaining_heights[0]) & (remaining_heights[0] < remaining_heights[1]) & (remaining_heights[2] < remaining_heights[3]):\n",
    "            for i in range(len(remaining_heights)-3):\n",
    "                if remaining_heights[i+3] > remaining_heights[i+2]:\n",
    "                    break\n",
    "            if i > 0:\n",
    "                return abs(remaining_heights[i] - current_height) + cost_func(remaining_heights[i], remaining_heights[i+1:])\n",
    "                \n",
    "    \n",
    "    \n",
    "        \n",
    "    cost_after_one_step = abs(remaining_heights[0] - current_height) + cost_func(remaining_heights[0], remaining_heights[1:])\n",
    "    cost_after_two_step = abs(remaining_heights[1] - current_height) + cost_func(remaining_heights[1], remaining_heights[2:])\n",
    "    return min(cost_after_one_step, cost_after_two_step)\n",
    "\n",
    "print(cost_func(heights[0], heights[1:]))\n",
    "print(time.time() - t)"
   ]
  },
  {
   "cell_type": "markdown",
   "metadata": {},
   "source": [
    "# 普通にやれば絶対値の合計\n",
    "ただ+-を足してやることができたらその合計の絶対値に置き換わる\n",
    "\n",
    "(-15+17)-8 = 2,8= 10\n",
    "-15+(17-8) = 17,9 = 26\n",
    "\n",
    "変わる\n",
    "もしや貪欲ほう！？\n",
    "\n",
    "### curl\n",
    "\n",
    "様々なプロトコルを用いてファイルを送受信するコマンドラインツール\n",
    "\n",
    "- curl https://www.google.com/index.html (ダウンロードしたファイルを標準出力)\n",
    "- curl -o output.html https://www.google.com/index.html\n",
    "- curl -O https://www.google.com/index.html\n",
    "  - = curl -o https://www.google.com/index.html https://www.google.com/index.html\n",
    "\n",
    "HTTPSメソッドと対応するオプション(-Xでメソッド指定。なかったらGET)\n",
    "\n",
    "- GET: `curl https://example.com/get`\n",
    "- POST(BODYをkey-value): `curl -X POST https://example.com/post ーd 'key1:value1' -d 'key2:value2'`\n",
    "- POST(BODYをjson): `curl -X POST -H \"Content-Type: application/json\" -d '{\"key1\":\"value1\", \"key2\":\"value2\"}'`\n",
    "  - jsonファイルを使ってbodyを指定する場合は`-d @input_file.json`を使う\n",
    "- PUT/PATCH/DELETE: `-X PUT`や`-X PATCH`や`-X DELETE`を使う、あとは`-X POST`と同様。\n",
    "\n",
    "その他調べていて学んだこと\n",
    "\n",
    "- [DELETE に body を付ける事はGET同様、仕様上禁止されていないのですが、 POST, PUTは content-length を付けることが必須なのに対して、 GET, DELETE は任意となっております。この仕様上、 content-length がリクエストパラメータに付与されていないことになると、多くのサーバでは GET/DELETE の際にどこまでbodyとして読んだら良いのかわからないことがあります。このため、多くのweb サーバでは GET/DELETE でbodyを付けることに対応していないことが多いです。](https://teratail.com/questions/68972)"
   ]
  },
  {
   "cell_type": "code",
   "execution_count": null,
   "metadata": {},
   "outputs": [],
   "source": []
  }
 ],
 "metadata": {
  "kernelspec": {
   "display_name": "Python 3",
   "language": "python",
   "name": "python3"
  },
  "language_info": {
   "codemirror_mode": {
    "name": "ipython",
    "version": 3
   },
   "file_extension": ".py",
   "mimetype": "text/x-python",
   "name": "python",
   "nbconvert_exporter": "python",
   "pygments_lexer": "ipython3",
   "version": "3.7.6"
  }
 },
 "nbformat": 4,
 "nbformat_minor": 4
}
