{
 "cells": [
  {
   "cell_type": "markdown",
   "metadata": {},
   "source": [
    "# c-スフィンクスのなぞなぞ\n",
    "https://atcoder.jp/contests/abc006/tasks/abc006_3\n",
    "\n",
    "\n",
    "新学期に向けて新たな気持ちで通学しているあなたの前に、スフィンクスが立ちふさがっています。\n",
    "このスフィンクスは「なぞなぞ」を出すことで有名で、このなぞなぞに答えられない場合、留年します。\n",
    "\n",
    "なぞなぞは以下のとおりです。\n",
    "「この街には人間が \n",
    "N\n",
    " 人いる。人間は、大人、老人、赤ちゃんの \n",
    "3\n",
    " 通りだ。\n",
    "この街にいる人間の、足の数の合計は \n",
    "M\n",
    " 本で、大人の足は \n",
    "2\n",
    " 本、老人の足は \n",
    "3\n",
    " 本、赤ちゃんの足は \n",
    "4\n",
    " 本と仮定した場合、存在する人間の組み合わせとしてあり得るものを \n",
    "1\n",
    " つ答えよ。」\n",
    "\n",
    "新学期早々留年したくないあなたは、このなぞなぞに正解する必要があります。\n",
    "なぞなぞの答えとなる「この街に存在する人間の組み合わせ」を \n",
    "1\n",
    " つ出力してください。\n",
    "もし、そのような組み合わせが存在しない場合は-1 -1 -1と出力してください。"
   ]
  },
  {
   "cell_type": "markdown",
   "metadata": {},
   "source": [
    "## 総当たり O(n^2)"
   ]
  },
  {
   "cell_type": "code",
   "execution_count": 8,
   "metadata": {},
   "outputs": [
    {
     "name": "stdout",
     "output_type": "stream",
     "text": [
      "1 2\n",
      "1 0 0 \n",
      "\n"
     ]
    },
    {
     "ename": "SystemExit",
     "evalue": "",
     "output_type": "error",
     "traceback": [
      "An exception has occurred, use %tb to see the full traceback.\n",
      "\u001b[0;31mSystemExit\u001b[0m\n"
     ]
    }
   ],
   "source": [
    "import sys\n",
    "n, m = map(lambda x: int(x), input().split())\n",
    "\n",
    "for num_adult in range(n+1):\n",
    "    for num_old in range(n-num_adult+1):\n",
    "        num_baby = n - num_adult - num_old\n",
    "        if 2*num_adult + 3*num_old + 4*num_baby == m:\n",
    "            print(num_adult, num_old, num_baby, '\\n')\n",
    "            sys.exit()\n",
    "print('-1 -1 -1\\n')"
   ]
  },
  {
   "cell_type": "markdown",
   "metadata": {},
   "source": [
    "## ３が奇数であることに注目して O(1)"
   ]
  },
  {
   "cell_type": "code",
   "execution_count": 41,
   "metadata": {},
   "outputs": [
    {
     "name": "stdout",
     "output_type": "stream",
     "text": [
      "2 4\n",
      "2 0 0\n"
     ]
    },
    {
     "ename": "SystemExit",
     "evalue": "",
     "output_type": "error",
     "traceback": [
      "An exception has occurred, use %tb to see the full traceback.\n",
      "\u001b[0;31mSystemExit\u001b[0m\n"
     ]
    }
   ],
   "source": [
    "import sys\n",
    "n, m = map(lambda x: int(x), input().split())\n",
    "\n",
    "if m % 2 != 0:\n",
    "    num_adult = (4*n-4-m+3)//2\n",
    "    num_baby = (m-3-2*n+2)//2\n",
    "    if (0 <= num_adult) & (0 <= num_baby):\n",
    "        print(\"{} 1 {}\".format(num_adult, num_baby))\n",
    "        sys.exit()\n",
    "    print('-1 -1 -1\\n')\n",
    "    sys.exit()\n",
    "              \n",
    "num_adult = (4*n-m)//2\n",
    "num_baby = (m-2*n)//2\n",
    "if (0 <= num_adult) & (0 <= num_baby):\n",
    "    print(\"{} 0 {}\".format(num_adult, num_baby))\n",
    "    sys.exit()\n",
    "print('-1 -1 -1\\n')\n"
   ]
  },
  {
   "cell_type": "markdown",
   "metadata": {},
   "source": [
    "- x + y = n\n",
    "- 2 x + 4 y = m\n",
    "\n",
    "の時、x, y = (4n-m)/2, (m-2n)/2"
   ]
  },
  {
   "cell_type": "markdown",
   "metadata": {},
   "source": [
    "# 考察\n",
    "\n",
    "- 今回の問題では総当たりでは、O(n^2)\n",
    "- 例えば子供の本数を徐々に増やして、残り2種類で連立方程式を使うことでO(n)\n",
    "- 足の本数の奇遇に注目して３本足の老人が0or1になることに気がつくことでO(1)\n",
    "\n",
    "で解決できた。なお、もし足の組み合わせが(2,4,99)だった場合実質的に99が0or1では足の本数の合計が足りない可能性があるので、その場合は99本足の生物が`m//99`or`m//99-1`の２パターンで場合わけする"
   ]
  },
  {
   "cell_type": "code",
   "execution_count": null,
   "metadata": {},
   "outputs": [],
   "source": []
  }
 ],
 "metadata": {
  "kernelspec": {
   "display_name": "Python 3",
   "language": "python",
   "name": "python3"
  },
  "language_info": {
   "codemirror_mode": {
    "name": "ipython",
    "version": 3
   },
   "file_extension": ".py",
   "mimetype": "text/x-python",
   "name": "python",
   "nbconvert_exporter": "python",
   "pygments_lexer": "ipython3",
   "version": "3.7.6"
  }
 },
 "nbformat": 4,
 "nbformat_minor": 4
}
