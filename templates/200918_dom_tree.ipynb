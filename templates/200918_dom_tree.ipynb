{
 "cells": [
  {
   "cell_type": "markdown",
   "metadata": {},
   "source": [
    "# DOMをtreeで実装してみる\n",
    "\n",
    "- なお、パーサーは作らない(作るの結構大変らしい)\n",
    "- [ブラウザのしくみ: データ構造とアルゴリズムと雰囲気で理解する DOM と Shadow DOM ](https://hayatoito.github.io/2017/dom/)を参考にする\n",
    "\n",
    "\n",
    "## 見落としがちな点\n",
    "\n",
    "- htmlタグはには内部に文字列を挟むものと、挟まないものの２種類がある。\n",
    "    - ①`<div>●●通販の△△</div>`\n",
    "    - ②`<button type=\"submit\" value=\"送信\">`\n",
    "    \n",
    "=> \n",
    "- `<div>●●通販の△△</div>`に関しては、`<div>`内部の`●●通販の△△`で1Node。`<div>●●通販の△△</div>`でそれをwrapしてまた一つのNode。\n",
    "\n",
    "## Nodeは３種類ある(もっとあるかも)\n",
    "\n",
    "|-|tag|value|children|\n",
    "|----|----|----|----|\n",
    "|①`<div>●●</div>`|div|None|[x,y,z]|\n",
    "|②`<button type=\"submit\">`|button|None|None|\n",
    "|③文字列|None|その文字列|None|\n",
    "\n",
    "\n",
    "## 実装方針\n",
    "\n",
    "- Node<valueのみ>か、<tagとchildren>どちらかしか持たない？？？"
   ]
  },
  {
   "cell_type": "markdown",
   "metadata": {},
   "source": [
    "# NodeとTreeの実装(簡易版)\n",
    "\n",
    "\n",
    "\n",
    "- できたらtagはenumとかで持っておきたい(以下ではstringで持っている)"
   ]
  },
  {
   "cell_type": "code",
   "execution_count": 1,
   "metadata": {},
   "outputs": [],
   "source": [
    "class Node:\n",
    "    def __init__(self, tag, value, children):\n",
    "        # このnodeが内部にもうnodeを持たない場合(つまり<>~</>を含まない文字列の場合)\n",
    "        self.value = value\n",
    "        self.tag = tag        \n",
    "        # このnodeが内部にnode(s)を持つ場合\n",
    "        self.children = children\n",
    "\n",
    "class Tree:\n",
    "    def __init__(self, node):\n",
    "        self.root = node"
   ]
  },
  {
   "cell_type": "markdown",
   "metadata": {},
   "source": [
    "## 実際に使ってみた\n",
    "\n",
    "後のテストのために、<html>タグが二つあるが多めにみてほしい\n",
    "\n",
    "\n",
    "```\n",
    "<html>\n",
    "  <html>\n",
    "    <meta charset=\"utf-8\" />\n",
    "    あああああ\n",
    "    <link rel=\"stylesheet\" href=\"sample.css\" type=\"text/css\">\n",
    "  </html>\n",
    "  いいいいい\n",
    "</html>\n",
    "```"
   ]
  },
  {
   "cell_type": "code",
   "execution_count": 2,
   "metadata": {},
   "outputs": [],
   "source": [
    "n1 = Node('meta', None, None)\n",
    "n2 = Node(None, 'あああああ', None)\n",
    "n3 = Node('link', None, None)\n",
    "\n",
    "n4 = Node('html', None, [n1, n2, n3])\n",
    "n5 = Node(None, 'いいいいい', None)\n",
    "\n",
    "n6 = Node('html', None, [n4, n5])\n",
    "\n",
    "tree = Tree(n6)"
   ]
  },
  {
   "cell_type": "markdown",
   "metadata": {},
   "source": [
    "## count_tagsの実装\n",
    "\n",
    "- treeのインスタンスメソッドとして作ってもいいが、今回はnodeのインスタンスメソッドとして作る\n",
    "- あってるか自信ない"
   ]
  },
  {
   "cell_type": "code",
   "execution_count": 3,
   "metadata": {
    "scrolled": true
   },
   "outputs": [],
   "source": [
    "class Node:\n",
    "    def __init__(self, tag, value, children):\n",
    "        # このnodeが内部にもうnodeを持たない場合(つまり<>~</>を含まない文字列の場合)\n",
    "        self.value = value\n",
    "        self.tag = tag        \n",
    "        # このnodeが内部にnode(s)を持つ場合\n",
    "        self.children = children\n",
    "        \n",
    "    def count_tags(self, tag):\n",
    "        num_tags = 1 if self.tag == tag else 0\n",
    "        if self.tag is None:\n",
    "            # 文字列なので、再帰を停止\n",
    "            return num_tags\n",
    "        # これも再帰の停止条件\n",
    "        if self.children is None:\n",
    "            return num_tags\n",
    "        \n",
    "        for each_node in self.children:\n",
    "            num_tags += each_node.count_tags(tag)\n",
    "        return num_tags"
   ]
  },
  {
   "cell_type": "code",
   "execution_count": 4,
   "metadata": {},
   "outputs": [
    {
     "data": {
      "text/plain": [
       "2"
      ]
     },
     "execution_count": 4,
     "metadata": {},
     "output_type": "execute_result"
    }
   ],
   "source": [
    "n1 = Node('meta', None, None)\n",
    "n2 = Node(None, 'あああああ', None)\n",
    "n3 = Node('link', None, None)\n",
    "\n",
    "n4 = Node('html', None, [n1, n2, n3])\n",
    "n5 = Node(None, 'いいいいい', None)\n",
    "\n",
    "n6 = Node('html', None, [n4, n5])\n",
    "\n",
    "n6.count_tags('html')"
   ]
  },
  {
   "cell_type": "markdown",
   "metadata": {},
   "source": [
    "一応いけてる!...?"
   ]
  },
  {
   "cell_type": "raw",
   "metadata": {},
   "source": [
    "# NodeとTreeの実装(Chrome版)\n",
    "\n",
    "- こんな感じらしい 以下引用(https://hayatoito.github.io/2017/dom/#chrome)\n",
    "\n",
    "![image](https://user-images.githubusercontent.com/44487754/93560714-bfc95780-f9bd-11ea-9a94-48bd494a052b.png)\n"
   ]
  },
  {
   "cell_type": "code",
   "execution_count": 5,
   "metadata": {},
   "outputs": [],
   "source": [
    "class Node:\n",
    "    # parentとnext_nodeは基本的に初期化の時点ではわからないはずなので引数に含めない\n",
    "    def __init__(self, tag, value):\n",
    "        self.tag = tag\n",
    "        self.value = value\n",
    "        self.next_node = None\n",
    "        self.previous_node = None\n",
    "        self.first_child = None\n",
    "        self.parent_node = None\n",
    "        \n",
    "    # 引数で与えられるタグが、selfのnodeとそれ以下のnodeたちにいくつ含まれるかを返す\n",
    "    def count_tags(self, tag):\n",
    "        num_tags = 1 if self.tag == tag else 0\n",
    "        \n",
    "        if self.first_child is not None:\n",
    "            num_tags += self.first_child.count_tags_of_self_and_children_and_younger_brothers(tag)\n",
    "        \n",
    "        return num_tags        \n",
    "    \n",
    "    # そのnodeと、それよりも子供か弟のnodeに含まれる、引数で指定されたtagの個数を返す\n",
    "    def count_tags_of_self_and_children_and_younger_brothers(self, tag):\n",
    "        \n",
    "        num_tags = 1 if self.tag == tag else 0\n",
    "        \n",
    "        # 再帰の停止条件、Nodeが自分よち年下の兄弟も、子供も持たない場合\n",
    "        if (self.next_node is None) & (self.first_child is None):\n",
    "            return num_tags\n",
    "    \n",
    "        if self.next_node is not None:\n",
    "            num_tags += self.next_node.count_tags_of_self_and_children_and_younger_brothers(tag)\n",
    "        \n",
    "        if self.first_child is not None:\n",
    "            num_tags += self.first_child.count_tags_of_self_and_children_and_younger_brothers(tag)\n",
    "        \n",
    "        return num_tags\n",
    "        \n",
    "        \n",
    "# パーサーによって使用されることを推定した所謂helperメソッドである\n",
    "# Nodeクラスのメソッドで、set_parent_and_siblings_relationship(self, child_nodes)を含めることも考えたが、\n",
    "# インスタンスメソッド内で他のインスタンスのフィールドを書き換えるのはよくない気がしたので、helperメソッドで切り出す。\n",
    "#\n",
    "# 1. 第一引数のNodeを親Node, 第二引数の配列に含まれるNodeの配列をその子供達として、親子関係を持たせる。\n",
    "# 2. 第二引数の配列に関しては、「配列で自分より前にあるNodeは自分より年上である」という兄弟関係を持たせる。\n",
    "#    (要は1番目が一番年上、2番目が二番目に年上、、、)\n",
    "# \n",
    "# Arguments:\n",
    "#    parent_node(Node): 親となるNode\n",
    "#    child_nodes(List of Node(s)): 子供たちとなるNodeのリスト(長さは最低1)\n",
    "def set_parent_and_siblings_relationship(parent_node, child_nodes):\n",
    "    \n",
    "    previous_child = child_nodes[0]\n",
    "    parent_node.first_child = previous_child\n",
    "    previous_child.parent = parent_node\n",
    "    for each_child in child_nodes[1:]:\n",
    "        # 兄弟関係\n",
    "        previous_child.next_node = each_child\n",
    "        each_child.previous_node = previous_child\n",
    "        # 親子関係\n",
    "        each_child.parent = parent_node\n",
    "        previous_child = each_child\n",
    "    # 末っ子nodeについて\n",
    "    parent_node.last_child = previous_child\n",
    "\n",
    "    \n",
    "class Tree:\n",
    "    def __init__(self, node):\n",
    "        self.root = node"
   ]
  },
  {
   "cell_type": "markdown",
   "metadata": {},
   "source": [
    "## 実際に使ってみた\n",
    "後のテストのために、タグが二つあるが多めにみてほしい\n",
    "\n",
    "```\n",
    "<html>(9)\n",
    "  <html>(5)\n",
    "    <meta charset=\"utf-8\" />(1)\n",
    "    あああああ(2)\n",
    "    <link rel=\"stylesheet\" href=\"sample.css\" type=\"text/css\">(3)\n",
    "    <html>(4)\n",
    "      いいいいい(0)\n",
    "    </html>\n",
    "  </html>\n",
    "  ううううう(6)\n",
    "  <html>(8)\n",
    "    <meta charset=\"utf-8\" />(7)\n",
    "  </html>\n",
    "</html>\n",
    "```"
   ]
  },
  {
   "cell_type": "code",
   "execution_count": 6,
   "metadata": {},
   "outputs": [],
   "source": [
    "# 引数は順にtag, value, first_child, last_child, previous_node\n",
    "\n",
    "n0 = Node(None, 'いいいいい')\n",
    "\n",
    "n1 = Node('meta', None)\n",
    "set_parent_and_siblings_relationship(n1, [n0])\n",
    "n2 = Node(None, 'あああああ')\n",
    "n3 = Node('link', None)\n",
    "n4 = Node('html', None)\n",
    "\n",
    "n5 = Node('html', None)\n",
    "set_parent_and_siblings_relationship(n5, [n1, n2, n3, n4])\n",
    "n6 = Node(None, 'ううううう')\n",
    "n7 = Node('meta', None)\n",
    "n8 = Node('html', None)\n",
    "set_parent_and_siblings_relationship(n8, [n7])\n",
    "\n",
    "n9 = Node('html', None)\n",
    "set_parent_and_siblings_relationship(n9, [n5, n6, n8])\n",
    "\n",
    "tree = Tree(n9)"
   ]
  },
  {
   "cell_type": "markdown",
   "metadata": {},
   "source": [
    "## count_tagsの実装\n",
    "\n",
    "- treeのインスタンスメソッドとして作ってもいいが、今回はnodeのインスタンスメソッドとして作る\n",
    "- あってるか自信ない"
   ]
  },
  {
   "cell_type": "code",
   "execution_count": 7,
   "metadata": {},
   "outputs": [
    {
     "name": "stdout",
     "output_type": "stream",
     "text": [
      "4\n",
      "1\n",
      "0\n"
     ]
    }
   ],
   "source": [
    "print(n9.count_tags('html'))\n",
    "print(n8.count_tags('html'))\n",
    "print(n0.count_tags('html'))"
   ]
  },
  {
   "cell_type": "markdown",
   "metadata": {},
   "source": [
    "いけたっぽい!..?"
   ]
  },
  {
   "cell_type": "markdown",
   "metadata": {},
   "source": [
    "## テストケースはどうする？\n",
    "\n",
    "- 以下のテスト、そもそもまずset_parent_and_siblings_relationship関数をテストしないといけないな\n",
    "    - 今回はやらないけど\n",
    "\n",
    "- ほとんどの責務が`count_tags_of_self_and_children_and_younger_brothers()メソッド`でなされているので、そっちのテストを書いた方がよかったかもしれない\n",
    "    - 今回はやらないけど"
   ]
  },
  {
   "cell_type": "code",
   "execution_count": 8,
   "metadata": {},
   "outputs": [],
   "source": [
    "# nodeがchildrenもnextも持っていない場合\n",
    "n0 = Node(None, 'あああああ')\n",
    "assert n0.count_tags('test') == 0\n",
    "n1 = Node('test', None)\n",
    "assert n1.count_tags('test') == 1\n",
    "\n",
    "# nodeが一つのみchildのみ持っている場合\n",
    "n2 = Node('test', None)\n",
    "n3 = Node('test', 'ううううう')\n",
    "set_parent_and_siblings_relationship(n2, [n3])\n",
    "assert n2.count_tags('test') == 2\n",
    "\n",
    "# nodeが二つ以上のchildを持っている場合\n",
    "n4 = Node('test', None)\n",
    "n5 = Node(None, 'いいいいい')\n",
    "n6 = Node('test', None)\n",
    "set_parent_and_siblings_relationship(n4, [n5, n6])\n",
    "assert n4.count_tags('test') == 2\n",
    "\n",
    "\n",
    "# nodeが兄弟を持っていても、それがnodeのcountに含まれないことの確認\n",
    "n_parent1 = Node('test', None)\n",
    "n9 = Node('test', None)\n",
    "n10 = Node(None, 'えええええ')\n",
    "n11 = Node('test', None)\n",
    "set_parent_and_siblings_relationship(n_parent1, [n9, n10, n11])\n",
    "assert n9.count_tags('test') == 1"
   ]
  },
  {
   "cell_type": "code",
   "execution_count": null,
   "metadata": {},
   "outputs": [],
   "source": []
  }
 ],
 "metadata": {
  "kernelspec": {
   "display_name": "Python 3",
   "language": "python",
   "name": "python3"
  },
  "language_info": {
   "codemirror_mode": {
    "name": "ipython",
    "version": 3
   },
   "file_extension": ".py",
   "mimetype": "text/x-python",
   "name": "python",
   "nbconvert_exporter": "python",
   "pygments_lexer": "ipython3",
   "version": "3.8.1"
  }
 },
 "nbformat": 4,
 "nbformat_minor": 4
}
