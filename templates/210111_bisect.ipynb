{
 "cells": [
  {
   "cell_type": "markdown",
   "metadata": {},
   "source": [
    "\n",
    "# C - [Snuke Festival](https://atcoder.jp/contests/abc077/tasks/arc084_a)\n",
    "\n",
    "\n",
    "今年もすぬけ祭の季節がやってきました。りんごさんは、まず手始めにすぬけ君召喚の儀式を執り行おうと思っています。 儀式には祭壇が必要で、祭壇は上部、中部、下部の 3 つのカテゴリーのパーツ 1 つずつからなります。祭壇の 3 カテゴリーのパーツがそれぞれ N 個ずつあります。 i 個目の上部のパーツのサイズは Ai 、i 個目の中部のパーツのサイズは Bi 、i 個目の下部のパーツのサイズは Ci です。祭壇を作るにあたっては、中部のパーツのサイズは上部のパーツのサイズより真に大きく、下部のパーツのサイズは中部のパーツのサイズより 真に大きくなければなりません。逆に、この条件を満たす任意の 3 つのピースを組み合わせて祭壇を作ることができます。りんごさんが作ることのできる祭壇は何種類あるでしょうか。ただし、2 つの祭壇が異なるとは、上部、中部、下部に使われるピースのうち 少なくとも 1 つが異なることを言います。"
   ]
  },
  {
   "cell_type": "code",
   "execution_count": 1,
   "metadata": {},
   "outputs": [
    {
     "name": "stdout",
     "output_type": "stream",
     "text": [
      "3\n",
      "1 1 1\n",
      "2 2 2\n",
      "3 3 3\n"
     ]
    }
   ],
   "source": [
    "n = input()\n",
    "a = list(map(lambda x: int(x), input().split()))\n",
    "b = list(map(lambda x: int(x), input().split()))\n",
    "c = list(map(lambda x: int(x), input().split()))"
   ]
  },
  {
   "cell_type": "markdown",
   "metadata": {},
   "source": [
    "### O(n^3)"
   ]
  },
  {
   "cell_type": "code",
   "execution_count": 4,
   "metadata": {},
   "outputs": [
    {
     "name": "stdout",
     "output_type": "stream",
     "text": [
      "27\n"
     ]
    }
   ],
   "source": [
    "# O(n^3)\n",
    "\n",
    "n = input()\n",
    "a = list(map(lambda x: int(x), input().split()))\n",
    "b = list(map(lambda x: int(x), input().split()))\n",
    "c = list(map(lambda x: int(x), input().split()))\n",
    "\n",
    "count = 0\n",
    "\n",
    "for top in a:\n",
    "    for middle in b:\n",
    "        for bottom in c:\n",
    "            if (a < b) and (b < c):\n",
    "                count += 1\n",
    "print(count)\n",
    "                "
   ]
  },
  {
   "cell_type": "markdown",
   "metadata": {},
   "source": [
    "### 模範解答O(NlogN)"
   ]
  },
  {
   "cell_type": "code",
   "execution_count": 11,
   "metadata": {},
   "outputs": [
    {
     "name": "stdout",
     "output_type": "stream",
     "text": [
      "3\n",
      "1 1 1\n",
      "2 2 2\n",
      "3 3 3\n",
      "27\n"
     ]
    }
   ],
   "source": [
    "import bisect\n",
    "n = input()\n",
    "a = list(map(lambda x: int(x), input().split()))\n",
    "b = list(map(lambda x: int(x), input().split()))\n",
    "c = list(map(lambda x: int(x), input().split()))\n",
    "\n",
    "\n",
    "# sortでNlogN\n",
    "\n",
    "a.sort()\n",
    "c.sort()\n",
    "\n",
    "count = 0\n",
    "\n",
    "\n",
    "# 真ん中のbから決める\n",
    "for middle in b:\n",
    "    # 0 < 1 < 2 < ● なので、middle(3)より小さい個数は\n",
    "    # bisect.bisect_right()で取得できる\n",
    "    a_patterns = bisect.bisect_right(a, middle-1)\n",
    "    \n",
    "    # 0 < ● < 2 < 3 < 4 なので、middle(1)より大きい個数は、\n",
    "    # all_num - bisect.bisect_left()  で取得できる\n",
    "    c_patterns = len(c) - bisect.bisect_left(c, middle+1)\n",
    "    \n",
    "    count += a_patterns * c_patterns\n",
    "            \n",
    "print(count)\n"
   ]
  },
  {
   "cell_type": "code",
   "execution_count": null,
   "metadata": {},
   "outputs": [],
   "source": []
  }
 ],
 "metadata": {
  "kernelspec": {
   "display_name": "Python 3",
   "language": "python",
   "name": "python3"
  },
  "language_info": {
   "codemirror_mode": {
    "name": "ipython",
    "version": 3
   },
   "file_extension": ".py",
   "mimetype": "text/x-python",
   "name": "python",
   "nbconvert_exporter": "python",
   "pygments_lexer": "ipython3",
   "version": "3.8.1"
  }
 },
 "nbformat": 4,
 "nbformat_minor": 4
}
