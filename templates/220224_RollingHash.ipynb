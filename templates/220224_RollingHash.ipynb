{
 "cells": [
  {
   "cell_type": "markdown",
   "id": "2b237932",
   "metadata": {},
   "source": [
    "# Rolling Hash\n",
    "\n",
    "\n",
    "## 187. [Repeated DNA Sequences](https://leetcode.com/problems/repeated-dna-sequences/)\n",
    "\n",
    "\n",
    "\n",
    "The DNA sequence is composed of a series of nucleotides abbreviated as 'A', 'C', 'G', and 'T'.\n",
    "\n",
    "For example, \"ACGAATTCCG\" is a DNA sequence.\n",
    "When studying DNA, it is useful to identify repeated sequences within the DNA.\n",
    "\n",
    "Given a string s that represents a DNA sequence, return all the 10-letter-long sequences (substrings) that occur more than once in a DNA molecule. You may return the answer in any order."
   ]
  },
  {
   "cell_type": "markdown",
   "id": "44526d3e",
   "metadata": {},
   "source": [
    "L = len(whole string), N = (substring)とすると、\n",
    "\n",
    "## Solution1. time=O(N * L)\n",
    "\n",
    "ナイーブな方法。hashmapを用いる"
   ]
  },
  {
   "cell_type": "code",
   "execution_count": null,
   "id": "eb2ee99d",
   "metadata": {},
   "outputs": [],
   "source": [
    "class Solution:      \n",
    "    def findRepeatedDnaSequences(self, s: str) -> List[str]:\n",
    "        if len(s) <= 10:\n",
    "            return []\n",
    "        ret = set()\n",
    "        seen = set()\n",
    "        \n",
    "        for i in range(len(s)-9):\n",
    "            if s[i:i+10] in seen:\n",
    "                ret.add(s[i:i+10])\n",
    "            else:\n",
    "                seen.add(s[i:i+10])\n",
    "        return list(ret)\n",
    "                "
   ]
  },
  {
   "cell_type": "markdown",
   "id": "c4e46290",
   "metadata": {},
   "source": [
    "## Solution2. [Rolling Hash] time=O(N + L)\n",
    "\n",
    "letterがN種類の場合、hashはN進数で表せば良い。(N以上の進数でも良さそう)\n",
    "\n",
    "https://leetcode.com/problems/repeated-dna-sequences/solution/ だともうちょっと凝ってたやり方をしているが、今回は掘らない。    \n",
    "TODO:掘る"
   ]
  },
  {
   "cell_type": "code",
   "execution_count": null,
   "id": "87af548f",
   "metadata": {},
   "outputs": [],
   "source": [
    "class Solution:\n",
    "    def findRepeatedDnaSequences(self, s: str) -> List[str]:\n",
    "        to_int = {\n",
    "            \"A\": 0,\n",
    "            \"C\": 1,\n",
    "            \"G\": 2,\n",
    "            \"T\": 3,\n",
    "        }\n",
    "        if len(s) <= 10:\n",
    "            return []\n",
    "\n",
    "        ret = set()\n",
    "        seen = set()\n",
    "        h = 0\n",
    "\n",
    "        for i in range(10):\n",
    "            h = h * 4 + to_int[s[i]]\n",
    "            seen.add(h)\n",
    "        \n",
    "        for i in range(10, len(s)):\n",
    "            h = (h - to_int[s[i-10]] * 4 ** 9) * 4 + to_int[s[i]]\n",
    "            if h in seen:\n",
    "                ret.add(s[i-9:i+1])\n",
    "            else:\n",
    "                seen.add(h)\n",
    "        return list(ret)"
   ]
  },
  {
   "cell_type": "code",
   "execution_count": null,
   "id": "1864a64e",
   "metadata": {},
   "outputs": [],
   "source": []
  },
  {
   "cell_type": "code",
   "execution_count": null,
   "id": "a6ef7dba",
   "metadata": {},
   "outputs": [],
   "source": []
  },
  {
   "cell_type": "code",
   "execution_count": null,
   "id": "7a1bd21a",
   "metadata": {},
   "outputs": [],
   "source": []
  },
  {
   "cell_type": "code",
   "execution_count": null,
   "id": "4fe7766a",
   "metadata": {},
   "outputs": [],
   "source": []
  },
  {
   "cell_type": "markdown",
   "id": "bc297e23",
   "metadata": {},
   "source": [
    "## Memo\n",
    "\n",
    "\n",
    "from. https://detail.chiebukuro.yahoo.co.jp/qa/question_detail/q10160604080\n",
    "\n",
    "- 2進数（Binary number）-> または、base-two numbers 、\n",
    "- 10進数（Decimal number）-> denary または base-ten numbers 、\n",
    "- 16進数（Hexadecimal number）-> または、base sixteen numbers 、\n",
    "- 5進数 -> base five numbers 、\n",
    "- 12進数 -> base twelve numbers 、\n",
    "- n進数（ｎ≠0） -> base n numbers 。"
   ]
  }
 ],
 "metadata": {
  "kernelspec": {
   "display_name": "Python 3 (ipykernel)",
   "language": "python",
   "name": "python3"
  },
  "language_info": {
   "codemirror_mode": {
    "name": "ipython",
    "version": 3
   },
   "file_extension": ".py",
   "mimetype": "text/x-python",
   "name": "python",
   "nbconvert_exporter": "python",
   "pygments_lexer": "ipython3",
   "version": "3.10.2"
  }
 },
 "nbformat": 4,
 "nbformat_minor": 5
}
