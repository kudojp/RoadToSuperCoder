{
 "cells": [
  {
   "cell_type": "code",
   "execution_count": null,
   "metadata": {},
   "outputs": [],
   "source": [
    "n, d = map(lambda x: int(x), input().split())\n",
    "x = int(input())"
   ]
  },
  {
   "cell_type": "markdown",
   "metadata": {},
   "source": [
    "# 1"
   ]
  },
  {
   "cell_type": "code",
   "execution_count": 10,
   "metadata": {
    "collapsed": true
   },
   "outputs": [
    {
     "name": "stdout",
     "output_type": "stream",
     "text": [
      "5\n",
      "7.5\n",
      "2.4\n",
      "17.0000001\n",
      "17\n",
      "16.000000000000\n",
      "3\n"
     ]
    }
   ],
   "source": [
    "n = int(input())\n",
    "a = []\n",
    "pairs = 0\n",
    "\n",
    "for _ in range(n):\n",
    "    a.append(float(input()))\n",
    "\n",
    "for i, a_i in enumerate(a):\n",
    "    for j, a_j in enumerate(a[i+1:]):\n",
    "        if a_i * a_j == int(a_i * a_j):\n",
    "            pairs += 1\n",
    "print(pairs)"
   ]
  },
  {
   "cell_type": "markdown",
   "metadata": {},
   "source": [
    "# 2"
   ]
  },
  {
   "cell_type": "code",
   "execution_count": 78,
   "metadata": {},
   "outputs": [
    {
     "name": "stdout",
     "output_type": "stream",
     "text": [
      "4\n",
      "abcxyx\n",
      "cyx\n",
      "^[a-z]*c[a-z]?y[a-z]?x$\n",
      "abc\n",
      "^[a-z]*a[a-z]?b[a-z]?c$\n",
      "^[a-z]*a[a-z]?b[a-z]?c$\n",
      "\n",
      "^[a-z]*$\n",
      "^[a-z]*$\n",
      "^[a-z]*$\n",
      "4\n"
     ]
    }
   ],
   "source": [
    "import re\n",
    "\n",
    "n = int(input())\n",
    "count = 0\n",
    "strings = []\n",
    "\n",
    "for _ in range(n):\n",
    "    str = input()\n",
    "    for existing_str in strings:\n",
    "        \n",
    "        # existing_str => strが可能か\n",
    "        if len(str) == 1:\n",
    "            regex = \"^[a-z]*{}[a-z]*$\".format(str)\n",
    "        else:\n",
    "            regex = '^[a-z]*' + '[a-z]?'.join(str) + '$'\n",
    "#         print(regex)\n",
    "        if re.compile(regex).match(existing_str):\n",
    "            count += 1\n",
    "#             print(str, existing_str)\n",
    "            continue\n",
    "            \n",
    "        # string => existing_strが可能か\n",
    "        if len(existing_str) == 1:\n",
    "            regex = \"^[a-z]*{}[a-z]*$\".format(existing_str)\n",
    "        else:\n",
    "            regex = '^[a-z]*' + '[a-z]?'.join(existing_str) + '$'\n",
    "        if re.compile(regex).match(str):\n",
    "            count += 1\n",
    "#             print(str, existing_str)\n",
    "            continue\n",
    "\n",
    "    strings.append(str)\n",
    "    \n",
    "print(count)"
   ]
  },
  {
   "cell_type": "code",
   "execution_count": null,
   "metadata": {},
   "outputs": [],
   "source": []
  },
  {
   "cell_type": "code",
   "execution_count": 55,
   "metadata": {},
   "outputs": [
    {
     "name": "stdout",
     "output_type": "stream",
     "text": [
      "None\n"
     ]
    }
   ],
   "source": [
    "print(re.compile(\"^.*a.?$\").match('abc'))"
   ]
  },
  {
   "cell_type": "code",
   "execution_count": null,
   "metadata": {},
   "outputs": [],
   "source": []
  },
  {
   "cell_type": "code",
   "execution_count": null,
   "metadata": {},
   "outputs": [],
   "source": []
  },
  {
   "cell_type": "code",
   "execution_count": null,
   "metadata": {},
   "outputs": [],
   "source": []
  },
  {
   "cell_type": "code",
   "execution_count": null,
   "metadata": {},
   "outputs": [],
   "source": [
    "c\n",
    "d\n",
    "a"
   ]
  },
  {
   "cell_type": "code",
   "execution_count": 32,
   "metadata": {},
   "outputs": [
    {
     "data": {
      "text/plain": [
       "'2'"
      ]
     },
     "execution_count": 32,
     "metadata": {},
     "output_type": "execute_result"
    }
   ],
   "source": [
    "\"{}\".format(2)"
   ]
  },
  {
   "cell_type": "code",
   "execution_count": null,
   "metadata": {},
   "outputs": [],
   "source": []
  },
  {
   "cell_type": "code",
   "execution_count": null,
   "metadata": {},
   "outputs": [],
   "source": [
    "q4"
   ]
  },
  {
   "cell_type": "code",
   "execution_count": 15,
   "metadata": {},
   "outputs": [
    {
     "data": {
      "text/plain": [
       "False"
      ]
     },
     "execution_count": 15,
     "metadata": {},
     "output_type": "execute_result"
    }
   ],
   "source": [
    "set('abc') in set('abc')"
   ]
  },
  {
   "cell_type": "markdown",
   "metadata": {},
   "source": [
    "# 3"
   ]
  },
  {
   "cell_type": "code",
   "execution_count": 77,
   "metadata": {},
   "outputs": [
    {
     "name": "stdout",
     "output_type": "stream",
     "text": [
      "4\n",
      "2019 0 2020 200002\n",
      "474287\n"
     ]
    }
   ],
   "source": [
    "n = int(input())\n",
    "a = list(map(lambda x: int(x), input().split()))\n",
    "modulo = 0\n",
    "\n",
    "for i, a_i in enumerate(a):\n",
    "    for j, a_j in enumerate(a[i+1:]):\n",
    "        modulo += a_i * a_j % 200003\n",
    "print(modulo)"
   ]
  },
  {
   "cell_type": "markdown",
   "metadata": {},
   "source": [
    "## 4"
   ]
  },
  {
   "cell_type": "code",
   "execution_count": null,
   "metadata": {},
   "outputs": [],
   "source": []
  },
  {
   "cell_type": "markdown",
   "metadata": {},
   "source": [
    "# 5"
   ]
  },
  {
   "cell_type": "code",
   "execution_count": null,
   "metadata": {},
   "outputs": [],
   "source": []
  },
  {
   "cell_type": "markdown",
   "metadata": {},
   "source": [
    "# 6"
   ]
  },
  {
   "cell_type": "code",
   "execution_count": null,
   "metadata": {},
   "outputs": [],
   "source": []
  }
 ],
 "metadata": {
  "kernelspec": {
   "display_name": "Python 3",
   "language": "python",
   "name": "python3"
  },
  "language_info": {
   "codemirror_mode": {
    "name": "ipython",
    "version": 3
   },
   "file_extension": ".py",
   "mimetype": "text/x-python",
   "name": "python",
   "nbconvert_exporter": "python",
   "pygments_lexer": "ipython3",
   "version": "3.8.1"
  }
 },
 "nbformat": 4,
 "nbformat_minor": 4
}
