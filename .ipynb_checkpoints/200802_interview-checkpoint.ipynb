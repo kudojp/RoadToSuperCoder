{
 "cells": [
  {
   "cell_type": "markdown",
   "metadata": {},
   "source": [
    "# 1\n",
    "\n",
    "- [1,2,3,4,5]で和が６になる組み合わせは２通り"
   ]
  },
  {
   "cell_type": "code",
   "execution_count": 4,
   "metadata": {},
   "outputs": [
    {
     "data": {
      "text/plain": [
       "3"
      ]
     },
     "execution_count": 4,
     "metadata": {},
     "output_type": "execute_result"
    }
   ],
   "source": [
    "countPairs(10, list(range(1,11)), 7)"
   ]
  },
  {
   "cell_type": "markdown",
   "metadata": {},
   "source": [
    "# 2\n",
    "\n",
    "- あるlinkが切れた時に、その小島が生まれるのはcritical connection。\n",
    "- そのようなconnectionsを返せ"
   ]
  },
  {
   "cell_type": "code",
   "execution_count": 108,
   "metadata": {},
   "outputs": [],
   "source": [
    "# 提出した答え\n",
    "from collections import defaultdict\n",
    "\n",
    "def criticalConnection(numOfServers, numOfConnections, connections):\n",
    "    index_not_critical = []\n",
    "    for i in range(numOfConnections):\n",
    "        start = connections[i][0]\n",
    "        dest = connections[i][1]\n",
    "\n",
    "        remaining_connections = [each for j, each in enumerate(connections) if j != i]\n",
    "        \n",
    "        links = defaultdict(set)\n",
    "        for each_connection in remaining_connections:\n",
    "            links[each_connection[0]].add(each_connection[1])\n",
    "            links[each_connection[1]].add(each_connection[0])\n",
    "        \n",
    "        accessables = [start]\n",
    "        \n",
    "        for _ in range(numOfServers):\n",
    "            print(accessables)\n",
    "            if dest in links[accessables[0]]:\n",
    "                # this i_th connection is not critical\n",
    "                index_not_critical.append(i)\n",
    "                break\n",
    "            else:\n",
    "                accessables.extend(links[accessables[0]] )\n",
    "                if len(accessables) == 1:\n",
    "                    # this connection is critical\n",
    "                    break\n",
    "                # continue to check if this connecion is critical\n",
    "                accessables = accessables[1:]\n",
    "                continue\n",
    "            break\n",
    "    return [each for i, each in enumerate(connections) if i not in index_not_critical]"
   ]
  },
  {
   "cell_type": "code",
   "execution_count": 137,
   "metadata": {},
   "outputs": [
    {
     "name": "stdout",
     "output_type": "stream",
     "text": [
      "[1]\n"
     ]
    },
    {
     "ename": "KeyError",
     "evalue": "{3, 4}",
     "output_type": "error",
     "traceback": [
      "\u001b[0;31m---------------------------------------------------------------------------\u001b[0m",
      "\u001b[0;31mKeyError\u001b[0m                                  Traceback (most recent call last)",
      "\u001b[0;32m<ipython-input-137-61814ebc3c07>\u001b[0m in \u001b[0;36m<module>\u001b[0;34m\u001b[0m\n\u001b[0;32m----> 1\u001b[0;31m \u001b[0mcriticalConnection\u001b[0m\u001b[0;34m(\u001b[0m\u001b[0;36m5\u001b[0m\u001b[0;34m,\u001b[0m\u001b[0;36m5\u001b[0m\u001b[0;34m,\u001b[0m\u001b[0;34m[\u001b[0m\u001b[0;34m[\u001b[0m\u001b[0;36m1\u001b[0m\u001b[0;34m,\u001b[0m\u001b[0;36m2\u001b[0m\u001b[0;34m]\u001b[0m\u001b[0;34m,\u001b[0m\u001b[0;34m[\u001b[0m\u001b[0;36m1\u001b[0m\u001b[0;34m,\u001b[0m\u001b[0;36m3\u001b[0m\u001b[0;34m]\u001b[0m\u001b[0;34m,\u001b[0m\u001b[0;34m[\u001b[0m\u001b[0;36m3\u001b[0m\u001b[0;34m,\u001b[0m\u001b[0;36m4\u001b[0m\u001b[0;34m]\u001b[0m\u001b[0;34m,\u001b[0m\u001b[0;34m[\u001b[0m\u001b[0;36m1\u001b[0m\u001b[0;34m,\u001b[0m\u001b[0;36m4\u001b[0m\u001b[0;34m]\u001b[0m\u001b[0;34m,\u001b[0m\u001b[0;34m[\u001b[0m\u001b[0;36m4\u001b[0m\u001b[0;34m,\u001b[0m\u001b[0;36m5\u001b[0m\u001b[0;34m]\u001b[0m\u001b[0;34m]\u001b[0m\u001b[0;34m)\u001b[0m\u001b[0;34m\u001b[0m\u001b[0;34m\u001b[0m\u001b[0m\n\u001b[0m",
      "\u001b[0;32m<ipython-input-136-decedaf1d674>\u001b[0m in \u001b[0;36mcriticalConnection\u001b[0;34m(numOfServers, numOfConnections, connections)\u001b[0m\n\u001b[1;32m     28\u001b[0m                 \u001b[0mnew_accessable_nodes\u001b[0m \u001b[0;34m=\u001b[0m \u001b[0mlist\u001b[0m\u001b[0;34m(\u001b[0m\u001b[0mlinks\u001b[0m\u001b[0;34m[\u001b[0m\u001b[0mque\u001b[0m\u001b[0;34m[\u001b[0m\u001b[0;36m0\u001b[0m\u001b[0;34m]\u001b[0m\u001b[0;34m]\u001b[0m \u001b[0;34m&\u001b[0m \u001b[0mnot_already_accessed\u001b[0m\u001b[0;34m)\u001b[0m\u001b[0;34m\u001b[0m\u001b[0;34m\u001b[0m\u001b[0m\n\u001b[1;32m     29\u001b[0m                 \u001b[0mque\u001b[0m\u001b[0;34m.\u001b[0m\u001b[0mextend\u001b[0m\u001b[0;34m(\u001b[0m\u001b[0mnew_accessable_nodes\u001b[0m\u001b[0;34m)\u001b[0m\u001b[0;34m\u001b[0m\u001b[0;34m\u001b[0m\u001b[0m\n\u001b[0;32m---> 30\u001b[0;31m                 \u001b[0mnot_already_accessed\u001b[0m\u001b[0;34m.\u001b[0m\u001b[0mremove\u001b[0m\u001b[0;34m(\u001b[0m\u001b[0mset\u001b[0m\u001b[0;34m(\u001b[0m\u001b[0mnew_accessable_nodes\u001b[0m\u001b[0;34m)\u001b[0m\u001b[0;34m)\u001b[0m\u001b[0;34m\u001b[0m\u001b[0;34m\u001b[0m\u001b[0m\n\u001b[0m\u001b[1;32m     31\u001b[0m                 \u001b[0;32mif\u001b[0m \u001b[0mlen\u001b[0m\u001b[0;34m(\u001b[0m\u001b[0mque\u001b[0m\u001b[0;34m)\u001b[0m \u001b[0;34m==\u001b[0m \u001b[0;36m1\u001b[0m\u001b[0;34m:\u001b[0m\u001b[0;34m\u001b[0m\u001b[0;34m\u001b[0m\u001b[0m\n\u001b[1;32m     32\u001b[0m                     \u001b[0;31m# this connection is critical\u001b[0m\u001b[0;34m\u001b[0m\u001b[0;34m\u001b[0m\u001b[0;34m\u001b[0m\u001b[0m\n",
      "\u001b[0;31mKeyError\u001b[0m: {3, 4}"
     ]
    }
   ],
   "source": [
    "criticalConnection(5,5,[[1,2],[1,3],[3,4],[1,4],[4,5]])"
   ]
  },
  {
   "cell_type": "code",
   "execution_count": 149,
   "metadata": {},
   "outputs": [],
   "source": [
    "# 解き直した答え\n",
    "\n",
    "# 提出した答え\n",
    "from collections import defaultdict\n",
    "\n",
    "def criticalConnection(numOfServers, numOfConnections, connections):\n",
    "    index_critical = []\n",
    "    for i in range(numOfConnections):\n",
    "        start = connections[i][0]\n",
    "        dest = connections[i][1]\n",
    "        remaining_connections = [each for j, each in enumerate(connections) if j != i]\n",
    "        \n",
    "        links = defaultdict(set)\n",
    "        for each_connection in remaining_connections:\n",
    "            links[each_connection[0]].add(each_connection[1])\n",
    "            links[each_connection[1]].add(each_connection[0])\n",
    "        \n",
    "        not_already_accessed = set(range(numOfConnections)) - {start}\n",
    "        que = [start]\n",
    "        \n",
    "        for _ in range(numOfServers):\n",
    "            print(que)\n",
    "            if dest in links[que[0]]:\n",
    "                # this i_th connection is not critical\n",
    "                break\n",
    "            else:\n",
    "                new_accessable_nodes = list(links[que[0]] & not_already_accessed)\n",
    "                que.extend(new_accessable_nodes)\n",
    "                not_already_accessed -= set(new_accessable_nodes)\n",
    "                if len(que) == 1:\n",
    "                    # this connection is critical\n",
    "                    index_critical.append(i)\n",
    "                    break\n",
    "                # continue to check if this connecion is critical\n",
    "                que = que[1:]\n",
    "                continue\n",
    "            break\n",
    "        print(que, remaining_connections)\n",
    "    return index_critical"
   ]
  },
  {
   "cell_type": "code",
   "execution_count": 150,
   "metadata": {},
   "outputs": [
    {
     "name": "stdout",
     "output_type": "stream",
     "text": [
      "[1]\n",
      "[3, 4]\n",
      "[4, 1]\n",
      "[1]\n",
      "[1] [[1, 3], [3, 4], [1, 4], [4, 5]]\n",
      "[1]\n",
      "[2, 4]\n",
      "[4, 1]\n",
      "[4, 1] [[1, 2], [3, 4], [1, 4], [4, 5]]\n",
      "[3]\n",
      "[1]\n",
      "[1] [[1, 2], [1, 3], [1, 4], [4, 5]]\n",
      "[1]\n",
      "[2, 3]\n",
      "[3, 1]\n",
      "[3, 1] [[1, 2], [1, 3], [3, 4], [4, 5]]\n",
      "[4]\n",
      "[1, 3]\n",
      "[3, 2, 4]\n",
      "[2, 4]\n",
      "[4]\n",
      "[4] [[1, 2], [1, 3], [3, 4], [1, 4]]\n"
     ]
    },
    {
     "data": {
      "text/plain": [
       "[0, 4]"
      ]
     },
     "execution_count": 150,
     "metadata": {},
     "output_type": "execute_result"
    }
   ],
   "source": [
    "criticalConnection(5,5,[[1,2],[1,3],[3,4],[1,4],[4,5]])"
   ]
  },
  {
   "cell_type": "code",
   "execution_count": null,
   "metadata": {},
   "outputs": [],
   "source": []
  }
 ],
 "metadata": {
  "kernelspec": {
   "display_name": "Python 3",
   "language": "python",
   "name": "python3"
  },
  "language_info": {
   "codemirror_mode": {
    "name": "ipython",
    "version": 3
   },
   "file_extension": ".py",
   "mimetype": "text/x-python",
   "name": "python",
   "nbconvert_exporter": "python",
   "pygments_lexer": "ipython3",
   "version": "3.7.6"
  }
 },
 "nbformat": 4,
 "nbformat_minor": 4
}
