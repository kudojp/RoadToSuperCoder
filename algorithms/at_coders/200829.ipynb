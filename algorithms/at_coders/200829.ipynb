{
 "cells": [
  {
   "cell_type": "markdown",
   "metadata": {},
   "source": [
    "# 1"
   ]
  },
  {
   "cell_type": "code",
   "execution_count": 5,
   "metadata": {},
   "outputs": [
    {
     "name": "stdout",
     "output_type": "stream",
     "text": [
      "10000 1 1\n",
      "No\n"
     ]
    }
   ],
   "source": [
    "d, t, s = map(lambda x: int(x), input().split())\n",
    "if d / s > t:\n",
    "    print('No')\n",
    "else:\n",
    "    print('Yes')"
   ]
  },
  {
   "cell_type": "markdown",
   "metadata": {},
   "source": [
    "# 2"
   ]
  },
  {
   "cell_type": "code",
   "execution_count": 10,
   "metadata": {},
   "outputs": [
    {
     "name": "stdout",
     "output_type": "stream",
     "text": [
      "codeforces\n",
      "atcoder\n",
      "6\n"
     ]
    }
   ],
   "source": [
    "s = input()\n",
    "t = input()\n",
    "\n",
    "min_diff = len(t)\n",
    "\n",
    "for i in range(len(s) - len(t) + 1):\n",
    "    sub_s = s[i:i+len(t)]\n",
    "    num_diff = 0\n",
    "    for i in range(len(t)):\n",
    "        num_diff += 0 if sub_s[i] == t[i] else 1\n",
    "\n",
    "    min_diff = min(min_diff, num_diff)\n",
    "    \n",
    "print(min_diff)"
   ]
  },
  {
   "cell_type": "markdown",
   "metadata": {},
   "source": [
    "# 3"
   ]
  },
  {
   "cell_type": "code",
   "execution_count": 8,
   "metadata": {},
   "outputs": [
    {
     "name": "stdout",
     "output_type": "stream",
     "text": [
      "4\n",
      "141421356 17320508 22360679 244949\n",
      "437235829\n"
     ]
    }
   ],
   "source": [
    "n = int(input())\n",
    "numbers = list(map(lambda x: int(x), input().split()))\n",
    "\n",
    "sum_n = sum(numbers)\n",
    "total_value = 0\n",
    "\n",
    "for current_num in numbers:\n",
    "    sum_n -= current_num\n",
    "    total_value += current_num * sum_n\n",
    "#     print(sum_n, total_value, current_num)\n",
    "\n",
    "print(total_value % (10**9+7))"
   ]
  },
  {
   "cell_type": "markdown",
   "metadata": {},
   "source": [
    "# 4"
   ]
  },
  {
   "cell_type": "code",
   "execution_count": 57,
   "metadata": {
    "scrolled": true
   },
   "outputs": [
    {
     "name": "stdout",
     "output_type": "stream",
     "text": [
      "5 3\n",
      "1 2 \n",
      "2 3 \n",
      "3 1\n",
      "{2, 3}\n",
      "set()\n",
      "set()\n",
      "set()\n",
      "set()\n",
      "3\n"
     ]
    }
   ],
   "source": [
    "# 幅優先探索でやったが、TLEになった(どこかで無限ループが生じているのでは？)\n",
    "\n",
    "from collections import defaultdict\n",
    "from collections import deque\n",
    "\n",
    "n, m = map(lambda x: int(x), input().split())\n",
    "person_to_friends = defaultdict(set)\n",
    "\n",
    "for _ in range(m):\n",
    "    a, b = map(lambda x: int(x), input().split())\n",
    "    person_to_friends[a].add(b)\n",
    "    person_to_friends[b].add(a)\n",
    "\n",
    "not_searched = set(range(1, n+1))\n",
    "max_pool_num = 1\n",
    "\n",
    "while len(not_searched) > 0:\n",
    "#     print(not_searched)\n",
    "    first_person = not_searched.pop()\n",
    "    friend_pool = set([first_person])\n",
    "    que = deque([first_person])\n",
    "    while len(que) > 0:\n",
    "        current_person = que.popleft()\n",
    "        not_searched_friends = person_to_friends[current_person].intersection(not_searched)\n",
    "#         print(not_searched_friends)\n",
    "        for friend in not_searched_friends:\n",
    "            not_searched.remove(friend)\n",
    "            que.append(friend)\n",
    "            friend_pool.add(friend)\n",
    "    max_pool_num = max(len(friend_pool), max_pool_num)\n",
    "print(max_pool_num)"
   ]
  },
  {
   "cell_type": "code",
   "execution_count": 122,
   "metadata": {},
   "outputs": [
    {
     "name": "stdout",
     "output_type": "stream",
     "text": [
      "10 4\n",
      "3 1\n",
      "4 1\n",
      "5 9 \n",
      "2 6\n",
      "3\n"
     ]
    },
    {
     "ename": "KeyboardInterrupt",
     "evalue": "Interrupted by user",
     "output_type": "error",
     "traceback": [
      "\u001b[0;31m---------------------------------------------------------------------------\u001b[0m",
      "\u001b[0;31mKeyboardInterrupt\u001b[0m                         Traceback (most recent call last)",
      "\u001b[0;32m<ipython-input-122-e1e1fac66f84>\u001b[0m in \u001b[0;36m<module>\u001b[0;34m\u001b[0m\n\u001b[1;32m     51\u001b[0m \u001b[0;34m\u001b[0m\u001b[0m\n\u001b[1;32m     52\u001b[0m \u001b[0;34m\u001b[0m\u001b[0m\n\u001b[0;32m---> 53\u001b[0;31m \u001b[0mn\u001b[0m\u001b[0;34m,\u001b[0m \u001b[0mm\u001b[0m \u001b[0;34m=\u001b[0m \u001b[0mmap\u001b[0m\u001b[0;34m(\u001b[0m\u001b[0;32mlambda\u001b[0m \u001b[0mx\u001b[0m\u001b[0;34m:\u001b[0m \u001b[0mint\u001b[0m\u001b[0;34m(\u001b[0m\u001b[0mx\u001b[0m\u001b[0;34m)\u001b[0m\u001b[0;34m,\u001b[0m \u001b[0minput\u001b[0m\u001b[0;34m(\u001b[0m\u001b[0;34m)\u001b[0m\u001b[0;34m.\u001b[0m\u001b[0msplit\u001b[0m\u001b[0;34m(\u001b[0m\u001b[0;34m)\u001b[0m\u001b[0;34m)\u001b[0m\u001b[0;34m\u001b[0m\u001b[0;34m\u001b[0m\u001b[0m\n\u001b[0m\u001b[1;32m     54\u001b[0m \u001b[0;34m\u001b[0m\u001b[0m\n\u001b[1;32m     55\u001b[0m \u001b[0muf\u001b[0m \u001b[0;34m=\u001b[0m \u001b[0mUnionFind\u001b[0m\u001b[0;34m(\u001b[0m\u001b[0mn\u001b[0m\u001b[0;34m)\u001b[0m\u001b[0;34m\u001b[0m\u001b[0;34m\u001b[0m\u001b[0m\n",
      "\u001b[0;32m~/.pyenv/versions/3.8.1/lib/python3.8/site-packages/ipykernel/kernelbase.py\u001b[0m in \u001b[0;36mraw_input\u001b[0;34m(self, prompt)\u001b[0m\n\u001b[1;32m    858\u001b[0m                 \u001b[0;34m\"raw_input was called, but this frontend does not support input requests.\"\u001b[0m\u001b[0;34m\u001b[0m\u001b[0;34m\u001b[0m\u001b[0m\n\u001b[1;32m    859\u001b[0m             )\n\u001b[0;32m--> 860\u001b[0;31m         return self._input_request(str(prompt),\n\u001b[0m\u001b[1;32m    861\u001b[0m             \u001b[0mself\u001b[0m\u001b[0;34m.\u001b[0m\u001b[0m_parent_ident\u001b[0m\u001b[0;34m,\u001b[0m\u001b[0;34m\u001b[0m\u001b[0;34m\u001b[0m\u001b[0m\n\u001b[1;32m    862\u001b[0m             \u001b[0mself\u001b[0m\u001b[0;34m.\u001b[0m\u001b[0m_parent_header\u001b[0m\u001b[0;34m,\u001b[0m\u001b[0;34m\u001b[0m\u001b[0;34m\u001b[0m\u001b[0m\n",
      "\u001b[0;32m~/.pyenv/versions/3.8.1/lib/python3.8/site-packages/ipykernel/kernelbase.py\u001b[0m in \u001b[0;36m_input_request\u001b[0;34m(self, prompt, ident, parent, password)\u001b[0m\n\u001b[1;32m    902\u001b[0m             \u001b[0;32mexcept\u001b[0m \u001b[0mKeyboardInterrupt\u001b[0m\u001b[0;34m:\u001b[0m\u001b[0;34m\u001b[0m\u001b[0;34m\u001b[0m\u001b[0m\n\u001b[1;32m    903\u001b[0m                 \u001b[0;31m# re-raise KeyboardInterrupt, to truncate traceback\u001b[0m\u001b[0;34m\u001b[0m\u001b[0;34m\u001b[0m\u001b[0;34m\u001b[0m\u001b[0m\n\u001b[0;32m--> 904\u001b[0;31m                 \u001b[0;32mraise\u001b[0m \u001b[0mKeyboardInterrupt\u001b[0m\u001b[0;34m(\u001b[0m\u001b[0;34m\"Interrupted by user\"\u001b[0m\u001b[0;34m)\u001b[0m \u001b[0;32mfrom\u001b[0m \u001b[0;32mNone\u001b[0m\u001b[0;34m\u001b[0m\u001b[0;34m\u001b[0m\u001b[0m\n\u001b[0m\u001b[1;32m    905\u001b[0m             \u001b[0;32mexcept\u001b[0m \u001b[0mException\u001b[0m \u001b[0;32mas\u001b[0m \u001b[0me\u001b[0m\u001b[0;34m:\u001b[0m\u001b[0;34m\u001b[0m\u001b[0;34m\u001b[0m\u001b[0m\n\u001b[1;32m    906\u001b[0m                 \u001b[0mself\u001b[0m\u001b[0;34m.\u001b[0m\u001b[0mlog\u001b[0m\u001b[0;34m.\u001b[0m\u001b[0mwarning\u001b[0m\u001b[0;34m(\u001b[0m\u001b[0;34m\"Invalid Message:\"\u001b[0m\u001b[0;34m,\u001b[0m \u001b[0mexc_info\u001b[0m\u001b[0;34m=\u001b[0m\u001b[0;32mTrue\u001b[0m\u001b[0;34m)\u001b[0m\u001b[0;34m\u001b[0m\u001b[0;34m\u001b[0m\u001b[0m\n",
      "\u001b[0;31mKeyboardInterrupt\u001b[0m: Interrupted by user"
     ]
    }
   ],
   "source": [
    "# UnionFind\n",
    "\n",
    "# 配列で、子のID番目:(親のID), 親のID番目:(その塊の-サイズ)\n",
    "# Union Findを使う\n",
    "class UnionFind:\n",
    "    def __init__(self, size):\n",
    "        self.parent_indexes = [-1] * size\n",
    "        \n",
    "    def find_parent(self, n):\n",
    "#         print(self.parent_indexes[n])\n",
    "        if self.parent_indexes[n] < 0:\n",
    "            return n\n",
    "#         print('hewe')\n",
    "        # 探しているnodeが指し示しているのが現在の親ではない場合、\n",
    "        # 現在の親に書き換え(memo化)た上で返す\n",
    "        self.parent_indexes[n] = self.find_parent(self.parent_indexes[n])\n",
    "        return self.parent_indexes[n] \n",
    "    \n",
    "    def union(self, n1, n2):\n",
    "        if self.same_group(n1, n2):\n",
    "            return False\n",
    "        \n",
    "        # サイズの大きい方の親が親であり続ける\n",
    "        if self.size(n1) >= self.size(n2):\n",
    "            tmp = self.size(n2)\n",
    "            self.parent_indexes[self.find_parent(n2)] = self.find_parent(n1)\n",
    "            self.parent_indexes[self.find_parent(n1)] -= tmp\n",
    "            return True\n",
    "        \n",
    "        tmp = self.size(n1)\n",
    "        self.parent_indexes[self.find_parent(n1)] = self.find_parent(n2)\n",
    "        self.parent_indexes[self.find_parent(n2)] -= tmp\n",
    "        return True\n",
    "        \n",
    "    \n",
    "    def size(self, n):\n",
    "        return -self.parent_indexes[self.find_parent(n)]\n",
    "    \n",
    "    def same_group(self, n1, n2):\n",
    "        return self.find_parent(n1) == self.find_parent(n2)\n",
    "\n",
    "\n",
    "\n",
    "n, m = map(lambda x: int(x), input().split())\n",
    "uf = UnionFind(n)\n",
    "\n",
    "for _ in range(m):\n",
    "    a, b = map(lambda x: int(x), input().split())\n",
    "    uf.union(a-1, b-1)\n",
    "    \n",
    "print(-min(uf.parent_indexes))"
   ]
  },
  {
   "cell_type": "code",
   "execution_count": 120,
   "metadata": {},
   "outputs": [
    {
     "ename": "TypeError",
     "evalue": "bad operand type for unary -: 'list'",
     "output_type": "error",
     "traceback": [
      "\u001b[0;31m---------------------------------------------------------------------------\u001b[0m",
      "\u001b[0;31mTypeError\u001b[0m                                 Traceback (most recent call last)",
      "\u001b[0;32m<ipython-input-120-ceaac073ca97>\u001b[0m in \u001b[0;36m<module>\u001b[0;34m\u001b[0m\n\u001b[0;32m----> 1\u001b[0;31m \u001b[0;34m-\u001b[0m\u001b[0;34m[\u001b[0m\u001b[0;36m1\u001b[0m\u001b[0;34m,\u001b[0m\u001b[0;36m2\u001b[0m\u001b[0;34m]\u001b[0m\u001b[0;34m\u001b[0m\u001b[0;34m\u001b[0m\u001b[0m\n\u001b[0m",
      "\u001b[0;31mTypeError\u001b[0m: bad operand type for unary -: 'list'"
     ]
    }
   ],
   "source": [
    "-[1,2]"
   ]
  },
  {
   "cell_type": "markdown",
   "metadata": {},
   "source": [
    "## 5"
   ]
  },
  {
   "cell_type": "code",
   "execution_count": 11,
   "metadata": {},
   "outputs": [
    {
     "name": "stdout",
     "output_type": "stream",
     "text": [
      "3\n",
      "6 10 16\n",
      "not comprime\n"
     ]
    }
   ],
   "source": [
    "import sys\n",
    "\n",
    "n = int(input())\n",
    "numbers = list(map(lambda x: int(x), input().split()))\n",
    "if_set_has_gcd = False\n",
    "if_pair_has_gcd = False\n",
    "\n",
    "max_divider = int(max(numbers) ** 0.5) + 1\n",
    "\n",
    "for divider in range(2, max_divider + 1):\n",
    "    num_divided = sum([each % divider == 0 for each in numbers])\n",
    "    if num_divided == n:\n",
    "        if_set_has_gcd = True\n",
    "    if num_divided >= 2:\n",
    "        if_pair_has_gcd = True\n",
    "\n",
    "# print(if_set_has_gcd, if_pair_has_gcd)    \n",
    "if not if_pair_has_gcd:\n",
    "    print('pairwise coprime')\n",
    "    sys.exit()\n",
    "    \n",
    "if not if_set_has_gcd:\n",
    "    print('setwise coprime')\n",
    "    sys.exit()\n",
    "    \n",
    "print('not coprime')\n",
    "    \n",
    "    \n"
   ]
  },
  {
   "cell_type": "code",
   "execution_count": 9,
   "metadata": {},
   "outputs": [
    {
     "data": {
      "text/plain": [
       "1"
      ]
     },
     "execution_count": 9,
     "metadata": {},
     "output_type": "execute_result"
    }
   ],
   "source": [
    "int(1.9)"
   ]
  },
  {
   "cell_type": "code",
   "execution_count": 8,
   "metadata": {},
   "outputs": [
    {
     "data": {
      "text/plain": [
       "(-2, False)"
      ]
     },
     "execution_count": 8,
     "metadata": {},
     "output_type": "execute_result"
    }
   ],
   "source": [
    "~True, not True"
   ]
  },
  {
   "cell_type": "code",
   "execution_count": 12,
   "metadata": {},
   "outputs": [
    {
     "data": {
      "text/plain": [
       "2"
      ]
     },
     "execution_count": 12,
     "metadata": {},
     "output_type": "execute_result"
    }
   ],
   "source": [
    "int(5 ** 0.5)"
   ]
  },
  {
   "cell_type": "code",
   "execution_count": null,
   "metadata": {},
   "outputs": [],
   "source": []
  }
 ],
 "metadata": {
  "kernelspec": {
   "display_name": "Python 3",
   "language": "python",
   "name": "python3"
  },
  "language_info": {
   "codemirror_mode": {
    "name": "ipython",
    "version": 3
   },
   "file_extension": ".py",
   "mimetype": "text/x-python",
   "name": "python",
   "nbconvert_exporter": "python",
   "pygments_lexer": "ipython3",
   "version": "3.8.1"
  }
 },
 "nbformat": 4,
 "nbformat_minor": 4
}
