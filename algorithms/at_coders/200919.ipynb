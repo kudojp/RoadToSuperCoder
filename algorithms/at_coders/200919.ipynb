{
 "cells": [
  {
   "cell_type": "markdown",
   "metadata": {},
   "source": [
    "# 1"
   ]
  },
  {
   "cell_type": "code",
   "execution_count": 5,
   "metadata": {},
   "outputs": [
    {
     "name": "stdout",
     "output_type": "stream",
     "text": [
      "bus\n",
      "buses\n"
     ]
    }
   ],
   "source": [
    "w = input()\n",
    "if w[-1] != 's':\n",
    "    w += 's'\n",
    "else:\n",
    "    w += 'es'\n",
    "print(w)"
   ]
  },
  {
   "cell_type": "markdown",
   "metadata": {},
   "source": [
    "# 2"
   ]
  },
  {
   "cell_type": "code",
   "execution_count": 9,
   "metadata": {},
   "outputs": [
    {
     "name": "stdout",
     "output_type": "stream",
     "text": [
      "6\n",
      "1 1\n",
      "2 2 \n",
      "3 3\n",
      "Yes\n"
     ]
    },
    {
     "ename": "SystemExit",
     "evalue": "",
     "output_type": "error",
     "traceback": [
      "An exception has occurred, use %tb to see the full traceback.\n",
      "\u001b[0;31mSystemExit\u001b[0m\n"
     ]
    }
   ],
   "source": [
    "import sys\n",
    "\n",
    "n = int(input())\n",
    "\n",
    "n_concecutive = 0\n",
    "\n",
    "for _ in range(n):\n",
    "    d1, d2 = map(lambda x: int(x), input().split())\n",
    "    if d1 == d2:\n",
    "        n_concecutive += 1\n",
    "        if n_concecutive >= 3:\n",
    "            print('Yes')\n",
    "            sys.exit()\n",
    "    else:\n",
    "        n_concecutive = 0\n",
    "print('No')"
   ]
  },
  {
   "cell_type": "markdown",
   "metadata": {},
   "source": [
    "# C"
   ]
  },
  {
   "cell_type": "code",
   "execution_count": 20,
   "metadata": {},
   "outputs": [
    {
     "name": "stdout",
     "output_type": "stream",
     "text": [
      "100\n",
      "456\n"
     ]
    }
   ],
   "source": [
    "def num_divisors(n):\n",
    "#     divisers = list(range(1, int(n**0.5)+1))\n",
    "#     num = 0\n",
    "#     for d in divisers:\n",
    "#         if n == d ** 2:\n",
    "#             num += 1\n",
    "#             continue\n",
    "#         if n % d == 0:\n",
    "#             num += 2\n",
    "#     return num\n",
    "    ret = 1\n",
    "    next_i = 2\n",
    "    to_be_checked = set(range(2, n+1))\n",
    "\n",
    "    while n > 1:\n",
    "#         print(to_be_checked)\n",
    "        for i in to_be_checked.intersection(set(range(1, n+1))):\n",
    "#             print(i)\n",
    "            ex = 0\n",
    "            if n % i == 0:\n",
    "                while n % i == 0:\n",
    "#                     print(n, i)\n",
    "                    ex += 1\n",
    "                    n = n // i\n",
    "                ret *= (ex + 1)\n",
    "#                 next_i = i + 1\n",
    "                to_be_checked = set(filter(lambda x : x % i !=0, to_be_checked))\n",
    "                break\n",
    "    return ret\n",
    "\n",
    "\n",
    "x = int(input())\n",
    "\n",
    "# x - cの約数の数を求める\n",
    "\n",
    "num_combination = 0\n",
    "for each in range(1, x):\n",
    "    num_combination += num_divisors(each)\n",
    "\n",
    "print(num_combination)            \n",
    "    "
   ]
  },
  {
   "cell_type": "code",
   "execution_count": 15,
   "metadata": {},
   "outputs": [
    {
     "name": "stdout",
     "output_type": "stream",
     "text": [
      "{2, 3, 4, 5, 6, 7, 8, 9, 10}\n",
      "{False, True}\n"
     ]
    },
    {
     "ename": "ZeroDivisionError",
     "evalue": "integer division or modulo by zero",
     "output_type": "error",
     "traceback": [
      "\u001b[0;31m---------------------------------------------------------------------------\u001b[0m",
      "\u001b[0;31mZeroDivisionError\u001b[0m                         Traceback (most recent call last)",
      "\u001b[0;32m<ipython-input-15-49fd2c013c3a>\u001b[0m in \u001b[0;36m<module>\u001b[0;34m\u001b[0m\n\u001b[0;32m----> 1\u001b[0;31m \u001b[0mnum_divisors\u001b[0m\u001b[0;34m(\u001b[0m\u001b[0;36m10\u001b[0m\u001b[0;34m)\u001b[0m\u001b[0;34m\u001b[0m\u001b[0;34m\u001b[0m\u001b[0m\n\u001b[0m",
      "\u001b[0;32m<ipython-input-11-05e8df82da10>\u001b[0m in \u001b[0;36mnum_divisors\u001b[0;34m(n)\u001b[0m\n\u001b[1;32m     18\u001b[0m \u001b[0;31m#             print(i)\u001b[0m\u001b[0;34m\u001b[0m\u001b[0;34m\u001b[0m\u001b[0;34m\u001b[0m\u001b[0m\n\u001b[1;32m     19\u001b[0m             \u001b[0mex\u001b[0m \u001b[0;34m=\u001b[0m \u001b[0;36m0\u001b[0m\u001b[0;34m\u001b[0m\u001b[0;34m\u001b[0m\u001b[0m\n\u001b[0;32m---> 20\u001b[0;31m             \u001b[0;32mif\u001b[0m \u001b[0mn\u001b[0m \u001b[0;34m%\u001b[0m \u001b[0mi\u001b[0m \u001b[0;34m==\u001b[0m \u001b[0;36m0\u001b[0m\u001b[0;34m:\u001b[0m\u001b[0;34m\u001b[0m\u001b[0;34m\u001b[0m\u001b[0m\n\u001b[0m\u001b[1;32m     21\u001b[0m                 \u001b[0;32mwhile\u001b[0m \u001b[0mn\u001b[0m \u001b[0;34m%\u001b[0m \u001b[0mi\u001b[0m \u001b[0;34m==\u001b[0m \u001b[0;36m0\u001b[0m\u001b[0;34m:\u001b[0m\u001b[0;34m\u001b[0m\u001b[0;34m\u001b[0m\u001b[0m\n\u001b[1;32m     22\u001b[0m \u001b[0;31m#                     print(n, i)\u001b[0m\u001b[0;34m\u001b[0m\u001b[0;34m\u001b[0m\u001b[0;34m\u001b[0m\u001b[0m\n",
      "\u001b[0;31mZeroDivisionError\u001b[0m: integer division or modulo by zero"
     ]
    }
   ],
   "source": [
    "num_divisors(10)"
   ]
  },
  {
   "cell_type": "markdown",
   "metadata": {},
   "source": [
    "# def num_divisors(n):\n",
    "#     divisers = list(range(1, int(n**0.5)+1))\n",
    "#     num = 0\n",
    "#     for d in divisers:\n",
    "#         if n == d ** 2:\n",
    "#             num += 1\n",
    "#             continue\n",
    "#         if n % d == 0:\n",
    "#             num += 2\n",
    "#     return num\n",
    "    ret = 1\n",
    "    searched_max_dividor = 1\n",
    "    next_i = 2\n",
    "\n",
    "    while n > 1:\n",
    "        for i in range(next_i, n+1):\n",
    "#             print(i)\n",
    "            ex = 0\n",
    "            if n % i == 0:\n",
    "                while n % i == 0:\n",
    "#                     print(n, i)\n",
    "                    ex += 1\n",
    "                    n = n // i\n",
    "                ret *= (ex + 1)\n",
    "                next_i = i + 1\n",
    "                break\n",
    "    return ret\n",
    "                \n",
    "\n",
    "\n"
   ]
  },
  {
   "cell_type": "code",
   "execution_count": 205,
   "metadata": {},
   "outputs": [
    {
     "data": {
      "text/plain": [
       "36"
      ]
     },
     "execution_count": 205,
     "metadata": {},
     "output_type": "execute_result"
    }
   ],
   "source": [
    "num_divisors(100000)"
   ]
  },
  {
   "cell_type": "markdown",
   "metadata": {},
   "source": [
    "# int(2**0.5)"
   ]
  },
  {
   "cell_type": "code",
   "execution_count": 2,
   "metadata": {},
   "outputs": [
    {
     "data": {
      "text/plain": [
       "1"
      ]
     },
     "execution_count": 2,
     "metadata": {},
     "output_type": "execute_result"
    }
   ],
   "source": [
    "int(3**0.5)"
   ]
  },
  {
   "cell_type": "code",
   "execution_count": null,
   "metadata": {},
   "outputs": [],
   "source": []
  }
 ],
 "metadata": {
  "kernelspec": {
   "display_name": "Python 3",
   "language": "python",
   "name": "python3"
  },
  "language_info": {
   "codemirror_mode": {
    "name": "ipython",
    "version": 3
   },
   "file_extension": ".py",
   "mimetype": "text/x-python",
   "name": "python",
   "nbconvert_exporter": "python",
   "pygments_lexer": "ipython3",
   "version": "3.8.1"
  }
 },
 "nbformat": 4,
 "nbformat_minor": 4
}
