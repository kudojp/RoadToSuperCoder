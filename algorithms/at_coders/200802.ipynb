{
 "cells": [
  {
   "cell_type": "markdown",
   "metadata": {},
   "source": [
    "# 1"
   ]
  },
  {
   "cell_type": "code",
   "execution_count": 2,
   "metadata": {},
   "outputs": [
    {
     "name": "stdout",
     "output_type": "stream",
     "text": [
      "40\n",
      "Yes\n"
     ]
    }
   ],
   "source": [
    "x = int(input())\n",
    "if x >= 30:\n",
    "    print('Yes')\n",
    "else:\n",
    "    print('No')"
   ]
  },
  {
   "cell_type": "markdown",
   "metadata": {},
   "source": [
    "# 2"
   ]
  },
  {
   "cell_type": "code",
   "execution_count": 9,
   "metadata": {},
   "outputs": [
    {
     "name": "stdout",
     "output_type": "stream",
     "text": [
      "4 5\n",
      "0 5\n",
      "-2 4\n",
      "3 4\n",
      "4 -4\n",
      "3\n"
     ]
    }
   ],
   "source": [
    "n, d = map(lambda x: int(x), input().split())\n",
    "\n",
    "count = 0\n",
    "for _ in range(n):\n",
    "    x, y = map(lambda x: int(x), input().split())\n",
    "    if x**2 + y**2 <= d**2:\n",
    "        count += 1\n",
    "print(count)"
   ]
  },
  {
   "cell_type": "markdown",
   "metadata": {},
   "source": [
    "# 3"
   ]
  },
  {
   "cell_type": "code",
   "execution_count": 153,
   "metadata": {},
   "outputs": [
    {
     "name": "stdout",
     "output_type": "stream",
     "text": [
      "9983\n",
      "4884\n"
     ]
    },
    {
     "ename": "SystemExit",
     "evalue": "",
     "output_type": "error",
     "traceback": [
      "An exception has occurred, use %tb to see the full traceback.\n",
      "\u001b[0;31mSystemExit\u001b[0m\n"
     ]
    }
   ],
   "source": [
    "# import sys\n",
    "# k = int(input())\n",
    "\n",
    "# if k == 7:\n",
    "#     print(1)\n",
    "#     sys.exit()\n",
    "\n",
    "# remainders = set()\n",
    "# remainder = 7 % k\n",
    "# remainders.add(remainder)\n",
    "\n",
    "# counter = 1\n",
    "# while True:\n",
    "#     counter += 1\n",
    "#     remainder = remainder * 10 % k\n",
    "#     if remainder in remainders:\n",
    "#         print('-1')\n",
    "#         sys.exit()\n",
    "#     remainders.add(remainder)\n",
    "#     if sum(remainders) % k == 0:\n",
    "#         print(counter)\n",
    "#         sys.exit()"
   ]
  },
  {
   "cell_type": "code",
   "execution_count": 154,
   "metadata": {},
   "outputs": [
    {
     "name": "stdout",
     "output_type": "stream",
     "text": [
      "99983\n",
      "23070\n"
     ]
    },
    {
     "ename": "SystemExit",
     "evalue": "",
     "output_type": "error",
     "traceback": [
      "An exception has occurred, use %tb to see the full traceback.\n",
      "\u001b[0;31mSystemExit\u001b[0m\n"
     ]
    }
   ],
   "source": [
    "import sys\n",
    "\n",
    "k = int(input())\n",
    "n = 7\n",
    "counter = 1\n",
    "remainders = set()\n",
    "\n",
    "while True:\n",
    "    remainder = n % k\n",
    "    if remainder == 0:\n",
    "        print(counter)\n",
    "        sys.exit()\n",
    "    if remainder in remainders:\n",
    "        print(-1)\n",
    "        sys.exit()\n",
    "    remainders.add(remainder)\n",
    "    \n",
    "    n = remainder * 10 + 7\n",
    "    counter += 1"
   ]
  },
  {
   "cell_type": "markdown",
   "metadata": {},
   "source": [
    "# 4"
   ]
  },
  {
   "cell_type": "code",
   "execution_count": 97,
   "metadata": {},
   "outputs": [
    {
     "data": {
      "text/plain": [
       "(-1, 1)"
      ]
     },
     "execution_count": 97,
     "metadata": {},
     "output_type": "execute_result"
    }
   ],
   "source": [
    "# c = [1,1]\n",
    "\n",
    "import sys\n",
    "def first_white(c):\n",
    "    for i,ele in enumerate(c):\n",
    "        if ele == 0:\n",
    "            return i\n",
    "    return -1\n",
    "        \n",
    "def last_red(c):\n",
    "    for i in range(len(c)-1, -1, -1):\n",
    "        if c[i] == 1:\n",
    "            return i\n",
    "    return -1\n",
    "        \n",
    "# first_white(c), last_red(c)\n",
    "\n",
    "n = int(input())\n",
    "c = [0 if x=='W' else 1 for x in input()]\n",
    "counter = 0\n",
    "while True:\n",
    "    first_w = first_white(c)\n",
    "    last_r = last_red(c)\n",
    "    if (len(c) == 0) or (first_w < 0) or (last_r < 0) or (last_r < first_w):\n",
    "        print(counter)\n",
    "        sys.exit()\n",
    "    c = c[first_w+1:last_r]    \n",
    "    counter += 1"
   ]
  },
  {
   "cell_type": "markdown",
   "metadata": {},
   "source": [
    "以上だと時間が足りなかった。ので以下"
   ]
  },
  {
   "cell_type": "code",
   "execution_count": 112,
   "metadata": {},
   "outputs": [
    {
     "name": "stdout",
     "output_type": "stream",
     "text": [
      "8\n",
      "WRWWRWRR\n",
      "3\n"
     ]
    }
   ],
   "source": [
    "import sys\n",
    "\n",
    "n = int(input())\n",
    "c = [0 if x=='W' else 1 for x in input()]\n",
    "counter = 0\n",
    "\n",
    "white_index = [i for i,ele in enumerate(c) if ele == 0]\n",
    "red_index = [i for i in range(len(c)-1, -1, -1) if c[i] == 1]\n",
    "    \n",
    "    \n",
    "for i in range(min(len(white_index), len(red_index))):\n",
    "    if white_index[i] < red_index[i]:\n",
    "        counter += 1\n",
    "print(counter)"
   ]
  },
  {
   "cell_type": "code",
   "execution_count": null,
   "metadata": {},
   "outputs": [],
   "source": []
  },
  {
   "cell_type": "code",
   "execution_count": null,
   "metadata": {},
   "outputs": [],
   "source": []
  },
  {
   "cell_type": "markdown",
   "metadata": {},
   "source": [
    "# 5\n"
   ]
  },
  {
   "cell_type": "code",
   "execution_count": null,
   "metadata": {},
   "outputs": [],
   "source": []
  }
 ],
 "metadata": {
  "kernelspec": {
   "display_name": "Python 3",
   "language": "python",
   "name": "python3"
  },
  "language_info": {
   "codemirror_mode": {
    "name": "ipython",
    "version": 3
   },
   "file_extension": ".py",
   "mimetype": "text/x-python",
   "name": "python",
   "nbconvert_exporter": "python",
   "pygments_lexer": "ipython3",
   "version": "3.8.1"
  }
 },
 "nbformat": 4,
 "nbformat_minor": 4
}
