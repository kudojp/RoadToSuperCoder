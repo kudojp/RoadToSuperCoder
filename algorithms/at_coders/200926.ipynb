{
 "cells": [
  {
   "cell_type": "markdown",
   "metadata": {},
   "source": [
    "# A"
   ]
  },
  {
   "cell_type": "code",
   "execution_count": 1,
   "metadata": {},
   "outputs": [
    {
     "name": "stdout",
     "output_type": "stream",
     "text": [
      "3\n",
      "ACLACLACL\n"
     ]
    }
   ],
   "source": [
    "k = int(input())\n",
    "print('ACL' * k)"
   ]
  },
  {
   "cell_type": "markdown",
   "metadata": {},
   "source": [
    "# B"
   ]
  },
  {
   "cell_type": "code",
   "execution_count": 7,
   "metadata": {},
   "outputs": [
    {
     "name": "stdout",
     "output_type": "stream",
     "text": [
      "10 30 20 40\n",
      "Yes\n"
     ]
    }
   ],
   "source": [
    "a,b,c,d = map(lambda x: int(x), input().split())\n",
    "\n",
    "if (b < c) | (d < a):\n",
    "    print('No')\n",
    "else:\n",
    "    print('Yes')"
   ]
  },
  {
   "cell_type": "markdown",
   "metadata": {},
   "source": [
    "# C"
   ]
  },
  {
   "cell_type": "code",
   "execution_count": 29,
   "metadata": {},
   "outputs": [
    {
     "name": "stdout",
     "output_type": "stream",
     "text": [
      "3 1\n",
      "1 2\n",
      "1\n"
     ]
    }
   ],
   "source": [
    "import math\n",
    "\n",
    "class UnionFind:\n",
    "    def __init__(self, size):\n",
    "        self.parent_indexes = [-1] * size\n",
    "        \n",
    "    def find(self, n):\n",
    "        if self.parent_indexes[n] < 0:\n",
    "            return n\n",
    "        # 探しているnodeが指し示しているのが現在の親ではない場合、\n",
    "        # 現在の親に書き換え(メモ化) した上で返す\n",
    "        self.parent_indexes[n] = self.find(self.parent_indexes[n])\n",
    "        return self.parent_indexes[n] \n",
    "    \n",
    "    def union(self, n1, n2):\n",
    "        if self.same_group(n1, n2):\n",
    "            return False\n",
    "        \n",
    "        # サイズの大きい方の集団の親が親であり続ける\n",
    "        if self.size(n1) >= self.size(n2):\n",
    "            tmp = self.size(n2)\n",
    "            self.parent_indexes[self.find(n2)] = self.find(n1)\n",
    "            self.parent_indexes[self.find(n1)] -= tmp\n",
    "            return True\n",
    "        \n",
    "        # サイズが小さい方の集団の親は親を引退する\n",
    "        tmp = self.size(n1)\n",
    "        self.parent_indexes[self.find(n1)] = self.find(n2)\n",
    "        self.parent_indexes[self.find(n2)] -= tmp\n",
    "        return True\n",
    "        \n",
    "    # その要素が所属する集団の要素数\n",
    "    def size(self, n):\n",
    "        return -self.parent_indexes[self.find(n)]\n",
    "    \n",
    "    def same_group(self, n1, n2):\n",
    "        return self.find(n1) == self.find(n2)\n",
    "\n",
    "n, m = map(lambda x: int(x), input().split())\n",
    "\n",
    "\n",
    "uf = UnionFind(n)\n",
    "\n",
    "for _ in range(m):\n",
    "    a, b = map(lambda x: int(x), input().split())\n",
    "    uf.union(a-1, b-1)\n",
    "    \n",
    "num_parents = 0\n",
    "    \n",
    "for p_index in uf.parent_indexes:\n",
    "    if p_index < 0:\n",
    "        num_parents += 1\n",
    "# print(uf.parent_indexes)\n",
    "print(num_parents - 1)"
   ]
  },
  {
   "cell_type": "markdown",
   "metadata": {},
   "source": [
    "# D"
   ]
  },
  {
   "cell_type": "code",
   "execution_count": 9,
   "metadata": {
    "scrolled": true
   },
   "outputs": [
    {
     "name": "stdout",
     "output_type": "stream",
     "text": [
      "The cythonmagic extension is already loaded. To reload it, use:\n",
      "  %reload_ext cythonmagic\n"
     ]
    }
   ],
   "source": [
    "%load_ext cythonmagic"
   ]
  },
  {
   "cell_type": "code",
   "execution_count": 11,
   "metadata": {},
   "outputs": [],
   "source": [
    "%%timeit\n",
    "%%cython"
   ]
  },
  {
   "cell_type": "code",
   "execution_count": 16,
   "metadata": {},
   "outputs": [
    {
     "name": "stdout",
     "output_type": "stream",
     "text": [
      "433 µs ± 9.58 µs per loop (mean ± std. dev. of 7 runs, 1000 loops each)\n"
     ]
    }
   ],
   "source": [
    "import sys\n",
    "sys.setrecursionlimit(3000000) \n",
    "\n",
    "n, k = map(lambda x: int(x), input().split())\n",
    "\n",
    "list_a = []\n",
    "for _ in range(n):\n",
    "     list_a.append(int(input()))\n",
    "        \n",
    "memo = dict()\n",
    "\n",
    "# i番目以降の要素からなるsublistの長さとして最長のものの長さを返す\n",
    "def sublist_max_length(current_value, i):\n",
    "    if (current_value, i) in memo.keys():\n",
    "        return memo[(current_value, i)]\n",
    "    if i == n-1:\n",
    "        if (current_value is None) or (abs(current_value - list_a[i]) <= k):\n",
    "            memo[(current_value, i)] = 1\n",
    "            return memo[(current_value, i)]\n",
    "        memo[(current_value, i)] = 0\n",
    "        return memo[(current_value, i)]\n",
    "    \n",
    "    if (current_value is None) or (abs(current_value - list_a[i]) <= k):\n",
    "        # iの値をsublistに含めるor含めない\n",
    "        memo[(current_value, i)] = max(1+sublist_max_length(list_a[i], i+1), sublist_max_length(current_value, i+1))\n",
    "        return memo[(current_value, i)]\n",
    "    memo[(current_value, i)] = sublist_max_length(current_value, i+1)\n",
    "    return memo[(current_value, i)]\n",
    "\n",
    "print(sublist_max_length(None, 0))"
   ]
  },
  {
   "cell_type": "code",
   "execution_count": 17,
   "metadata": {},
   "outputs": [
    {
     "name": "stdout",
     "output_type": "stream",
     "text": [
      "3\n"
     ]
    }
   ],
   "source": [
    "## random testの作成\n",
    "\n",
    "import sys\n",
    "sys.setrecursionlimit(3000000)\n",
    "\n",
    "import random\n",
    "memo = dict()\n",
    "n = random.randint(1, 30000)\n",
    "k = random.randint(0, 30000)\n",
    "list_a = [random.randint(0, 30000) for _ in range(n)]\n",
    "\n",
    "print(sublist_max_length(None, 0))"
   ]
  },
  {
   "cell_type": "markdown",
   "metadata": {},
   "source": [
    "## なぜかできなかったと思ったら、再帰のスタックオーバーフローだった\n",
    "\n",
    "以下が必要だった。\n",
    "```\n",
    "import sys\n",
    "sys.setrecursionlimit(適当に大きな数)\n",
    "```\n",
    "\n",
    "入れてもTLEだが。\n"
   ]
  },
  {
   "cell_type": "markdown",
   "metadata": {},
   "source": [
    "## 解法①動的計画法DP"
   ]
  },
  {
   "cell_type": "code",
   "execution_count": 36,
   "metadata": {},
   "outputs": [
    {
     "name": "stdout",
     "output_type": "stream",
     "text": [
      "10 3\n",
      "1\n",
      "5\n",
      "4\n",
      "3\n",
      "8\n",
      "6\n",
      "9\n",
      "7\n",
      "2\n",
      "4\n",
      "7\n"
     ]
    }
   ],
   "source": [
    "n, k = map(lambda x: int(x), input().split())\n",
    "\n",
    "list_a = []\n",
    "max_a = 0\n",
    "for _ in range(n):\n",
    "    a = int(input())\n",
    "    list_a.append(a)\n",
    "    max_a = max(max_a, a)\n",
    "\n",
    "# n回操作後のdp配列のm番目(m=0,1,2...)の要素は、\n",
    "# 「前からn番目までの数列について、最後の数字がm+1となるような部分列として考えられるものの中で最長のものの長さ」\n",
    "# とする。\n",
    "# \n",
    "dp = [0] * max_a\n",
    "\n",
    "for a in list_a:\n",
    "    i_new_number = a - 1\n",
    "    updated_length = 0\n",
    "    for i in range(max(0, i_new_number-k), min(max_a, i_new_number+k+1)):\n",
    "        updated_length = max(updated_length, dp[i]+1)\n",
    "    dp[i_new_number] = updated_length\n",
    "#     print(dp)\n",
    "print(max(dp))"
   ]
  },
  {
   "cell_type": "markdown",
   "metadata": {},
   "source": [
    "合ってるけど、まだTLEなので、`updated_length = max(dp[i-k]~dp[i+k])`の部分は区間の処理なのでsegment treeを使う。\n",
    "\n",
    "- 競プロじゃなくて理論だと、平衡二分探索木(SelfBalancedSearch)を使えば、もっと色々な操作ができるし、計算量は同じ。\n",
    "- でもsegment treeだと、定数倍(???)がめっちゃ速いし、実装量も少ない\n",
    "\n",
    "\n",
    "今回の問題だと、以下をしたい。のでまさにSegmentTreeを使う\n",
    "\n",
    "- 一点更新(代入)\n",
    "- 区間のmaxを取得\n",
    "\n",
    "## 解法②区間木SegmentTree\n"
   ]
  },
  {
   "cell_type": "code",
   "execution_count": null,
   "metadata": {},
   "outputs": [],
   "source": []
  }
 ],
 "metadata": {
  "kernelspec": {
   "display_name": "Python 3",
   "language": "python",
   "name": "python3"
  },
  "language_info": {
   "codemirror_mode": {
    "name": "ipython",
    "version": 3
   },
   "file_extension": ".py",
   "mimetype": "text/x-python",
   "name": "python",
   "nbconvert_exporter": "python",
   "pygments_lexer": "ipython3",
   "version": "3.8.1"
  }
 },
 "nbformat": 4,
 "nbformat_minor": 4
}
