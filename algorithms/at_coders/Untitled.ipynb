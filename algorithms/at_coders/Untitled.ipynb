{
 "cells": [
  {
   "cell_type": "code",
   "execution_count": 1,
   "metadata": {},
   "outputs": [
    {
     "name": "stdout",
     "output_type": "stream",
     "text": [
      "1 2 3 4 2\n",
      "7\n"
     ]
    }
   ],
   "source": [
    "l = list(map(lambda x: int(x), input().split()))\n",
    "l.sort()\n",
    "print(l[-2]+l[-1])"
   ]
  },
  {
   "cell_type": "code",
   "execution_count": null,
   "metadata": {},
   "outputs": [],
   "source": []
  },
  {
   "cell_type": "code",
   "execution_count": 18,
   "metadata": {},
   "outputs": [
    {
     "name": "stdout",
     "output_type": "stream",
     "text": [
      "6 9 2 3\n",
      "-1\n"
     ]
    }
   ],
   "source": [
    "import math\n",
    "\n",
    "a, b, c, d = list(map(lambda x: int(x), input().split()))\n",
    "blue, red = a, 0\n",
    "\n",
    "if a == 0:\n",
    "    print(0)\n",
    "else:\n",
    "    if b >= c * d:\n",
    "        print(-1)\n",
    "    else:\n",
    "        i = 1\n",
    "        while True:\n",
    "            blue += b\n",
    "            red += c\n",
    "            if blue <= red * d:\n",
    "                print(i)\n",
    "                break\n",
    "            i += 1\n",
    "\n",
    "            \n",
    "            "
   ]
  },
  {
   "cell_type": "code",
   "execution_count": 23,
   "metadata": {},
   "outputs": [
    {
     "name": "stdout",
     "output_type": "stream",
     "text": [
      "3\n",
      "1 1 2\n",
      "2 2 3\n",
      "3 2 4\n",
      "2 0\n",
      "3 0\n",
      "2 2\n",
      "-2\n"
     ]
    }
   ],
   "source": [
    "import bisect\n",
    "\n",
    "n = int(input())\n",
    "\n",
    "\n",
    "nums = []\n",
    "mins = []\n",
    "maxs = []\n",
    "\n",
    "for  _ in range(n):\n",
    "    t, l, r = list(map(lambda x: int(x), input().split()))\n",
    "    \n",
    "    if t == 4 and l + 1 == r:\n",
    "        continue\n",
    "    \n",
    "    if t in (1, 2):\n",
    "        left = l\n",
    "    else:\n",
    "        left = l + 1\n",
    "        \n",
    "    if t in (1, 3):\n",
    "        right = r\n",
    "    else:\n",
    "        right = r - 1\n",
    "        \n",
    "    nums.append((left, right))\n",
    "nums.sort()\n",
    "    \n",
    "print(min)\n",
    "\n",
    "ans = 0\n",
    "for mini, maxi in zip(mins, maxes):\n",
    "    idx_min = bisect.bisect_right(mins, maxi)\n",
    "    idx_max = bisect.bisect_left(maxs, mini)\n",
    "    print(idx_min, idx_max)\n",
    "    ans += idx_max - idx_min + 1\n",
    "    \n",
    "print(ans)\n",
    "        \n",
    "        \n",
    "    "
   ]
  },
  {
   "cell_type": "code",
   "execution_count": null,
   "metadata": {},
   "outputs": [],
   "source": [
    "3\n",
    "1 1 2\n",
    "2 2 3\n",
    "3 2 4\n"
   ]
  },
  {
   "cell_type": "code",
   "execution_count": 27,
   "metadata": {},
   "outputs": [
    {
     "ename": "KeyboardInterrupt",
     "evalue": "Interrupted by user",
     "output_type": "error",
     "traceback": [
      "\u001b[0;31m---------------------------------------------------------------------------\u001b[0m",
      "\u001b[0;31mKeyboardInterrupt\u001b[0m                         Traceback (most recent call last)",
      "\u001b[0;32m<ipython-input-27-31ab61e2939a>\u001b[0m in \u001b[0;36m<module>\u001b[0;34m\u001b[0m\n\u001b[1;32m      1\u001b[0m \u001b[0;32mimport\u001b[0m \u001b[0mbisect\u001b[0m\u001b[0;34m\u001b[0m\u001b[0;34m\u001b[0m\u001b[0m\n\u001b[1;32m      2\u001b[0m \u001b[0;34m\u001b[0m\u001b[0m\n\u001b[0;32m----> 3\u001b[0;31m \u001b[0mn\u001b[0m \u001b[0;34m=\u001b[0m \u001b[0mint\u001b[0m\u001b[0;34m(\u001b[0m\u001b[0minput\u001b[0m\u001b[0;34m(\u001b[0m\u001b[0;34m)\u001b[0m\u001b[0;34m)\u001b[0m\u001b[0;34m\u001b[0m\u001b[0;34m\u001b[0m\u001b[0m\n\u001b[0m\u001b[1;32m      4\u001b[0m \u001b[0mnums\u001b[0m \u001b[0;34m=\u001b[0m \u001b[0;34m[\u001b[0m\u001b[0;34m]\u001b[0m\u001b[0;34m\u001b[0m\u001b[0;34m\u001b[0m\u001b[0m\n\u001b[1;32m      5\u001b[0m \u001b[0;34m\u001b[0m\u001b[0m\n",
      "\u001b[0;32m~/.pyenv/versions/3.8.1/lib/python3.8/site-packages/ipykernel/kernelbase.py\u001b[0m in \u001b[0;36mraw_input\u001b[0;34m(self, prompt)\u001b[0m\n\u001b[1;32m    858\u001b[0m                 \u001b[0;34m\"raw_input was called, but this frontend does not support input requests.\"\u001b[0m\u001b[0;34m\u001b[0m\u001b[0;34m\u001b[0m\u001b[0m\n\u001b[1;32m    859\u001b[0m             )\n\u001b[0;32m--> 860\u001b[0;31m         return self._input_request(str(prompt),\n\u001b[0m\u001b[1;32m    861\u001b[0m             \u001b[0mself\u001b[0m\u001b[0;34m.\u001b[0m\u001b[0m_parent_ident\u001b[0m\u001b[0;34m,\u001b[0m\u001b[0;34m\u001b[0m\u001b[0;34m\u001b[0m\u001b[0m\n\u001b[1;32m    862\u001b[0m             \u001b[0mself\u001b[0m\u001b[0;34m.\u001b[0m\u001b[0m_parent_header\u001b[0m\u001b[0;34m,\u001b[0m\u001b[0;34m\u001b[0m\u001b[0;34m\u001b[0m\u001b[0m\n",
      "\u001b[0;32m~/.pyenv/versions/3.8.1/lib/python3.8/site-packages/ipykernel/kernelbase.py\u001b[0m in \u001b[0;36m_input_request\u001b[0;34m(self, prompt, ident, parent, password)\u001b[0m\n\u001b[1;32m    902\u001b[0m             \u001b[0;32mexcept\u001b[0m \u001b[0mKeyboardInterrupt\u001b[0m\u001b[0;34m:\u001b[0m\u001b[0;34m\u001b[0m\u001b[0;34m\u001b[0m\u001b[0m\n\u001b[1;32m    903\u001b[0m                 \u001b[0;31m# re-raise KeyboardInterrupt, to truncate traceback\u001b[0m\u001b[0;34m\u001b[0m\u001b[0;34m\u001b[0m\u001b[0;34m\u001b[0m\u001b[0m\n\u001b[0;32m--> 904\u001b[0;31m                 \u001b[0;32mraise\u001b[0m \u001b[0mKeyboardInterrupt\u001b[0m\u001b[0;34m(\u001b[0m\u001b[0;34m\"Interrupted by user\"\u001b[0m\u001b[0;34m)\u001b[0m \u001b[0;32mfrom\u001b[0m \u001b[0;32mNone\u001b[0m\u001b[0;34m\u001b[0m\u001b[0;34m\u001b[0m\u001b[0m\n\u001b[0m\u001b[1;32m    905\u001b[0m             \u001b[0;32mexcept\u001b[0m \u001b[0mException\u001b[0m \u001b[0;32mas\u001b[0m \u001b[0me\u001b[0m\u001b[0;34m:\u001b[0m\u001b[0;34m\u001b[0m\u001b[0;34m\u001b[0m\u001b[0m\n\u001b[1;32m    906\u001b[0m                 \u001b[0mself\u001b[0m\u001b[0;34m.\u001b[0m\u001b[0mlog\u001b[0m\u001b[0;34m.\u001b[0m\u001b[0mwarning\u001b[0m\u001b[0;34m(\u001b[0m\u001b[0;34m\"Invalid Message:\"\u001b[0m\u001b[0;34m,\u001b[0m \u001b[0mexc_info\u001b[0m\u001b[0;34m=\u001b[0m\u001b[0;32mTrue\u001b[0m\u001b[0;34m)\u001b[0m\u001b[0;34m\u001b[0m\u001b[0;34m\u001b[0m\u001b[0m\n",
      "\u001b[0;31mKeyboardInterrupt\u001b[0m: Interrupted by user"
     ]
    }
   ],
   "source": [
    "import bisect\n",
    "\n",
    "n = int(input())\n",
    "nums = []\n",
    "\n",
    "for  _ in range(n):\n",
    "    t, l, r = list(map(lambda x: int(x), input().split()))\n",
    "    \n",
    "#     if t == 4 and l + 1 == r:\n",
    "#         continue\n",
    "    \n",
    "    if t in (1, 2):\n",
    "        left = l\n",
    "    else:\n",
    "        left = l + 0.1\n",
    "        \n",
    "    if t in (1, 3):\n",
    "        right = r\n",
    "    else:\n",
    "        right = r - 0.1\n",
    "        \n",
    "    nums.append((left, right))\n",
    "\n",
    "# print(nums)\n",
    "ans = 0\n",
    "for i in range(len(nums)):\n",
    "    for j in range(len(nums)):\n",
    "        if i <= j:\n",
    "            continue\n",
    "        if nums[i][1] < nums[j][0] or nums[j][1] < nums[i][0]:\n",
    "            continue\n",
    "#         print(nums[i], nums[j])\n",
    "        ans += 1\n",
    "print(ans)"
   ]
  },
  {
   "cell_type": "code",
   "execution_count": null,
   "metadata": {},
   "outputs": [],
   "source": [
    "3\n",
    "0 0\n",
    "0 1\n",
    "1 0\n",
    "2 0\n",
    "3 0\n",
    "3 1"
   ]
  },
  {
   "cell_type": "code",
   "execution_count": 49,
   "metadata": {},
   "outputs": [
    {
     "name": "stdout",
     "output_type": "stream",
     "text": [
      "3\n",
      "0 0\n",
      "0 1\n",
      "1 0\n",
      "2 0\n",
      "3 0\n",
      "3 1\n",
      "[(-1, -1), (-1, 2), (2, -1)] [(-2, -1), (1, -1), (1, 2)]\n",
      "False\n"
     ]
    }
   ],
   "source": [
    "import sys\n",
    "n = int(input())\n",
    "\n",
    "la, lb, lc, ld = [], [], [], []\n",
    "a_sum, b_sum, c_sum, d_sum = 0, 0, 0, 0\n",
    "for _ in range(n):\n",
    "    a, b = list(map(lambda x: int(x), input().split()))\n",
    "    la.append(a)\n",
    "    lb.append(b)\n",
    "    a_sum += a\n",
    "    b_sum += b\n",
    "\n",
    "for _ in range(n):\n",
    "    c, d = list(map(lambda x: int(x), input().split()))\n",
    "    lc.append(c)\n",
    "    ld.append(d)\n",
    "    c_sum += c\n",
    "    d_sum += d\n",
    "    \n",
    "rela, relb, relc, reld = [], [], [], []\n",
    "for i in range(len(la)):\n",
    "    rela.append(la[i]*len(la) - a_sum)\n",
    "    relb.append(lb[i]*len(la) - b_sum)\n",
    "    relc.append(lc[i]*len(la) - c_sum)\n",
    "    reld.append(ld[i]*len(la) - d_sum)\n",
    "    \n",
    "# print(rela, relb, relc, reld)\n",
    "    \n",
    "    \n",
    "x,y = [],[]\n",
    "\n",
    "for i, (a, b) in enumerate(zip(rela, relb)):\n",
    "    x.append((a, b))\n",
    "    \n",
    "for i, (c, d) in enumerate(zip(relc, reld)):\n",
    "    y.append((c, d))\n",
    "    \n",
    "print(x, y)\n",
    "for i in range(len(y)):\n",
    "    for j in range(len(x)):\n",
    "        if i == j:\n",
    "            continue\n",
    "        \n",
    "        for k in range(len(x)):\n",
    "            if x[i + k] != y[j + k]:\n",
    "                break\n",
    "        else:\n",
    "            print(True)\n",
    "else:\n",
    "    print(False)"
   ]
  },
  {
   "cell_type": "markdown",
   "metadata": {},
   "source": [
    "# for i, a, b in enumerate(zip([1,2], [3,4])):\n",
    "    print(i, a, b)"
   ]
  },
  {
   "cell_type": "code",
   "execution_count": null,
   "metadata": {},
   "outputs": [],
   "source": [
    "3\n",
    "0 0\n",
    "0 1\n",
    "1 0\n",
    "2 0\n",
    "3 0\n",
    "3 1"
   ]
  },
  {
   "cell_type": "code",
   "execution_count": null,
   "metadata": {},
   "outputs": [],
   "source": [
    "3\n",
    "1 0\n",
    "1 1\n",
    "3 0\n",
    "-1 0\n",
    "-1 1\n",
    "-3 0"
   ]
  }
 ],
 "metadata": {
  "kernelspec": {
   "display_name": "Python 3",
   "language": "python",
   "name": "python3"
  },
  "language_info": {
   "codemirror_mode": {
    "name": "ipython",
    "version": 3
   },
   "file_extension": ".py",
   "mimetype": "text/x-python",
   "name": "python",
   "nbconvert_exporter": "python",
   "pygments_lexer": "ipython3",
   "version": "3.8.1"
  }
 },
 "nbformat": 4,
 "nbformat_minor": 4
}
