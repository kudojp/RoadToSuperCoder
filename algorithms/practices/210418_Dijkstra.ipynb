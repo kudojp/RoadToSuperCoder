{
 "cells": [
  {
   "cell_type": "markdown",
   "metadata": {},
   "source": [
    "# ダイクストラ法 (Dijkstra's algorithm)\n",
    "\n",
    "\n",
    "ロジックとしては、 https://www.youtube.com/watch?v=X1AsMlJdiok がわかりやすい。\n",
    "`heapqに既に同じvertexを表す要素が入っていたとしても、放り込んで良い`という箇所に関する説明は、https://t.co/uEyADXN2Pu?amp=1 を参照。\n",
    "\n",
    "以下で、https://leetcode.com/problems/network-delay-time/ の解法。\n",
    "\n",
    "```\n",
    "You are given a network of n nodes, labeled from 1 to n. You are also given times, a list of travel times as directed edges times[i] = (ui, vi, wi), where ui is the source node, vi is the target node, and wi is the time it takes for a signal to travel from source to target.\n",
    "\n",
    "We will send a signal from a given node k. Return the time it takes for all the n nodes to receive the signal. If it is impossible for all the n nodes to receive the signal, return -1.\n",
    "\n",
    " \n",
    "Example 1:\n",
    "Input: times = [[2,1,1],[2,3,1],[3,4,1]], n = 4, k = 2\n",
    "Output: 2\n",
    "```"
   ]
  },
  {
   "cell_type": "code",
   "execution_count": null,
   "metadata": {},
   "outputs": [],
   "source": [
    "from collections import defaultdict\n",
    "\n",
    "class Solution:\n",
    "    def networkDelayTime(self, times: List[List[int]], n: int, k: int) -> int:\n",
    "        adj_list = defaultdict(set)\n",
    "        for time in times:\n",
    "            adj_list[time[0]].add((time[1], time[2]))\n",
    "        \n",
    "        dis_finalized = {}\n",
    "        dis = [(0, k)]\n",
    "        \n",
    "        while len(dis) > 0:\n",
    "            # minimum distance included in dis is finalized here\n",
    "            # also, put it in dis_finalized\n",
    "            while len(dis) > 0:\n",
    "                # proority queueには、重複したvertexを表す要素が入っている可能性があり、\n",
    "                # すでにfinalizeされたvertexに関するものは無視する。\n",
    "                v_dis, v = heapq.heappop(dis)\n",
    "                    dis_finalized[v] = v_dis\n",
    "                    break\n",
    "            else:\n",
    "                break\n",
    "            \n",
    "            # update dis which is adjacent from v\n",
    "            for adj in adj_list[v]:\n",
    "                adj_v, adj_dis = adj\n",
    "                if adj_v in dis_finalized:\n",
    "                    continue\n",
    "                if (adj_v not in dis) or (v_dis + adj_dis < dis[adj_v]):\n",
    "                    heapq.heappush(dis, (v_dis + adj_dis, adj_v))   # priority queue内に、既にこのvertexを表す要素が入っていたとしても、放り込む\n",
    "        \n",
    "        if len(dis_finalized) < n:\n",
    "            return -1\n",
    "        return max(dis_finalized.values())\n"
   ]
  },
  {
   "cell_type": "markdown",
   "metadata": {},
   "source": [
    "Where E is the length of given `times` in the basic implementation, and V is given `n`,\n",
    "\n",
    "### Time Complexity:\n",
    "\n",
    "`O(Elog E)`\n",
    "\n",
    "\n",
    "O(ElogE) in the heap implementation, as potentially every edge gets added to the heap.\n",
    "\n",
    "### Space Complexity:\n",
    "\n",
    "`O(V+E)`\n",
    "\n",
    "the size of the adjacent_list O(E), plus the size of the other objects used O(V)\n",
    "\n",
    "\n"
   ]
  }
 ],
 "metadata": {
  "kernelspec": {
   "display_name": "Python 3",
   "language": "python",
   "name": "python3"
  },
  "language_info": {
   "codemirror_mode": {
    "name": "ipython",
    "version": 3
   },
   "file_extension": ".py",
   "mimetype": "text/x-python",
   "name": "python",
   "nbconvert_exporter": "python",
   "pygments_lexer": "ipython3",
   "version": "3.8.1"
  }
 },
 "nbformat": 4,
 "nbformat_minor": 4
}
