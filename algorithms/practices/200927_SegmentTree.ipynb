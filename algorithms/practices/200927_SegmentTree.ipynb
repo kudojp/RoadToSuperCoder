{
 "cells": [
  {
   "cell_type": "markdown",
   "metadata": {},
   "source": [
    "# Segment Tree\n",
    "\n",
    "- https://tjkendev.github.io/procon-library/cpp/range_query/segment_tree_beats_2.html が一番わかりやすいかも。以下のクエリを処理するとのこと。\n",
    "\n",
    "- al,al+1,...,ar−1 の各aiについて min(ai,x) に更新\n",
    "- al,al+1,...,ar−1 の各aiについて max(ai,x) に更新\n",
    "- al,al+1,...,ar−1 の最大値を求める\n",
    "- al,al+1,...,ar−1 の最小値を求める\n",
    "- al,al+1,...,ar−1 の総和を求める\n",
    "- al,al+1,...,ar−1 の各aiについて x に更新\n",
    "- al,al+1,...,ar−1 の各aiについて ai+x に更新"
   ]
  },
  {
   "cell_type": "markdown",
   "metadata": {},
   "source": [
    "## RQM(Range Minimum Query)"
   ]
  },
  {
   "cell_type": "code",
   "execution_count": 47,
   "metadata": {},
   "outputs": [],
   "source": [
    "class SegmentTree:\n",
    "    # 初期化の時点で配列を渡す実装にするのでもいいかも\n",
    "    def __init__(self, n):\n",
    "        # size >= 1の前提\n",
    "        list_size = 1\n",
    "        while list_size < n:\n",
    "            list_size *= 2\n",
    "        list_size = list_size * 2 - 1\n",
    "        self.list = [float('inf')] * list_size\n",
    "    \n",
    "    # idxは0-index\n",
    "    def update(self, idx, val):\n",
    "        idx_in_list = idx + (len(self.list) + 1) // 2 - 1\n",
    "        while index_in\n",
    "        self.list[idx_in_list] = val"
   ]
  },
  {
   "cell_type": "code",
   "execution_count": 48,
   "metadata": {},
   "outputs": [
    {
     "data": {
      "text/plain": [
       "[inf, inf, inf, inf, inf, inf, inf, inf, inf, inf, inf, inf, inf, inf, inf]"
      ]
     },
     "execution_count": 48,
     "metadata": {},
     "output_type": "execute_result"
    }
   ],
   "source": [
    "st = SegmentTree(5)\n",
    "st.list"
   ]
  },
  {
   "cell_type": "code",
   "execution_count": 49,
   "metadata": {},
   "outputs": [
    {
     "data": {
      "text/plain": [
       "[inf, inf, inf, inf, inf, inf, inf, inf, inf, inf, inf, inf, 5, inf, inf]"
      ]
     },
     "execution_count": 49,
     "metadata": {},
     "output_type": "execute_result"
    }
   ],
   "source": [
    "st.update(5, 5)\n",
    "st.list"
   ]
  },
  {
   "cell_type": "code",
   "execution_count": 46,
   "metadata": {},
   "outputs": [
    {
     "data": {
      "text/plain": [
       "15"
      ]
     },
     "execution_count": 46,
     "metadata": {},
     "output_type": "execute_result"
    }
   ],
   "source": [
    "len(st.list)"
   ]
  },
  {
   "cell_type": "code",
   "execution_count": null,
   "metadata": {},
   "outputs": [],
   "source": []
  }
 ],
 "metadata": {
  "kernelspec": {
   "display_name": "Python 3",
   "language": "python",
   "name": "python3"
  },
  "language_info": {
   "codemirror_mode": {
    "name": "ipython",
    "version": 3
   },
   "file_extension": ".py",
   "mimetype": "text/x-python",
   "name": "python",
   "nbconvert_exporter": "python",
   "pygments_lexer": "ipython3",
   "version": "3.8.1"
  }
 },
 "nbformat": 4,
 "nbformat_minor": 4
}
