{
 "cells": [
  {
   "cell_type": "markdown",
   "metadata": {},
   "source": [
    "https://leetcode.com/articles/a-recursive-approach-to-segment-trees-range-sum-queries-lazy-propagation/\n",
    "を参考にする\n",
    "\n",
    "- Treeを配列に置き換える(Heapと同じ)\n",
    "- Leafが元の配列の一つ一つの要素\n",
    "- Leafは左詰にして、2のn乗に満たない場合はNoneを収納する(Perfect Binary Treeを作る)\n",
    "\n",
    "- あるNodeのidxについて、Parentは(idx-1)//2、LeftChildはidx*2+1, RightChildはidx*2+2\n",
    "- Nodeのidxと、そのNodeの表す区間のidxは全然関係ない"
   ]
  },
  {
   "cell_type": "markdown",
   "metadata": {},
   "source": [
    "## Build Segment Tree\n",
    "\n",
    "ある区間の最小値を求めるやつ"
   ]
  },
  {
   "cell_type": "code",
   "execution_count": 119,
   "metadata": {},
   "outputs": [],
   "source": [
    "# class Node:\n",
    "#     def __init__(self, val=None, left=None, right=None):\n",
    "#         self.val = val\n",
    "#         self.left = left\n",
    "#         self.right = right"
   ]
  },
  {
   "cell_type": "code",
   "execution_count": 120,
   "metadata": {},
   "outputs": [],
   "source": [
    "# memo: 区間のmidの\"切り捨て\"がleft childの区間の上端にする→詰まってるNodeだけ見ると、complete binary treeになる\n",
    "def build_segment_tree(segment_tree, node_idx, range_left, range_right, nums):\n",
    "    if range_left == range_right:\n",
    "        segment_tree[node_idx] = arr[range_left]\n",
    "        return segment_tree[node_idx]\n",
    "        \n",
    "    segment_tree[node_idx] = build_segment_tree(\n",
    "        segment_tree, node_idx * 2 + 1, range_left, (range_left + range_right) // 2, nums\n",
    "    ) + build_segment_tree(\n",
    "        segment_tree, node_idx * 2 + 2, (range_left + range_right) // 2 + 1, range_right, nums\n",
    "    )\n",
    "    \n",
    "    return segment_tree[node_idx]\n",
    "    "
   ]
  },
  {
   "cell_type": "code",
   "execution_count": 121,
   "metadata": {},
   "outputs": [
    {
     "ename": "NameError",
     "evalue": "name 'arr' is not defined",
     "output_type": "error",
     "traceback": [
      "\u001b[0;31m---------------------------------------------------------------------------\u001b[0m",
      "\u001b[0;31mNameError\u001b[0m                                 Traceback (most recent call last)",
      "\u001b[0;32m<ipython-input-121-8faaa4a7a413>\u001b[0m in \u001b[0;36m<module>\u001b[0;34m\u001b[0m\n\u001b[1;32m      4\u001b[0m \u001b[0msegment_tree\u001b[0m \u001b[0;34m=\u001b[0m \u001b[0;34m[\u001b[0m\u001b[0;32mNone\u001b[0m\u001b[0;34m]\u001b[0m \u001b[0;34m*\u001b[0m \u001b[0mnum_ele\u001b[0m\u001b[0;34m\u001b[0m\u001b[0;34m\u001b[0m\u001b[0m\n\u001b[1;32m      5\u001b[0m \u001b[0;34m\u001b[0m\u001b[0m\n\u001b[0;32m----> 6\u001b[0;31m \u001b[0mbuild_segment_tree\u001b[0m\u001b[0;34m(\u001b[0m\u001b[0msegment_tree\u001b[0m\u001b[0;34m,\u001b[0m \u001b[0;36m0\u001b[0m\u001b[0;34m,\u001b[0m \u001b[0;36m0\u001b[0m\u001b[0;34m,\u001b[0m \u001b[0mlen\u001b[0m\u001b[0;34m(\u001b[0m\u001b[0mnums\u001b[0m\u001b[0;34m)\u001b[0m\u001b[0;34m-\u001b[0m\u001b[0;36m1\u001b[0m\u001b[0;34m,\u001b[0m \u001b[0mnums\u001b[0m\u001b[0;34m)\u001b[0m\u001b[0;34m\u001b[0m\u001b[0;34m\u001b[0m\u001b[0m\n\u001b[0m",
      "\u001b[0;32m<ipython-input-120-a0efbf1d8d01>\u001b[0m in \u001b[0;36mbuild_segment_tree\u001b[0;34m(segment_tree, node_idx, range_left, range_right, nums)\u001b[0m\n\u001b[1;32m      5\u001b[0m         \u001b[0;32mreturn\u001b[0m \u001b[0msegment_tree\u001b[0m\u001b[0;34m[\u001b[0m\u001b[0mnode_idx\u001b[0m\u001b[0;34m]\u001b[0m\u001b[0;34m\u001b[0m\u001b[0;34m\u001b[0m\u001b[0m\n\u001b[1;32m      6\u001b[0m \u001b[0;34m\u001b[0m\u001b[0m\n\u001b[0;32m----> 7\u001b[0;31m     segment_tree[node_idx] = build_segment_tree(\n\u001b[0m\u001b[1;32m      8\u001b[0m         \u001b[0msegment_tree\u001b[0m\u001b[0;34m,\u001b[0m \u001b[0mnode_idx\u001b[0m \u001b[0;34m*\u001b[0m \u001b[0;36m2\u001b[0m \u001b[0;34m+\u001b[0m \u001b[0;36m1\u001b[0m\u001b[0;34m,\u001b[0m \u001b[0mrange_left\u001b[0m\u001b[0;34m,\u001b[0m \u001b[0;34m(\u001b[0m\u001b[0mrange_left\u001b[0m \u001b[0;34m+\u001b[0m \u001b[0mrange_right\u001b[0m\u001b[0;34m)\u001b[0m \u001b[0;34m//\u001b[0m \u001b[0;36m2\u001b[0m\u001b[0;34m,\u001b[0m \u001b[0mnums\u001b[0m\u001b[0;34m\u001b[0m\u001b[0;34m\u001b[0m\u001b[0m\n\u001b[1;32m      9\u001b[0m     \u001b[0;34m)\u001b[0m \u001b[0;34m+\u001b[0m \u001b[0mbuild_segment_tree\u001b[0m\u001b[0;34m(\u001b[0m\u001b[0;34m\u001b[0m\u001b[0;34m\u001b[0m\u001b[0m\n",
      "\u001b[0;32m<ipython-input-120-a0efbf1d8d01>\u001b[0m in \u001b[0;36mbuild_segment_tree\u001b[0;34m(segment_tree, node_idx, range_left, range_right, nums)\u001b[0m\n\u001b[1;32m      5\u001b[0m         \u001b[0;32mreturn\u001b[0m \u001b[0msegment_tree\u001b[0m\u001b[0;34m[\u001b[0m\u001b[0mnode_idx\u001b[0m\u001b[0;34m]\u001b[0m\u001b[0;34m\u001b[0m\u001b[0;34m\u001b[0m\u001b[0m\n\u001b[1;32m      6\u001b[0m \u001b[0;34m\u001b[0m\u001b[0m\n\u001b[0;32m----> 7\u001b[0;31m     segment_tree[node_idx] = build_segment_tree(\n\u001b[0m\u001b[1;32m      8\u001b[0m         \u001b[0msegment_tree\u001b[0m\u001b[0;34m,\u001b[0m \u001b[0mnode_idx\u001b[0m \u001b[0;34m*\u001b[0m \u001b[0;36m2\u001b[0m \u001b[0;34m+\u001b[0m \u001b[0;36m1\u001b[0m\u001b[0;34m,\u001b[0m \u001b[0mrange_left\u001b[0m\u001b[0;34m,\u001b[0m \u001b[0;34m(\u001b[0m\u001b[0mrange_left\u001b[0m \u001b[0;34m+\u001b[0m \u001b[0mrange_right\u001b[0m\u001b[0;34m)\u001b[0m \u001b[0;34m//\u001b[0m \u001b[0;36m2\u001b[0m\u001b[0;34m,\u001b[0m \u001b[0mnums\u001b[0m\u001b[0;34m\u001b[0m\u001b[0;34m\u001b[0m\u001b[0m\n\u001b[1;32m      9\u001b[0m     \u001b[0;34m)\u001b[0m \u001b[0;34m+\u001b[0m \u001b[0mbuild_segment_tree\u001b[0m\u001b[0;34m(\u001b[0m\u001b[0;34m\u001b[0m\u001b[0;34m\u001b[0m\u001b[0m\n",
      "\u001b[0;32m<ipython-input-120-a0efbf1d8d01>\u001b[0m in \u001b[0;36mbuild_segment_tree\u001b[0;34m(segment_tree, node_idx, range_left, range_right, nums)\u001b[0m\n\u001b[1;32m      5\u001b[0m         \u001b[0;32mreturn\u001b[0m \u001b[0msegment_tree\u001b[0m\u001b[0;34m[\u001b[0m\u001b[0mnode_idx\u001b[0m\u001b[0;34m]\u001b[0m\u001b[0;34m\u001b[0m\u001b[0;34m\u001b[0m\u001b[0m\n\u001b[1;32m      6\u001b[0m \u001b[0;34m\u001b[0m\u001b[0m\n\u001b[0;32m----> 7\u001b[0;31m     segment_tree[node_idx] = build_segment_tree(\n\u001b[0m\u001b[1;32m      8\u001b[0m         \u001b[0msegment_tree\u001b[0m\u001b[0;34m,\u001b[0m \u001b[0mnode_idx\u001b[0m \u001b[0;34m*\u001b[0m \u001b[0;36m2\u001b[0m \u001b[0;34m+\u001b[0m \u001b[0;36m1\u001b[0m\u001b[0;34m,\u001b[0m \u001b[0mrange_left\u001b[0m\u001b[0;34m,\u001b[0m \u001b[0;34m(\u001b[0m\u001b[0mrange_left\u001b[0m \u001b[0;34m+\u001b[0m \u001b[0mrange_right\u001b[0m\u001b[0;34m)\u001b[0m \u001b[0;34m//\u001b[0m \u001b[0;36m2\u001b[0m\u001b[0;34m,\u001b[0m \u001b[0mnums\u001b[0m\u001b[0;34m\u001b[0m\u001b[0;34m\u001b[0m\u001b[0m\n\u001b[1;32m      9\u001b[0m     \u001b[0;34m)\u001b[0m \u001b[0;34m+\u001b[0m \u001b[0mbuild_segment_tree\u001b[0m\u001b[0;34m(\u001b[0m\u001b[0;34m\u001b[0m\u001b[0;34m\u001b[0m\u001b[0m\n",
      "\u001b[0;32m<ipython-input-120-a0efbf1d8d01>\u001b[0m in \u001b[0;36mbuild_segment_tree\u001b[0;34m(segment_tree, node_idx, range_left, range_right, nums)\u001b[0m\n\u001b[1;32m      2\u001b[0m \u001b[0;32mdef\u001b[0m \u001b[0mbuild_segment_tree\u001b[0m\u001b[0;34m(\u001b[0m\u001b[0msegment_tree\u001b[0m\u001b[0;34m,\u001b[0m \u001b[0mnode_idx\u001b[0m\u001b[0;34m,\u001b[0m \u001b[0mrange_left\u001b[0m\u001b[0;34m,\u001b[0m \u001b[0mrange_right\u001b[0m\u001b[0;34m,\u001b[0m \u001b[0mnums\u001b[0m\u001b[0;34m)\u001b[0m\u001b[0;34m:\u001b[0m\u001b[0;34m\u001b[0m\u001b[0;34m\u001b[0m\u001b[0m\n\u001b[1;32m      3\u001b[0m     \u001b[0;32mif\u001b[0m \u001b[0mrange_left\u001b[0m \u001b[0;34m==\u001b[0m \u001b[0mrange_right\u001b[0m\u001b[0;34m:\u001b[0m\u001b[0;34m\u001b[0m\u001b[0;34m\u001b[0m\u001b[0m\n\u001b[0;32m----> 4\u001b[0;31m         \u001b[0msegment_tree\u001b[0m\u001b[0;34m[\u001b[0m\u001b[0mnode_idx\u001b[0m\u001b[0;34m]\u001b[0m \u001b[0;34m=\u001b[0m \u001b[0marr\u001b[0m\u001b[0;34m[\u001b[0m\u001b[0mrange_left\u001b[0m\u001b[0;34m]\u001b[0m\u001b[0;34m\u001b[0m\u001b[0;34m\u001b[0m\u001b[0m\n\u001b[0m\u001b[1;32m      5\u001b[0m         \u001b[0;32mreturn\u001b[0m \u001b[0msegment_tree\u001b[0m\u001b[0;34m[\u001b[0m\u001b[0mnode_idx\u001b[0m\u001b[0;34m]\u001b[0m\u001b[0;34m\u001b[0m\u001b[0;34m\u001b[0m\u001b[0m\n\u001b[1;32m      6\u001b[0m \u001b[0;34m\u001b[0m\u001b[0m\n",
      "\u001b[0;31mNameError\u001b[0m: name 'arr' is not defined"
     ]
    }
   ],
   "source": [
    "nums = [1,2,3,4,5,6,7]\n",
    "\n",
    "num_ele = 16 - 1# (16>)8(>=7)　* 2。Noneを詰めてperfect binary treeになる。\n",
    "segment_tree = [None] * num_ele\n",
    "\n",
    "build_segment_tree(segment_tree, 0, 0, len(nums)-1, nums)"
   ]
  },
  {
   "cell_type": "code",
   "execution_count": 122,
   "metadata": {},
   "outputs": [
    {
     "data": {
      "text/plain": [
       "[None,\n",
       " None,\n",
       " None,\n",
       " None,\n",
       " None,\n",
       " None,\n",
       " None,\n",
       " None,\n",
       " None,\n",
       " None,\n",
       " None,\n",
       " None,\n",
       " None,\n",
       " None,\n",
       " None]"
      ]
     },
     "execution_count": 122,
     "metadata": {},
     "output_type": "execute_result"
    }
   ],
   "source": [
    "segment_tree"
   ]
  },
  {
   "cell_type": "markdown",
   "metadata": {},
   "source": [
    "## Build Segment Treeをクラスのメソッドにする"
   ]
  },
  {
   "cell_type": "code",
   "execution_count": 123,
   "metadata": {},
   "outputs": [],
   "source": [
    "class SegmentTree:\n",
    "    def __init__(self, original_nums):\n",
    "        self.original_nums = original_nums\n",
    "        self.segment_tree_arr = [None] * len(nums) * 4 # This has to be large enough. See: https://stackoverflow.com/questions/28470692/how-is-the-memory-of-the-array-of-segment-tree-2-2-ceillogn-1\n",
    "        self.build_segment_tree(0, 0, len(nums)-1)\n",
    "        \n",
    "    # Treeでnode_idxに当たるNode以下のSegmentTreeをself.segment_tree_arrに収納する。\n",
    "    # 返り値は、node_idxに当たるNodeに収納されるvalue\n",
    "    def build_segment_tree(self, node_idx, range_left, range_right):\n",
    "        if range_left == range_right:\n",
    "            self.segment_tree_arr[node_idx] = self.original_nums[range_left]\n",
    "            return self.segment_tree_arr[node_idx]\n",
    "\n",
    "        self.segment_tree_arr[node_idx] = self.build_segment_tree(\n",
    "            node_idx * 2 + 1, range_left, (range_left + range_right) // 2       # 区間のmidの\"切り捨て\"がleft childの区間の上端にする→詰まってるNodeだけ見ると、complete binary treeになる\n",
    "        ) + self.build_segment_tree(\n",
    "            node_idx * 2 + 2, (range_left + range_right) // 2 + 1, range_right\n",
    "        )\n",
    "        return self.segment_tree_arr[node_idx]"
   ]
  },
  {
   "cell_type": "code",
   "execution_count": 124,
   "metadata": {},
   "outputs": [
    {
     "name": "stdout",
     "output_type": "stream",
     "text": [
      "[28, 10, 18, 3, 7, 11, 7, 1, 2, 3, 4, 5, 6, None, None, None, None, None, None, None, None, None, None, None, None, None, None, None]\n"
     ]
    }
   ],
   "source": [
    "sg = SegmentTree(nums)\n",
    "print(sg.segment_tree_arr)"
   ]
  },
  {
   "cell_type": "markdown",
   "metadata": {},
   "source": [
    "## Readメソッドを生やす\n",
    "\n",
    "指定された区間の最小値を求める"
   ]
  },
  {
   "cell_type": "code",
   "execution_count": 131,
   "metadata": {},
   "outputs": [],
   "source": [
    "class SegmentTree:\n",
    "    def __init__(self, original_nums):\n",
    "        self.original_nums = original_nums\n",
    "        self.len_nums = len(original_nums)\n",
    "        self.segment_tree_arr = [None] * len(nums) * 4 # This has to be large enough. See: https://stackoverflow.com/questions/28470692/how-is-the-memory-of-the-array-of-segment-tree-2-2-ceillogn-1\n",
    "        self.build_segment_tree(0, 0, len(nums)-1)\n",
    "        \n",
    "    # Treeでnode_idxに当たるNode以下のSegmentTreeをself.segment_tree_arrに収納する。\n",
    "    # 返り値は、node_idxに当たるNodeに収納されるvalue\n",
    "    def build_segment_tree(self, node_idx, range_left, range_right):\n",
    "        if range_left == range_right:\n",
    "            self.segment_tree_arr[node_idx] = self.original_nums[range_left]\n",
    "            return self.segment_tree_arr[node_idx]\n",
    "\n",
    "        self.segment_tree_arr[node_idx] = self.merge(\n",
    "            self.build_segment_tree(\n",
    "                node_idx * 2 + 1, range_left, (range_left + range_right) // 2       # 区間のmidの\"切り捨て\"がleft childの区間の上端にする→詰まってるNodeだけ見ると、complete binary treeになる\n",
    "            ), self.build_segment_tree(\n",
    "                node_idx * 2 + 2, (range_left + range_right) // 2 + 1, range_right\n",
    "            )\n",
    "        )\n",
    "        return self.segment_tree_arr[node_idx]\n",
    "    \n",
    "    # find_minするやつ\n",
    "    def read(self, left, right):\n",
    "        range_left = max(left, 0)\n",
    "        range_right = min(right, self.len_nums-1)\n",
    "        if range_left > range_right:\n",
    "            raise Exception\n",
    "        return self._read(0, 0, self.len_nums-1, range_left, range_right)\n",
    "       \n",
    "    # Args: \n",
    "    #    idx: index of Node in the Segment Tree\n",
    "    #   left, right: range where Node　equivalent to idx\n",
    "    #   range_left, range_right: range of interest\n",
    "    def _read(self, idx, left, right, range_left, range_right):\n",
    "        if range_right < left:\n",
    "            print(left, right, range_left, range_right)\n",
    "            return None, 1\n",
    "        if range_left > right:\n",
    "            return None, 2 \n",
    "        if (range_left == left) and (range_right == right):\n",
    "            return self.segment_tree_arr[idx]\n",
    "        \n",
    "        mid = (left + right) // 2\n",
    "        \n",
    "        # search only in right child tree\n",
    "        if mid + 1 <= range_left:\n",
    "            return self._read(idx * 2 + 2, mid+1, right, mid+1, range_right)\n",
    "        \n",
    "        # search only in left child tree\n",
    "        if range_right <= mid:\n",
    "            return self._read(idx * 2 + 1, left, mid, range_left, mid)\n",
    "        \n",
    "        # else\n",
    "        return self.merge(\n",
    "            self._read(idx * 2 + 1, left,     mid,  range_left, mid),\n",
    "            self._read(idx * 2 + 2, mid + 1, right, mid + 1,    range_right),                      \n",
    "        )\n",
    "        \n",
    "    def merge(self, x, y):\n",
    "        return min(x, y)"
   ]
  },
  {
   "cell_type": "code",
   "execution_count": 132,
   "metadata": {},
   "outputs": [
    {
     "name": "stdout",
     "output_type": "stream",
     "text": [
      "[1, 1, 5, 1, 3, 5, 7, 1, 2, 3, 4, 5, 6, None, None, None, None, None, None, None, None, None, None, None, None, None, None, None]\n"
     ]
    }
   ],
   "source": [
    "sg = SegmentTree(nums)\n",
    "print(sg.segment_tree_arr)"
   ]
  },
  {
   "cell_type": "code",
   "execution_count": 133,
   "metadata": {},
   "outputs": [
    {
     "data": {
      "text/plain": [
       "2"
      ]
     },
     "execution_count": 133,
     "metadata": {},
     "output_type": "execute_result"
    }
   ],
   "source": [
    "sg.read(1,5)"
   ]
  },
  {
   "cell_type": "markdown",
   "metadata": {},
   "source": [
    "## Updateメソッドを生やす\n",
    "\n",
    "指定されたindexに指定された値を設定する"
   ]
  },
  {
   "cell_type": "code",
   "execution_count": 134,
   "metadata": {},
   "outputs": [],
   "source": [
    "class SegmentTree:\n",
    "    def __init__(self, original_nums):\n",
    "        self.original_nums = original_nums\n",
    "        self.len_nums = len(original_nums)\n",
    "        self.segment_tree_arr = [None] * len(nums) * 4 # This has to be large enough. See: https://stackoverflow.com/questions/28470692/how-is-the-memory-of-the-array-of-segment-tree-2-2-ceillogn-1\n",
    "        self.build_segment_tree(0, 0, len(nums)-1)\n",
    "        \n",
    "    # Treeでnode_idxに当たるNode以下のSegmentTreeをself.segment_tree_arrに収納する。\n",
    "    # 返り値は、node_idxに当たるNodeに収納されるvalue\n",
    "    def build_segment_tree(self, node_idx, range_left, range_right):\n",
    "        if range_left == range_right:\n",
    "            self.segment_tree_arr[node_idx] = self.original_nums[range_left]\n",
    "            return self.segment_tree_arr[node_idx]\n",
    "\n",
    "        self.segment_tree_arr[node_idx] = self.merge(\n",
    "            self.build_segment_tree(\n",
    "                node_idx * 2 + 1, range_left, (range_left + range_right) // 2       # 区間のmidの\"切り捨て\"がleft childの区間の上端にする→詰まってるNodeだけ見ると、complete binary treeになる\n",
    "            ), self.build_segment_tree(\n",
    "                node_idx * 2 + 2, (range_left + range_right) // 2 + 1, range_right\n",
    "            )\n",
    "        )\n",
    "        return self.segment_tree_arr[node_idx]\n",
    "    \n",
    "    # find_minするやつ\n",
    "    def find(self, left, right):\n",
    "        range_left = max(left, 0)\n",
    "        range_right = min(right, self.len_nums-1)\n",
    "        if range_left > range_right:\n",
    "            raise Exception\n",
    "        return self._find(0, 0, self.len_nums-1, range_left, range_right)\n",
    "       \n",
    "    # Args: \n",
    "    #    idx: index of Node in the Segment Tree\n",
    "    #   left, right: range where Node　equivalent to idx\n",
    "    #   range_left, range_right: range of interest\n",
    "    def _find(self, idx, left, right, range_left, range_right):\n",
    "        if range_right < left:\n",
    "            print(left, right, range_left, range_right)\n",
    "            return None, 1\n",
    "        if range_left > right:\n",
    "            return None, 2 \n",
    "        if (range_left == left) and (range_right == right):\n",
    "            return self.segment_tree_arr[idx]\n",
    "        \n",
    "        mid = (left + right) // 2\n",
    "        \n",
    "        # search only in right child tree\n",
    "        if mid + 1 <= range_left:\n",
    "            return self._find(idx * 2 + 2, mid+1, right, mid+1, range_right)\n",
    "        \n",
    "        # search only in left child tree\n",
    "        if range_right <= mid:\n",
    "            return self._find(idx * 2 + 1, left, mid, range_left, mid)\n",
    "        \n",
    "        # else\n",
    "        return self.merge(\n",
    "            self._find(idx * 2 + 1, left,     mid,  range_left, mid),\n",
    "            self._find(idx * 2 + 2, mid + 1, right, mid + 1,    range_right),                      \n",
    "        )\n",
    "    \n",
    "    def update(self, idx, val):\n",
    "        if (idx < 0) or (self.len_nums-1 < idx):\n",
    "            raise Exception\n",
    "        self.idx_updated = idx\n",
    "        self.val_updated = val\n",
    "        self._update(0, 0, self.len_nums-1)\n",
    "        return\n",
    "        \n",
    "    def _update(self, idx, left, right):\n",
    "        if left == right: # reaching here means left == right == idx_updated\n",
    "            self.segment_tree_arr[idx] = self.val_updated\n",
    "            return\n",
    "        mid = (left + right) // 2\n",
    "\n",
    "        if idx <= mid:\n",
    "            # go down to left child\n",
    "            self._update(idx * 2 + 1, left, mid)\n",
    "        else:\n",
    "            # go down to right child\n",
    "            self._update(idx * 2 + 2, mid+1, right)\n",
    "        \n",
    "        self.segment_tree_arr[idx] = self.merge(self.segment_tree_arr[idx*2+1], self.segment_tree_arr[idx*2+2])\n",
    "        return \n",
    "        \n",
    "    def merge(self, x, y):\n",
    "        return min(x, y)"
   ]
  },
  {
   "cell_type": "code",
   "execution_count": 135,
   "metadata": {},
   "outputs": [
    {
     "name": "stdout",
     "output_type": "stream",
     "text": [
      "[1, 1, 5, 1, 3, 5, 7, 1, 2, 3, 4, 5, 6, None, None, None, None, None, None, None, None, None, None, None, None, None, None, None]\n",
      "[-1, -1, 5, -1, 3, 5, 7, 1, -1, 3, 4, 5, 6, None, None, None, None, None, None, None, None, None, None, None, None, None, None, None]\n"
     ]
    }
   ],
   "source": [
    "sg = SegmentTree(nums)\n",
    "print(sg.segment_tree_arr)\n",
    "sg.update(2,-1)\n",
    "print(sg.segment_tree_arr)"
   ]
  },
  {
   "cell_type": "code",
   "execution_count": 137,
   "metadata": {},
   "outputs": [
    {
     "data": {
      "text/plain": [
       "-1"
      ]
     },
     "execution_count": 137,
     "metadata": {},
     "output_type": "execute_result"
    }
   ],
   "source": [
    "sg.find(1,18)"
   ]
  },
  {
   "cell_type": "markdown",
   "metadata": {},
   "source": [
    "## Time Complexity"
   ]
  },
  {
   "cell_type": "markdown",
   "metadata": {},
   "source": [
    "### build\n",
    "\n",
    "time: O(n), space: O(4*n) [Depends on self.segment_tree_arr = [None] * len(nums) * 4]\n",
    "\n",
    "### query\n",
    "\n",
    "time: O(log n), space: O(1)\n",
    "\n",
    "### update\n",
    "\n",
    "time: O(log n), space: O(1)"
   ]
  },
  {
   "cell_type": "markdown",
   "metadata": {},
   "source": [
    "## もう少し綺麗にかけた(Top-down)\n",
    "\n",
    "あってるかの確認はしていない"
   ]
  },
  {
   "cell_type": "code",
   "execution_count": null,
   "metadata": {},
   "outputs": [],
   "source": [
    "class SegmentTree:\n",
    "    def __init__(self, original_nums):\n",
    "        self.original_nums = original_nums\n",
    "        self.len_nums = len(original_nums)\n",
    "        self.segment_tree_arr = [None] * len(nums) * 4 # This has to be large enough. See: https://stackoverflow.com/questions/28470692/how-is-the-memory-of-the-array-of-segment-tree-2-2-ceillogn-1\n",
    "        self.build_segment_tree(0, 0, len(nums)-1)\n",
    "        \n",
    "    # Treeでnode_idxに当たるNode以下のSegmentTreeをself.segment_tree_arrに収納する。\n",
    "    # 返り値は、node_idxに当たるNodeに収納されるvalue\n",
    "    def build_segment_tree(self, node_idx, range_left, range_right):\n",
    "        if range_left == range_right:\n",
    "            self.segment_tree_arr[node_idx] = self.original_nums[range_left]\n",
    "            return self.segment_tree_arr[node_idx]\n",
    "\n",
    "        self.segment_tree_arr[node_idx] = self.merge(\n",
    "            self.build_segment_tree(\n",
    "                node_idx * 2 + 1, range_left, (range_left + range_right) // 2       # 区間のmidの\"切り捨て\"がleft childの区間の上端にする→詰まってるNodeだけ見ると、complete binary treeになる\n",
    "            ), self.build_segment_tree(\n",
    "                node_idx * 2 + 2, (range_left + range_right) // 2 + 1, range_right\n",
    "            )\n",
    "        )\n",
    "        return self.segment_tree_arr[node_idx]\n",
    "        \n",
    "        \n",
    "    def update(self, index, val):\n",
    "        self._update(index, 0, val, 0, self.len_nums-1)\n",
    "        print(self.segment_tree_arr)\n",
    "     \n",
    "    # Update and returns merged value\n",
    "    # Args:\n",
    "    #   index: index in original array which should be updated\n",
    "    #   index_in_seg_arr: index in segment_tree_arr\n",
    "    #   left, right: range which node of idx_in_arr represents\n",
    "    def _update(self, index, index_in_seg_arr, val, left, right):\n",
    "        print(index, index_in_seg_arr, val, left, right, 'sef_arr: ', self.segment_tree_arr)\n",
    "        \n",
    "        if (index < left) or (right < index):\n",
    "            return None\n",
    "        if left == right:\n",
    "            self.segment_tree_arr[index_in_seg_arr] = val\n",
    "            return self.segment_tree_arr[index_in_seg_arr]\n",
    "            \n",
    "        mid = (left + right) // 2\n",
    "        \n",
    "        self.segment_tree_arr[index_in_seg_arr] = self.merge(\n",
    "            self._update(index, index_in_seg_arr*2+1, val, left, mid),\n",
    "            self._update(index, index_in_seg_arr*2+2, val, mid+1, right)\n",
    "        )\n",
    "        \n",
    "        return self.segment_tree_arr[index_in_seg_arr]\n",
    "        \n",
    "    # Args:\n",
    "    #   left, right: range which was given\n",
    "    #   current_right, current_right: range where current node represents\n",
    "    def sumRange(self, left, right):\n",
    "        return self._sumRange(0, left, right, 0, self.len_nums-1)\n",
    "        \n",
    "    # Args:\n",
    "    #   left, right: range which is our interest\n",
    "    #   current_right, current_right: range where current node represents\n",
    "    #   index_in_arr: index in self.segment_tree_arrreturn \n",
    "    def _sumRange(self, index_in_arr, left, right, current_left, current_right):\n",
    "        if (left == current_left) and (right == current_right):\n",
    "            return self.segment_tree_arr[index_in_arr]\n",
    "        if (left > right):\n",
    "            return None\n",
    "        \n",
    "        mid = (current_left + current_right) // 2\n",
    "        return self.merge(\n",
    "            self._sumRange(self, left, mid, current_left, mid),\n",
    "            self._sumRange(self, mid+1, right, mid+1, current_right)\n",
    "        )        \n",
    "        \n",
    "    def merge(self, x, y):\n",
    "        if x is None:\n",
    "            return y\n",
    "        if y is None:\n",
    "            return x\n",
    "        return x + y\n",
    "        "
   ]
  },
  {
   "cell_type": "markdown",
   "metadata": {},
   "source": [
    "## Bottom-Up"
   ]
  },
  {
   "cell_type": "code",
   "execution_count": 1,
   "metadata": {},
   "outputs": [],
   "source": [
    "class SegmentTree:\n",
    "    def __init__(self, nums):\n",
    "        self.len_nums = len(nums)\n",
    "        self.segment_tree_arr = [None] * (len(nums)-1)  + nums\n",
    "        \n",
    "        for i in range(len(nums)-2, -1, -1):\n",
    "            self.segment_tree_arr[i] = self.merge(\n",
    "                self.segment_tree_arr[2*i+1], self.segment_tree_arr[2*i+2]\n",
    "            )\n",
    "            \n",
    "    def update(self, index, val):\n",
    "        crt_idx_in_seg = index + self.len_nums - 1\n",
    "        self.segment_tree_arr[crt_idx_in_seg] = val\n",
    "        \n",
    "        crt_idx_in_seg = (crt_idx_in_seg-1) // 2\n",
    "        while 0 <= crt_idx_in_seg:\n",
    "            self.segment_tree_arr[crt_idx_in_seg] = self.segment_tree_arr[\n",
    "                crt_idx_in_seg*2+1] + self.segment_tree_arr[crt_idx_in_seg*2+2]\n",
    "            crt_idx_in_seg = (crt_idx_in_seg-1) // 2\n",
    "       \n",
    "    def sumRange(self, left, right):\n",
    "        left = left + self.len_nums - 1\n",
    "        right = right + self.len_nums - 1\n",
    "        sum_range = 0\n",
    "        \n",
    "        while (left <= right):    ## left < rightにして最後に sum_range += self.segment_tree_arr[right]を加えるのはまずい。反例は見つけられてない。\n",
    "            if left % 2 == 0:\n",
    "                sum_range += self.segment_tree_arr[left]\n",
    "                left += 1\n",
    "            left = (left-1) // 2\n",
    "            \n",
    "            if right % 2 == 1:\n",
    "                sum_range += self.segment_tree_arr[right]\n",
    "                right -= 1\n",
    "            right = (right - 1) // 2\n",
    "         \n",
    "        # sum_range += self.segment_tree_arr[right]\n",
    "        return sum_range\n",
    "\n",
    "    def merge(self, x, y):\n",
    "        if x is None:\n",
    "            return y\n",
    "        if y is None:\n",
    "            return x\n",
    "        return x + y      \n",
    "    "
   ]
  },
  {
   "cell_type": "code",
   "execution_count": null,
   "metadata": {},
   "outputs": [],
   "source": []
  }
 ],
 "metadata": {
  "kernelspec": {
   "display_name": "Python 3",
   "language": "python",
   "name": "python3"
  },
  "language_info": {
   "codemirror_mode": {
    "name": "ipython",
    "version": 3
   },
   "file_extension": ".py",
   "mimetype": "text/x-python",
   "name": "python",
   "nbconvert_exporter": "python",
   "pygments_lexer": "ipython3",
   "version": "3.8.1"
  }
 },
 "nbformat": 4,
 "nbformat_minor": 4
}
