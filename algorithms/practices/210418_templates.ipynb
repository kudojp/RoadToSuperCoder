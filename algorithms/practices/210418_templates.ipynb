{
 "cells": [
  {
   "cell_type": "markdown",
   "metadata": {},
   "source": [
    "# 幅優先探索\n",
    "\n",
    "https://twitter.com/kdjp20/status/1364239574579302402"
   ]
  },
  {
   "cell_type": "markdown",
   "metadata": {},
   "source": [
    "# 深さ優先探索\n",
    "\n",
    "https://twitter.com/kdjp20/status/1364239574579302402"
   ]
  },
  {
   "cell_type": "markdown",
   "metadata": {},
   "source": [
    "# bisect\n",
    "\n",
    "https://twitter.com/kdjp20/status/1366717910815633410"
   ]
  },
  {
   "cell_type": "markdown",
   "metadata": {},
   "source": [
    "# inorder-traversal in BST\n",
    "\n",
    "### iteratively\n",
    "https://twitter.com/kdjp20/status/1355171035402788867"
   ]
  },
  {
   "cell_type": "code",
   "execution_count": null,
   "metadata": {},
   "outputs": [],
   "source": [
    "# recursively\n",
    "def inorder_traveral(root):\n",
    "    if root is None: return []\n",
    "    return self.inorder_traveral(root.left) + [root.val] + self.inorder_traveral(root.right)\n",
    "\n",
    "inorder(root)"
   ]
  },
  {
   "cell_type": "markdown",
   "metadata": {},
   "source": [
    "# Topogical sort\n",
    "\n",
    "トポロジカルソートは、グラフ理論において、有向非巡回グラフ（directed acyclic graph, DAG）の各ノードを順序付けして、どのノードもその出力辺の先のノードより前にくるように並べることである。有向非巡回グラフは必ずトポロジカルソートすることができる。\n",
    "\n",
    "肝としては、indegreeに着目すること。\n",
    "\n",
    "https://leetcode.com/problems/course-schedule-ii/\n",
    "\n",
    "```\n",
    "There are a total of n courses you have to take labelled from 0 to n - 1.\n",
    "Some courses may have prerequisites, for example, if prerequisites[i] = [ai, bi] this means you must take the course bi before the course ai.\n",
    "Given the total number of courses numCourses and a list of the prerequisite pairs, return the ordering of courses you should take to finish all courses.\n",
    "\n",
    "If there are many valid answers, return any of them. If it is impossible to finish all courses, return an empty array.\n",
    "\n",
    "[Example 1]\n",
    "Input: numCourses = 2, prerequisites = [[1,0]]\n",
    "Output: [0,1]\n",
    "Explanation: There are a total of 2 courses to take. To take course 1 you should have finished course 0. So the correct course order is [0,1].\n",
    "```"
   ]
  },
  {
   "cell_type": "code",
   "execution_count": null,
   "metadata": {},
   "outputs": [],
   "source": [
    "from collections import defaultdict, deque\n",
    "\n",
    "class Solution:\n",
    "    # topological sort\n",
    "    # Complexity Analysis\n",
    "    #   Time :  O(v + e)\n",
    "    #   Space:  O(v + e)\n",
    "    def findOrder(self, numCourses: int, prerequisites: List[List[int]]) -> List[int]:\n",
    "\n",
    "        ### indegreesと、adj_listの用意\n",
    "        indegrees = {}\n",
    "        for i in range(numCourses):\n",
    "            indegrees[i] = 0\n",
    "        adj_list = defaultdict(set)\n",
    "        for pre in prerequisites:\n",
    "            adj_list[pre[1]].add(pre[0])\n",
    "            indegrees[pre[0]] += 1\n",
    "        \n",
    "        ### qの中にindegree=0のverticesを収納する。\n",
    "        ### ちなみに、queuじゃなくて、stackでも、setでも良い。(ただしどれを選ぶかで当然sort順は変わる)\n",
    "        q = deque([])\n",
    "        for course in indegrees:\n",
    "            if indegrees[course] == 0:\n",
    "                q.append(course)\n",
    "        \n",
    "        ###  coursesリストの中にsortされた要素を入れていく\n",
    "        courses = []\n",
    "        while len(q) > 0:\n",
    "            out = q.popleft()\n",
    "            courses.append(out)\n",
    "            for course in adj_list[out]:\n",
    "                indegrees[course] -= 1\n",
    "                if indegrees[course] == 0:\n",
    "                    q.append(course)\n",
    "        if len(courses) < numCourses:   # 全てがcoursesの中に入っていない　= cycleが存在する\n",
    "            return []\n",
    "        return courses"
   ]
  },
  {
   "cell_type": "markdown",
   "metadata": {},
   "source": [
    "# Reverse Linked List\n",
    "→ https://www.youtube.com/watch?v=O0By4Zq0OFc\n",
    "\n",
    "https://leetcode.com/problems/reverse-linked-list/\n",
    "\n",
    "Given the head of a singly linked list, reverse the list, and return the reversed list.\n",
    "\n",
    "\n",
    "#### Iterative solution\n",
    "cursor的なものが走るイメージ\n",
    "\n",
    "Time : O(N), Space: O(1)\n"
   ]
  },
  {
   "cell_type": "code",
   "execution_count": null,
   "metadata": {},
   "outputs": [],
   "source": [
    "class Solution:\n",
    "    def reverseList(self, head: ListNode) -> ListNode:\n",
    "        prev = None\n",
    "        curr = head\n",
    "        \n",
    "        while curr is not None:\n",
    "            next = curr.next # keep it\n",
    "            curr.next = prev\n",
    "            \n",
    "            prev = curr\n",
    "            curr = next\n",
    "        \n",
    "        return prev"
   ]
  },
  {
   "cell_type": "markdown",
   "metadata": {},
   "source": [
    "#### Recursive solution\n",
    "\n",
    "引数のhead以降のlistをreverseし、新しいheadを返す。\n",
    "recursion stackにより、spaceがO(N)かかってしまう。\n",
    "\n",
    "Time : O(N), Space: O(N)"
   ]
  },
  {
   "cell_type": "code",
   "execution_count": null,
   "metadata": {},
   "outputs": [],
   "source": [
    "class Solution:\n",
    "    def reverseList(self, head: ListNode) -> ListNode:    \n",
    "        # head is Noneとなるのは、もともとの呼び出し時のheadがNoneの場合のみ。\n",
    "        # 基本的にlistにNodeが一つの場合にreturn headしている。\n",
    "        # head.next is Noneの判定がないと、head.next.nextの判定(line10)でエラーを吐く。\n",
    "        if head is None or head.next is None:\n",
    "            return head\n",
    "        \n",
    "        new_head = self.reverseList(head.next)\n",
    "        # head.nextはreverseされた後も指し示されるnodeは変わらず、reverseされたlistのtailのnodeを指している。\n",
    "        head.next.next = head\n",
    "        # headがこのfucntionで返すlistのtailのNodeになる\n",
    "        head.next = None\n",
    "        return new_head\n"
   ]
  }
 ],
 "metadata": {
  "kernelspec": {
   "display_name": "Python 3",
   "language": "python",
   "name": "python3"
  },
  "language_info": {
   "codemirror_mode": {
    "name": "ipython",
    "version": 3
   },
   "file_extension": ".py",
   "mimetype": "text/x-python",
   "name": "python",
   "nbconvert_exporter": "python",
   "pygments_lexer": "ipython3",
   "version": "3.8.1"
  }
 },
 "nbformat": 4,
 "nbformat_minor": 4
}
