{
 "cells": [
  {
   "cell_type": "markdown",
   "metadata": {},
   "source": [
    "[Educational DP Contest / DP まとめコンテスト](https://atcoder.jp/contests/dp/tasks)をやっていく"
   ]
  },
  {
   "cell_type": "markdown",
   "metadata": {},
   "source": [
    " # A - Frog1\n",
    " \n",
    " https://atcoder.jp/contests/dp/tasks/dp_a"
   ]
  },
  {
   "cell_type": "code",
   "execution_count": 5,
   "metadata": {},
   "outputs": [
    {
     "name": "stdout",
     "output_type": "stream",
     "text": [
      "2\n",
      "10 10 \n",
      "0\n"
     ]
    }
   ],
   "source": [
    "n = int(input())\n",
    "h = list(map(lambda x: int(x), input().split()))\n",
    "\n",
    "dp = [0, abs(h[1] - h[0])] + [None] * (n - 2)\n",
    "\n",
    "# if n == 1:\n",
    "#     return dp[0]\n",
    "for i in range(2, n):\n",
    "    dp[i] = min(\n",
    "        dp[i-2] + abs(h[i] - h[i-2]),\n",
    "        dp[i-1] + abs(h[i] - h[i-1])\n",
    "    )\n",
    "    \n",
    "print(dp[n-1])"
   ]
  },
  {
   "cell_type": "markdown",
   "metadata": {},
   "source": [
    "# B - Frog2"
   ]
  },
  {
   "cell_type": "code",
   "execution_count": 10,
   "metadata": {},
   "outputs": [
    {
     "name": "stdout",
     "output_type": "stream",
     "text": [
      "5 3\n",
      "10 30 40 50 20\n",
      "30\n"
     ]
    }
   ],
   "source": [
    "n, k = list(map(lambda x: int(x), input().split()))\n",
    "h = list(map(lambda x: int(x), input().split()))\n",
    "\n",
    "dp = [0] + [None] * (n - 1)\n",
    "\n",
    "for i in range(1, n):\n",
    "    min_from = max(0, i - k)\n",
    "    dp[i] = min([dp[j] + abs(h[i] - h[j]) for j in range(min_from, i)])\n",
    "    \n",
    "print(dp[n-1])"
   ]
  },
  {
   "cell_type": "code",
   "execution_count": 6,
   "metadata": {},
   "outputs": [
    {
     "data": {
      "text/plain": [
       "1"
      ]
     },
     "execution_count": 6,
     "metadata": {},
     "output_type": "execute_result"
    }
   ],
   "source": [
    "min([1,3,4])"
   ]
  },
  {
   "cell_type": "markdown",
   "metadata": {},
   "source": [
    "# C - Vacation"
   ]
  },
  {
   "cell_type": "code",
   "execution_count": null,
   "metadata": {},
   "outputs": [],
   "source": []
  }
 ],
 "metadata": {
  "kernelspec": {
   "display_name": "Python 3",
   "language": "python",
   "name": "python3"
  },
  "language_info": {
   "codemirror_mode": {
    "name": "ipython",
    "version": 3
   },
   "file_extension": ".py",
   "mimetype": "text/x-python",
   "name": "python",
   "nbconvert_exporter": "python",
   "pygments_lexer": "ipython3",
   "version": "3.8.1"
  }
 },
 "nbformat": 4,
 "nbformat_minor": 4
}
