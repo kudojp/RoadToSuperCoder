{
 "cells": [
  {
   "cell_type": "markdown",
   "metadata": {},
   "source": [
    "# 1\n",
    "\n",
    "- [1,2,3,4,5]で和が６になる組み合わせは?みたいなやつ\n",
    "- https://leetcode.com/problems/two-sum/solution/ これを参考にした"
   ]
  },
  {
   "cell_type": "code",
   "execution_count": 22,
   "metadata": {},
   "outputs": [],
   "source": [
    "# brute force\n",
    "\n",
    "def countPairs(count, arr, target):\n",
    "    ret = 0\n",
    "    for i in arr:\n",
    "        for j in filter(lambda x: x>i, arr):\n",
    "            if i + j == target:\n",
    "                ret += 1\n",
    "    return ret   "
   ]
  },
  {
   "cell_type": "code",
   "execution_count": 27,
   "metadata": {},
   "outputs": [],
   "source": [
    "# 2-path\n",
    "\n",
    "def countPairs(count, arr, target):\n",
    "    num = 0\n",
    "    compliments = {}\n",
    "    for i in range(count):\n",
    "        compliments[target - arr[i]] = i\n",
    "        \n",
    "    for i in range(count):\n",
    "#         print(arr[i], compliments)\n",
    "        if arr[i] in compliments:\n",
    "            num += 1\n",
    "    return num / 2\n",
    "            \n",
    "        "
   ]
  },
  {
   "cell_type": "code",
   "execution_count": 25,
   "metadata": {},
   "outputs": [],
   "source": [
    "# 1-path\n",
    "\n",
    "def countPairs(count, arr, target):\n",
    "    ret = 0\n",
    "    compliments = set()\n",
    "    for i in range(count):\n",
    "#         print(compliments)\n",
    "        if arr[i] in compliments:\n",
    "            ret += 1\n",
    "            compliments.remove(arr[i])\n",
    "            continue\n",
    "        compliments.add(target - arr[i])\n",
    "    return ret"
   ]
  },
  {
   "cell_type": "code",
   "execution_count": 28,
   "metadata": {},
   "outputs": [
    {
     "data": {
      "text/plain": [
       "3.0"
      ]
     },
     "execution_count": 28,
     "metadata": {},
     "output_type": "execute_result"
    }
   ],
   "source": [
    "countPairs(10, list(range(1,11)), 7)"
   ]
  },
  {
   "cell_type": "code",
   "execution_count": 175,
   "metadata": {},
   "outputs": [],
   "source": [
    "c = {1:2, 3:4}"
   ]
  },
  {
   "cell_type": "markdown",
   "metadata": {},
   "source": [
    "# 2 無向グラフ(幅優先探索)\n",
    "\n",
    "- あるlinkが切れた時に、その小島が生まれるのはcritical connection。\n",
    "- そのようなconnectionsを返せ"
   ]
  },
  {
   "cell_type": "code",
   "execution_count": 164,
   "metadata": {},
   "outputs": [],
   "source": [
    "# 提出した答え\n",
    "from collections import defaultdict\n",
    "\n",
    "def criticalConnection(numOfServers, numOfConnections, connections):\n",
    "    index_not_critical = []\n",
    "    for i in range(numOfConnections):\n",
    "        start = connections[i][0]\n",
    "        dest = connections[i][1]\n",
    "\n",
    "        remaining_connections = [each for j, each in enumerate(connections) if j != i]\n",
    "        \n",
    "        links = defaultdict(set)\n",
    "        for each_connection in remaining_connections:\n",
    "            links[each_connection[0]].add(each_connection[1])\n",
    "            links[each_connection[1]].add(each_connection[0])\n",
    "        \n",
    "        accessables = [start]\n",
    "        \n",
    "        for _ in range(numOfServers):\n",
    "            print(accessables)\n",
    "            if dest in links[accessables[0]]:\n",
    "                # this i_th connection is not critical\n",
    "                index_not_critical.append(i)\n",
    "                break\n",
    "            else:\n",
    "                accessables.extend(links[accessables[0]] )\n",
    "                if len(accessables) == 1:\n",
    "                    # this connection is critical\n",
    "                    break\n",
    "                # continue to check if this connecion is critical\n",
    "                accessables = accessables[1:]\n",
    "                continue\n",
    "            break\n",
    "    return [each for i, each in enumerate(connections) if i not in index_not_critical]"
   ]
  },
  {
   "cell_type": "code",
   "execution_count": 165,
   "metadata": {},
   "outputs": [
    {
     "name": "stdout",
     "output_type": "stream",
     "text": [
      "[1]\n",
      "[3, 4]\n",
      "[4, 1, 4]\n",
      "[1, 4, 1, 3, 5]\n",
      "[4, 1, 3, 5, 3, 4]\n",
      "[1]\n",
      "[2, 4]\n",
      "[4, 1]\n",
      "[3]\n",
      "[1]\n",
      "[1]\n",
      "[2, 3]\n",
      "[3, 1]\n",
      "[4]\n",
      "[1, 3]\n",
      "[3, 2, 3, 4]\n",
      "[2, 3, 4, 1, 4]\n",
      "[3, 4, 1, 4, 1]\n"
     ]
    },
    {
     "data": {
      "text/plain": [
       "[[1, 2], [4, 5]]"
      ]
     },
     "execution_count": 165,
     "metadata": {},
     "output_type": "execute_result"
    }
   ],
   "source": [
    "criticalConnection(5,5,[[1,2],[1,3],[3,4],[1,4],[4,5]])"
   ]
  },
  {
   "cell_type": "code",
   "execution_count": 1,
   "metadata": {},
   "outputs": [],
   "source": [
    "# 解き直した答え\n",
    "\n",
    "# 提出した答え\n",
    "from collections import defaultdict\n",
    "\n",
    "def criticalConnection(numOfServers, numOfConnections, connections):\n",
    "    index_critical = []\n",
    "    for i in range(numOfConnections):\n",
    "        start = connections[i][0]\n",
    "        dest = connections[i][1]\n",
    "        remaining_connections = [each for j, each in enumerate(connections) if j != i]\n",
    "        \n",
    "        links = defaultdict(set)\n",
    "        for each_connection in remaining_connections:\n",
    "            links[each_connection[0]].add(each_connection[1])\n",
    "            links[each_connection[1]].add(each_connection[0])\n",
    "        \n",
    "        not_already_accessed = set(range(numOfConnections)) - {start}\n",
    "        que = [start]\n",
    "        \n",
    "        while True:\n",
    "            if dest in links[que[0]]:\n",
    "                # this i_th connection is not critical\n",
    "                break\n",
    "            else:\n",
    "                # queに追加する前に、unvisitedに入っているかを確認\n",
    "                new_accessable_nodes = list(links[que[0]] & not_already_accessed)\n",
    "                que.extend(new_accessable_nodes)\n",
    "                not_already_accessed -= set(new_accessable_nodes)\n",
    "                if len(que) == 1:\n",
    "                    # this connection is critical\n",
    "                    index_critical.append(i)\n",
    "                    break\n",
    "                # continue to check if this connecion is critical\n",
    "                que = que[1:]\n",
    "                continue\n",
    "            break\n",
    "    return [connections[i] for i in index_critical]"
   ]
  },
  {
   "cell_type": "code",
   "execution_count": 163,
   "metadata": {},
   "outputs": [
    {
     "data": {
      "text/plain": [
       "[[1, 2], [4, 5]]"
      ]
     },
     "execution_count": 163,
     "metadata": {},
     "output_type": "execute_result"
    }
   ],
   "source": [
    "criticalConnection(5,5,[[1,2],[1,3],[3,4],[1,4],[4,5]])"
   ]
  },
  {
   "cell_type": "code",
   "execution_count": 201,
   "metadata": {},
   "outputs": [
    {
     "name": "stdout",
     "output_type": "stream",
     "text": [
      "4\n",
      "-1\n"
     ]
    },
    {
     "ename": "SystemExit",
     "evalue": "",
     "output_type": "error",
     "traceback": [
      "An exception has occurred, use %tb to see the full traceback.\n",
      "\u001b[0;31mSystemExit\u001b[0m\n"
     ]
    },
    {
     "name": "stderr",
     "output_type": "stream",
     "text": [
      "/usr/local/Cellar/jupyterlab/1.2.6/libexec/lib/python3.7/site-packages/IPython/core/interactiveshell.py:3339: UserWarning: To exit: use 'exit', 'quit', or Ctrl-D.\n",
      "  warn(\"To exit: use 'exit', 'quit', or Ctrl-D.\", stacklevel=1)\n"
     ]
    }
   ],
   "source": [
    "import sys\n",
    "k = int(input())\n",
    "\n",
    "remainders = set()\n",
    "current_remainder = 7 % k\n",
    "remainders.add(current_remainder)\n",
    "\n",
    "counter = 1\n",
    "while True:\n",
    "    counter += 1\n",
    "    remainder = current_remainder * 10 % k\n",
    "    if remainder in remainders:\n",
    "        print('-1')\n",
    "        sys.exit()\n",
    "    current_remainder = current_remainder * 10 % k\n",
    "    remainders.add(current_remainder)\n",
    "    if sum(remainders) % k == 0:\n",
    "        print(counter)\n",
    "        sys.exit()"
   ]
  },
  {
   "cell_type": "markdown",
   "metadata": {},
   "source": [
    "80 roout < 200mile\n",
    "30min rest 11:00-13:00\n",
    "2 arko (based on 100 days of hourly trafic, available routes, population density\n",
    "driver suu, #deliverriesin area)"
   ]
  }
 ],
 "metadata": {
  "kernelspec": {
   "display_name": "Python 3",
   "language": "python",
   "name": "python3"
  },
  "language_info": {
   "codemirror_mode": {
    "name": "ipython",
    "version": 3
   },
   "file_extension": ".py",
   "mimetype": "text/x-python",
   "name": "python",
   "nbconvert_exporter": "python",
   "pygments_lexer": "ipython3",
   "version": "3.8.1"
  }
 },
 "nbformat": 4,
 "nbformat_minor": 4
}
