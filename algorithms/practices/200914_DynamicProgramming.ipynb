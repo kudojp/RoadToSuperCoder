{
 "cells": [
  {
   "cell_type": "markdown",
   "metadata": {},
   "source": [
    "# [MinAbsSum](https://app.codility.com/programmers/lessons/17-dynamic_programming/min_abs_sum/)\n",
    "\n",
    "- 答えは[ここ](https://codility.com/media/train/solution-min-abs-sum.pdf)\n",
    "\n",
    "```\n",
    "For a given array A of N integers and a sequence S of N integers from the set {−1, 1}, we define val(A, S) as follows:\n",
    "\n",
    "val(A, S) = |sum{ A[i]*S[i] for i = 0..N−1 }|\n",
    "\n",
    "(Assume that the sum of zero elements equals zero.)\n",
    "\n",
    "For a given array A, we are looking for such a sequence S that minimizes val(A,S).\n",
    "\n",
    "Write a function:\n",
    "\n",
    "def solution(A)\n",
    "\n",
    "that, given an array A of N integers, computes the minimum value of val(A,S) from all possible values of val(A,S) for all possible sequences S of N integers from the set {−1, 1}.\n",
    "\n",
    "For example, given array:\n",
    "\n",
    "  A[0] =  1\n",
    "  A[1] =  5\n",
    "  A[2] =  2\n",
    "  A[3] = -2\n",
    "your function should return 0, since for S = [−1, 1, −1, 1], val(A, S) = 0, which is the minimum possible value.\n",
    "\n",
    "Write an efficient algorithm for the following assumptions:\n",
    "\n",
    "N is an integer within the range [0..20,000];\n",
    "each element of array A is an integer within the range [−100..100].\n",
    "```"
   ]
  },
  {
   "cell_type": "code",
   "execution_count": 15,
   "metadata": {},
   "outputs": [],
   "source": [
    "def minimum_val(arr, current_val):\n",
    "    if len(arr) == 0:\n",
    "        return 0\n",
    "    if len(arr) == 1:\n",
    "        return min(abs(current_val+arr[0]), abs(current_val-arr[0]))\n",
    "    \n",
    "    first_ele = arr[0]\n",
    "    remaining_arr = arr[1:]\n",
    "    \n",
    "    min_possibility1 = minimum_val(remaining_arr, current_val+first_ele)\n",
    "    if min_possibility1 == 0:\n",
    "        return 0\n",
    "    min_possibility2 = minimum_val(remaining_arr, current_val-first_ele)\n",
    "    if min_possibility2 == 0:\n",
    "        return 0\n",
    "    return min(min_possibility1, min_possibility2)\n",
    "\n",
    "def solution(A):\n",
    "    return minimum_val(A, 0)"
   ]
  },
  {
   "cell_type": "code",
   "execution_count": 20,
   "metadata": {},
   "outputs": [],
   "source": [
    "assert solution([-1, 1, -1, 1]) == 0\n",
    "assert solution([5,-5,10,-10]) == 0\n",
    "assert solution([5, -5, 10, -10, 15]) == 5"
   ]
  },
  {
   "cell_type": "markdown",
   "metadata": {},
   "source": [
    "1. DPは将来的な結果を手繰り寄せながら`再帰的に`そのステップステップで最適な方を選んでいく\n",
    "2. 計算時間が莫大になりうるので、`効率化(メモ化など)`しながら進める\n",
    "\n",
    "と思っていたが、`思考を二次元に拡張してやったらメモ化をしなくても行ける`ことも"
   ]
  },
  {
   "cell_type": "markdown",
   "metadata": {},
   "source": [
    "上記の解法だと`O(2^n)`の計算時間がかかるため、別の方法を使う。\n",
    "その前にDPを勉強する"
   ]
  },
  {
   "cell_type": "markdown",
   "metadata": {},
   "source": [
    "# [ The Coin Changing problem](https://codility.com/media/train/15-DynamicProgramming.pdf)\n",
    "\n",
    "DPのお勉強。\n",
    "\n",
    "- kで金額が与えられ、それを(`C[1,3,4]とか`)で与えられたコインの額のset内の効果を組み合わせて作る\n",
    "- 最小枚数を求める\n",
    "\n",
    "ちなみにDPはCがソートされている必要はない"
   ]
  },
  {
   "cell_type": "code",
   "execution_count": 54,
   "metadata": {},
   "outputs": [],
   "source": [
    "import sys\n",
    "\n",
    "\n",
    "def dynamic_coin_changing(c, k):\n",
    "    # 効果の種類\n",
    "    n = len(c)\n",
    "    # tableの用意(row=使うコインの種類数[0-n枚], column=達成した金額[0-k円まで])\n",
    "    dp = [[0]*(k+1) for _ in range(n+1)]\n",
    "    \n",
    "    dp[0] = [0] + [sys.maxsize] * k\n",
    "    for num_coins in range(1, n+1):\n",
    "        # それぞれの金額に関して、最大の硬貨の金額−1円までは、その上の列と同じ枚数\n",
    "        # 最大金額の硬貨は使えないからね\n",
    "        max_currency = c[num_coins-1]\n",
    "        for amount in range(0, max_currency):\n",
    "            dp[num_coins][:amount+1] = dp[num_coins-1][:amount+1]\n",
    "        for amount in range(max_currency, k+1):\n",
    "            dp[num_coins][amount] = min(dp[num_coins-1][amount], dp[num_coins][amount-num_coins]+1)\n",
    "    # print(dp)\n",
    "    return dp[n][k]\n",
    "            \n",
    "    "
   ]
  },
  {
   "cell_type": "code",
   "execution_count": 55,
   "metadata": {},
   "outputs": [
    {
     "name": "stdout",
     "output_type": "stream",
     "text": [
      "[[0, 9223372036854775807, 9223372036854775807, 9223372036854775807, 9223372036854775807, 9223372036854775807, 9223372036854775807], [0, 1, 2, 3, 4, 5, 6], [0, 1, 2, 2, 3, 3, 4], [0, 1, 2, 2, 2, 3, 3]]\n"
     ]
    },
    {
     "data": {
      "text/plain": [
       "3"
      ]
     },
     "execution_count": 55,
     "metadata": {},
     "output_type": "execute_result"
    }
   ],
   "source": [
    "dynamic_coin_changing([1,3,4], 6)"
   ]
  },
  {
   "cell_type": "markdown",
   "metadata": {},
   "source": [
    "できた、、、発想はすごいが、実装は簡単。ちなみにこうやるとメモリ省略できる。\n",
    "\n",
    "17.2: The dynamic algorithm for finding change with optimized memory.\n",
    "```\n",
    "def dynamic_coin_changing(C, k):\n",
    "    n = len(C)\n",
    "    dp = [0] + [MAX_INT] * k\n",
    "    for i in xrange(1, n + 1):\n",
    "        for j in xrange(C[i - 1], k + 1):\n",
    "            dp[j] = min(dp[j - C[i - 1]] + 1, dp[j])\n",
    "    return dp\n",
    "```"
   ]
  },
  {
   "cell_type": "markdown",
   "metadata": {},
   "source": [
    "ちゃんとDPを使って、MinAbsSumをもう一度とく\n",
    "硬貨問題では最小枚数をDPテーブルに詰めて行ったが、この問題では、`そのcolumnのインデックスの値を作れるかの真偽値(0or1)`を収納していく\n",
    "\n",
    "## Slow Solution"
   ]
  },
  {
   "cell_type": "code",
   "execution_count": 122,
   "metadata": {},
   "outputs": [],
   "source": [
    "def solution(A):\n",
    "    # まずは便宜上、全ての要素をその絶対値に置き換える\n",
    "    for i in range(len(A)):\n",
    "        A[i] = abs(A[i])\n",
    "    S = sum(A)\n",
    "    \n",
    "    # 和が101なら、50までが和として実現可能かを調べる\n",
    "    half_sum = S // 2\n",
    "    num_ele = len(A)\n",
    "    # どの要素も使わずに作れる和\n",
    "    dp = [[0]*(half_sum+1) for _ in range(num_ele+1)]\n",
    "    dp[0] = [1] + [0]*half_sum\n",
    "    # for ith column...\n",
    "    for i in range(1, num_ele+1):\n",
    "        # (上の行で実現可能な値)か、(その和に今回新たに加わった数字を足した和)の場合は実現可能\n",
    "        for j in range(half_sum+1):\n",
    "            # 今回新たに加わった数字はA[i]ではなく、A[i-1]\n",
    "#             print(j, A[i-1])\n",
    "            if (dp[i-1][j] == 1) | ((j >= A[i-1]) and (dp[i-1][j-A[i-1]] == 1)):\n",
    "                dp[i][j] = 1\n",
    "#     for l in dp:\n",
    "#         print(l)\n",
    "\n",
    "    for i in range(half_sum, -1, -1):\n",
    "        if dp[-1][i] == 1:\n",
    "            return abs(S - 2 * i)\n",
    "            \n",
    "    "
   ]
  },
  {
   "cell_type": "code",
   "execution_count": 149,
   "metadata": {},
   "outputs": [
    {
     "data": {
      "text/plain": [
       "1"
      ]
     },
     "execution_count": 149,
     "metadata": {},
     "output_type": "execute_result"
    }
   ],
   "source": [
    "solution([1,3,9])"
   ]
  },
  {
   "cell_type": "markdown",
   "metadata": {},
   "source": [
    "メモリオーバーしたので、dpを一行にする\n",
    "- これでもtime complexityはO(N * (N * MaxOfArray / 2)) =  O(N**2 * M)のはず\n",
    "- space complexityはO(N*M)のはず"
   ]
  },
  {
   "cell_type": "code",
   "execution_count": 132,
   "metadata": {},
   "outputs": [],
   "source": [
    "def solution(A):\n",
    "    # まずは便宜上、全ての要素をその絶対値に置き換える\n",
    "    for i in range(len(A)):\n",
    "        A[i] = abs(A[i])\n",
    "    S = sum(A)\n",
    "    \n",
    "    # 和が101なら、50までが和として実現可能かを調べる\n",
    "    half_sum = S // 2\n",
    "    num_ele = len(A)\n",
    "    # どの要素も使わずに作れる和\n",
    "    dp = [1] + [0]*half_sum\n",
    "    # for ith column...\n",
    "    for i in range(1, num_ele+1):\n",
    "        # (上の行で実現可能な値)か、(その和に今回新たに加わった数字を足した和)の場合は実現可能\n",
    "        # 後者を利用するために、前の要素を変えないでおくために、後ろからループを回さないといけない\n",
    "        for j in range(half_sum, -1, -1):\n",
    "            # 今回新たに加わった数字はA[i]ではなく、A[i-1]\n",
    "#             print(j, A[i-1])\n",
    "            if (dp[j] == 1) | ((j >= A[i-1]) and (dp[j-A[i-1]] == 1)):\n",
    "                dp[j] = 1\n",
    "#     for l in dp:\n",
    "#         print(l)\n",
    "\n",
    "    for i in range(half_sum, -1, -1):\n",
    "        if dp[i] == 1:\n",
    "            return abs(S - 2 * i)"
   ]
  },
  {
   "cell_type": "markdown",
   "metadata": {},
   "source": [
    "## 同じ要素が複数含まれていたら、まとめて同じ行内で処理する"
   ]
  },
  {
   "cell_type": "code",
   "execution_count": 172,
   "metadata": {},
   "outputs": [],
   "source": [
    "def solution(A):\n",
    "    # まずは便宜上、全ての要素をその絶対値に置き換える\n",
    "    \n",
    "    max_num = 0\n",
    "    for i in range(len(A)):\n",
    "        A[i] = abs(A[i])\n",
    "        max_num = max(max_num, abs(A[i]))\n",
    "    \n",
    "    # 0-max_numについて、それぞれが含まれる個数を含むリスト\n",
    "    count_of_num = [0] * (max_num+1)\n",
    "    for num in A:\n",
    "        count_of_num[num] += 1\n",
    "    S = sum(A)\n",
    "    \n",
    "    # 和が101なら、50までが和として実現可能かを調べる\n",
    "    half_sum = S // 2\n",
    "    \n",
    "    # どの要素も使わずに作れる和\n",
    "    dp = [1] + [-1]*half_sum\n",
    "    # 0-max_numまで走らせる。Aに入っていなかったものは飛ばされるので大丈夫。\n",
    "    for num in range(1, max_num+1):\n",
    "        if count_of_num[num] > 0:\n",
    "            # (上の行で実現可能な値)か、(その和に今回新たに加わった数字を足した和)の場合は実現可能\n",
    "            # これを実現するために、前者、つまりその上の行が実現可能だから実現可能という時は、\n",
    "            # そこに、そこにその時に見ている数字iの存在回数を入れる。\n",
    "            # 後者の場合は、前からtraverseして行って、i前のindexが1より大きければ実現可能なので、\n",
    "            # i前のindex-1を入れる\n",
    "            #\n",
    "            # [○,-1,-1,○,○,-1,○]で、現在i=2を見ていてi=2が3回現れたのなら、、\n",
    "            # ->[3,-1,-1,○,○,-1,○]\n",
    "            # ->[3,-1,2,○,○,-1,○]\n",
    "            # ->[3,-1,2,3,○,-1,○]\n",
    "            # ->[3,-1,2,3,3,2,○]\n",
    "            # ->[3,-1,2,3,3,2,2] となる\n",
    "            #\n",
    "            # このやり方だと、後ろからではなく、むしろ前から順々にテーブルの行を\n",
    "            # 見ていかないといけない\n",
    "            for j in range(half_sum+1):\n",
    "                # 前者の場合\n",
    "                if dp[j] >= 0:\n",
    "                    dp[j] = count_of_num[num]\n",
    "                elif (j >= num) and (dp[j-num] >= 1):\n",
    "                    dp[j] = dp[j-num] - 1\n",
    "#         print(num, dp)\n",
    "    for i in range(half_sum, -1, -1):\n",
    "        if dp[i] >= 0:\n",
    "            return abs(S - 2 * i)"
   ]
  },
  {
   "cell_type": "code",
   "execution_count": 173,
   "metadata": {},
   "outputs": [
    {
     "data": {
      "text/plain": [
       "5"
      ]
     },
     "execution_count": 173,
     "metadata": {},
     "output_type": "execute_result"
    }
   ],
   "source": [
    "solution([1,3,9])"
   ]
  },
  {
   "cell_type": "markdown",
   "metadata": {},
   "source": [
    "## できた。。。大変だった。。。\n",
    "\n",
    "![image](https://user-images.githubusercontent.com/44487754/93112934-865dc700-f6f3-11ea-8dd5-51736219c741.png)\n"
   ]
  },
  {
   "cell_type": "code",
   "execution_count": 174,
   "metadata": {},
   "outputs": [
    {
     "data": {
      "text/plain": [
       "1"
      ]
     },
     "execution_count": 174,
     "metadata": {},
     "output_type": "execute_result"
    }
   ],
   "source": [
    "1"
   ]
  },
  {
   "cell_type": "code",
   "execution_count": 175,
   "metadata": {},
   "outputs": [
    {
     "ename": "TypeError",
     "evalue": "'NoneType' object is not iterable",
     "output_type": "error",
     "traceback": [
      "\u001b[0;31m---------------------------------------------------------------------------\u001b[0m",
      "\u001b[0;31mTypeError\u001b[0m                                 Traceback (most recent call last)",
      "\u001b[0;32m<ipython-input-175-e311f29bb25f>\u001b[0m in \u001b[0;36m<module>\u001b[0;34m\u001b[0m\n\u001b[0;32m----> 1\u001b[0;31m \u001b[0;32mfor\u001b[0m \u001b[0mi\u001b[0m \u001b[0;32min\u001b[0m \u001b[0;32mNone\u001b[0m\u001b[0;34m:\u001b[0m\u001b[0;34m\u001b[0m\u001b[0;34m\u001b[0m\u001b[0m\n\u001b[0m\u001b[1;32m      2\u001b[0m     \u001b[0mprint\u001b[0m\u001b[0;34m(\u001b[0m\u001b[0mi\u001b[0m\u001b[0;34m)\u001b[0m\u001b[0;34m\u001b[0m\u001b[0;34m\u001b[0m\u001b[0m\n",
      "\u001b[0;31mTypeError\u001b[0m: 'NoneType' object is not iterable"
     ]
    }
   ],
   "source": [
    "for i in None:\n",
    "    print(i)"
   ]
  },
  {
   "cell_type": "code",
   "execution_count": null,
   "metadata": {},
   "outputs": [],
   "source": []
  }
 ],
 "metadata": {
  "kernelspec": {
   "display_name": "Python 3",
   "language": "python",
   "name": "python3"
  },
  "language_info": {
   "codemirror_mode": {
    "name": "ipython",
    "version": 3
   },
   "file_extension": ".py",
   "mimetype": "text/x-python",
   "name": "python",
   "nbconvert_exporter": "python",
   "pygments_lexer": "ipython3",
   "version": "3.8.1"
  }
 },
 "nbformat": 4,
 "nbformat_minor": 4
}
