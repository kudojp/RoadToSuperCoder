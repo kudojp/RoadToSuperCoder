{
 "cells": [
  {
   "cell_type": "markdown",
   "metadata": {},
   "source": [
    "# クイックソート\n",
    "\n",
    "- partition algorithm(ある数より大きいものの集合と小さいものの集合に、切り分ける)\n",
    "- のちによりシンプルなpartition algorithmの方法を学んだので、最後に記す"
   ]
  },
  {
   "cell_type": "code",
   "execution_count": 147,
   "metadata": {},
   "outputs": [],
   "source": [
    "# arrを要素が小さい順に並び替える\n",
    "def quick_sort(arr):\n",
    "    if len(arr) == 1:\n",
    "        return arr\n",
    "    first, last = partition(arr)\n",
    "    \n",
    "    if len(first) == 0:\n",
    "        return [last[0]] + quick_sort(last[1:])\n",
    "    return quick_sort(first) + quick_sort(last)"
   ]
  },
  {
   "cell_type": "code",
   "execution_count": 162,
   "metadata": {},
   "outputs": [],
   "source": [
    "# 引数として渡された配列の最初の要素をpivotとして、二つの配列を返す\n",
    "#\n",
    "# Returns:\n",
    "#     first array: pivot未満の要素の配列\n",
    "#     secod array: pivot以上の要素の配列\n",
    "def partition(arr):\n",
    "    pivot = arr[0]\n",
    "    i, j = 0, len(arr) - 1\n",
    "    while True:\n",
    "        is_end = False\n",
    "        while arr[i] < pivot:\n",
    "#             print(i,j)\n",
    "            i += 1\n",
    "            if i == j:\n",
    "                is_end = True\n",
    "                break\n",
    "        if is_end:\n",
    "            break\n",
    "        while arr[j] >= pivot:\n",
    "            j -= 1\n",
    "            if i == j:\n",
    "                is_end = True\n",
    "                break\n",
    "        if is_end:\n",
    "            break\n",
    "        # make a swap\n",
    "        ele_i = arr[i]\n",
    "        arr[i] = arr[j]\n",
    "        arr[j] = ele_i\n",
    "    return arr[:i], arr[i:]\n",
    "\n",
    "\n",
    "#　210110 以下でもいけそう\n",
    "def partition2(arr):\n",
    "    while left_idx < right_idx:            \n",
    "        while (left_idx < right_idx) and (list_[left_idx] < pivot):\n",
    "            left_idx += 1\n",
    "\n",
    "        while (left_idx < right_idx) and (list_[right_idx] >= pivot):\n",
    "            right_idx -= 1\n",
    "\n",
    "        list_[right_idx], list_[left_idx] = list_[left_idx], list_[right_idx]"
   ]
  },
  {
   "cell_type": "code",
   "execution_count": 163,
   "metadata": {},
   "outputs": [
    {
     "name": "stdout",
     "output_type": "stream",
     "text": [
      "[2, 1] [3, 3, 4, 3]\n",
      "[1, 3, 3, 2] [4]\n",
      "[1, 1, 2] [4, 5, 3]\n",
      "[1] [5, 6, 6, 6, 3]\n"
     ]
    }
   ],
   "source": [
    "# test for partition()\n",
    "# first_half should be: x < pivot\n",
    "# second_half should be: x >= pivot\n",
    "\n",
    "# pivot = 3\n",
    "first, last = partition([3,1,2,3,4,3])\n",
    "print(first, last)\n",
    "assert first == [2,1]\n",
    "assert last == [3,3,4,3]\n",
    "\n",
    "# pivot = 4\n",
    "first, last = partition([4,3,3,2,1])\n",
    "print(first, last)\n",
    "assert first == [1,3,3,2]\n",
    "assert last == [4]\n",
    "\n",
    "# pivot = 4\n",
    "first, last = partition([4,5,6,5,6])\n",
    "assert first == []\n",
    "assert last == [4,5,6,5,6]\n",
    "\n",
    "# pivot = 3\n",
    "# i ==> j\n",
    "first, last = partition([3,1,2,4,5,1])\n",
    "print(first, last)\n",
    "assert first == [1,1,2]\n",
    "assert last == [4,5,3]\n",
    "\n",
    "# pivot = 3\n",
    "first, last = partition([3,2,2,2,2,6,6,1])\n",
    "print(first, last)"
   ]
  },
  {
   "cell_type": "markdown",
   "metadata": {},
   "source": [
    "- やっぱり計算時間はO(nlogn)で、最悪なのは、すでに並んでる場合(降順昇順を問わない)で、O(n^2)かかる\n",
    "- テスト最高。エッジケースの確認に最高。 "
   ]
  },
  {
   "cell_type": "markdown",
   "metadata": {},
   "source": [
    "# マージソート"
   ]
  },
  {
   "cell_type": "code",
   "execution_count": 11,
   "metadata": {},
   "outputs": [],
   "source": [
    "# 引数として渡された整列済みの配列をマージした整列済みの配列を返す\n",
    "def merge_sorted_arrs(arr1, arr2):\n",
    "    i = 0\n",
    "    arr = []\n",
    "    while True:\n",
    "        arr_to_pop = arr1 if (arr1[0] < arr2[0]) else arr2\n",
    "        arr.append(arr_to_pop.pop(0))\n",
    "        if len(arr1) == 0:\n",
    "            arr.extend(arr2)\n",
    "            return arr\n",
    "        if len(arr2) == 0:\n",
    "            arr.extend(arr1)\n",
    "            return arr"
   ]
  },
  {
   "cell_type": "code",
   "execution_count": 12,
   "metadata": {},
   "outputs": [
    {
     "data": {
      "text/plain": [
       "[2, 3, 3, 4, 4, 7, 8]"
      ]
     },
     "execution_count": 12,
     "metadata": {},
     "output_type": "execute_result"
    }
   ],
   "source": [
    "merge_sorted_arrs([3,4,4],[2,3,7,8])\n"
   ]
  },
  {
   "cell_type": "code",
   "execution_count": 17,
   "metadata": {},
   "outputs": [],
   "source": [
    "def merge_sort(arr):\n",
    "    len_arr = len(arr)\n",
    "    if len_arr <= 1:\n",
    "        return arr\n",
    "    return merge_sorted_arrs(merge_sort(arr[:(len_arr//2)]), merge_sort(arr[(len_arr//2):]))"
   ]
  },
  {
   "cell_type": "code",
   "execution_count": 18,
   "metadata": {},
   "outputs": [
    {
     "data": {
      "text/plain": [
       "[1, 1, 2, 2, 3]"
      ]
     },
     "execution_count": 18,
     "metadata": {},
     "output_type": "execute_result"
    }
   ],
   "source": [
    "merge_sort([1,2,3,2,1])"
   ]
  },
  {
   "cell_type": "markdown",
   "metadata": {},
   "source": [
    "- 計算時間はO(nlogn)\n",
    "- いつも一定\n",
    "\n",
    "```\n",
    "多くの場面では、クイックソートがよい\n",
    "要素数が小さいときや、ほとんど整列済みに近いときは、挿入ソートも有力\n",
    "要素数が小さくて、省メモリ性や安定性を重視したいときは、挿入ソートがよい\n",
    "各要素が整数値であまり大きな絶対値をとらないときは、計数ソートや基数ソートもよい\n",
    "安定かつ高速なソートが欲しいときは、マージソートがよい\n",
    "```\n",
    "\n",
    "```\n",
    "素朴な感性に基づくソートとしては\n",
    "\n",
    "挿入ソート (かなり自然です)\n",
    "選択ソート (貪欲法に基づいていて、とても自然です)\n",
    "バブルソート (それほど自然ではないかもしれません)\n",
    "があります。これらは人間にとって自然なものですが、いずれも O(n2)O(n2) の計算時間がかかります。しかし\n",
    "\n",
    "マージソート (分割統治法パラダイムを学べます)\n",
    "ヒープソート (ヒープはそれ自体が重要なデータ構造です)\n",
    "といったより洗練されたアルゴリズムでは O(nlogn)O(nlog⁡n) の計算時間で終わらせることができます。このような OO 記法に不慣れな方向けに以下の記事も書きました:\n",
    "```"
   ]
  },
  {
   "cell_type": "code",
   "execution_count": null,
   "metadata": {},
   "outputs": [],
   "source": []
  },
  {
   "cell_type": "code",
   "execution_count": null,
   "metadata": {},
   "outputs": [],
   "source": []
  },
  {
   "cell_type": "code",
   "execution_count": null,
   "metadata": {},
   "outputs": [],
   "source": []
  },
  {
   "cell_type": "markdown",
   "metadata": {},
   "source": [
    "## Partition Algorithm\n",
    "\n",
    "- leftとrightががっちゃんこ\n",
    "- piとiが左から右へ動いていく\n",
    "\n",
    "の２パターンの実装方法がありそう。以下で後者を実装する。\n",
    "\n",
    "(参考) https://www.youtube.com/watch?v=MZaf_9IZCrc\n",
    "\n",
    "イメージとしては、先陣きってjを左に進めていき、もし、arr[j]がpivotより小さければ、それをarr[i+1]と交換して、iとjを一個ずつ前に進める。\n",
    "もし、そうでなければ、jだけ一つ前に進む。\n",
    "\n",
    "\n",
    "ループの最初の時点、つまりjを一つ右にずらし終わった時点で、**iとそれより前の箇所**はpivotより小さく、iからj-1までの箇所はpivotよりも大きくなっている。\n",
    "\n",
    "jというpioneerがpivotより小さいものを見つけ、そしたらそれをiの一つ右の箇所に放り投げるイメージ。\n",
    "iの一つ右の箇所は、すでにjが通り過ぎている＝pivotより大きいので、これと交換する。\n",
    "\n",
    "\n",
    "```\n",
    "    x x x x i y y y y j z z z [pivot]\n",
    "\n",
    "\n",
    "[スタート]\n",
    "\n",
    "i = -1, j = 0から始める(iを区間の端っこより一つ左のindexから始めるのが肝)\n",
    "\n",
    "[途中経過(ループの最初の時点で)]\n",
    "- x x x iの区間は、pivotよりも小さい\n",
    "- y y y の区間は、pivot よりも大きい\n",
    "- j はこれから調べる\n",
    "  - もしj <= pivotならば、i+=1してそれとjの数字を交換、その後j+=1\n",
    "  - そうでなければただj+=1\n",
    "- z z zの区間は未開拓\n",
    "\n",
    "\n",
    "```\n",
    "\n"
   ]
  },
  {
   "cell_type": "code",
   "execution_count": 32,
   "metadata": {},
   "outputs": [],
   "source": [
    "# Partition arr mutably　and returns the index of pivot.\n",
    "# the end element would be chosen as pivot.\n",
    "# All elements followed by final pivot is smaller than OR EQUALS TO pivot, and\n",
    "# all elements following final pivot is larger than pivot\n",
    "def partition(arr, start, end):\n",
    "    if start < 0 or len(arr) <= end:\n",
    "        raise Exception\n",
    "    pivot = arr[end]\n",
    "    i = start - 1\n",
    "    j = start\n",
    "    \n",
    "    while j < end:\n",
    "        if arr[j] <= pivot:\n",
    "            i += 1\n",
    "            arr[i], arr[j] = arr[j], arr[i]\n",
    "        j += 1\n",
    "    \n",
    "#     # the case when all elements are LARGER than pivot   #間違い\n",
    "#     if i < start:\n",
    "#         return end\n",
    "    arr[i+1], arr[end] = arr[end], arr[i+1]\n",
    "    return i+1"
   ]
  },
  {
   "cell_type": "markdown",
   "metadata": {},
   "source": [
    "### test"
   ]
  },
  {
   "cell_type": "code",
   "execution_count": 43,
   "metadata": {},
   "outputs": [],
   "source": [
    "# when only 1 element exists\n",
    "arr = [1]\n",
    "assert partition(arr, 0, 0) == 0\n",
    "assert arr == [1]"
   ]
  },
  {
   "cell_type": "code",
   "execution_count": 42,
   "metadata": {},
   "outputs": [],
   "source": [
    "# when arr is in ascending order\n",
    "arr = [1, 2, 3]\n",
    "assert partition(arr, 0, 1) == 2\n",
    "assert arr == [1, 2, 3]"
   ]
  },
  {
   "cell_type": "code",
   "execution_count": 44,
   "metadata": {},
   "outputs": [],
   "source": [
    "# when arr is in decending order\n",
    "arr = [3, 2, 1]\n",
    "assert partition(arr, 0, 2) == 0\n",
    "assert arr == [1, 2, 3]"
   ]
  },
  {
   "cell_type": "code",
   "execution_count": 46,
   "metadata": {
    "scrolled": true
   },
   "outputs": [],
   "source": [
    "arr = [1,9,2,5,6,3,8,4]\n",
    "assert partition(arr, 0, 7) == 3\n",
    "assert arr == [1, 2, 3, 4, 6, 9, 8, 5]"
   ]
  },
  {
   "cell_type": "markdown",
   "metadata": {},
   "source": [
    "## pivotのランダム選択要素を入れる"
   ]
  },
  {
   "cell_type": "code",
   "execution_count": 47,
   "metadata": {},
   "outputs": [],
   "source": [
    "def partition(arr, start, end):\n",
    "    if start < 0 or len(arr) <= end:\n",
    "        raise Exception\n",
    "    \n",
    "    # randomにpivotを選んで、それを末尾の要素とswapする\n",
    "    rand_idx = random.randrange(start_idx, end_idx+1)\n",
    "    points[end_idx], points[rand_idx] = points[rand_idx], points[end_idx]\n",
    "\n",
    "    pivot = arr[end]\n",
    "    i = start - 1\n",
    "    j = start\n",
    "    \n",
    "    while j < end:\n",
    "        if arr[j] <= pivot:\n",
    "            i += 1\n",
    "            arr[i], arr[j] = arr[j], arr[i]\n",
    "        j += 1\n",
    "    \n",
    "#     # the case when all elements are LARGER than pivot   #間違い\n",
    "#     if i < start:\n",
    "#         return end\n",
    "    arr[i+1], arr[end] = arr[end], arr[i+1]\n",
    "    return i+1"
   ]
  },
  {
   "cell_type": "code",
   "execution_count": 49,
   "metadata": {},
   "outputs": [],
   "source": [
    "import time"
   ]
  },
  {
   "cell_type": "code",
   "execution_count": 50,
   "metadata": {},
   "outputs": [],
   "source": [
    "def init_string(cnt):\n",
    "    t = time.time()\n",
    "    s = 's' * cnt\n",
    "    return(time.time() - t)"
   ]
  },
  {
   "cell_type": "code",
   "execution_count": 59,
   "metadata": {},
   "outputs": [
    {
     "name": "stdout",
     "output_type": "stream",
     "text": [
      "0.43766307830810547\n",
      "0.8412730693817139\n",
      "1.0948667526245117\n",
      "1.3987321853637695\n"
     ]
    }
   ],
   "source": [
    "print(init_string(1000000000))\n",
    "print(init_string(2000000000))\n",
    "print(init_string(3000000000))\n",
    "print(init_string(4000000000))"
   ]
  },
  {
   "cell_type": "code",
   "execution_count": null,
   "metadata": {},
   "outputs": [],
   "source": []
  }
 ],
 "metadata": {
  "kernelspec": {
   "display_name": "Python 3",
   "language": "python",
   "name": "python3"
  },
  "language_info": {
   "codemirror_mode": {
    "name": "ipython",
    "version": 3
   },
   "file_extension": ".py",
   "mimetype": "text/x-python",
   "name": "python",
   "nbconvert_exporter": "python",
   "pygments_lexer": "ipython3",
   "version": "3.8.1"
  }
 },
 "nbformat": 4,
 "nbformat_minor": 4
}
