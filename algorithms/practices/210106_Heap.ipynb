{
 "cells": [
  {
   "cell_type": "markdown",
   "metadata": {},
   "source": [
    "## Heapを使うことで、PriorityQueueを実装する。\n",
    "\n",
    "(ただし、Priorityといっても、それは最大か最小かしか選べない)を実装できる\n",
    "\n",
    "HeapをTreeで実装するのは、実際リストで実装するより難しい。なぜなら、Last Filled Nodeの場所を突き詰めるのに、https://stackoverflow.com/a/21391589 のような方法を使う必要があるからである。\n",
    "\n",
    "リストを使用するのであれば、rootのNodeをindex = 0にすると、\n",
    "\n",
    "- 自分の親Nodeは、  (i-1)//2\n",
    "- 自分のchildrenは　(2i+1)と(2i+2)\n",
    "\n",
    "\n",
    "\n",
    "### このnotebookでやること\n",
    "    \n",
    "1. Heapをリストで実装する(PopとPushを実装)\n",
    "2. HeapSortを実装する\n"
   ]
  },
  {
   "cell_type": "markdown",
   "metadata": {},
   "source": [
    "# MaxHeapを実装"
   ]
  },
  {
   "cell_type": "code",
   "execution_count": 238,
   "metadata": {},
   "outputs": [],
   "source": [
    "# class Node:\n",
    "#     def __init__(self):\n",
    "#         self.list = []\n",
    "       \n",
    "class MaxHeap:\n",
    "    def __init__(self):\n",
    "        self.list = []\n",
    "        \n",
    "    # まず、存在するFilled Nodeと同じ深さで右横に新しくNodeをくっつける。\n",
    "    # それを、正しい場所まで上に移動させていく\n",
    "    def push(self, val):      # 追加=upheap (listの最後に新しい要素を入れてあげていく)\n",
    "        self.list.append(val)\n",
    "        \n",
    "        \n",
    "        crt_idx = len(self.list) - 1\n",
    "        \n",
    "        while crt_idx > 0:\n",
    "            parent_idx = (crt_idx - 1) // 2\n",
    "            if val >= self.list[parent_idx]:\n",
    "                self.list[parent_idx], self.list[crt_idx] = self.list[crt_idx], self.list[parent_idx]\n",
    "            else:\n",
    "                break\n",
    "            crt_idx = parent_idx \n",
    "        \n",
    "    def pop(self):             # 除去=downheap\n",
    "\n",
    "        if len(self.list) == 1:\n",
    "            return self.list.pop()\n",
    "\n",
    "        max_val = self.list[0]\n",
    "        self.list[0] = self.list.pop()   # listの最後の要素をrootに持ってきておろしていく\n",
    "        \n",
    "        crt_idx = 0\n",
    "        left_child_idx = 2 * crt_idx + 1\n",
    "        right_child_idx = 2 * crt_idx + 2\n",
    "        \n",
    "        while (right_child_idx <= len(self.list) - 1):\n",
    "            idxes = sorted([crt_idx, left_child_idx, right_child_idx], key=lambda x: self.list[x]) # ascending\n",
    "            if idxes[2] == crt_idx:  # crt_idx is the largest\n",
    "                break\n",
    "            elif idxes[1] == crt_idx:\n",
    "                idx_exchanged = idxes[2]\n",
    "                self.list[crt_idx], self.list[idx_exchanged] = self.list[idx_exchanged], self.list[crt_idx]\n",
    "                \n",
    "                crt_idx = idx_exchanged\n",
    "                left_child_idx = 2 * crt_idx + 1\n",
    "                right_child_idx = 2 * crt_idx + 2\n",
    "            else: # idxes[0] == crt_idx:\n",
    "                idx_exchanged = idxes[2]\n",
    "                self.list[crt_idx], self.list[idx_exchanged] = self.list[idx_exchanged], self.list[crt_idx]\n",
    "                \n",
    "                crt_idx = idx_exchanged          \n",
    "                left_child_idx = 2 * crt_idx + 1\n",
    "                right_child_idx = 2 * crt_idx + 2\n",
    "                \n",
    "        if (left_child_idx == len(self.list) - 1):\n",
    "            if self.list[crt_idx] < self.list[left_child_idx]:\n",
    "                self.list[crt_idx], self.list[left_child_idx] = self.list[left_child_idx], self.list[crt_idx]\n",
    "            \n",
    "        return max_val\n",
    "    "
   ]
  },
  {
   "cell_type": "code",
   "execution_count": 239,
   "metadata": {},
   "outputs": [],
   "source": [
    "h = MaxHeap()"
   ]
  },
  {
   "cell_type": "code",
   "execution_count": 240,
   "metadata": {},
   "outputs": [],
   "source": [
    "## test\n",
    "\n",
    "h = MaxHeap()\n",
    "\n",
    "h.push(1)\n",
    "h.push(12)\n",
    "h.push(8)\n",
    "h.push(18)\n",
    "h.push(35)\n",
    "h.push(35)\n",
    "h.push(24)\n",
    "\n",
    "assert h.pop() == 35\n",
    "assert h.pop() == 35\n",
    "assert h.pop() == 24\n",
    "assert h.pop() == 18\n",
    "assert h.pop() == 12\n",
    "assert h.pop() == 8\n",
    "assert h.pop() == 1"
   ]
  },
  {
   "cell_type": "markdown",
   "metadata": {},
   "source": [
    "# heap sort(昇順)を実装\n",
    "\n",
    "### [ヒープソートの流れ](https://webbibouroku.com/Blog/Article/py-heapsort)\n",
    "ヒープソートは内部ソートとして実装できます。したがって外部領域を使わず配列内でソートを行います。まず、配列の先頭(a[0])のみで構成されるヒープを考えます。これの末尾に要素(a[1])を追加し、整合性を保つ位置まで移動(UpHeap)します。これをくりかえしていけば、配列全体でヒープを高背することができます。\n",
    "\n",
    "ヒープの構成が完了すると、ルート要素(a[0])が最大値になっています。これをヒープ構成部分末尾(a[n])と入れ替えます。a[0..n-1]でヒープを再構成するために a[0] を整合性を保つ位置まで移動(DownHeap)します。これをくりかえしていくと、ヒープ構成部分が小さくなり、配列の末尾から順に大きな値で埋まっていく次第です。"
   ]
  },
  {
   "cell_type": "code",
   "execution_count": 294,
   "metadata": {},
   "outputs": [],
   "source": [
    "# ascending order\n",
    "class HeapSort:\n",
    "    def __init__(self, list_):\n",
    "        self.list = list_\n",
    "    \n",
    "    def sort(self):        \n",
    "        # sort as heap\n",
    "        for i in range(1, len(self.list)):\n",
    "            print(self.upheap(self.list[:i], self.list[i]))\n",
    "            self.list[:i+1] = self.upheap(self.list[:i], self.list[i])\n",
    "            \n",
    "#         print(self.list)\n",
    "        \n",
    "        # sort in ascending order\n",
    "        for i in range(len(self.list)-1, 0, -1):\n",
    "            current_max, remaining_list = self.downheap(self.list[:i+1])\n",
    "#             print(current_max, remaining_list)\n",
    "            self.list[i] = current_max\n",
    "            self.list[:i] = remaining_list\n",
    "            \n",
    "        return self.list\n",
    "        \n",
    "    # まず、存在するFilled Nodeと同じ深さで右横に新しくNodeをくっつける。\n",
    "    # それを、正しい場所まで上に移動させていく\n",
    "    def upheap(self, heap_list, val):       # pop\n",
    "        heap_list.append(val)\n",
    "        crt_idx = len(heap_list) - 1\n",
    "        \n",
    "        while crt_idx > 0:\n",
    "            parent_idx = (crt_idx - 1) // 2\n",
    "            if val >= heap_list[parent_idx]:\n",
    "                heap_list[parent_idx], heap_list[crt_idx] = heap_list[crt_idx], heap_list[parent_idx]\n",
    "            else:\n",
    "                break\n",
    "            crt_idx = parent_idx \n",
    "        return heap_list\n",
    "        \n",
    "    def downheap(self, heap_list):          # push\n",
    "        if len(heap_list) == 1:\n",
    "            return heap_list.pop()\n",
    "\n",
    "        max_val = heap_list[0]\n",
    "        heap_list[0] = heap_list.pop()\n",
    "        \n",
    "        crt_idx = 0\n",
    "        left_child_idx = 2 * crt_idx + 1\n",
    "        right_child_idx = 2 * crt_idx + 2\n",
    "        \n",
    "        while (right_child_idx <= len(heap_list) - 1):\n",
    "            idxes = sorted([crt_idx, left_child_idx, right_child_idx], key=lambda x: heap_list[x]) # ascending\n",
    "            if idxes[2] == crt_idx:  # crt_idx is the largest\n",
    "                break\n",
    "            elif idxes[1] == crt_idx:\n",
    "                idx_exchanged = idxes[2]\n",
    "                heap_list[crt_idx], heap_list[idx_exchanged] = heap_list[idx_exchanged], heap_list[crt_idx]\n",
    "                \n",
    "                crt_idx = idx_exchanged\n",
    "                left_child_idx = 2 * crt_idx + 1\n",
    "                right_child_idx = 2 * crt_idx + 2\n",
    "            else: # idxes[0] == crt_idx:\n",
    "                idx_exchanged = idxes[2]\n",
    "                heap_list[crt_idx], heap_list[idx_exchanged] = heap_list[idx_exchanged], heap_list[crt_idx]\n",
    "                \n",
    "                crt_idx = idx_exchanged          \n",
    "                left_child_idx = 2 * crt_idx + 1\n",
    "                right_child_idx = 2 * crt_idx + 2\n",
    "                \n",
    "        if (left_child_idx == len(heap_list) - 1):\n",
    "            if heap_list[crt_idx] < heap_list[left_child_idx]:\n",
    "                heap_list[crt_idx], heap_list[left_child_idx] = heap_list[left_child_idx], heap_list[crt_idx]\n",
    "            \n",
    "        return max_val, heap_list\n",
    "    "
   ]
  },
  {
   "cell_type": "code",
   "execution_count": 296,
   "metadata": {},
   "outputs": [
    {
     "name": "stdout",
     "output_type": "stream",
     "text": [
      "[12, 1]\n",
      "[12, 1, 8]\n",
      "[18, 12, 8, 1]\n",
      "[35, 18, 8, 1, 12]\n",
      "[35, 18, 8, 1, 12, 2]\n",
      "[35, 18, 8, 1, 12, 2]\n"
     ]
    },
    {
     "data": {
      "text/plain": [
       "[1, 2, 8, 12, 18, 35]"
      ]
     },
     "execution_count": 296,
     "metadata": {},
     "output_type": "execute_result"
    }
   ],
   "source": [
    "h = HeapSort([1,12,8,18,35,2])\n",
    "\n",
    "h.sort()"
   ]
  },
  {
   "cell_type": "markdown",
   "metadata": {},
   "source": [
    "# Pythonのheapqライブラリを使う\n",
    "\n",
    "- 以下の通り、リストに数字を包含する。\n",
    "- 値の追加は、heapq.heapify(list), heapq.heappush(list)\n",
    "- 値の取り出しは、heapq.heappop(list)"
   ]
  },
  {
   "cell_type": "code",
   "execution_count": 257,
   "metadata": {},
   "outputs": [],
   "source": [
    "a = [1,12,8,18,35,]"
   ]
  },
  {
   "cell_type": "code",
   "execution_count": 258,
   "metadata": {},
   "outputs": [],
   "source": [
    "import heapq  # minheapだった\n",
    "\n",
    "heapq.heapify(a)  \n",
    "heapq.heappush(a, 35)\n",
    "heapq.heappush(a, 24)"
   ]
  },
  {
   "cell_type": "code",
   "execution_count": 259,
   "metadata": {},
   "outputs": [
    {
     "name": "stdout",
     "output_type": "stream",
     "text": [
      "1\n",
      "8\n",
      "12\n",
      "18\n",
      "24\n",
      "35\n",
      "35\n"
     ]
    },
    {
     "ename": "IndexError",
     "evalue": "index out of range",
     "output_type": "error",
     "traceback": [
      "\u001b[0;31m---------------------------------------------------------------------------\u001b[0m",
      "\u001b[0;31mIndexError\u001b[0m                                Traceback (most recent call last)",
      "\u001b[0;32m<ipython-input-259-58365e617cfa>\u001b[0m in \u001b[0;36m<module>\u001b[0;34m\u001b[0m\n\u001b[1;32m      1\u001b[0m \u001b[0;32mwhile\u001b[0m \u001b[0;32mTrue\u001b[0m\u001b[0;34m:\u001b[0m\u001b[0;34m\u001b[0m\u001b[0;34m\u001b[0m\u001b[0m\n\u001b[0;32m----> 2\u001b[0;31m     \u001b[0mprint\u001b[0m\u001b[0;34m(\u001b[0m\u001b[0mheapq\u001b[0m\u001b[0;34m.\u001b[0m\u001b[0mheappop\u001b[0m\u001b[0;34m(\u001b[0m\u001b[0ma\u001b[0m\u001b[0;34m)\u001b[0m\u001b[0;34m)\u001b[0m\u001b[0;34m\u001b[0m\u001b[0;34m\u001b[0m\u001b[0m\n\u001b[0m",
      "\u001b[0;31mIndexError\u001b[0m: index out of range"
     ]
    }
   ],
   "source": [
    "while True:\n",
    "    print(heapq.heappop(a))"
   ]
  },
  {
   "cell_type": "markdown",
   "metadata": {},
   "source": [
    "## メモ\n",
    "\n",
    "- sorted(mylist)はlistを返す\n",
    "- mylist.sort()は、mylistをmutateし、何も返さない"
   ]
  },
  {
   "cell_type": "code",
   "execution_count": null,
   "metadata": {},
   "outputs": [],
   "source": []
  }
 ],
 "metadata": {
  "kernelspec": {
   "display_name": "Python 3",
   "language": "python",
   "name": "python3"
  },
  "language_info": {
   "codemirror_mode": {
    "name": "ipython",
    "version": 3
   },
   "file_extension": ".py",
   "mimetype": "text/x-python",
   "name": "python",
   "nbconvert_exporter": "python",
   "pygments_lexer": "ipython3",
   "version": "3.8.1"
  }
 },
 "nbformat": 4,
 "nbformat_minor": 4
}
