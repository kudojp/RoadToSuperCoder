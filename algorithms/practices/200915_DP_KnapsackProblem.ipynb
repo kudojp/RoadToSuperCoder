{
 "cells": [
  {
   "cell_type": "markdown",
   "metadata": {},
   "source": [
    "# ナップサック(その1)\n",
    "\n",
    "\n",
    "[atcoder](https://atcoder.jp/contests/dp/tasks/dp_d)より\n",
    "\n",
    "```\n",
    "N 個の品物があります。 品物には 1,2,…,N と番号が振られています。 \n",
    "各 i (1≤i≤N) について、品物 i の重さは wi で、価値は vi です。\n",
    "太郎君は、N 個の品物のうちいくつかを選び、ナップサックに入れて持ち帰ることにしました。 \n",
    "ナップサックの容量は W であり、持ち帰る品物の重さの総和は W 以下でなければなりません。\n",
    "太郎君が持ち帰る品物の価値の総和の最大値を求めてください。\n",
    "```"
   ]
  },
  {
   "cell_type": "markdown",
   "metadata": {},
   "source": [
    "## とりあえず手始めに再帰(その1)を使ってとく\n",
    "\n",
    "- 良く考えると全部の組み合わせを探索しているので計算時間はめちゃ遅いO(n**2)???"
   ]
  },
  {
   "cell_type": "code",
   "execution_count": 8,
   "metadata": {},
   "outputs": [
    {
     "name": "stdout",
     "output_type": "stream",
     "text": [
      "1 1\n",
      "1 20\n",
      "20\n"
     ]
    }
   ],
   "source": [
    "n, sum_w = map(lambda x: int(x), input().split())\n",
    "\n",
    "# goods = list[]\n",
    "all_weights = []\n",
    "all_values = []\n",
    "for _ in range(n):  \n",
    "    w, v = map(lambda x: int(x), input().split())\n",
    "    all_weights.append(w)\n",
    "    all_values.append(v)\n",
    "    \n",
    "def get_max_value(weights, values, max_sum_weight):\n",
    "    if (len(weights) <= 0) or (max_sum_weight < min(weights)):\n",
    "        return 0\n",
    "\n",
    "    max_value = 0\n",
    "    for i in range(len(weights)):\n",
    "        if weights[i] <= max_sum_weight:\n",
    "            remaining_weights = weights[:i] + weights[i+1:]\n",
    "            remaining_values = values[:i] + values[i+1:]\n",
    "            max_value = max(max_value, values[i] + get_max_value(remaining_weights, remaining_values, max_sum_weight - weights[i]))\n",
    "    return max_value\n",
    "\n",
    "print(get_max_value(all_weights, all_values, sum_w))\n",
    "\n"
   ]
  },
  {
   "cell_type": "markdown",
   "metadata": {},
   "source": [
    "## 再帰(その2)を使ってとく\n",
    "\n",
    "- メモ化を使いやすいように\n",
    "- **現在の注目している品物の番号**と、現時点でのナップサックの残り容量を関数の引数にしてみるとうまくいきます。 再帰関数をrec(i, j)とし、「品物i～n-1を重さjのナップサックに入れたときの価値の最大値」を返す関数を表すことにします。\n",
    "- 計算時間はまだマシ???O(logn)とか???"
   ]
  },
  {
   "cell_type": "code",
   "execution_count": 41,
   "metadata": {},
   "outputs": [
    {
     "name": "stdout",
     "output_type": "stream",
     "text": [
      "6 15\n",
      "6 5\n",
      "5 6\n",
      "6 4\n",
      "6 6\n",
      "3 5\n",
      "7 2\n",
      "17\n"
     ]
    }
   ],
   "source": [
    "n, sum_w = map(lambda x: int(x), input().split())\n",
    "\n",
    "all_weights = []\n",
    "all_values = []\n",
    "for _ in range(n):  \n",
    "    w, v = map(lambda x: int(x), input().split())\n",
    "    all_weights.append(w)\n",
    "    all_values.append(v)\n",
    "    \n",
    "memo = {}\n",
    "    \n",
    "\n",
    "def max_value(i_item, remaining_weight):\n",
    "    if (i_item, remaining_weight) in memo.keys():\n",
    "        return memo[(i_item, remaining_weight)]\n",
    "    \n",
    "    if i_item == n - 1:\n",
    "        memo[(i_item, remaining_weight)] = all_values[i_item] if (all_weights[i_item] <= remaining_weight) else 0\n",
    "        return memo[(i_item, remaining_weight)]\n",
    "    \n",
    "    if all_weights[i_item] > remaining_weight:\n",
    "        memo[(i_item, remaining_weight)] = max_value(i_item+1, remaining_weight)\n",
    "        return memo[(i_item, remaining_weight)]\n",
    "    \n",
    "    memo[(i_item, remaining_weight)] = max(all_values[i_item] + max_value(i_item+1, remaining_weight - all_weights[i_item]),\n",
    "        max_value(i_item+1, remaining_weight))\n",
    "    return memo[(i_item, remaining_weight)]\n",
    "\n",
    "print(max_value(0, sum_w))"
   ]
  },
  {
   "cell_type": "markdown",
   "metadata": {},
   "source": [
    "それでもTLEする。"
   ]
  },
  {
   "cell_type": "markdown",
   "metadata": {},
   "source": [
    "## DPを使ってとく\n",
    "\n",
    "\n",
    "縦軸に`何個めまでの品物を使ったか`、横軸に`0-weightまで`\n",
    "\n",
    "\n",
    "それぞれのますに、横軸のweightを超えない重さで最高のvalueを埋めていく\n",
    "\n",
    "\n",
    "肝となるの考え方は、`dp[i][max_w] = max(dp[i-1][max_w], dp[i-1][max_w-current_w]+current_w)`"
   ]
  },
  {
   "cell_type": "code",
   "execution_count": 57,
   "metadata": {},
   "outputs": [
    {
     "name": "stdout",
     "output_type": "stream",
     "text": [
      "6 15\n",
      "6 5\n",
      "5 6\n",
      "6 4\n",
      "6 6\n",
      "3 5\n",
      "7 2\n",
      "17\n"
     ]
    }
   ],
   "source": [
    "n, sum_w = map(lambda x: int(x), input().split())\n",
    "\n",
    "dp = [0]*(sum_w+1)\n",
    "for _ in range(n):  \n",
    "    w, v = map(lambda x: int(x), input().split())\n",
    "    # weightは大きい方から更新していく必要がある\n",
    "    for max_w in range(sum_w, w-1, -1):\n",
    "        dp[max_w] = max(dp[max_w], v + dp[max_w-w])\n",
    "#     print(dp)\n",
    "print(dp[sum_w])"
   ]
  },
  {
   "cell_type": "markdown",
   "metadata": {},
   "source": [
    "まだTLEする"
   ]
  }
 ],
 "metadata": {
  "kernelspec": {
   "display_name": "Python 3",
   "language": "python",
   "name": "python3"
  },
  "language_info": {
   "codemirror_mode": {
    "name": "ipython",
    "version": 3
   },
   "file_extension": ".py",
   "mimetype": "text/x-python",
   "name": "python",
   "nbconvert_exporter": "python",
   "pygments_lexer": "ipython3",
   "version": "3.8.1"
  }
 },
 "nbformat": 4,
 "nbformat_minor": 4
}
