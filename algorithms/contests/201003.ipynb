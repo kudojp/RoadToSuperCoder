{
 "cells": [
  {
   "cell_type": "markdown",
   "metadata": {},
   "source": [
    "# A"
   ]
  },
  {
   "cell_type": "code",
   "execution_count": 5,
   "metadata": {},
   "outputs": [
    {
     "name": "stdout",
     "output_type": "stream",
     "text": [
      " 3 1\n",
      "2 1\n"
     ]
    }
   ],
   "source": [
    "a, b = map(lambda x: int(x), input().split())\n",
    "x = (a + b) / 2\n",
    "y = (a - b) / 2\n",
    "print(int(x), int(y))"
   ]
  },
  {
   "cell_type": "markdown",
   "metadata": {},
   "source": [
    "# B"
   ]
  },
  {
   "cell_type": "code",
   "execution_count": 23,
   "metadata": {},
   "outputs": [
    {
     "name": "stdout",
     "output_type": "stream",
     "text": [
      "10 AAATACCGCG\n",
      "4\n"
     ]
    }
   ],
   "source": [
    "n, s = input().split()\n",
    "n = int(n)\n",
    "\n",
    "sub_pairs = [('A', 'T'), ('T', 'A'), ('C', 'G'), ('G', 'C')]\n",
    "\n",
    "previous_char = s[0]\n",
    "sequence_count = 1\n",
    "# i_to_be_checked = []\n",
    "ans = 0\n",
    "\n",
    "\n",
    "\n",
    "\n",
    "# i_to_be_checkedのチェック\n",
    "def num_more_pairs(i_1, i_2):\n",
    "    count = 0\n",
    "    while (s[i_1], s[i_2]) in sub_pairs:\n",
    "        count += 1\n",
    "        i_1 -= 1\n",
    "        i_2 += 1\n",
    "        if (i_1 < 0) | (n - 1 < i_2):\n",
    "            return count\n",
    "    return count\n",
    "\n",
    "\n",
    "\n",
    "for i in range(1, n):\n",
    "    current_char = s[i]\n",
    "    if (previous_char, current_char) in sub_pairs:            \n",
    "        sequence_count += 1\n",
    "    else:\n",
    "        if sequence_count >= 2:\n",
    "            if sequence_count % 2 == 0:\n",
    "                ans += sequence_count ** 2 // 4\n",
    "            else:\n",
    "                ans += (sequence_count ** 2 - 1) // 4\n",
    "                \n",
    "            i_1 = i-sequence_count-1\n",
    "            i_2 = i\n",
    "\n",
    "            if (sequence_count % 2 == 0) & (0 <= i_1) & (i_2 <= n-1):\n",
    "                ans += num_more_pairs(i_1, i_2)\n",
    "        sequence_count = 1\n",
    "    previous_char = current_char\n",
    "    \n",
    "if sequence_count >= 2:\n",
    "    if sequence_count % 2 == 0:\n",
    "        ans += sequence_count ** 2 // 4\n",
    "    else:\n",
    "        ans += (sequence_count ** 2 - 1) // 4 \n",
    "    \n",
    "print(ans)\n",
    "\n"
   ]
  },
  {
   "cell_type": "markdown",
   "metadata": {},
   "source": [
    "# Bテスト"
   ]
  },
  {
   "cell_type": "code",
   "execution_count": 8,
   "metadata": {},
   "outputs": [],
   "source": [
    "# i_to_be_checkedのチェック\n",
    "def num_more_pairs(i_1, i_2):\n",
    "    count = 0\n",
    "    while (s[i_1], s[i_2]) in sub_pairs:\n",
    "        count += 1\n",
    "        i_1 -= 1\n",
    "        i_2 += 1\n",
    "        if (i_1 < 0) | (n - 1 < i_2):\n",
    "            return count\n",
    "    return count\n",
    "\n",
    "\n",
    "def main(n, s):\n",
    "    sub_pairs = [('A', 'T'), ('T', 'A'), ('C', 'G'), ('G', 'C')]\n",
    "\n",
    "    previous_char = s[0]\n",
    "    sequence_count = 1\n",
    "    # i_to_be_checked = []\n",
    "    ans = 0\n",
    "\n",
    "\n",
    "    for i in range(1, n):\n",
    "        current_char = s[i]\n",
    "        if (previous_char, current_char) in sub_pairs:            \n",
    "            sequence_count += 1\n",
    "        else:\n",
    "            if (sequence_count >= 2):\n",
    "                if sequence_count % 2 == 0:\n",
    "                    ans += sequence_count ** 2 // 4\n",
    "                else:\n",
    "                    ans += (sequence_count ** 2 - 1) // 4\n",
    "\n",
    "                i_1 = i-sequence_count-1\n",
    "                i_2 = i\n",
    "                if (0 <= i_1) & (i_2 <= n-1):\n",
    "                    ans += num_more_pairs(i_1, i_2)\n",
    "            sequence_count = 1\n",
    "        previous_char = current_char\n",
    "\n",
    "    if sequence_count >= 2:\n",
    "        if sequence_count % 2 == 0:\n",
    "            ans += sequence_count ** 2 // 4\n",
    "        else:\n",
    "            ans += (sequence_count ** 2 - 1) // 4 \n",
    "    \n",
    "    return ans"
   ]
  },
  {
   "cell_type": "code",
   "execution_count": 24,
   "metadata": {},
   "outputs": [
    {
     "name": "stdout",
     "output_type": "stream",
     "text": [
      "CATCCG 2\n",
      "AC 0\n",
      "G 0\n",
      "TGGCTTC 1\n",
      "GCCT 1\n",
      "TGCAA 2\n",
      "TGAG 0\n",
      "A 0\n",
      "ACGTGG 2\n",
      "A 0\n"
     ]
    },
    {
     "data": {
      "text/plain": [
       "0"
      ]
     },
     "execution_count": 24,
     "metadata": {},
     "output_type": "execute_result"
    }
   ],
   "source": [
    "import random\n",
    "for _ in range(10):\n",
    "    n = random.randint(1,10)\n",
    "    s = ''\n",
    "    for _ in range(n):\n",
    "        s += random.choice(['T', 'A', 'C', 'G'])\n",
    "    print(s, main(n, s))\n",
    "    \n",
    "main(4, 'AGAC')"
   ]
  },
  {
   "cell_type": "code",
   "execution_count": 85,
   "metadata": {},
   "outputs": [],
   "source": [
    "num_more_pairs(1,5)"
   ]
  },
  {
   "cell_type": "code",
   "execution_count": 74,
   "metadata": {},
   "outputs": [
    {
     "name": "stdout",
     "output_type": "stream",
     "text": [
      "4 AGCT\n",
      "2\n"
     ]
    }
   ],
   "source": [
    "n, s = input().split()\n",
    "n = int(n)\n",
    "\n",
    "sub_pairs = [('A', 'T'), ('T', 'A'), ('C', 'G'), ('G', 'C')]\n",
    "\n",
    "ans = 0\n",
    "\n",
    "for i in range(n-1):\n",
    "    # i=4なら、4番目と5番目の2文字をみる\n",
    "    i_1 = i\n",
    "    i_2 = i + 1\n",
    "    \n",
    "    while (s[i_1], s[i_2]) in sub_pairs:\n",
    "        ans += 1\n",
    "        i_1 -= 1\n",
    "        i_2 += 1\n",
    "        if (i_1 < 0) | (n - 1 < i_2):\n",
    "            break\n",
    "    \n",
    "print(ans)"
   ]
  },
  {
   "cell_type": "markdown",
   "metadata": {},
   "source": [
    "# C"
   ]
  },
  {
   "cell_type": "code",
   "execution_count": null,
   "metadata": {},
   "outputs": [],
   "source": []
  },
  {
   "cell_type": "markdown",
   "metadata": {},
   "source": [
    "# D"
   ]
  },
  {
   "cell_type": "code",
   "execution_count": null,
   "metadata": {},
   "outputs": [],
   "source": []
  },
  {
   "cell_type": "markdown",
   "metadata": {},
   "source": [
    "# E"
   ]
  },
  {
   "cell_type": "code",
   "execution_count": null,
   "metadata": {},
   "outputs": [],
   "source": []
  },
  {
   "cell_type": "code",
   "execution_count": null,
   "metadata": {},
   "outputs": [],
   "source": []
  }
 ],
 "metadata": {
  "kernelspec": {
   "display_name": "Python 3",
   "language": "python",
   "name": "python3"
  },
  "language_info": {
   "codemirror_mode": {
    "name": "ipython",
    "version": 3
   },
   "file_extension": ".py",
   "mimetype": "text/x-python",
   "name": "python",
   "nbconvert_exporter": "python",
   "pygments_lexer": "ipython3",
   "version": "3.8.1"
  }
 },
 "nbformat": 4,
 "nbformat_minor": 4
}
