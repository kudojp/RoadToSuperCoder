{
 "cells": [
  {
   "cell_type": "markdown",
   "metadata": {},
   "source": [
    "# 1"
   ]
  },
  {
   "cell_type": "code",
   "execution_count": 9,
   "metadata": {},
   "outputs": [
    {
     "name": "stdout",
     "output_type": "stream",
     "text": [
      "20 12 6\n",
      "12\n"
     ]
    }
   ],
   "source": [
    "n, x, t = map(lambda x: int(x), input().split())\n",
    "\n",
    "has_modulo = (n % x != 0)\n",
    "\n",
    "if has_modulo:\n",
    "    print((n // x + 1) * t)\n",
    "else:\n",
    "    print((n // x) * t)"
   ]
  },
  {
   "cell_type": "markdown",
   "metadata": {},
   "source": [
    " # 2"
   ]
  },
  {
   "cell_type": "code",
   "execution_count": 12,
   "metadata": {},
   "outputs": [
    {
     "name": "stdout",
     "output_type": "stream",
     "text": [
      "31415926535897932384626433832795028841971693993751058209749445923078164062862089986280\n",
      "No\n"
     ]
    }
   ],
   "source": [
    "num = int(input())\n",
    "\n",
    "if num % 9 == 0:\n",
    "    print(\"Yes\")\n",
    "else:\n",
    "    print(\"No\")"
   ]
  },
  {
   "cell_type": "markdown",
   "metadata": {},
   "source": [
    "# 3"
   ]
  },
  {
   "cell_type": "code",
   "execution_count": 27,
   "metadata": {},
   "outputs": [
    {
     "name": "stdout",
     "output_type": "stream",
     "text": [
      "5 \n",
      "3 3 3 3 3 \n",
      "0\n"
     ]
    }
   ],
   "source": [
    "n = int(input())\n",
    "heights = list(map(lambda x: int(x), input().split()))\n",
    "sum_boards = 0\n",
    "\n",
    "for i in range(len(heights) - 1):\n",
    "    gap = heights[i+1] - heights[i]\n",
    "    \n",
    "    if gap >= 0:\n",
    "        continue\n",
    "    sum_boards += abs(gap)\n",
    "    heights[i+1] = heights[i]\n",
    "    \n",
    "print(sum_boards)\n",
    "        \n",
    "        \n",
    "    "
   ]
  },
  {
   "cell_type": "markdown",
   "metadata": {},
   "source": [
    "# 3"
   ]
  },
  {
   "cell_type": "code",
   "execution_count": 49,
   "metadata": {},
   "outputs": [
    {
     "name": "stdout",
     "output_type": "stream",
     "text": [
      "4 4 \n",
      "1 1 \n",
      "4 4\n",
      "..#.\n",
      "..#.\n",
      ".#..\n",
      ".#..\n",
      "deque([]) 0 {0, 1, 3, 4, 5, 7, 8, 10, 11, 12, 14, 15} {0, 1, 4, 5, 8, 10}\n",
      "deque([1, 4, 5, 8, 10]) 0 {3, 7, 11, 12, 14, 15} set()\n",
      "deque([4, 5, 8, 10]) 1 {3, 7, 11, 12, 14, 15} {11, 3, 7}\n",
      "deque([5, 8, 10, 11, 3, 7]) 4 {12, 14, 15} {12, 14}\n",
      "deque([8, 10, 11, 3, 7, 12, 14]) 5 {15} {15}\n",
      "3\n"
     ]
    },
    {
     "ename": "SystemExit",
     "evalue": "",
     "output_type": "error",
     "traceback": [
      "An exception has occurred, use %tb to see the full traceback.\n",
      "\u001b[0;31mSystemExit\u001b[0m\n"
     ]
    },
    {
     "name": "stderr",
     "output_type": "stream",
     "text": [
      "/Users/daiki-kudo/.pyenv/versions/3.8.1/lib/python3.8/site-packages/IPython/core/interactiveshell.py:3425: UserWarning: To exit: use 'exit', 'quit', or Ctrl-D.\n",
      "  warn(\"To exit: use 'exit', 'quit', or Ctrl-D.\", stacklevel=1)\n"
     ]
    }
   ],
   "source": [
    "import sys\n",
    "from collections import deque\n",
    "\n",
    "h, w = map(lambda x: int(x), input().split())\n",
    "ch, cw = map(lambda x: int(x), input().split())\n",
    "dh, dw = map(lambda x: int(x), input().split())\n",
    "\n",
    "# index of cells which can be visted.\n",
    "unvisited_index = set()\n",
    "\n",
    "start_index = h * (ch - 1) + cw - 1\n",
    "goal_index = h * (dh - 1) + dw - 1 \n",
    "\n",
    "for r_i in range(h):\n",
    "    unvisited_index = unvisited_index.union(set([w * r_i + col_i for col_i, cell in enumerate(input()) if cell == '.']))\n",
    "\n",
    "# print(unvisited_index, start_index)\n",
    "\n",
    "def visitable_by_a(current_index):\n",
    "    available_gap = [-w, +w]\n",
    "    # unless right edge\n",
    "    if (current_index + 1) % w != 0:\n",
    "        available_gap.append(+1)\n",
    "    # unless left edge\n",
    "    if (current_index + 1) % w != 0:\n",
    "        available_gap.append(-1)\n",
    "    return set([current_index + gap for gap in available_gap if (current_index+gap) in unvisited_index])\n",
    "         \n",
    "def visitable_by_b(current_index):\n",
    "    available_y_gaps = [-2, -1, 0, +1, +2]\n",
    "    # unless right\n",
    "    y = (current_index + 1) % w\n",
    "#     for pos in [1, 2]:\n",
    "#         if y <= pos:\n",
    "#             available_gap.remove(pos)\n",
    "#     for pos in [w-1, w]:\n",
    "#         if pos <= y:\n",
    "#             available_gap.remove(pos)\n",
    "    if y == 1: \n",
    "        available_y_gaps.remove(-2)\n",
    "        available_y_gaps.remove(-1)\n",
    "    if y == 2:\n",
    "        available_y_gaps.remove(-2)\n",
    "    if y == w-1:\n",
    "        available_y_gaps.remove(+2)\n",
    "    if y == w:\n",
    "        available_y_gaps.remove(+1)\n",
    "        available_y_gaps.remove(+2)\n",
    "        \n",
    "    visitables = set()\n",
    "    availanle_h_gaps = [-2*w, -1*w, 0, w, 2*w]\n",
    "    for h_gap in availanle_h_gaps:\n",
    "        for y_gap in available_y_gaps:\n",
    "            next = current_index + h_gap + y_gap\n",
    "            if next in unvisited_index:\n",
    "                visitables.add(next)\n",
    "    return visitables\n",
    "        \n",
    "def visitable_indexes(current_index):\n",
    "    return visitable_by_a(current_index).union(visitable_by_b(current_index))\n",
    "\n",
    "index_to_num_step = {start_index: 0}\n",
    "queue = deque([start_index])\n",
    "\n",
    "while True:\n",
    "    current_index = queue.popleft()\n",
    "    next_visitable_indexes = visitable_indexes(current_index)\n",
    "    print(queue, current_index, unvisited_index, next_visitable_indexes)\n",
    "    if goal_index in next_visitable_indexes:\n",
    "        print(index_to_num_step[current_index] + 1)\n",
    "        sys.exit()\n",
    "    \n",
    "    for each_next_index in next_visitable_indexes:\n",
    "        index_to_num_step[each_next_index] = index_to_num_step[current_index] + 1\n",
    "        #　ここでunvisitedのsetから要素を取り除かないと行けなかった\n",
    "        unvisited_index.remove(each_next_index)\n",
    "        queue.append(each_next_index)\n",
    "    "
   ]
  },
  {
   "cell_type": "code",
   "execution_count": 41,
   "metadata": {},
   "outputs": [
    {
     "data": {
      "text/plain": [
       "{1, 2, 3, 4}"
      ]
     },
     "execution_count": 41,
     "metadata": {},
     "output_type": "execute_result"
    }
   ],
   "source": [
    "{1,2}.union({3,4})"
   ]
  },
  {
   "cell_type": "markdown",
   "metadata": {},
   "source": [
    "# 4"
   ]
  },
  {
   "cell_type": "code",
   "execution_count": null,
   "metadata": {},
   "outputs": [],
   "source": []
  },
  {
   "cell_type": "markdown",
   "metadata": {},
   "source": [
    "# 5"
   ]
  },
  {
   "cell_type": "markdown",
   "metadata": {},
   "source": [
    "## TLEした　O(n^2)だとまずいらしい"
   ]
  },
  {
   "cell_type": "code",
   "execution_count": 79,
   "metadata": {},
   "outputs": [
    {
     "name": "stdout",
     "output_type": "stream",
     "text": [
      "5 5 10\n",
      "2 5\n",
      "4 3\n",
      "2 3\n",
      "5 5\n",
      "2 2\n",
      "5 4\n",
      "5 3\n",
      "5 1\n",
      "3 5\n",
      "1 4\n",
      "6\n"
     ]
    }
   ],
   "source": [
    "# from collections import defaultdict\n",
    "\n",
    "# h, w, m = map(lambda x: int(x), input().split())\n",
    "\n",
    "# y_to_num = defaultdict(int)\n",
    "# x_to_num = defaultdict(int)\n",
    "\n",
    "# y_to_sum = defaultdict(set)\n",
    "\n",
    "\n",
    "# for _ in range(m):\n",
    "#     hh, ww = map(lambda x: int(x), input().split())\n",
    "#     y_to_num[hh] += 1\n",
    "#     x_to_num[ww] += 1\n",
    "    \n",
    "#     y_to_sum[hh].add(hh + ww)\n",
    "\n",
    "\n",
    "# max_num = 0\n",
    "  \n",
    "# for y in range(h):\n",
    "#     for x in range(w):\n",
    "#         num = y_to_num[y+1] + x_to_num[x+1]\n",
    "#         if x+y+2 in y_to_sum[y+1]:\n",
    "#             num -= 1\n",
    "#         max_num = max(max_num, num)\n",
    "        \n",
    "# print(max_num)"
   ]
  },
  {
   "cell_type": "code",
   "execution_count": 102,
   "metadata": {},
   "outputs": [
    {
     "name": "stdout",
     "output_type": "stream",
     "text": [
      "3 3 4\n",
      "3 3\n",
      "3 1\n",
      "1 1\n",
      "1 2\n",
      "[0, 2] [0] defaultdict(<class 'set'>, {2: {0, 2}, 0: {0, 1}})\n",
      "3\n"
     ]
    }
   ],
   "source": [
    "from collections import defaultdict\n",
    "import sys\n",
    "\n",
    "h, w, m = map(lambda x: int(x), input().split())\n",
    "\n",
    "y_to_num = [0] * h\n",
    "x_to_num = [0] * w\n",
    "existing_h_to_w = defaultdict(set)\n",
    "\n",
    "\n",
    "for _ in range(m):\n",
    "    hh, ww = map(lambda x: int(x), input().split())\n",
    "    y_to_num[hh-1] += 1\n",
    "    x_to_num[ww-1] += 1\n",
    "    existing_h_to_w[hh-1].add(ww-1)\n",
    "\n",
    "max_vertical_num = max(y_to_num)\n",
    "max_horizontal_num = max(x_to_num)\n",
    "\n",
    "y_coor_with_max_num = [i for i, num in enumerate(y_to_num) if num == max_vertical_num]\n",
    "x_coor_with_max_num = [i for i, num in enumerate(x_to_num) if num == max_horizontal_num]\n",
    "\n",
    "# print(y_coor_with_max_num, x_coor_with_max_num, existing_h_to_w)\n",
    "\n",
    "for y in y_coor_with_max_num:\n",
    "    for x in x_coor_with_max_num:\n",
    "        if x not in existing_h_to_w[y]:\n",
    "            print(max_vertical_num + max_horizontal_num)\n",
    "            sys.exit()\n",
    "\n",
    "print(max_vertical_num + max_horizontal_num - 1)"
   ]
  },
  {
   "cell_type": "code",
   "execution_count": null,
   "metadata": {},
   "outputs": [],
   "source": []
  }
 ],
 "metadata": {
  "kernelspec": {
   "display_name": "Python 3",
   "language": "python",
   "name": "python3"
  },
  "language_info": {
   "codemirror_mode": {
    "name": "ipython",
    "version": 3
   },
   "file_extension": ".py",
   "mimetype": "text/x-python",
   "name": "python",
   "nbconvert_exporter": "python",
   "pygments_lexer": "ipython3",
   "version": "3.8.1"
  }
 },
 "nbformat": 4,
 "nbformat_minor": 4
}
