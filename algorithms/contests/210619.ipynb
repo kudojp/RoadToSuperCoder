{
 "cells": [
  {
   "cell_type": "code",
   "execution_count": null,
   "metadata": {},
   "outputs": [],
   "source": [
    "n = int(input())\n",
    "a = list(map(lambda x: int(x), input().split()))\n",
    "\n",
    "max_total = 0\n",
    "# start\n",
    "for i_start in range(n):  \n",
    "    current_min = 10 ** 4 + 1\n",
    "    # end(inclusive)\n",
    "    for i_end in range(i_start, n):\n",
    "        current_min = min(current_min, a[i_end])\n",
    "        max_total = max(max_total, current_min * (i_end-i_start+1))\n",
    "\n",
    "print(max_total)"
   ]
  },
  {
   "cell_type": "code",
   "execution_count": null,
   "metadata": {},
   "outputs": [],
   "source": []
  },
  {
   "cell_type": "code",
   "execution_count": 5,
   "metadata": {},
   "outputs": [
    {
     "name": "stdout",
     "output_type": "stream",
     "text": [
      "191\n",
      "206\n",
      "so-so\n"
     ]
    }
   ],
   "source": [
    "n = int(input())\n",
    "p = int(1.08 * n)\n",
    "\n",
    "\n",
    "if p < 206:\n",
    "    print('Yay!')\n",
    "elif p == 206:\n",
    "    \n",
    "    print('so-so')\n",
    "else:\n",
    "    print(':(')"
   ]
  },
  {
   "cell_type": "code",
   "execution_count": 20,
   "metadata": {},
   "outputs": [
    {
     "ename": "KeyboardInterrupt",
     "evalue": "Interrupted by user",
     "output_type": "error",
     "traceback": [
      "\u001b[0;31m---------------------------------------------------------------------------\u001b[0m",
      "\u001b[0;31mKeyboardInterrupt\u001b[0m                         Traceback (most recent call last)",
      "\u001b[0;32m<ipython-input-20-82351c056822>\u001b[0m in \u001b[0;36m<module>\u001b[0;34m\u001b[0m\n\u001b[0;32m----> 1\u001b[0;31m \u001b[0mn\u001b[0m \u001b[0;34m=\u001b[0m \u001b[0mint\u001b[0m\u001b[0;34m(\u001b[0m\u001b[0minput\u001b[0m\u001b[0;34m(\u001b[0m\u001b[0;34m)\u001b[0m\u001b[0;34m)\u001b[0m\u001b[0;34m\u001b[0m\u001b[0;34m\u001b[0m\u001b[0m\n\u001b[0m\u001b[1;32m      2\u001b[0m \u001b[0mcurr\u001b[0m \u001b[0;34m=\u001b[0m \u001b[0;36m0\u001b[0m\u001b[0;34m\u001b[0m\u001b[0;34m\u001b[0m\u001b[0m\n\u001b[1;32m      3\u001b[0m \u001b[0mdate\u001b[0m \u001b[0;34m=\u001b[0m \u001b[0;36m1\u001b[0m\u001b[0;34m\u001b[0m\u001b[0;34m\u001b[0m\u001b[0m\n\u001b[1;32m      4\u001b[0m \u001b[0;34m\u001b[0m\u001b[0m\n\u001b[1;32m      5\u001b[0m \u001b[0;32mwhile\u001b[0m \u001b[0;32mTrue\u001b[0m\u001b[0;34m:\u001b[0m\u001b[0;34m\u001b[0m\u001b[0;34m\u001b[0m\u001b[0m\n",
      "\u001b[0;32m~/.pyenv/versions/3.8.1/lib/python3.8/site-packages/ipykernel/kernelbase.py\u001b[0m in \u001b[0;36mraw_input\u001b[0;34m(self, prompt)\u001b[0m\n\u001b[1;32m    858\u001b[0m                 \u001b[0;34m\"raw_input was called, but this frontend does not support input requests.\"\u001b[0m\u001b[0;34m\u001b[0m\u001b[0;34m\u001b[0m\u001b[0m\n\u001b[1;32m    859\u001b[0m             )\n\u001b[0;32m--> 860\u001b[0;31m         return self._input_request(str(prompt),\n\u001b[0m\u001b[1;32m    861\u001b[0m             \u001b[0mself\u001b[0m\u001b[0;34m.\u001b[0m\u001b[0m_parent_ident\u001b[0m\u001b[0;34m,\u001b[0m\u001b[0;34m\u001b[0m\u001b[0;34m\u001b[0m\u001b[0m\n\u001b[1;32m    862\u001b[0m             \u001b[0mself\u001b[0m\u001b[0;34m.\u001b[0m\u001b[0m_parent_header\u001b[0m\u001b[0;34m,\u001b[0m\u001b[0;34m\u001b[0m\u001b[0;34m\u001b[0m\u001b[0m\n",
      "\u001b[0;32m~/.pyenv/versions/3.8.1/lib/python3.8/site-packages/ipykernel/kernelbase.py\u001b[0m in \u001b[0;36m_input_request\u001b[0;34m(self, prompt, ident, parent, password)\u001b[0m\n\u001b[1;32m    902\u001b[0m             \u001b[0;32mexcept\u001b[0m \u001b[0mKeyboardInterrupt\u001b[0m\u001b[0;34m:\u001b[0m\u001b[0;34m\u001b[0m\u001b[0;34m\u001b[0m\u001b[0m\n\u001b[1;32m    903\u001b[0m                 \u001b[0;31m# re-raise KeyboardInterrupt, to truncate traceback\u001b[0m\u001b[0;34m\u001b[0m\u001b[0;34m\u001b[0m\u001b[0;34m\u001b[0m\u001b[0m\n\u001b[0;32m--> 904\u001b[0;31m                 \u001b[0;32mraise\u001b[0m \u001b[0mKeyboardInterrupt\u001b[0m\u001b[0;34m(\u001b[0m\u001b[0;34m\"Interrupted by user\"\u001b[0m\u001b[0;34m)\u001b[0m \u001b[0;32mfrom\u001b[0m \u001b[0;32mNone\u001b[0m\u001b[0;34m\u001b[0m\u001b[0;34m\u001b[0m\u001b[0m\n\u001b[0m\u001b[1;32m    905\u001b[0m             \u001b[0;32mexcept\u001b[0m \u001b[0mException\u001b[0m \u001b[0;32mas\u001b[0m \u001b[0me\u001b[0m\u001b[0;34m:\u001b[0m\u001b[0;34m\u001b[0m\u001b[0;34m\u001b[0m\u001b[0m\n\u001b[1;32m    906\u001b[0m                 \u001b[0mself\u001b[0m\u001b[0;34m.\u001b[0m\u001b[0mlog\u001b[0m\u001b[0;34m.\u001b[0m\u001b[0mwarning\u001b[0m\u001b[0;34m(\u001b[0m\u001b[0;34m\"Invalid Message:\"\u001b[0m\u001b[0;34m,\u001b[0m \u001b[0mexc_info\u001b[0m\u001b[0;34m=\u001b[0m\u001b[0;32mTrue\u001b[0m\u001b[0;34m)\u001b[0m\u001b[0;34m\u001b[0m\u001b[0;34m\u001b[0m\u001b[0m\n",
      "\u001b[0;31mKeyboardInterrupt\u001b[0m: Interrupted by user"
     ]
    }
   ],
   "source": [
    "n = int(input())\n",
    "curr = 0\n",
    "date = 1\n",
    "\n",
    "while True:\n",
    "    curr += date\n",
    "    if curr >= n:\n",
    "        print(date) \n",
    "        break\n",
    "    date += 1"
   ]
  },
  {
   "cell_type": "code",
   "execution_count": 22,
   "metadata": {},
   "outputs": [
    {
     "name": "stdout",
     "output_type": "stream",
     "text": [
      "20\n",
      "7 8 1 1 4 9 9 6 8 2 4 1 1 9 5 5 5 3 6 4\n",
      "7 [1, 1, 1, 1, 2, 3, 4, 4, 4, 5, 5, 5, 6, 6, 8, 8, 9, 9, 9] 5\n",
      "8 [1, 1, 1, 1, 2, 3, 4, 4, 4, 5, 5, 5, 6, 6, 8, 9, 9, 9] 3\n",
      "1 [1, 1, 1, 2, 3, 4, 4, 4, 5, 5, 5, 6, 6, 8, 9, 9, 9] 14\n",
      "1 [1, 1, 2, 3, 4, 4, 4, 5, 5, 5, 6, 6, 8, 9, 9, 9] 14\n",
      "4 [1, 1, 2, 3, 4, 4, 5, 5, 5, 6, 6, 8, 9, 9, 9] 9\n",
      "9 [1, 1, 2, 3, 4, 4, 5, 5, 5, 6, 6, 8, 9, 9] 0\n",
      "9 [1, 1, 2, 3, 4, 4, 5, 5, 5, 6, 6, 8, 9] 0\n",
      "6 [1, 1, 2, 3, 4, 4, 5, 5, 5, 6, 8, 9] 2\n",
      "8 [1, 1, 2, 3, 4, 4, 5, 5, 5, 6, 9] 1\n",
      "2 [1, 1, 3, 4, 4, 5, 5, 5, 6, 9] 8\n",
      "4 [1, 1, 3, 4, 5, 5, 5, 6, 9] 5\n",
      "1 [1, 3, 4, 5, 5, 5, 6, 9] 7\n",
      "1 [3, 4, 5, 5, 5, 6, 9] 7\n",
      "9 [3, 4, 5, 5, 5, 6] 0\n",
      "5 [3, 4, 5, 5, 6] 1\n",
      "5 [3, 4, 5, 6] 1\n",
      "5 [3, 4, 6] 1\n",
      "3 [4, 6] 2\n",
      "6 [4] 0\n",
      "4 [] 0\n",
      "80\n"
     ]
    }
   ],
   "source": [
    "import bisect\n",
    "\n",
    "n = int(input())\n",
    "a = list(map(lambda x: int(x), input().split()))\n",
    "\n",
    "ans = 0\n",
    "\n",
    "a_sorted = sorted(a)\n",
    "for e in a:\n",
    "    a_sorted.remove(e)\n",
    "    biggers = len(a_sorted) - bisect.bisect_right(a_sorted, e)\n",
    "    print(e, a_sorted, biggers)\n",
    "    ans += biggers\n",
    "    \n",
    "print(ans)\n"
   ]
  },
  {
   "cell_type": "raw",
   "metadata": {},
   "source": []
  },
  {
   "cell_type": "code",
   "execution_count": 25,
   "metadata": {},
   "outputs": [
    {
     "name": "stdout",
     "output_type": "stream",
     "text": [
      "20\n",
      "7 8 1 1 4 9 9 6 8 2 4 1 1 9 5 5 5 3 6 4\n",
      "173\n"
     ]
    }
   ],
   "source": [
    "from collections import Counter\n",
    "import bisect\n",
    "\n",
    "n = int(input())\n",
    "a = list(map(lambda x: int(x), input().split()))\n",
    "\n",
    "ans = 0\n",
    "e_to_cnt = Counter(a)\n",
    "\n",
    "for i, e in enumerate(a):\n",
    "    e_to_cnt[e] -= 1\n",
    "    \n",
    "    equals = e_to_cnt[e]\n",
    "    num = len(a) - i - 1 - equals\n",
    "    ans += num\n",
    "    \n",
    "print(ans)\n",
    "\n",
    "    "
   ]
  },
  {
   "cell_type": "code",
   "execution_count": null,
   "metadata": {},
   "outputs": [],
   "source": []
  },
  {
   "cell_type": "code",
   "execution_count": null,
   "metadata": {},
   "outputs": [],
   "source": []
  },
  {
   "cell_type": "code",
   "execution_count": null,
   "metadata": {},
   "outputs": [],
   "source": []
  },
  {
   "cell_type": "code",
   "execution_count": 55,
   "metadata": {},
   "outputs": [
    {
     "name": "stdout",
     "output_type": "stream",
     "text": [
      "1\n",
      "1\n",
      "0\n"
     ]
    }
   ],
   "source": [
    "import sys\n",
    "\n",
    "class UnionFind:\n",
    "    def __init__(self, length):\n",
    "        self.parent_indexes = [-1]* length\n",
    "        \n",
    "    def union(self, i, j):\n",
    "        if self.are_in_the_same_group(i, j):\n",
    "            return\n",
    "        # iが所属する集団のサイズ>=jが所属する集団のサイズにする\n",
    "        if self.get_group_size(i) < self.get_group_size(j):\n",
    "            i, j = j, i\n",
    "        self.parent_indexes[self.find(i)] = - self.get_group_size(i) - self.get_group_size(j)\n",
    "        self.parent_indexes[self.find(j)] = self.find(i)\n",
    "        \n",
    "    # i番目の要素が所属する集団の親nodeのindexを返す\n",
    "    # メモ化もする\n",
    "    def find(self, i):\n",
    "        if self.parent_indexes[i] < 0:\n",
    "            return i\n",
    "        parent_index = self.find(self.parent_indexes[i])\n",
    "        self.parent_indexes[i] = parent_index\n",
    "        return parent_index\n",
    "\n",
    "    def get_group_size(self, i):\n",
    "        return - self.parent_indexes[self.find(i)]\n",
    "    \n",
    "    def are_in_the_same_group(self, i, j):\n",
    "        return self.find(i) == self.find(j)\n",
    "\n",
    "\n",
    "\n",
    "\n",
    "n = int(input())\n",
    "a = list(map(lambda x: int(x), input().split()))\n",
    "\n",
    "if len(a) == 1:\n",
    "    print(0)\n",
    "else:\n",
    "    if len(a) % 2 == 0:\n",
    "        left = len(a) // 2 - 1\n",
    "        right = left + 1\n",
    "    else:\n",
    "        left = len(a) // 2 - 1\n",
    "        right = left + 2\n",
    "\n",
    "    l, r = left, right\n",
    "    values = set()\n",
    "    while 0 <= l:\n",
    "        if a[l] != a[r]:\n",
    "            values.add(a[l])\n",
    "            values.add(a[r])\n",
    "        l -= 1\n",
    "        r += 1\n",
    "\n",
    "\n",
    "    v_to_i = {}\n",
    "    for i, value in enumerate(values):\n",
    "        v_to_i[value] = i\n",
    "\n",
    "    uf = UnionFind(len(values))\n",
    "\n",
    "    l, r = left, right\n",
    "    ans = 0\n",
    "    while 0 <= l:\n",
    "        if a[l] != a[r]:\n",
    "            if not uf.are_in_the_same_group(v_to_i[a[l]], v_to_i[a[r]]):\n",
    "                ans += 1\n",
    "                uf.union(v_to_i[a[l]], v_to_i[a[r]])\n",
    "        l -= 1\n",
    "        r += 1\n",
    "    print(ans)\n",
    "        "
   ]
  },
  {
   "cell_type": "code",
   "execution_count": 81,
   "metadata": {},
   "outputs": [
    {
     "name": "stdout",
     "output_type": "stream",
     "text": [
      "1 1000000\n",
      "set()\n",
      "0\n"
     ]
    }
   ],
   "source": [
    "import math\n",
    "\n",
    "l, r = list(map(lambda x: int(x), input().split()))\n",
    "\n",
    "ans = set()\n",
    "dividers = set(range(1, l))\n",
    "\n",
    "for d in range(2, l):\n",
    "    if d not in dividers:\n",
    "        continue\n",
    "    # remove multiples of d from dividers\n",
    "    for j in range(1, (l-1) // d + 1):\n",
    "#         print(d, j * d)\n",
    "        if j * d in dividers:\n",
    "            dividers.remove(j * d)\n",
    "#     print(d)\n",
    "\n",
    "\n",
    "    # find pairs in the range\n",
    "    min_mod = math.ceil(l / d)\n",
    "    max_mod = int(r // d)\n",
    "    \n",
    "#     print(d, min_mod, max_mod)\n",
    "#     ans.add()\n",
    "#     n = max_mod - min_mod + 1\n",
    "    \n",
    "    for x in range(min_mod, max_mod + 1):\n",
    "        for y in range(min_mod, max_mod + 1):\n",
    "            if x == y: continue\n",
    "            if max(x, y) % min(x, y) == 0: continue\n",
    "            ans.add((d * x, d * y))\n",
    "        \n",
    "#     ans += n * (n-1)\n",
    "    \n",
    "\n",
    "print(len(ans))\n",
    "    \n",
    "    \n",
    "\n",
    "        "
   ]
  },
  {
   "cell_type": "markdown",
   "metadata": {},
   "source": [
    "# l, r"
   ]
  },
  {
   "cell_type": "code",
   "execution_count": null,
   "metadata": {},
   "outputs": [],
   "source": []
  }
 ],
 "metadata": {
  "kernelspec": {
   "display_name": "Python 3",
   "language": "python",
   "name": "python3"
  },
  "language_info": {
   "codemirror_mode": {
    "name": "ipython",
    "version": 3
   },
   "file_extension": ".py",
   "mimetype": "text/x-python",
   "name": "python",
   "nbconvert_exporter": "python",
   "pygments_lexer": "ipython3",
   "version": "3.8.1"
  }
 },
 "nbformat": 4,
 "nbformat_minor": 4
}
