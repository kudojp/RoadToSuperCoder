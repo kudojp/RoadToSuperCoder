{
 "cells": [
  {
   "cell_type": "markdown",
   "metadata": {},
   "source": [
    "# 1636. Sort Array by Increasing Frequency\n",
    "\n",
    "Given an array of integers nums, sort the array in increasing order based on the frequency of the values. If multiple values have the same frequency, sort them in decreasing order.\n",
    "\n",
    "Return the sorted array."
   ]
  },
  {
   "cell_type": "code",
   "execution_count": 13,
   "metadata": {},
   "outputs": [],
   "source": [
    "class Solution(object):\n",
    "    def frequencySort(self, nums):\n",
    "        \"\"\"\n",
    "        :type nums: List[int]\n",
    "        :rtype: List[int]\n",
    "        \"\"\"\n",
    "        nums = list(map(lambda x: x+100, nums))\n",
    "        # print(nums)\n",
    "\n",
    "        occurence = [0] * 201\n",
    "        for num in nums:\n",
    "            occurence[num] += 1\n",
    "\n",
    "        # print(occurence)\n",
    "\n",
    "        value_list = list(range(0, 201))\n",
    "        value_list = list(filter(lambda x: occurence[x] > 0, value_list))\n",
    "        occurence = list(filter(lambda x: x > 0, occurence))\n",
    "        sorted_value_list = [value for value, occu in sorted(zip(reversed(value_list),reversed(occurence)), key=lambda pair: pair[1])]\n",
    "\n",
    "        value_to_occu = dict()\n",
    "        for value, occu in sorted(zip(value_list, occurence)):\n",
    "            value_to_occu[value] = occu\n",
    "\n",
    "        # print(occurence, value_list)\n",
    "\n",
    "        # print(sorted_value_list)\n",
    "        ret = []\n",
    "        for value in sorted_value_list:\n",
    "            ret.extend([value] * value_to_occu[value])\n",
    "\n",
    "        return list(map(lambda x: x-100 , ret))"
   ]
  },
  {
   "cell_type": "markdown",
   "metadata": {},
   "source": [
    "## 学んだこと\n",
    "\n",
    "リストのソートには以下が有用。結局一つ目は使わなかった。二つ目はあるリストを、同じ長さのもう一つのリストの値の順に並び替える時に有能。思いつかなかった。\n",
    "\n",
    "- `sorted(list1, keys=xxx)`\n",
    "- `[val1 for val1, val2 in zip(list1, list2), key=lambda pair: pair[0])]`\n",
    "    - (例)val2をrange(0, len(lits1)にして、listが大きい順にどんな順に並んでいるかを表すインデックスのリストを得る、など"
   ]
  },
  {
   "cell_type": "markdown",
   "metadata": {},
   "source": [
    "# 1637. Widest Vertical Area Between Two Points Containing No Points\n",
    "\n",
    "Given n points on a 2D plane where points[i] = [xi, yi], Return the widest vertical area between two points such that no points are inside the area.\n",
    "\n",
    "A vertical area is an area of fixed-width extending infinitely along the y-axis (i.e., infinite height). The widest vertical area is the one with the maximum width.\n",
    "\n",
    "Note that points on the edge of a vertical area are not considered included in the area."
   ]
  },
  {
   "cell_type": "code",
   "execution_count": null,
   "metadata": {},
   "outputs": [],
   "source": []
  },
  {
   "cell_type": "code",
   "execution_count": 29,
   "metadata": {},
   "outputs": [
    {
     "name": "stdout",
     "output_type": "stream",
     "text": [
      "91\n"
     ]
    }
   ],
   "source": [
    "# y does not matter\n",
    "\n",
    "points = [[8,7],[9,9],[7,4],[100,7]]\n",
    "# for x, y in points:\n",
    "    \n",
    "max_width = 0\n",
    "sorted_x = list(sorted(list(map(lambda x: x[0], points))))\n",
    "x_before = sorted_x[0]\n",
    "\n",
    "for x in sorted_x:\n",
    "    max_width = max(max_width, x - x_before)\n",
    "    x_before = x\n",
    "    \n",
    "print(max_width)"
   ]
  },
  {
   "cell_type": "markdown",
   "metadata": {},
   "source": [
    "# 1638. Count Substrings That Differ by One Character\n",
    "\n",
    "Given two strings s and t, find the number of ways you can choose a non-empty substring of s and replace a single character by a different character such that the resulting substring is a substring of t. In other words, find the number of substrings in s that differ from some substring in t by exactly one character.\n",
    "\n",
    "For example, the underlined substrings in \"computer\" and \"computation\" only differ by the 'e'/'a', so this is a valid way.\n",
    "\n",
    "Return the number of substrings that satisfy the condition above.\n",
    "\n",
    "A substring is a contiguous sequence of characters within a string."
   ]
  },
  {
   "cell_type": "markdown",
   "metadata": {},
   "source": [
    "## memo\n",
    "\n",
    "a => d, x, y, f\n",
    "a&d\n",
    "ab => +x, +y (2)\n",
    "\n",
    "a&x => +x/y (0)\n",
    "\n",
    "abc, adc\n",
    "\n",
    "a => a,d,c\n",
    "a&a"
   ]
  },
  {
   "cell_type": "code",
   "execution_count": 12,
   "metadata": {},
   "outputs": [
    {
     "name": "stdout",
     "output_type": "stream",
     "text": [
      "1 1\n",
      "1 2\n",
      "1 3\n",
      "2 1\n",
      "2 2\n",
      "2 3\n",
      "3 1\n",
      "3 2\n",
      "3 3\n"
     ]
    },
    {
     "data": {
      "text/plain": [
       "10"
      ]
     },
     "execution_count": 12,
     "metadata": {},
     "output_type": "execute_result"
    }
   ],
   "source": [
    "s = \"abe\"\n",
    "t = \"bbc\"\n",
    "\n",
    "\n",
    "cnt = 0\n",
    "for i_s, c_s in enumerate(s):\n",
    "    i_s_stored = i_s #### 忘れてた\n",
    "    for i_t, c_t in enumerate(t):\n",
    "        i_s = i_s_stored\n",
    "        if c_s == c_t:\n",
    "            should_differ_somewhere = True\n",
    "            i_s += 1\n",
    "            i_t += 1\n",
    "        else:\n",
    "            should_differ_somewhere = False\n",
    "            cnt += 1\n",
    "            i_s += 1\n",
    "            i_t += 1\n",
    "        print(i_s, i_t)\n",
    "        while (i_s < len(s)) and (i_t < len(t)):\n",
    "            if should_differ_somewhere:\n",
    "                if s[i_s] != t[i_t]:\n",
    "                    should_differ_somewhere = False\n",
    "                    cnt += 1\n",
    "                i_s += 1\n",
    "                i_t += 1\n",
    "                continue\n",
    "            \n",
    "            \n",
    "            if s[i_s] != t[i_t]:\n",
    "                break\n",
    "            cnt += 1\n",
    "            i_s += 1\n",
    "            i_t += 1\n",
    "            \n",
    "            \n",
    "cnt"
   ]
  },
  {
   "cell_type": "code",
   "execution_count": null,
   "metadata": {},
   "outputs": [],
   "source": []
  }
 ],
 "metadata": {
  "kernelspec": {
   "display_name": "Python 3",
   "language": "python",
   "name": "python3"
  },
  "language_info": {
   "codemirror_mode": {
    "name": "ipython",
    "version": 3
   },
   "file_extension": ".py",
   "mimetype": "text/x-python",
   "name": "python",
   "nbconvert_exporter": "python",
   "pygments_lexer": "ipython3",
   "version": "3.8.1"
  }
 },
 "nbformat": 4,
 "nbformat_minor": 4
}
