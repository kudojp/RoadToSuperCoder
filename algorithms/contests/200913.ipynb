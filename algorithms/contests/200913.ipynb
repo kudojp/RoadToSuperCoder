{
 "cells": [
  {
   "cell_type": "markdown",
   "metadata": {},
   "source": [
    "# A"
   ]
  },
  {
   "cell_type": "code",
   "execution_count": 1,
   "metadata": {},
   "outputs": [
    {
     "name": "stdout",
     "output_type": "stream",
     "text": [
      "1\n",
      "0\n"
     ]
    }
   ],
   "source": [
    "x = int(input())\n",
    "if x == 0:\n",
    "    print('1') \n",
    "if x == 1:\n",
    "    print('0')"
   ]
  },
  {
   "cell_type": "markdown",
   "metadata": {},
   "source": [
    "# B"
   ]
  },
  {
   "cell_type": "code",
   "execution_count": 7,
   "metadata": {},
   "outputs": [
    {
     "name": "stdout",
     "output_type": "stream",
     "text": [
      "3 5 -4 -2\n",
      "-6\n"
     ]
    }
   ],
   "source": [
    "a, b, c, d = map(lambda x: int(x), input().split())\n",
    "print(max(a*c, a*d, b*c, b*d))"
   ]
  },
  {
   "cell_type": "markdown",
   "metadata": {},
   "source": [
    "# C"
   ]
  },
  {
   "cell_type": "code",
   "execution_count": 11,
   "metadata": {},
   "outputs": [
    {
     "name": "stdout",
     "output_type": "stream",
     "text": [
      "869121\n",
      "2511445\n"
     ]
    }
   ],
   "source": [
    "# 0 9 1 2 3 4 5\n",
    "# 0 0 9 1 2 3 4\n",
    "\n",
    "n = int(input())\n",
    "print((10**n - 2*9**n + 8**n) % (10 ** 9 + 7))"
   ]
  },
  {
   "cell_type": "markdown",
   "metadata": {},
   "source": [
    "# D"
   ]
  },
  {
   "cell_type": "code",
   "execution_count": 16,
   "metadata": {},
   "outputs": [
    {
     "name": "stdout",
     "output_type": "stream",
     "text": [
      "2\n",
      "0\n"
     ]
    }
   ],
   "source": [
    "memo = dict()\n",
    "def num_patterns(sum):\n",
    "    if sum < 3:\n",
    "        return 0\n",
    "    if sum < 6:\n",
    "        return 1\n",
    "    if sum in memo.keys():\n",
    "        return memo[sum]\n",
    "    num_seq = 0\n",
    "    for num in range(3, sum-2):\n",
    "        num_seq += num_patterns(sum - num)\n",
    "    # +1 はnum=sumの場合を含めるため\n",
    "    memo[sum] = num_seq + 1\n",
    "    return num_seq + 1\n",
    "\n",
    "n = int(input())\n",
    "print(num_patterns(n) % (10 ** 9 + 7))"
   ]
  },
  {
   "cell_type": "markdown",
   "metadata": {},
   "source": [
    "# E\n",
    "\n",
    "- 何かが間違っているが、どうしても理由がわからなかった。\n",
    "- 後味悪いが、今回は精査せずスキップ"
   ]
  },
  {
   "cell_type": "code",
   "execution_count": 11,
   "metadata": {},
   "outputs": [
    {
     "name": "stdout",
     "output_type": "stream",
     "text": [
      "2\n",
      "1 1\n",
      "1 1\n",
      "0\n"
     ]
    }
   ],
   "source": [
    "n = int(input())\n",
    "\n",
    "edge0 = list(map(lambda x: int(x), input().split()))\n",
    "edge1 = list(map(lambda x: int(x), input().split()))\n",
    "dis = abs(edge0[0]-edge1[0]) + abs(edge0[1]-edge1[1])\n",
    "\n",
    "for _ in range(n-2):\n",
    "    x, y = map(lambda x: int(x), input().split())\n",
    "    if (x < min(edge0[0], edge1[0])) | (max(edge0[0], edge1[0]) < x) | (y < min(edge0[1], edge1[1])) | (max(edge0[1], edge1[1]) < y):\n",
    "        dis_from_edge0 = abs(x-edge0[0]) + abs(y-edge0[1])\n",
    "        dis_from_edge1 = abs(x-edge1[0]) + abs(y-edge1[1])\n",
    "\n",
    "        print(dis_from_edge0, dis_from_edge1)\n",
    "        # 更新なし\n",
    "        if max(dis_from_edge0, dis_from_edge1) <= dis:\n",
    "#             print('#1', edge0, edge1, dis)\n",
    "            continue\n",
    "        # どちらも更新\n",
    "        if min(dis_from_edge0, dis_from_edge1) > dis:\n",
    "            if dis_from_edge0 < dis_from_edge1:\n",
    "                dis = dis_from_edge1\n",
    "                edge0 = [x, y]\n",
    "            else:\n",
    "                dis = dis_from_edge0\n",
    "                edge1 = [x, y]\n",
    "#                 print('#2', edge0, edge1, dis)\n",
    "            continue\n",
    "        if dis_from_edge0 > dis:\n",
    "            dis = dis_from_edge0\n",
    "            edge1 = [x, y]\n",
    "#           print('#3', edge0, edge1, dis)\n",
    "            continue\n",
    "        if dis_from_edge1 > dis:\n",
    "            dis = dis_from_edge1\n",
    "            edge0 = [x, y]\n",
    "            continue\n",
    "print(dis)"
   ]
  },
  {
   "cell_type": "markdown",
   "metadata": {},
   "source": [
    "# E (マンハッタン距離は45度回転)"
   ]
  },
  {
   "cell_type": "code",
   "execution_count": 14,
   "metadata": {},
   "outputs": [
    {
     "name": "stdout",
     "output_type": "stream",
     "text": [
      "2\n",
      "1 1\n",
      "1 1\n",
      "0\n"
     ]
    }
   ],
   "source": [
    "n = int(input())\n",
    "\n",
    "\n",
    "max_z = 0\n",
    "min_z = 10**10\n",
    "max_w = 0\n",
    "min_w = 10**10\n",
    "\n",
    "for _ in range(n):\n",
    "    x, y = map(lambda x: int(x), input().split())\n",
    "    max_z = max(max_z, x + y)\n",
    "    min_z = min(min_z, x + y)\n",
    "    max_w = max(max_w, x - y)\n",
    "    min_w = min(min_w, x - y)\n",
    "\n",
    "print(max(max_z-min_z, max_w-min_w))"
   ]
  },
  {
   "cell_type": "code",
   "execution_count": null,
   "metadata": {},
   "outputs": [],
   "source": []
  }
 ],
 "metadata": {
  "kernelspec": {
   "display_name": "Python 3",
   "language": "python",
   "name": "python3"
  },
  "language_info": {
   "codemirror_mode": {
    "name": "ipython",
    "version": 3
   },
   "file_extension": ".py",
   "mimetype": "text/x-python",
   "name": "python",
   "nbconvert_exporter": "python",
   "pygments_lexer": "ipython3",
   "version": "3.8.1"
  }
 },
 "nbformat": 4,
 "nbformat_minor": 4
}
