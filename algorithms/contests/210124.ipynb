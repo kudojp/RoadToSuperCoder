{
 "cells": [
  {
   "cell_type": "markdown",
   "metadata": {},
   "source": [
    "# A"
   ]
  },
  {
   "cell_type": "code",
   "execution_count": 1,
   "metadata": {},
   "outputs": [
    {
     "name": "stdout",
     "output_type": "stream",
     "text": [
      "111\n",
      "Won\n"
     ]
    }
   ],
   "source": [
    "c = input()\n",
    "print('Won') if c[0] == c[1] == c[2] else print('Lost')\n"
   ]
  },
  {
   "cell_type": "markdown",
   "metadata": {},
   "source": [
    "# B"
   ]
  },
  {
   "cell_type": "code",
   "execution_count": 3,
   "metadata": {},
   "outputs": [
    {
     "name": "stdout",
     "output_type": "stream",
     "text": [
      "1 1 \n",
      "1 1\n",
      "-1\n"
     ]
    }
   ],
   "source": [
    "def sol():\n",
    "    n, remaining = map(lambda x: int(x), input().split())\n",
    "\n",
    "    for i in range(n):\n",
    "        v, p = map(lambda x: int(x), input().split())\n",
    "        remaining -= v * p / 100.0\n",
    "        if remaining < 0:\n",
    "            return i + 1\n",
    "    return -1\n",
    "print(sol())"
   ]
  },
  {
   "cell_type": "markdown",
   "metadata": {},
   "source": [
    "# C\n",
    "C++やpypy3なら以下でTLEしないらしい。"
   ]
  },
  {
   "cell_type": "code",
   "execution_count": 8,
   "metadata": {},
   "outputs": [
    {
     "name": "stdout",
     "output_type": "stream",
     "text": [
      "6\n",
      "200 4 4 9 4 9\n",
      "200\n"
     ]
    }
   ],
   "source": [
    "n = int(input())\n",
    "a = list(map(lambda x: int(x), input().split()))\n",
    "\n",
    "max_total = 0\n",
    "# start\n",
    "for i_start in range(n):  \n",
    "    current_min = 10 ** 4 + 1\n",
    "    # end(inclusive)\n",
    "    for i_end in range(i_start, n):\n",
    "        current_min = min(current_min, a[i_end])\n",
    "        max_total = max(max_total, current_min * (i_end-i_start+1))\n",
    "\n",
    "print(max_total)"
   ]
  },
  {
   "cell_type": "code",
   "execution_count": null,
   "metadata": {},
   "outputs": [],
   "source": []
  }
 ],
 "metadata": {
  "kernelspec": {
   "display_name": "Python 3",
   "language": "python",
   "name": "python3"
  },
  "language_info": {
   "codemirror_mode": {
    "name": "ipython",
    "version": 3
   },
   "file_extension": ".py",
   "mimetype": "text/x-python",
   "name": "python",
   "nbconvert_exporter": "python",
   "pygments_lexer": "ipython3",
   "version": "3.8.1"
  }
 },
 "nbformat": 4,
 "nbformat_minor": 4
}
