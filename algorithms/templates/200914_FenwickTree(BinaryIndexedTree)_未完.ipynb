{
 "cells": [
  {
   "cell_type": "markdown",
   "metadata": {},
   "source": [
    "# B - Fenwick Tree\n",
    "実行時間制限: 5 sec / メモリ制限: 1024 MB\n",
    "\n",
    "問題文\n",
    "長さ N の数列 a0,a1,...,aN−1 に Q 個のクエリが飛んできます。\n",
    "処理してください。\n",
    "- `0 p x`: `ap←ap+x`\n",
    "- `1 l r`: `∑r−1i=lai` を出力する。"
   ]
  },
  {
   "cell_type": "markdown",
   "metadata": {},
   "source": [
    "FenwickTree(BIT)の説明は[これ](http://hos.ac/slides/20140319_bit.pdf)が一番わかりやすそう"
   ]
  },
  {
   "cell_type": "code",
   "execution_count": 6,
   "metadata": {},
   "outputs": [],
   "source": [
    "class FenwickTree:\n",
    "    def __init__(self, size):\n",
    "        self.size = size\n",
    "        # 本当の要素の値\n",
    "        self.data = [0] * (size+1)\n",
    "        # Nodeに入っている数字\n",
    "        self.ele = [0] * (size+1)\n",
    "    def sum(self, i):\n",
    "        s = 0\n",
    "        while i > 0:\n",
    "            s = self.data[i]\n",
    "            i -= i & -i\n",
    "        return s\n",
    "    def add(self, i, x):\n",
    "        self.ele[i] += x\n",
    "        while i <= self.size:\n",
    "            self.data[i] += x\n",
    "            i += i & -i\n",
    "\n",
    "    # jがNoneならi番目の要素を、そうでなければi - j番目の要素の話を返す\n",
    "    def get(self, i, j=None):\n",
    "        if j is None:\n",
    "            return self.ele[i]\n",
    "        return self.sum(j) - self.sum(i)"
   ]
  },
  {
   "cell_type": "code",
   "execution_count": 8,
   "metadata": {
    "scrolled": true
   },
   "outputs": [],
   "source": [
    "fw = FenwickTree(10)"
   ]
  },
  {
   "cell_type": "code",
   "execution_count": 26,
   "metadata": {},
   "outputs": [
    {
     "data": {
      "text/plain": [
       "(10, [0, 0, 0, 12, -8, 0, 0, 0, -108, 0, 0])"
      ]
     },
     "execution_count": 26,
     "metadata": {},
     "output_type": "execute_result"
    }
   ],
   "source": [
    "fw.size, fw.data"
   ]
  },
  {
   "cell_type": "code",
   "execution_count": 20,
   "metadata": {},
   "outputs": [],
   "source": [
    "fw.add(3, 3)\n"
   ]
  },
  {
   "cell_type": "code",
   "execution_count": 22,
   "metadata": {},
   "outputs": [],
   "source": [
    "fw.add(4,-10)"
   ]
  },
  {
   "cell_type": "code",
   "execution_count": 25,
   "metadata": {},
   "outputs": [],
   "source": [
    "fw.add(8,-100)"
   ]
  },
  {
   "cell_type": "markdown",
   "metadata": {},
   "source": [
    "## 以下TLEだった"
   ]
  },
  {
   "cell_type": "code",
   "execution_count": 117,
   "metadata": {},
   "outputs": [
    {
     "name": "stdout",
     "output_type": "stream",
     "text": [
      "5 5\n",
      "1 2 3 4 5\n",
      "1 0 5\n",
      "15\n",
      "1 2 4\n",
      "7\n",
      "0 3 10\n"
     ]
    },
    {
     "ename": "TypeError",
     "evalue": "object of type 'int' has no len()",
     "output_type": "error",
     "traceback": [
      "\u001b[0;31m---------------------------------------------------------------------------\u001b[0m",
      "\u001b[0;31mTypeError\u001b[0m                                 Traceback (most recent call last)",
      "\u001b[0;32m<ipython-input-117-60b63b0ac358>\u001b[0m in \u001b[0;36m<module>\u001b[0;34m\u001b[0m\n\u001b[1;32m     13\u001b[0m     \u001b[0mi\u001b[0m\u001b[0;34m,\u001b[0m \u001b[0mx\u001b[0m\u001b[0;34m,\u001b[0m \u001b[0my\u001b[0m \u001b[0;34m=\u001b[0m \u001b[0mlist\u001b[0m\u001b[0;34m(\u001b[0m\u001b[0mmap\u001b[0m\u001b[0;34m(\u001b[0m\u001b[0;32mlambda\u001b[0m \u001b[0mx\u001b[0m\u001b[0;34m:\u001b[0m \u001b[0mint\u001b[0m\u001b[0;34m(\u001b[0m\u001b[0mx\u001b[0m\u001b[0;34m)\u001b[0m\u001b[0;34m,\u001b[0m \u001b[0minput\u001b[0m\u001b[0;34m(\u001b[0m\u001b[0;34m)\u001b[0m\u001b[0;34m.\u001b[0m\u001b[0msplit\u001b[0m\u001b[0;34m(\u001b[0m\u001b[0;34m)\u001b[0m\u001b[0;34m)\u001b[0m\u001b[0;34m)\u001b[0m\u001b[0;34m\u001b[0m\u001b[0;34m\u001b[0m\u001b[0m\n\u001b[1;32m     14\u001b[0m     \u001b[0;32mif\u001b[0m \u001b[0mi\u001b[0m \u001b[0;34m==\u001b[0m \u001b[0;36m0\u001b[0m\u001b[0;34m:\u001b[0m\u001b[0;34m\u001b[0m\u001b[0;34m\u001b[0m\u001b[0m\n\u001b[0;32m---> 15\u001b[0;31m         \u001b[0;32mfor\u001b[0m \u001b[0mi\u001b[0m \u001b[0;32min\u001b[0m \u001b[0mrange\u001b[0m\u001b[0;34m(\u001b[0m\u001b[0mx\u001b[0m\u001b[0;34m,\u001b[0m \u001b[0mlen\u001b[0m\u001b[0;34m(\u001b[0m\u001b[0mx\u001b[0m\u001b[0;34m)\u001b[0m\u001b[0;34m)\u001b[0m\u001b[0;34m:\u001b[0m\u001b[0;34m\u001b[0m\u001b[0;34m\u001b[0m\u001b[0m\n\u001b[0m\u001b[1;32m     16\u001b[0m             \u001b[0msum_list_a\u001b[0m\u001b[0;34m[\u001b[0m\u001b[0mi\u001b[0m\u001b[0;34m]\u001b[0m \u001b[0;34m+=\u001b[0m \u001b[0my\u001b[0m\u001b[0;34m\u001b[0m\u001b[0;34m\u001b[0m\u001b[0m\n\u001b[1;32m     17\u001b[0m         \u001b[0;32mcontinue\u001b[0m\u001b[0;34m\u001b[0m\u001b[0;34m\u001b[0m\u001b[0m\n",
      "\u001b[0;31mTypeError\u001b[0m: object of type 'int' has no len()"
     ]
    }
   ],
   "source": [
    "n, q = list(map(lambda x: int(x), input().split()))\n",
    "list_a = list(map(lambda x: int(x), input().split()))\n",
    "\n",
    "# i-th element is sum of subarray: list_a[:i+1]\n",
    "current_sum = 0\n",
    "sum_list_a = []\n",
    "\n",
    "#### ここでO(n)かかっちゃう\n",
    "for ele in list_a:\n",
    "    current_sum += ele\n",
    "    sum_list_a.append(current_sum)\n",
    "\n",
    "for _ in range(q):\n",
    "    i, x, y = list(map(lambda x: int(x), input().split()))\n",
    "    if i == 0:\n",
    "        for i in range(x, n):\n",
    "            sum_list_a[i] += y\n",
    "        continue\n",
    "        \n",
    "    if (x == 0):\n",
    "        print(sum_list_a[y-1])\n",
    "        continue\n",
    "    print(sum_list_a[y-1] - sum_list_a[x-1])"
   ]
  },
  {
   "cell_type": "code",
   "execution_count": null,
   "metadata": {},
   "outputs": [],
   "source": []
  },
  {
   "cell_type": "code",
   "execution_count": null,
   "metadata": {},
   "outputs": [],
   "source": []
  },
  {
   "cell_type": "code",
   "execution_count": null,
   "metadata": {},
   "outputs": [],
   "source": []
  },
  {
   "cell_type": "code",
   "execution_count": null,
   "metadata": {},
   "outputs": [],
   "source": []
  },
  {
   "cell_type": "markdown",
   "metadata": {},
   "source": [
    "# ちょっと関係ない実験(参照に関して)"
   ]
  },
  {
   "cell_type": "code",
   "execution_count": 109,
   "metadata": {},
   "outputs": [
    {
     "data": {
      "text/plain": [
       "[1, 2, 3]"
      ]
     },
     "execution_count": 109,
     "metadata": {},
     "output_type": "execute_result"
    }
   ],
   "source": [
    "a = [1,2,3]\n",
    "for ele in a:\n",
    "    # eleという新たな変数(メモリスペース)に、<1という値>がコピーされて入れられた\n",
    "    # だから元のaに変更なし\n",
    "    ele += 1\n",
    "a"
   ]
  },
  {
   "cell_type": "code",
   "execution_count": 111,
   "metadata": {},
   "outputs": [
    {
     "data": {
      "text/plain": [
       "[[1, 1, 1, 'new'], [2, 2, 2, 'new'], [3, 3, 3, 'new']]"
      ]
     },
     "execution_count": 111,
     "metadata": {},
     "output_type": "execute_result"
    }
   ],
   "source": [
    "a = [[1,1,1],[2,2,2],[3,3,3]]\n",
    "for ele in a:\n",
    "    # eleという新たな変数(メモリスペース)に、<リストaの各要素を指し示す参照値>がコピーされて入れられた\n",
    "    # だから元のaに変更あり\n",
    "    ele.append('new')\n",
    "a"
   ]
  },
  {
   "cell_type": "markdown",
   "metadata": {},
   "source": [
    "## 要はforループを回すとそのカウンターに要素がコピー(ここ重要)されるっぽい"
   ]
  },
  {
   "cell_type": "code",
   "execution_count": 110,
   "metadata": {},
   "outputs": [
    {
     "data": {
      "text/plain": [
       "[2, 2, 3]"
      ]
     },
     "execution_count": 110,
     "metadata": {},
     "output_type": "execute_result"
    }
   ],
   "source": [
    "a = [1,2,3]\n",
    "# a[0]は<1が入ったメモリスペースそのもの>である\n",
    "a[0] += 1\n",
    "a"
   ]
  },
  {
   "cell_type": "code",
   "execution_count": 116,
   "metadata": {},
   "outputs": [
    {
     "data": {
      "text/plain": [
       "[[1, 1, 1, 'new'], [2, 2, 2], [3, 3, 3]]"
      ]
     },
     "execution_count": 116,
     "metadata": {},
     "output_type": "execute_result"
    }
   ],
   "source": [
    "a = [[1,1,1],[2,2,2],[3,3,3]]\n",
    "# a[0]は<[1,1,1]への参照値への参照値>である\n",
    "a[0].append('new')\n",
    "a"
   ]
  },
  {
   "cell_type": "code",
   "execution_count": 108,
   "metadata": {
    "scrolled": true
   },
   "outputs": [
    {
     "data": {
      "text/plain": [
       "3"
      ]
     },
     "execution_count": 108,
     "metadata": {},
     "output_type": "execute_result"
    }
   ],
   "source": [
    "a = 2\n",
    "# aは<2が入ったメモリスペースそのもの>である\n",
    "a += 1\n",
    "a"
   ]
  },
  {
   "cell_type": "code",
   "execution_count": null,
   "metadata": {},
   "outputs": [],
   "source": []
  }
 ],
 "metadata": {
  "kernelspec": {
   "display_name": "Python 3",
   "language": "python",
   "name": "python3"
  },
  "language_info": {
   "codemirror_mode": {
    "name": "ipython",
    "version": 3
   },
   "file_extension": ".py",
   "mimetype": "text/x-python",
   "name": "python",
   "nbconvert_exporter": "python",
   "pygments_lexer": "ipython3",
   "version": "3.8.1"
  }
 },
 "nbformat": 4,
 "nbformat_minor": 4
}
