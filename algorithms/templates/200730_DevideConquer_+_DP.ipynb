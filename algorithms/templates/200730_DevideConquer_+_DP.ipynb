{
 "cells": [
  {
   "cell_type": "markdown",
   "metadata": {},
   "source": [
    "# C - 柱柱柱柱柱\n",
    "実行時間制限: 2 sec / メモリ制限: 256 MB\n",
    "\n",
    "問題文\n",
    "N\n",
    " 本の木の柱が左から右へ一列に並んだアスレチックがあります。左から \n",
    "i\n",
    " 本目の柱の高さは \n",
    "a\n",
    "i\n",
    " センチメートルです。\n",
    "\n",
    "高橋君は左から \n",
    "1\n",
    " 本目の柱からスタートし、右へ柱を渡っていき \n",
    "N\n",
    " 本目の柱まで行こうとしています。\n",
    "\n",
    "高橋君がある柱にいるとき、次には現在の柱から \n",
    "1\n",
    " 個もしくは \n",
    "2\n",
    " 個右にある柱のどちらかへ移動することができます。\n",
    "\n",
    "移動するときには、現在いる柱の高さと、移動後の柱の高さの差の絶対値のぶんだけコストがかかります。\n",
    "\n",
    "N\n",
    " 本目の柱まで行くとき、コストの合計の最小値はいくらになるでしょうか。"
   ]
  },
  {
   "cell_type": "markdown",
   "metadata": {},
   "source": [
    "## ~~再帰関数(深さ優先探索)~~分割統治法を使う"
   ]
  },
  {
   "cell_type": "code",
   "execution_count": 30,
   "metadata": {},
   "outputs": [
    {
     "name": "stdout",
     "output_type": "stream",
     "text": [
      "9\n",
      "314 159 265 358 979 323 846 264 338\n",
      "310\n"
     ]
    }
   ],
   "source": [
    "import sys\n",
    "\n",
    "n = int(input())\n",
    "heights = list(map(lambda x: int(x), input().split()))\n",
    "\n",
    "def cost_func(current_height, remaining_heights):\n",
    "    if len(remaining_heights) == 1:\n",
    "        return abs(remaining_heights[0] - current_height)\n",
    "    if len(remaining_heights) == 2:\n",
    "        cost_with_1step = abs(remaining_heights[1] - current_height)\n",
    "        cost_with_2steps = abs(remaining_heights[0] - current_height) + abs(remaining_heights[1] - current_height)\n",
    "        return min(cost_with_1step, cost_with_2steps)\n",
    "        \n",
    "    cost_after_one_step = abs(remaining_heights[0] - current_height) + cost_func(remaining_heights[0], remaining_heights[1:])\n",
    "    cost_after_two_step = abs(remaining_heights[1] - current_height) + cost_func(remaining_heights[1], remaining_heights[2:])\n",
    "    return min(cost_after_one_step, cost_after_two_step)\n",
    "\n",
    "print(cost_func(heights[0], heights[1:]))"
   ]
  },
  {
   "cell_type": "markdown",
   "metadata": {},
   "source": [
    "## 探索を効率化する　(メモ化 + 工夫)"
   ]
  },
  {
   "cell_type": "code",
   "execution_count": 59,
   "metadata": {},
   "outputs": [
    {
     "name": "stdout",
     "output_type": "stream",
     "text": [
      "3\n",
      "314 159 265 358 979 323 846 264 338\n",
      "310\n",
      "9.147440910339355\n"
     ]
    }
   ],
   "source": [
    "import sys\n",
    "from functools import lru_cache\n",
    "sys.setrecursionlimit(20000) # 再起呼び出しの最大数をセット\n",
    "\n",
    "import time\n",
    "t = time.time()\n",
    "n = int(input())\n",
    "heights = tuple(map(lambda x: int(x), input().split()))\n",
    "\n",
    "# 関数をメモ化\n",
    "@lru_cache(maxsize=None)\n",
    "def cost_func(current_height, remaining_heights):\n",
    "    if len(remaining_heights) == 1:\n",
    "        return abs(remaining_heights[0] - current_height)\n",
    "    if len(remaining_heights) == 2:\n",
    "        cost_with_1step = abs(remaining_heights[1] - current_height)\n",
    "        cost_with_2steps = abs(remaining_heights[0] - current_height) + abs(remaining_heights[1] - current_height)\n",
    "        return min(cost_with_1step, cost_with_2steps)\n",
    "    \n",
    "    # 短調増加中は全部一歩で進む\n",
    "#     # (1) 2 3 4 5 -10　だと　i=4でエラー、i=2までは短調増加でどちらでok\n",
    "#     first_gap = remaining_heights[0] - current_height\n",
    "#     for i in range(1, len(remaining_heights)):\n",
    "#         if  (remaining_heights[i] - remaining_heights[i-1]) * first_gap <= 0:\n",
    "#             break\n",
    "#     if i >= 3:\n",
    "#         return remaining_heights[i-1] - current_height + cost_func(remaining_heights[i-1], remaining_heights[i-2:])\n",
    "    if len(remaining_heights) >= 3:\n",
    "        if (current_height < remaining_heights[0]) & (remaining_heights[0] < remaining_heights[1]) & (remaining_heights[1] < remaining_heights[2]):\n",
    "            for i in range(len(remaining_heights)-3):\n",
    "                if remaining_heights[i+2] < remaining_heights[i+3]:\n",
    "                    break\n",
    "            if i > 0:\n",
    "                return abs(remaining_heights[i] - current_height) + cost_func(remaining_heights[i], remaining_heights[i+1:])\n",
    "        elif (current_height > remaining_heights[0]) & (remaining_heights[0] > remaining_heights[1]) & (remaining_heights[1] > remaining_heights[2]):\n",
    "            for i in range(len(remaining_heights)-3):\n",
    "                if remaining_heights[i+2] > remaining_heights[i+3]:\n",
    "                    break\n",
    "            if i > 0:\n",
    "                return abs(remaining_heights[i] - current_height) + cost_func(remaining_heights[i], remaining_heights[i+1:])\n",
    "    \n",
    "        \n",
    "    cost_after_one_step = abs(remaining_heights[0] - current_height) + cost_func(remaining_heights[0], remaining_heights[1:])\n",
    "    cost_after_two_step = abs(remaining_heights[1] - current_height) + cost_func(remaining_heights[1], remaining_heights[2:])\n",
    "    return min(cost_after_one_step, cost_after_two_step)\n",
    "\n",
    "print(cost_func(heights[0], heights[1:]))\n",
    "# print(time.time() - t)"
   ]
  },
  {
   "cell_type": "markdown",
   "metadata": {},
   "source": [
    "## 動的計画法(DP)でいけた\n",
    "\n",
    "\n",
    "[リンク先の画像](https://qiita-user-contents.imgix.net/https%3A%2F%2Fqiita-image-store.s3.amazonaws.com%2F0%2F182963%2F32c1c785-f7ad-cb18-3b1d-e34d20cec6b7.jpeg?ixlib=rb-1.2.2&auto=format&gif-q=60&q=75&s=a736fce3cf33e34ca41e48a1c27894f7)を参考に。"
   ]
  },
  {
   "cell_type": "code",
   "execution_count": 68,
   "metadata": {},
   "outputs": [
    {
     "name": "stdout",
     "output_type": "stream",
     "text": [
      "9\n",
      "314 159 265 358 979 323 846 264 338\n",
      "310\n"
     ]
    }
   ],
   "source": [
    "n = int(input())\n",
    "heights = list(map(lambda x: int(x), input().split()))\n",
    "\n",
    "costs = [0, abs(heights[1] - heights[0])]\n",
    "\n",
    "for i in range(2, n):\n",
    "    costs.append(min(costs[i-2] + abs(heights[i] - heights[i-2]), costs[i-1] + abs(heights[i] - heights[i-1])))\n",
    "\n",
    "print(costs[-1])"
   ]
  },
  {
   "cell_type": "markdown",
   "metadata": {},
   "source": []
  },
  {
   "cell_type": "markdown",
   "metadata": {},
   "source": [
    "# 考察\n",
    "\n",
    "- 結局DPで一瞬だった。果たして深さ優先探索って本当に再帰+メモ化でやらないといけないパターンはあるのか？\n",
    "\n",
    "## 深さ優先探索(再帰)と動的計画法の違いは？\n",
    "\n",
    "- なんとなく関係している気がするが、これらの概念を今はうまく結び付けて説明することはできない(またいつか)\n",
    "\n",
    "\n",
    "- 深さ優先探索していく上で、全ての経路を探索する必要はない、つまり、ある深さのnodeに達した時の、その深さまでのなんらかの計算値が最小になる場合のみを考えるとする。と、深く深く進んでいくと同時に、その深さで最小のpathだけを考えて、その続きのみDFSしていけばいいことになる。これがDPが深さ優先探索の絞られたバージョンである感覚を自分が受ける理由ではないだろうか。\n",
    "\n",
    "\n",
    "## 貪欲法と動的計画法の違いは？\n",
    "\n",
    "- 貪欲法はその瞬間に得する方法を選択する。つまり今回の問題なら自分の今の位置から見て１個先か２個先のうちコストが低い方を選んで飛んで一歩一歩進んでいく。\n",
    "- 動的計画法は過去の選択の結果を考慮して一歩一歩進んでいく。\n",
    "- 深さ優先探索は総当たりのため、後戻りもする。"
   ]
  },
  {
   "cell_type": "code",
   "execution_count": null,
   "metadata": {},
   "outputs": [],
   "source": []
  }
 ],
 "metadata": {
  "kernelspec": {
   "display_name": "Python 3",
   "language": "python",
   "name": "python3"
  },
  "language_info": {
   "codemirror_mode": {
    "name": "ipython",
    "version": 3
   },
   "file_extension": ".py",
   "mimetype": "text/x-python",
   "name": "python",
   "nbconvert_exporter": "python",
   "pygments_lexer": "ipython3",
   "version": "3.8.1"
  }
 },
 "nbformat": 4,
 "nbformat_minor": 4
}