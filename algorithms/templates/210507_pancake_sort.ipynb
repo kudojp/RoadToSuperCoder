{
 "cells": [
  {
   "cell_type": "markdown",
   "metadata": {},
   "source": [
    "# ビルゲイツの離婚から見るパンケーキソート"
   ]
  },
  {
   "cell_type": "markdown",
   "metadata": {},
   "source": [
    "# ビルゲイツが離婚した、、、\n",
    "\n",
    "ビル・ゲイツさんとメリンダ・ゲイツさん、離婚発表　結婚27年\n",
    "2021年5月4日\n",
    "Melinda and Bill Gates画像提供,GETTY IMAGES\n",
    "画像説明,\n",
    "メリンダ・ゲイツさんとビル・ゲイツさんは長年、人道活動などに巨額寄付を重ねてきた。写真は2018年の夫妻\n",
    "\n",
    "米マイクロソフト共同創業者のビル・ゲイツさんと妻メリンダ・ゲイツさんは3日、離婚を発表した。結婚27年の夫妻は声明で、「もはやカップルとして一緒に成長できると、もう思えなくなった」と離婚の理由を説明した。\n",
    "\n",
    "ゲイツ夫妻はツイッターで、「熟慮して、お互いの関係性について大いに努力した末、私たちは結婚を終わらせることにした」と書いた。\n",
    "\n",
    "「過去27年間、私たちは3人の素晴らしい子供を育て、世界中の人が健康的で生産的な人生を送れるようにするため世界中で働く財団を作り上げた」と、夫妻は声明で述べた。\n",
    "\n",
    "「私たちは引き続き、その使命を同じように信じているし、今後も財団で共に働き続けるけれども、人生の次の段階において、もはやカップルとして一緒に成長できると、もう思えなくなった」と、離婚理由を説明した。\n",
    "\n",
    "![title](https://ichef.bbci.co.uk/news/800/cpsprodpb/81C5/production/_118312233_gates.jpg)\n",
    "\n",
    "引用: https://www.bbc.com/japanese/56976033\n",
    "\n",
    "\n",
    "## `ビルゲイツ` → `パンケーキソート`！"
   ]
  },
  {
   "cell_type": "markdown",
   "metadata": {},
   "source": [
    "# パンケーキソート\n",
    "\n",
    "## pancake sortとは？\n",
    "\n",
    "パンケーキソート(Pancake sorting)は、ある数列を大きさ順に並べる際に先頭から何番目かまでをひっくり返す最小の手数を求める問題である。\n",
    "\n",
    "\n",
    "\n",
    "![title](https://iq.opengenus.org/content/images/2020/07/pancake_Sort.png)\n",
    "\n",
    "画像引用: https://iq.opengenus.org/pancake-sort/\n",
    "\n",
    "\n",
    "## どうして`ビルゲイツ → パンケーキソート`なの？\n",
    "\n",
    "後述するナイーブな方法では、ソートに`O(n**2)`時間掛かってしまう。\n",
    "\n",
    "1979年、当時大学2年生のゲイツはこの問題の効率的な解法を思いつき、`Bounds for Sorting by Prefix Reversal`という彼の唯一の学術論文において、`O((5n + 5)/3)`時間でsortできることを発見した。\n",
    "\n",
    "これは30年後に、テキサス大学の研究者が`O(18n/11)`時間でソートするアルゴリズムを発見するまで最高記録を保持していた。\n",
    "\n",
    "\n",
    "参考: https://en.wikipedia.org/wiki/Pancake_sorting"
   ]
  },
  {
   "cell_type": "code",
   "execution_count": 1,
   "metadata": {},
   "outputs": [],
   "source": [
    "cakes = [1, 3, 4, 6, 5, 2, 10]"
   ]
  },
  {
   "cell_type": "markdown",
   "metadata": {},
   "source": [
    "## ナイーブな解き方(O(n^2)時間かかる)\n",
    "\n",
    "\n",
    "#### アイデア\n",
    "\n",
    "(1)１番左の要素から順番に配列を右端までtraverseする。その中で最大の要素に関して、それより左を丸ごとflipする。これにより一番最初に最大の要素がくることが保証される。\n",
    "\n",
    "(2)パンケーキ全体をひっくり返す。これにより最大の要素は一番左端にくる\n",
    "\n",
    "(1),(2)の操作を、traverse範囲を一個ずつ減らしながらn回繰り返す"
   ]
  },
  {
   "cell_type": "code",
   "execution_count": 22,
   "metadata": {},
   "outputs": [],
   "source": [
    "def pancake_sort(arr):\n",
    "    for right_bound_idx in range(len(arr)-1, 0, -1):\n",
    "\n",
    "        \n",
    "        idx_of_max_ele = find_index_of_max_ele(arr, 0, right_bound_idx)\n",
    "        \n",
    "        flip(arr, 0, idx_of_max_ele)\n",
    "        flip(arr, 0, right_bound_idx)\n",
    "    return arr\n",
    "        \n",
    "\n",
    "# helper1\n",
    "def find_index_of_max_ele(arr, left, right):\n",
    "    max_val = arr[left]\n",
    "    max_idx = left\n",
    "    \n",
    "    for idx in range(left+1, right+1):\n",
    "        if max_val < arr[idx]:\n",
    "            max_val = arr[idx]\n",
    "            max_idx = idx\n",
    "    return max_idx\n",
    "\n",
    "# helper2\n",
    "def flip(arr, left, right):\n",
    "    # use 2 pointers\n",
    "    while left < right:\n",
    "        arr[left], arr[right] = arr[right], arr[left]\n",
    "        left += 1\n",
    "        right -= 1    "
   ]
  },
  {
   "cell_type": "code",
   "execution_count": 23,
   "metadata": {},
   "outputs": [
    {
     "data": {
      "text/plain": [
       "[1, 2, 3, 4, 5, 6, 10]"
      ]
     },
     "execution_count": 23,
     "metadata": {},
     "output_type": "execute_result"
    }
   ],
   "source": [
    "cakes = [1, 3, 4, 6, 5, 2, 10]\n",
    "\n",
    "pancake_sort(cakes)"
   ]
  },
  {
   "cell_type": "markdown",
   "metadata": {},
   "source": []
  },
  {
   "cell_type": "markdown",
   "metadata": {},
   "source": [
    "## ビルゲイツの解き方\n",
    "\n",
    "残念ながらゲイツの論文(11ページ)を理解するまでには至っていないので、興味がある方、一緒に輪読会しましょう。\n",
    "\n",
    "論文は、https://www.sciencedirect.com/science/article/pii/0012365X79900682"
   ]
  },
  {
   "cell_type": "markdown",
   "metadata": {},
   "source": [
    "## 最後に\n",
    "\n",
    "Bill Gatesはもうパンケーキを愛する家族のためにひっくり返すことはないのだろうか？\n",
    "それはそれで寂しいものがある。\n",
    "\n",
    "\n",
    "\n",
    "\n"
   ]
  },
  {
   "cell_type": "code",
   "execution_count": null,
   "metadata": {},
   "outputs": [],
   "source": []
  }
 ],
 "metadata": {
  "kernelspec": {
   "display_name": "Python 3",
   "language": "python",
   "name": "python3"
  },
  "language_info": {
   "codemirror_mode": {
    "name": "ipython",
    "version": 3
   },
   "file_extension": ".py",
   "mimetype": "text/x-python",
   "name": "python",
   "nbconvert_exporter": "python",
   "pygments_lexer": "ipython3",
   "version": "3.8.1"
  }
 },
 "nbformat": 4,
 "nbformat_minor": 4
}
