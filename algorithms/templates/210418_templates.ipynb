{
 "cells": [
  {
   "cell_type": "markdown",
   "metadata": {},
   "source": [
    "# 幅優先探索\n",
    "\n",
    "https://twitter.com/kdjp20/status/1364239574579302402"
   ]
  },
  {
   "cell_type": "markdown",
   "metadata": {},
   "source": [
    "# 深さ優先探索\n",
    "\n",
    "https://twitter.com/kdjp20/status/1364239574579302402\n",
    "\n",
    "一点気をつけたいのが、depth。depth = 0を最初に宣言し、深さごとのループの最初に`depth += 1`するわけだが、一番深いレベルにおいては、新しくqに追加するnodeがないにも関わらず+1してしまっている。(自分の実装では、depthは、そのループで新しく探索される、つまり新しくqに入れられるnodeのdepthを表している。)\n",
    "\n",
    "従って、一番深いdepth(0-index)を求めるには、ループの後に`depth -= 1`してやる必要がある。木のheightを求めるのであればこのdepthがそのまま答えになる。(`depth - 1 + 1 = depth`になるので)\n"
   ]
  },
  {
   "cell_type": "markdown",
   "metadata": {},
   "source": [
    "# bisect\n",
    "\n",
    "- bisect_left と bisect_rightの使い分け https://twitter.com/kdjp20/status/1424250217268871170\n",
    "- bisect_left と bisect_rightの実装 https://twitter.com/kdjp20/status/1366717910815633410\n"
   ]
  },
  {
   "cell_type": "markdown",
   "metadata": {},
   "source": [
    "# inorder-traversal in BST\n",
    "\n",
    "### iteratively\n",
    "https://twitter.com/kdjp20/status/1355171035402788867"
   ]
  },
  {
   "cell_type": "code",
   "execution_count": null,
   "metadata": {},
   "outputs": [],
   "source": [
    "# recursively\n",
    "def inorder_traveral(root):\n",
    "    if root is None: return []\n",
    "    return self.inorder_traveral(root.left) + [root.val] + self.inorder_traveral(root.right)\n",
    "\n",
    "inorder(root)"
   ]
  },
  {
   "cell_type": "markdown",
   "metadata": {},
   "source": [
    "# Reverse Linked List\n",
    "→ https://www.youtube.com/watch?v=O0By4Zq0OFc\n",
    "\n",
    "https://leetcode.com/problems/reverse-linked-list/\n",
    "\n",
    "Given the head of a singly linked list, reverse the list, and return the reversed list.\n",
    "\n",
    "\n",
    "#### Iterative solution\n",
    "cursor的なものが走るイメージ\n",
    "\n",
    "Time : O(N), Space: O(1)\n"
   ]
  },
  {
   "cell_type": "code",
   "execution_count": null,
   "metadata": {},
   "outputs": [],
   "source": [
    "class Solution:\n",
    "    def reverseList(self, head: ListNode) -> ListNode:\n",
    "        prev = None\n",
    "        curr = head\n",
    "        \n",
    "        while curr is not None:\n",
    "            next = curr.next # keep it\n",
    "            curr.next = prev\n",
    "            \n",
    "            prev = curr\n",
    "            curr = next\n",
    "        \n",
    "        return prev"
   ]
  },
  {
   "cell_type": "markdown",
   "metadata": {},
   "source": [
    "#### Recursive solution\n",
    "\n",
    "引数のhead以降のlistをreverseし、新しいheadを返す。\n",
    "recursion stackにより、spaceがO(N)かかってしまう。\n",
    "\n",
    "Time : O(N), Space: O(N)"
   ]
  },
  {
   "cell_type": "code",
   "execution_count": null,
   "metadata": {},
   "outputs": [],
   "source": [
    "class Solution:\n",
    "    def reverseList(self, head: ListNode) -> ListNode:    \n",
    "        # head is Noneとなるのは、もともとの呼び出し時のheadがNoneの場合のみ。\n",
    "        # 基本的にlistにNodeが一つの場合にreturn headしている。\n",
    "        # head.next is Noneの判定がないと、head.next.nextの判定(line10)でエラーを吐く。\n",
    "        if head is None or head.next is None:\n",
    "            return head\n",
    "        \n",
    "        new_head = self.reverseList(head.next)\n",
    "        # head.nextはreverseされた後も指し示されるnodeは変わらず、reverseされたlistのtailのnodeを指している。\n",
    "        head.next.next = head\n",
    "        # headがこのfucntionで返すlistのtailのNodeになる\n",
    "        head.next = None\n",
    "        return new_head\n"
   ]
  },
  {
   "cell_type": "markdown",
   "metadata": {},
   "source": [
    "## Segment Tree (top-downでrecursion)\n",
    "\n",
    "https://leetcode.com/articles/a-recursive-approach-to-segment-trees-range-sum-queries-lazy-propagation/#  \n",
    "https://leetcode.com/problems/range-sum-query-mutable/solution/ をもとに実装"
   ]
  },
  {
   "cell_type": "code",
   "execution_count": 230,
   "metadata": {},
   "outputs": [],
   "source": [
    "import math\n",
    "class SegmentTree:\n",
    "    def __init__(self, nums):\n",
    "        self.nums = nums\n",
    "        self.l = [None] * len(nums) * 4    # enough slots(3だとダメなケースがあった......... https://leetcode.com/submissions/detail/509925769/)\n",
    "        self._build_tree(0, 0, len(nums)-1)\n",
    "\n",
    "    # Args:\n",
    "    #   left_boundary, right_boundary: range of original \"nums\" which returned tree should be respoonsible for\n",
    "    def _build_tree(self, curr_idx, curr_left, curr_right):\n",
    "\n",
    "        if curr_left == curr_right:\n",
    "            self.l[curr_idx] = self.nums[curr_left]\n",
    "            return self.l[curr_idx]\n",
    "\n",
    "        child_boundary = (curr_left + curr_right) // 2\n",
    "        # tree(index = idx) has children: idx*2, idx*2+1\n",
    "        left_sum = self._build_tree(curr_idx*2 + 1, curr_left, child_boundary)\n",
    "        right_sum = self._build_tree(curr_idx*2 + 2, child_boundary+1, curr_right)\n",
    "        self.l[curr_idx] = left_sum + right_sum\n",
    "        return self.l[curr_idx]\n",
    "\n",
    "    def update(self, idx, num):\n",
    "        added_num = num - self.nums[idx]\n",
    "        self.nums[idx] = num ######################## 忘れないように要注意\n",
    "\n",
    "        curr_idx = 0\n",
    "        curr_left = 0\n",
    "        curr_right = len(self.nums)-1\n",
    "\n",
    "        while curr_left < curr_right:\n",
    "            self.l[curr_idx] += added_num\n",
    "\n",
    "            # left child is responsible for range <= child_boundary\n",
    "            # right child is responsible for child_buondary + 1 <= range\n",
    "            child_boundary = (curr_left + curr_right) // 2\n",
    "            if idx <= child_boundary:\n",
    "                # go down to left\n",
    "                curr_idx = curr_idx * 2 + 1\n",
    "                curr_right = child_boundary\n",
    "            else:\n",
    "                # go down to right\n",
    "                curr_idx = curr_idx * 2 + 2\n",
    "                curr_left = child_boundary + 1\n",
    "\n",
    "        # here, curr_right_boundary = curr_left_boundary = curr_idx\n",
    "        self.l[curr_idx] += added_num\n",
    "\n",
    "    def sumRange(self, left, right):\n",
    "        curr_idx = 0\n",
    "        return self._sum_range_inner(0, 0, len(self.nums)-1, left, right)\n",
    "\n",
    "    # Args:\n",
    "    #   curr_left, curr_right: range which current node is respoonsible for\n",
    "    #   left, rightは最初に与えられた範囲(変えなくて良い)\n",
    "    def _sum_range_inner(self, curr_idx, curr_left, curr_right, left, right): \n",
    "\n",
    "        if curr_right < left or right < curr_left:\n",
    "            return 0\n",
    "        if left <= curr_left and curr_right <= right:\n",
    "            return self.l[curr_idx]\n",
    "\n",
    "        # left child is responsible for range <= child_boundary\n",
    "        # right child is responsible for child_buondary + 1 <= range\n",
    "        child_boundary = (curr_left + curr_right) // 2\n",
    "\n",
    "        left_child_sum = self._sum_range_inner(\n",
    "            curr_idx * 2 + 1, curr_left, child_boundary, left, right)\n",
    "        right_child_sum = self._sum_range_inner(\n",
    "            curr_idx * 2 + 2, child_boundary+1, curr_right, left, right)\n",
    "        return left_child_sum + right_child_sum\n"
   ]
  },
  {
   "cell_type": "code",
   "execution_count": 211,
   "metadata": {},
   "outputs": [
    {
     "name": "stdout",
     "output_type": "stream",
     "text": [
      "0 0 2 $ 1 2\n",
      "1 0 1 $ 1 2\n",
      "3 0 0 $ 1 2\n",
      "4 1 1 $ 1 2\n",
      "2 2 2 $ 1 2\n"
     ]
    },
    {
     "data": {
      "text/plain": [
       "5"
      ]
     },
     "execution_count": 211,
     "metadata": {},
     "output_type": "execute_result"
    }
   ],
   "source": [
    "st.sumRange(1,2)"
   ]
  },
  {
   "cell_type": "markdown",
   "metadata": {},
   "source": [
    "# Topogical sort\n",
    "\n",
    "トポロジカルソートは、グラフ理論において、有向非巡回グラフ（directed acyclic graph, DAG）の各ノードを順序付けして、どのノードもその出力辺の先のノードより前にくるように並べることである。有向非巡回グラフは必ずトポロジカルソートすることができる。\n",
    "\n",
    "肝としては、indegreeに着目すること。\n",
    "\n",
    "https://leetcode.com/problems/course-schedule-ii/\n",
    "\n",
    "```\n",
    "There are a total of n courses you have to take labelled from 0 to n - 1.\n",
    "Some courses may have prerequisites, for example, if prerequisites[i] = [ai, bi] this means you must take the course bi before the course ai.\n",
    "Given the total number of courses numCourses and a list of the prerequisite pairs, return the ordering of courses you should take to finish all courses.\n",
    "\n",
    "If there are many valid answers, return any of them. If it is impossible to finish all courses, return an empty array.\n",
    "\n",
    "[Example 1]\n",
    "Input: numCourses = 2, prerequisites = [[1,0]]\n",
    "Output: [0,1]\n",
    "Explanation: There are a total of 2 courses to take. To take course 1 you should have finished course 0. So the correct course order is [0,1].\n",
    "```"
   ]
  },
  {
   "cell_type": "code",
   "execution_count": null,
   "metadata": {},
   "outputs": [],
   "source": [
    "from collections import defaultdict, deque\n",
    "\n",
    "class Solution:\n",
    "    # topological sort\n",
    "    # Complexity Analysis\n",
    "    #   Time :  O(v + e)\n",
    "    #   Space:  O(v + e)\n",
    "    def findOrder(self, numCourses: int, prerequisites: List[List[int]]) -> List[int]:\n",
    "\n",
    "        ### indegreesと、adj_listの用意\n",
    "        indegrees = {}\n",
    "        for i in range(numCourses):\n",
    "            indegrees[i] = 0\n",
    "        adj_list = defaultdict(set)\n",
    "        for pre in prerequisites:\n",
    "            adj_list[pre[1]].add(pre[0])\n",
    "            indegrees[pre[0]] += 1\n",
    "        \n",
    "        ### qの中にindegree=0のverticesを収納する。\n",
    "        ### ちなみに、queuじゃなくて、stackでも、setでも良い。(ただしどれを選ぶかで当然sort順は変わる)\n",
    "        q = deque([])\n",
    "        for course in indegrees:\n",
    "            if indegrees[course] == 0:\n",
    "                q.append(course)\n",
    "        \n",
    "        ###  coursesリストの中にsortされた要素を入れていく\n",
    "        courses = []\n",
    "        while len(q) > 0:\n",
    "            out = q.popleft()\n",
    "            courses.append(out)\n",
    "            for course in adj_list[out]:\n",
    "                indegrees[course] -= 1\n",
    "                if indegrees[course] == 0:\n",
    "                    q.append(course)\n",
    "        if len(courses) < numCourses:   # 全てがcoursesの中に入っていない　= cycleが存在する\n",
    "            return []\n",
    "        return courses"
   ]
  },
  {
   "cell_type": "markdown",
   "metadata": {},
   "source": [
    "## Minimum Spanning Tree\n",
    "\n",
    "https://twitter.com/kdjp20/status/1423942609278406658"
   ]
  },
  {
   "cell_type": "markdown",
   "metadata": {},
   "source": [
    "## DAGのCycle Detection\n",
    "\n",
    "- DFS way https://twitter.com/kdjp20/status/1406198492515557379\n",
    "- TopologicalSort way https://twitter.com/kdjp20/status/1406198628574580739\n",
    "\n",
    "BFS wayは非推奨。理由は、See: https://stackoverflow.com/questions/2869647/why-dfs-and-not-bfs-for-finding-cycle-in-graphs\n",
    "\n",
    "Ref:\n",
    "- https://leetcode.com/problems/course-schedule\n",
    "- https://leetcode.com/problems/all-paths-from-source-lead-to-destination/solution/"
   ]
  },
  {
   "cell_type": "code",
   "execution_count": null,
   "metadata": {},
   "outputs": [],
   "source": []
  },
  {
   "cell_type": "code",
   "execution_count": null,
   "metadata": {},
   "outputs": [],
   "source": []
  },
  {
   "cell_type": "code",
   "execution_count": null,
   "metadata": {},
   "outputs": [],
   "source": []
  },
  {
   "cell_type": "code",
   "execution_count": null,
   "metadata": {},
   "outputs": [],
   "source": []
  },
  {
   "cell_type": "code",
   "execution_count": null,
   "metadata": {},
   "outputs": [],
   "source": []
  },
  {
   "cell_type": "code",
   "execution_count": null,
   "metadata": {},
   "outputs": [],
   "source": []
  },
  {
   "cell_type": "code",
   "execution_count": null,
   "metadata": {},
   "outputs": [],
   "source": []
  },
  {
   "cell_type": "code",
   "execution_count": null,
   "metadata": {},
   "outputs": [],
   "source": [
    "class Solution:\n",
    "    def minDifference(self, nums: List[int], queries: List[List[int]]) -> List[int]:\n",
    "        max_seg = MaxSegmentTree(nums)\n",
    "        min_seg = MinSegmentTree(nums)\n",
    "        \n",
    "        ret = []\n",
    "        for min_b, max_b in queries:\n",
    "            max_in_range = max_seg.maxRange(min_b, max_b)\n",
    "            min_in_range = min_seg.minRange(min_b, max_b)\n",
    "            ret.append(-1) if (max_in_range == min_in_range) else ret.append(max_in_range-min_in_range)\n",
    "            \n",
    "        return ret\n",
    "        \n",
    "        \n",
    "import math\n",
    "class MaxSegmentTree:\n",
    "    def __init__(self, nums):\n",
    "        self.nums = nums\n",
    "        self.l = [None] * len(nums) * 4\n",
    "        self._build_tree(0, 0, len(nums)-1)\n",
    "\n",
    "    # Args:\n",
    "    #   left_boundary, right_boundary: range of original \"nums\" which returned tree should be respoonsible for\n",
    "    def _build_tree(self, curr_idx, curr_left, curr_right):\n",
    "\n",
    "        if curr_left == curr_right:\n",
    "            self.l[curr_idx] = self.nums[curr_left]\n",
    "            return self.l[curr_idx]\n",
    "\n",
    "        child_boundary = (curr_left + curr_right) // 2\n",
    "        # tree(index = idx) has children: idx*2, idx*2+1\n",
    "        left_max = self._build_tree(curr_idx*2 + 1, curr_left, child_boundary)\n",
    "        right_max = self._build_tree(curr_idx*2 + 2, child_boundary+1, curr_right)\n",
    "        self.l[curr_idx] = max(left_max, right_max)\n",
    "        return self.l[curr_idx]\n",
    "\n",
    "    def maxRange(self, left, right):\n",
    "        curr_idx = 0\n",
    "        return self._max_range_inner(0, 0, len(self.nums)-1, left, right)\n",
    "\n",
    "    # Args:\n",
    "    #   curr_left, curr_right: range which current node is respoonsible for\n",
    "    #   left, rightは最初に与えられた範囲(変えなくて良い)\n",
    "    def _max_range_inner(self, curr_idx, curr_left, curr_right, left, right): \n",
    "\n",
    "        if curr_right < left or right < curr_left:\n",
    "            return 0\n",
    "        if left <= curr_left and curr_right <= right:\n",
    "            return self.l[curr_idx]\n",
    "\n",
    "        # left child is responsible for range <= child_boundary\n",
    "        # right child is responsible for child_buondary + 1 <= range\n",
    "        child_boundary = (curr_left + curr_right) // 2\n",
    "\n",
    "        left_child_max = self._max_range_inner(\n",
    "            curr_idx * 2 + 1, curr_left, child_boundary, left, right)\n",
    "        right_child_max = self._max_range_inner(\n",
    "            curr_idx * 2 + 2, child_boundary+1, curr_right, left, right)\n",
    "        return max(left_child_max, right_child_max)\n",
    "\n",
    "    \n",
    "class MinSegmentTree:\n",
    "    def __init__(self, nums):\n",
    "        self.nums = nums\n",
    "        self.l = [None] * len(nums) * 4    # enough slots(3だとダメなケースがあった......... https://leetcode.com/submissions/detail/509925769/)\n",
    "        self._build_tree(0, 0, len(nums)-1)\n",
    "\n",
    "    # Args:\n",
    "    #   left_boundary, right_boundary: range of original \"nums\" which returned tree should be respoonsible for\n",
    "    def _build_tree(self, curr_idx, curr_left, curr_right):\n",
    "\n",
    "        if curr_left == curr_right:\n",
    "            self.l[curr_idx] = self.nums[curr_left]\n",
    "            return self.l[curr_idx]\n",
    "\n",
    "        child_boundary = (curr_left + curr_right) // 2\n",
    "        # tree(index = idx) has children: idx*2, idx*2+1\n",
    "        left_min = self._build_tree(curr_idx*2 + 1, curr_left, child_boundary)\n",
    "        right_min = self._build_tree(curr_idx*2 + 2, child_boundary+1, curr_right)\n",
    "        self.l[curr_idx] = min(left_min, right_min)\n",
    "        return self.l[curr_idx]\n",
    "\n",
    "    def minRange(self, left, right):\n",
    "        curr_idx = 0\n",
    "        return self._min_range_inner(0, 0, len(self.nums)-1, left, right)\n",
    "\n",
    "    # Args:\n",
    "    #   curr_left, curr_right: range which current node is respoonsible for\n",
    "    #   left, rightは最初に与えられた範囲(変えなくて良い)\n",
    "    def _min_range_inner(self, curr_idx, curr_left, curr_right, left, right): \n",
    "\n",
    "        if curr_right < left or right < curr_left:\n",
    "            return 0\n",
    "        if left <= curr_left and curr_right <= right:\n",
    "            return self.l[curr_idx]\n",
    "\n",
    "        # left child is responsible for range <= child_boundary\n",
    "        # right child is responsible for child_buondary + 1 <= range\n",
    "        child_boundary = (curr_left + curr_right) // 2\n",
    "        \n",
    "        left_child_min = self._min_range_inner(\n",
    "            curr_idx * 2 + 1, curr_left, child_boundary, left, right)\n",
    "        right_child_min = self._min_range_inner(\n",
    "            curr_idx * 2 + 2, child_boundary+1, curr_right, left, right)\n",
    "        return max(left_child_min, right_child_min)"
   ]
  },
  {
   "cell_type": "code",
   "execution_count": null,
   "metadata": {},
   "outputs": [],
   "source": []
  },
  {
   "cell_type": "code",
   "execution_count": null,
   "metadata": {},
   "outputs": [],
   "source": []
  },
  {
   "cell_type": "code",
   "execution_count": null,
   "metadata": {},
   "outputs": [],
   "source": []
  },
  {
   "cell_type": "code",
   "execution_count": null,
   "metadata": {},
   "outputs": [],
   "source": []
  },
  {
   "cell_type": "code",
   "execution_count": null,
   "metadata": {},
   "outputs": [],
   "source": []
  },
  {
   "cell_type": "code",
   "execution_count": null,
   "metadata": {},
   "outputs": [],
   "source": []
  },
  {
   "cell_type": "code",
   "execution_count": null,
   "metadata": {},
   "outputs": [],
   "source": []
  },
  {
   "cell_type": "code",
   "execution_count": null,
   "metadata": {},
   "outputs": [],
   "source": []
  },
  {
   "cell_type": "code",
   "execution_count": null,
   "metadata": {},
   "outputs": [],
   "source": []
  },
  {
   "cell_type": "code",
   "execution_count": null,
   "metadata": {},
   "outputs": [],
   "source": []
  },
  {
   "cell_type": "code",
   "execution_count": null,
   "metadata": {},
   "outputs": [],
   "source": []
  },
  {
   "cell_type": "code",
   "execution_count": null,
   "metadata": {},
   "outputs": [],
   "source": []
  },
  {
   "cell_type": "code",
   "execution_count": null,
   "metadata": {},
   "outputs": [],
   "source": []
  },
  {
   "cell_type": "code",
   "execution_count": null,
   "metadata": {},
   "outputs": [],
   "source": []
  },
  {
   "cell_type": "code",
   "execution_count": null,
   "metadata": {},
   "outputs": [],
   "source": []
  },
  {
   "cell_type": "code",
   "execution_count": null,
   "metadata": {},
   "outputs": [],
   "source": []
  },
  {
   "cell_type": "code",
   "execution_count": null,
   "metadata": {},
   "outputs": [],
   "source": []
  },
  {
   "cell_type": "code",
   "execution_count": null,
   "metadata": {},
   "outputs": [],
   "source": []
  },
  {
   "cell_type": "code",
   "execution_count": null,
   "metadata": {},
   "outputs": [],
   "source": []
  },
  {
   "cell_type": "code",
   "execution_count": null,
   "metadata": {},
   "outputs": [],
   "source": []
  }
 ],
 "metadata": {
  "kernelspec": {
   "display_name": "Python 3",
   "language": "python",
   "name": "python3"
  },
  "language_info": {
   "codemirror_mode": {
    "name": "ipython",
    "version": 3
   },
   "file_extension": ".py",
   "mimetype": "text/x-python",
   "name": "python",
   "nbconvert_exporter": "python",
   "pygments_lexer": "ipython3",
   "version": "3.8.1"
  }
 },
 "nbformat": 4,
 "nbformat_minor": 4
}
