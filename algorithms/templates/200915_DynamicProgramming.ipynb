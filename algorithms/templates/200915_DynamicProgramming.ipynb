{
 "cells": [
  {
   "cell_type": "markdown",
   "metadata": {},
   "source": [
    "# [NumberSolitaire](https://app.codility.com/demo/results/trainingZBYACX-GRT/#)\n",
    "\n",
    "```\n",
    "A game for one player is played on a board consisting of N consecutive squares, numbered from 0 to N − 1. There is a number written on each square. A non-empty array A of N integers contains the numbers written on the squares. Moreover, some squares can be marked during the game.\n",
    "\n",
    "At the beginning of the game, there is a pebble on square number 0 and this is the only square on the board which is marked. The goal of the game is to move the pebble to square number N − 1.\n",
    "\n",
    "During each turn we throw a six-sided die, with numbers from 1 to 6 on its faces, and consider the number K, which shows on the upper face after the die comes to rest. Then we move the pebble standing on square number I to square number I + K, providing that square number I + K exists. If square number I + K does not exist, we throw the die again until we obtain a valid move. Finally, we mark square number I + K.\n",
    "\n",
    "After the game finishes (when the pebble is standing on square number N − 1), we calculate the result. The result of the game is the sum of the numbers written on all marked squares.\n",
    "\n",
    "For example, given the following array:\n",
    "\n",
    "    A[0] = 1\n",
    "    A[1] = -2\n",
    "    A[2] = 0\n",
    "    A[3] = 9\n",
    "    A[4] = -1\n",
    "    A[5] = -2\n",
    "one possible game could be as follows:\n",
    "\n",
    "the pebble is on square number 0, which is marked;\n",
    "we throw 3; the pebble moves from square number 0 to square number 3; we mark square number 3;\n",
    "we throw 5; the pebble does not move, since there is no square number 8 on the board;\n",
    "we throw 2; the pebble moves to square number 5; we mark this square and the game ends.\n",
    "The marked squares are 0, 3 and 5, so the result of the game is 1 + 9 + (−2) = 8. This is the maximal possible result that can be achieved on this board.\n",
    "\n",
    "Write a function:\n",
    "\n",
    "def solution(A)\n",
    "\n",
    "that, given a non-empty array A of N integers, returns the maximal result that can be achieved on the board represented by array A.\n",
    "\n",
    "For example, given the array\n",
    "\n",
    "    A[0] = 1\n",
    "    A[1] = -2\n",
    "    A[2] = 0\n",
    "    A[3] = 9\n",
    "    A[4] = -1\n",
    "    A[5] = -2\n",
    "the function should return 8, as explained above.\n",
    "\n",
    "Write an efficient algorithm for the following assumptions:\n",
    "\n",
    "N is an integer within the range [2..100,000];\n",
    "each element of array A is an integer within the range [−10,000..10,000].\n",
    "```"
   ]
  },
  {
   "cell_type": "code",
   "execution_count": 1,
   "metadata": {},
   "outputs": [],
   "source": [
    "# you can write to stdout for debugging purposes, e.g.\n",
    "# print(\"this is a debug message\")\n",
    "\n",
    "def solution(A):\n",
    "    # write your code in Python 3.6\n",
    "    point_max = []\n",
    "    point_max.append(A[0])\n",
    "    \n",
    "    # ith maximum point\n",
    "    for i in range(1, len(A)):\n",
    "        max_point = point_max[i-1] + A[i]\n",
    "        for i_before in range(i-6, i-1):\n",
    "            if i_before >= 0:\n",
    "                max_point = max(max_point, point_max[i_before] + A[i])\n",
    "        point_max.append(max_point)\n",
    "    \n",
    "    # print(point_max)\n",
    "    return point_max[-1]\n",
    "\n",
    "\n",
    "\n",
    "\n",
    "\n",
    "\n",
    "# \n",
    "\n",
    "#1 #2 #3 -1 -2 -3 #45 #46 -54 -55 #12 #1\n",
    "#1 -1 -2 -3 -4 -5 -6 -7 -8 -9  ####9 8 7 6 5\n",
    "\n",
    "\n",
    "#1 -1 -2 -3 -4 -5 -6 "
   ]
  },
  {
   "cell_type": "markdown",
   "metadata": {},
   "source": [
    "## これは流石に余裕だった\n",
    "\n",
    "![image](https://user-images.githubusercontent.com/44487754/93116068-be670900-f6f7-11ea-8c0e-40db49606a97.png)"
   ]
  }
 ],
 "metadata": {
  "kernelspec": {
   "display_name": "Python 3",
   "language": "python",
   "name": "python3"
  },
  "language_info": {
   "codemirror_mode": {
    "name": "ipython",
    "version": 3
   },
   "file_extension": ".py",
   "mimetype": "text/x-python",
   "name": "python",
   "nbconvert_exporter": "python",
   "pygments_lexer": "ipython3",
   "version": "3.8.1"
  }
 },
 "nbformat": 4,
 "nbformat_minor": 4
}
