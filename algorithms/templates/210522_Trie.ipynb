{
 "cells": [
  {
   "cell_type": "markdown",
   "metadata": {},
   "source": [
    "# Trie\n",
    "\n",
    "\n",
    "https://leetcode.com/problems/implement-trie-prefix-tree/solution/"
   ]
  },
  {
   "cell_type": "code",
   "execution_count": null,
   "metadata": {},
   "outputs": [],
   "source": [
    "class Node:\n",
    "    def __init__(self):\n",
    "        self.count = 0\n",
    "        self.next_nodes = {}\n",
    "        self.is_end = False # True if there is a word which ends with this node\n",
    "\n",
    "\n",
    "class Trie:\n",
    "    def __init__(self):\n",
    "        self.head = Node()    # note that this is pseudo node\n",
    "        \n",
    "\n",
    "    def insert(self, word: str) -> None:\n",
    "        \"\"\"\n",
    "        Inserts a word into the trie.\n",
    "        \"\"\"\n",
    "        curr = self.head\n",
    "        for char in word:\n",
    "            if char not in curr.next_nodes:\n",
    "                curr.next_nodes[char] = Node()\n",
    "            curr.next_nodes[char].count += 1\n",
    "            curr = curr.next_nodes[char]\n",
    "        curr.is_end = True\n",
    "                \n",
    "\n",
    "    def search(self, word: str) -> bool:\n",
    "        \"\"\"\n",
    "        Returns if the word is in the trie.\n",
    "        \"\"\"\n",
    "        curr = self.head\n",
    "        \n",
    "        for char in word:\n",
    "            if char not in curr.next_nodes:\n",
    "                return False\n",
    "            curr = curr.next_nodes[char]\n",
    "        return curr.is_end\n",
    "\n",
    "\n",
    "    def startsWith(self, prefix: str) -> bool:\n",
    "        \"\"\"\n",
    "        Returns if there is any word in the trie that starts with the given prefix.\n",
    "        \"\"\"\n",
    "        curr = self.head\n",
    "        \n",
    "        for char in prefix:\n",
    "            if char not in curr.next_nodes:\n",
    "                return False\n",
    "            curr = curr.next_nodes[char]\n",
    "        return True\n",
    "\n",
    "\n",
    "    # 動作確認できてない\n",
    "    def numStartsWith(self, prefix: str) -> int:\n",
    "        curr = self.head\n",
    "        \n",
    "        for char in prefix:\n",
    "            if char not in curr.next_nodes:\n",
    "                return 0\n",
    "            curr = curr.next_nodes[char]\n",
    "        return curr.count"
   ]
  }
 ],
 "metadata": {
  "kernelspec": {
   "display_name": "Python 3",
   "language": "python",
   "name": "python3"
  },
  "language_info": {
   "codemirror_mode": {
    "name": "ipython",
    "version": 3
   },
   "file_extension": ".py",
   "mimetype": "text/x-python",
   "name": "python",
   "nbconvert_exporter": "python",
   "pygments_lexer": "ipython3",
   "version": "3.8.1"
  }
 },
 "nbformat": 4,
 "nbformat_minor": 4
}
