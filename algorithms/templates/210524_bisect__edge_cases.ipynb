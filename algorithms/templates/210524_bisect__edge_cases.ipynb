{
 "cells": [
  {
   "cell_type": "markdown",
   "metadata": {},
   "source": [
    "# bisectのedge casesについてまとめる\n",
    "\n",
    "See: https://twitter.com/kdjp20/status/1424250217268871170\n",
    "\n",
    "n個の要素がある時、返されるindexの範囲はどちらも`0 ~ n`であり、`0 ~ n-1`でないことに注意する。"
   ]
  },
  {
   "cell_type": "code",
   "execution_count": 1,
   "metadata": {},
   "outputs": [],
   "source": [
    "import bisect"
   ]
  },
  {
   "cell_type": "code",
   "execution_count": 2,
   "metadata": {},
   "outputs": [],
   "source": [
    "l = [1,2,3,4,5,6,7]"
   ]
  },
  {
   "cell_type": "markdown",
   "metadata": {},
   "source": [
    "## bisect_left(l, x)\n",
    "\n",
    "返されるidxについて、返されるl[idx]には、その数を超えない最大の値が入る。\n",
    "l[idx]は、探している値と同じかもしれないし、それよりも小さいかもしれない。\n",
    "- idx = 0の場合、全ての要素がxより大きいか等しい。→ l[idx]を見る\n",
    "- idx = nの場合、全ての要素がxより小さい。\n",
    "\n",
    "\n",
    "## bisect_right(l, x)\n",
    "\n",
    "返されるidxについて、返されるl[idx]には、その数を超える最小の値が入る。\n",
    "l[idx]は、探している値より確実に大きい。\n",
    "- idx = 0の場合、全ての要素がxより大きい。\n",
    "- idx = nの場合、全ての要素がxより小さいか等しい。→ l[idx−1]を見る\n",
    "\n",
    "\n",
    "## ある値(が複数あり、その中で最小の)indexを探すためには、bisect_leftを使う。\n",
    "\n",
    "ある値xを探しているとする。\n",
    "bisect_leftを使い、元のlistの中のその`index=bisect_left(l, x)`を見る。その数が探している値でなければ、listの中にxは存在しない。\n",
    "**index=nの場合には、index errorになるので注意。この場合にはlistの中にxは存在しない**\n",
    "\n",
    "## ある値(が複数あり、その中で最大の)indexを探すためには、bisect_rightを使う。\n",
    "\n",
    "bisect_rightを使い、元のlistの中のその`index=bisect_left(l, x)として、index−1`を見る。その数が探している値でなければ、listの中にxは存在しない。\n",
    "**index=0の場合には、index-1は、index errorになるので注意。この場合にはlistの中にxは存在しない**\n"
   ]
  },
  {
   "cell_type": "code",
   "execution_count": 3,
   "metadata": {},
   "outputs": [
    {
     "name": "stdout",
     "output_type": "stream",
     "text": [
      "0\n",
      "0\n",
      "6\n",
      "7\n"
     ]
    }
   ],
   "source": [
    "print(bisect.bisect_left(l, 0))\n",
    "print(bisect.bisect_left(l, 1))\n",
    "print(bisect.bisect_left(l, 7))\n",
    "print(bisect.bisect_left(l, 8))"
   ]
  },
  {
   "cell_type": "markdown",
   "metadata": {},
   "source": [
    "## bisect_right"
   ]
  },
  {
   "cell_type": "code",
   "execution_count": null,
   "metadata": {},
   "outputs": [],
   "source": [
    "\n"
   ]
  }
 ],
 "metadata": {
  "kernelspec": {
   "display_name": "Python 3",
   "language": "python",
   "name": "python3"
  },
  "language_info": {
   "codemirror_mode": {
    "name": "ipython",
    "version": 3
   },
   "file_extension": ".py",
   "mimetype": "text/x-python",
   "name": "python",
   "nbconvert_exporter": "python",
   "pygments_lexer": "ipython3",
   "version": "3.8.1"
  }
 },
 "nbformat": 4,
 "nbformat_minor": 4
}
