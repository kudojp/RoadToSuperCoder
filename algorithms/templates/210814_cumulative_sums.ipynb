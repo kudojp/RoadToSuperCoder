{
 "cells": [
  {
   "cell_type": "markdown",
   "metadata": {},
   "source": [
    "## [Zero-Sum Ranges](https://atcoder.jp/contests/agc023/tasks/agc023_a)\n",
    "\n",
    "(200点問題の中ではめっちゃ難しいと有名らしい)\n",
    "\n",
    "    \n",
    "長さ N の整数列 A があります。A の 空でない 連続する 部分列であって、その総和が 0 になるものの個数を求めてください。 ただし、ここで数えるのは 部分列の取り出し方 であることに注意してください。 つまり、ある 2 つの部分列が列として同じでも、取り出した位置が異なるならば、それらは別々に数えるものとします。\n"
   ]
  },
  {
   "cell_type": "code",
   "execution_count": null,
   "metadata": {},
   "outputs": [],
   "source": []
  },
  {
   "cell_type": "code",
   "execution_count": null,
   "metadata": {},
   "outputs": [],
   "source": [
    "from collections import Counter\n",
    "n = int(input())\n",
    "l = list(map(lambda x: int(x), input().split()))\n",
    "\n",
    "running_sums = [0]\n",
    "for num in l:\n",
    "    running_sums.append(running_sums[-1] + num)\n",
    "    \n",
    "# running_sums.sort()\n",
    "\n",
    "cnts = Counter(running_sums)\n",
    "\n",
    "ans = 0\n",
    "for num in cnts:\n",
    "    if cnts[num] >= 2:\n",
    "        ans += cnts[num] * (cnts[num]-1) // 2\n",
    "    if cnts[num] == 0:\n",
    "        ans += cnts\n",
    "print(ans)"
   ]
  },
  {
   "cell_type": "code",
   "execution_count": null,
   "metadata": {},
   "outputs": [],
   "source": []
  },
  {
   "cell_type": "markdown",
   "metadata": {},
   "source": [
    "### 考察\n",
    "\n",
    "計算時間　O(N)で解けるらしい。runnning sum の問題は、listを作った後に、~~N**2必要になるイメージがあったのが、今回は~~ cumulative sumは、listを作成した後に、counterで要素の数をcountするみたいなのがいぱ"
   ]
  },
  {
   "cell_type": "code",
   "execution_count": null,
   "metadata": {},
   "outputs": [],
   "source": []
  },
  {
   "cell_type": "code",
   "execution_count": null,
   "metadata": {},
   "outputs": [],
   "source": [
    "from collections import Counter\n",
    "n = int(input())\n",
    "l = list(map(lambda x: int(x), input().split()))\n",
    "\n",
    "running_sums = [0]\n",
    "for num in l:\n",
    "    running_sums.append(running_sums[-1] + num)\n",
    "    \n",
    "running_sums.sort()\n",
    "\n",
    "cnts = Counter(running_sums)\n",
    "\n",
    "ans = 0\n",
    "for num in cnts:\n",
    "    if cnts[num] >= 2:\n",
    "        ans += cnts[num] * (cnts[num]-1) // 2\n",
    "    if cnts[num] == 0:\n",
    "        ans += cnts\n",
    "print(ans)"
   ]
  },
  {
   "cell_type": "code",
   "execution_count": null,
   "metadata": {},
   "outputs": [],
   "source": []
  },
  {
   "cell_type": "code",
   "execution_count": null,
   "metadata": {},
   "outputs": [],
   "source": []
  }
 ],
 "metadata": {
  "kernelspec": {
   "display_name": "Python 3",
   "language": "python",
   "name": "python3"
  },
  "language_info": {
   "codemirror_mode": {
    "name": "ipython",
    "version": 3
   },
   "file_extension": ".py",
   "mimetype": "text/x-python",
   "name": "python",
   "nbconvert_exporter": "python",
   "pygments_lexer": "ipython3",
   "version": "3.8.1"
  }
 },
 "nbformat": 4,
 "nbformat_minor": 4
}
