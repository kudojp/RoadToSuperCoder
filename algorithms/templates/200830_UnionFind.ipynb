{
 "cells": [
  {
   "cell_type": "markdown",
   "metadata": {},
   "source": [
    "# UnionFind\n",
    "\n",
    "- https://at274.hatenablog.com/entry/2018/02/02/173000\n",
    "- https://www.youtube.com/watch?v=TdR816rqc3s&feature=youtu.be&t=6822\n",
    "\n",
    "\n",
    "- 以下、自分の言葉で説明(間違ってるかも)\n",
    "\n",
    "\n",
    "### ルール\n",
    "\n",
    "- n個(後から増やすことは可能だが、減らすことはできない)の要素があり、これらはいずれかのグループに属する。最初は1要素1グループで形成されているとする\n",
    "- できる操作は、\n",
    "    - Find: `ある要素がどの集合に属しているかを調べる(集合の親のindex番号(後述)が返される)`\n",
    "    - Union: `ある要素が所属する集団ともう一個の要素が所属する集団を合併させる`\n",
    "\n",
    "### 内部構造\n",
    "- n個のセルからなる配列を用意する。\n",
    "- ある集団の親に関しては、相当する配列のセルに-(彼が率いる集団に所属する要素の個数)を収納する。\n",
    "- ある集団の子に関しては、相当する配列のセルに(彼が所属する集団の上司に相当する配列のindex)を収納する。\n",
    "- つまり最初は`[-1, -1, -1, ...]`を用意する\n",
    "\n",
    "- unionに関しては、要素1が所属する集団の要素の個数と、要素2が所属する集団の要素の個数を比較して、大きい方の親が合併した集団の親となる\n",
    "    - 親を勝ち取った方の要素に相当する配列のセルには、-(二集団の大きさの合計値)を再代入する\n",
    "    - 親に慣れなかった方の元親の要素に相当する配列のセルには、親を勝ち取った要素に対応する配列のセルのindexを代入する。(=>負け集団の子分たちに関しては、もはやその集団の親に相当する配列のセルのindexを指し示しているのではなく、上司を指し示しているだけになる。ただしfindの際にメモ化によって、この子分たちの指し示す先を上司から親に書き換えていくことは行っている。)\n",
    "    \n",
    "- これによって、findに関しては、あるセルから初めて、その上司のセルを順々に辿ることで、所属する集団の親(top)のindexを得ることができる。"
   ]
  },
  {
   "cell_type": "code",
   "execution_count": 51,
   "metadata": {},
   "outputs": [],
   "source": [
    "class UnionFind:\n",
    "    def __init__(self, size):\n",
    "        self.parent_indexes = [-1] * size\n",
    "        \n",
    "    def find(self, n):\n",
    "        if self.parent_indexes[n] < 0:\n",
    "            return n\n",
    "        # 探しているnodeが指し示しているのが現在の親ではない場合、\n",
    "        # 現在の親に書き換え(メモ化) した上で返す\n",
    "        self.parent_indexes[n] = self.find(self.parent_indexes[n])\n",
    "        return self.parent_indexes[n] \n",
    "    \n",
    "    def union(self, n1, n2):\n",
    "        if self.same_group(n1, n2):\n",
    "            return False\n",
    "        \n",
    "        # union by rank\n",
    "        # サイズの大きい方の集団の親が親であり続ける\n",
    "        if self.size(n1) >= self.size(n2):\n",
    "            tmp = self.size(n2)\n",
    "            self.parent_indexes[self.find(n2)] = self.find(n1)\n",
    "            self.parent_indexes[self.find(n1)] -= tmp\n",
    "            return True\n",
    "        \n",
    "        # サイズが小さい方の集団の親は親を引退する\n",
    "        tmp = self.size(n1)\n",
    "        self.parent_indexes[self.find(n1)] = self.find(n2)\n",
    "        self.parent_indexes[self.find(n2)] -= tmp\n",
    "        return True\n",
    "        \n",
    "    # その要素が所属する集団の要素数\n",
    "    def size(self, n):\n",
    "        return -self.parent_indexes[self.find(n)]\n",
    "    \n",
    "    def same_group(self, n1, n2):\n",
    "        return self.find(n1) == self.find(n2)"
   ]
  },
  {
   "cell_type": "code",
   "execution_count": 52,
   "metadata": {},
   "outputs": [
    {
     "name": "stdout",
     "output_type": "stream",
     "text": [
      "True\n",
      "[-2, 0, -1, -1]\n"
     ]
    }
   ],
   "source": [
    "uf = UnionFind(4)\n",
    "\n",
    "print(uf.union(0,1))\n",
    "print(uf.parent_indexes)"
   ]
  },
  {
   "cell_type": "code",
   "execution_count": 53,
   "metadata": {},
   "outputs": [
    {
     "name": "stdout",
     "output_type": "stream",
     "text": [
      "True\n",
      "[-2, 0, -2, 2]\n",
      "True\n",
      "[-4, 0, 0, 2]\n"
     ]
    }
   ],
   "source": [
    "print(uf.union(2,3))\n",
    "print(uf.parent_indexes)\n",
    "# 0<=1, 2<=3の状態で0と2をunionする\n",
    "print(uf.union(0,2))\n",
    "print(uf.parent_indexes)\n",
    "# 0<=1, 0<=2<=3になった。"
   ]
  },
  {
   "cell_type": "code",
   "execution_count": null,
   "metadata": {},
   "outputs": [],
   "source": [
    "# UnionFindクラスのテスト\n",
    "uf = UnionFind(5)\n",
    "uf.union(0,1)\n",
    "uf.union(2,3)\n",
    "assert uf.parent_indexes == [-2, 0, -2, 2, -1]\n",
    "uf.union(0,2)\n",
    "assert uf.parent_indexes == [-4, 0, 0, 2, -1]\n",
    "uf.find(3)\n",
    "assert uf.parent_indexes == [-4, 0, 0, 0, -1]\n",
    "assert uf.are_in_the_same_group(0,1)\n",
    "assert ~uf.are_in_the_same_group(0,4)\n",
    "for i in range(4):\n",
    "    assert uf.get_group_size(i) == 4\n",
    "    assert uf.find(i) == 0\n",
    "assert uf.get_group_size(4) == 1"
   ]
  },
  {
   "cell_type": "markdown",
   "metadata": {},
   "source": [
    "## Warning! メモ化をしても常に、nodeの指し示す場所が最新の親とは限らない\n",
    "\n",
    "(昔の親かもしれない)"
   ]
  },
  {
   "cell_type": "code",
   "execution_count": null,
   "metadata": {},
   "outputs": [],
   "source": []
  },
  {
   "cell_type": "code",
   "execution_count": null,
   "metadata": {},
   "outputs": [],
   "source": []
  },
  {
   "cell_type": "code",
   "execution_count": null,
   "metadata": {},
   "outputs": [],
   "source": []
  },
  {
   "cell_type": "markdown",
   "metadata": {},
   "source": [
    "## simple version\n",
    "\n",
    "- チーム内の要素数が不要の場合 (つまりunion by rank最適化されてない)\n",
    "- チーム数が不要の場合\n",
    "- unionとare_unified?だけ欲しい\n",
    "\n",
    "とき、以下で良い。\n",
    "\n",
    "https://leetcode.com/problems/most-stones-removed-with-same-row-or-column/discuss/1783599/Python3-or-DSU を参考にした。"
   ]
  },
  {
   "cell_type": "code",
   "execution_count": 4,
   "metadata": {},
   "outputs": [],
   "source": [
    "class UnionFind:\n",
    "    def __init__(self,N):\n",
    "        self.parent=list(range(N))\n",
    "    def union(self,x,y):\n",
    "        self.parent[self.findPar(x)]=self.findPar(y)\n",
    "    def are_unified(self,x,y):\n",
    "        return self.findPar(x) == self.findPar(y)\n",
    "\n",
    "    def findPar(self,x):\n",
    "        if self.parent[x]!=x:\n",
    "            self.parent[x]=self.findPar(self.parent[x])\n",
    "        return self.parent[x]"
   ]
  }
 ],
 "metadata": {
  "kernelspec": {
   "display_name": "Python 3 (ipykernel)",
   "language": "python",
   "name": "python3"
  },
  "language_info": {
   "codemirror_mode": {
    "name": "ipython",
    "version": 3
   },
   "file_extension": ".py",
   "mimetype": "text/x-python",
   "name": "python",
   "nbconvert_exporter": "python",
   "pygments_lexer": "ipython3",
   "version": "3.10.2"
  }
 },
 "nbformat": 4,
 "nbformat_minor": 4
}
