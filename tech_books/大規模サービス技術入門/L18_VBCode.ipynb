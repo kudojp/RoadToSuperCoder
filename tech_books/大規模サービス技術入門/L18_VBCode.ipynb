{
 "cells": [
  {
   "cell_type": "code",
   "execution_count": null,
   "metadata": {},
   "outputs": [],
   "source": []
  },
  {
   "cell_type": "markdown",
   "metadata": {},
   "source": [
    ">>> from struct import *\n",
    ">>> pack('hhl', 1, 2, 3)\n",
    "b'\\x00\\x01\\x00\\x02\\x00\\x00\\x00\\x03'\n",
    ">>> unpack('hhl', b'\\x00\\x01\\x00\\x02\\x00\\x00\\x00\\x03')\n",
    "(1, 2, 3)\n",
    ">>> calcsize('hhl')\n",
    "8"
   ]
  },
  {
   "cell_type": "code",
   "execution_count": 1,
   "metadata": {},
   "outputs": [
    {
     "name": "stdout",
     "output_type": "stream",
     "text": [
      "b'text'\n"
     ]
    }
   ],
   "source": [
    "print(b'text')"
   ]
  },
  {
   "cell_type": "code",
   "execution_count": 2,
   "metadata": {},
   "outputs": [
    {
     "ename": "NameError",
     "evalue": "name 'pack' is not defined",
     "output_type": "error",
     "traceback": [
      "\u001b[0;31m---------------------------------------------------------------------------\u001b[0m",
      "\u001b[0;31mNameError\u001b[0m                                 Traceback (most recent call last)",
      "\u001b[0;32m<ipython-input-2-98c9f2599dc4>\u001b[0m in \u001b[0;36m<module>\u001b[0;34m\u001b[0m\n\u001b[0;32m----> 1\u001b[0;31m \u001b[0mpack\u001b[0m\u001b[0;34m(\u001b[0m\u001b[0;34m'B'\u001b[0m\u001b[0;34m,\u001b[0m\u001b[0;34m'a'\u001b[0m\u001b[0;34m)\u001b[0m\u001b[0;34m\u001b[0m\u001b[0;34m\u001b[0m\u001b[0m\n\u001b[0m\u001b[1;32m      2\u001b[0m \u001b[0;31m# unpack('hhl', b'\\x00\\x01\\x00\\x02\\x00\\x00\\x00\\x03')\u001b[0m\u001b[0;34m\u001b[0m\u001b[0;34m\u001b[0m\u001b[0;34m\u001b[0m\u001b[0m\n",
      "\u001b[0;31mNameError\u001b[0m: name 'pack' is not defined"
     ]
    }
   ],
   "source": [
    "pack('B','a')\n",
    "# unpack('hhl', b'\\x00\\x01\\x00\\x02\\x00\\x00\\x00\\x03')"
   ]
  },
  {
   "cell_type": "code",
   "execution_count": 10,
   "metadata": {},
   "outputs": [],
   "source": [
    "from struct import *"
   ]
  },
  {
   "cell_type": "code",
   "execution_count": 4,
   "metadata": {},
   "outputs": [],
   "source": [
    "def vb_encode_number(n):\n",
    "    # 実際、各要素はByte数を表しているのではないが、、、\n",
    "    bytes = list()\n",
    "    while True:\n",
    "        bytes.insert(0, n%128)\n",
    "        n = n // 128\n",
    "        if n == 0:\n",
    "            break\n",
    "    bytes[-1] += 128\n",
    "    return bytes"
   ]
  },
  {
   "cell_type": "code",
   "execution_count": 5,
   "metadata": {},
   "outputs": [],
   "source": [
    "def vb_encode(list_n):\n",
    "    byte_stream = []\n",
    "    \n",
    "    # len(lisn_n) >= 1 という前提で実装する\n",
    "    byte_stream.extend(vb_encode_number(list_n[0]))\n",
    "    \n",
    "    # list_nは短調増加するという前提で実装する\n",
    "    previous_n = list_n[0]\n",
    "    for n in list_n[1:]:\n",
    "        byte_stream.extend(vb_encode_number(n - previous_n))\n",
    "        previous_n = n\n",
    "    return byte_stream"
   ]
  },
  {
   "cell_type": "code",
   "execution_count": 91,
   "metadata": {},
   "outputs": [],
   "source": [
    "def vb_encode_file(filename):\n",
    "    all_bytes = bytes()\n",
    "    with open(\"./{}\".format(filename)) as f:\n",
    "        lines = f.read().splitlines()\n",
    "    for line in lines:\n",
    "        bytes_tag = line.split(' ')[0].encode()\n",
    "        # 4byte使用\n",
    "        all_bytes += pack('i', len(bytes_tag))\n",
    "        \n",
    "#         print(line.split(' ')[1].split(','))\n",
    "\n",
    "        byte_stream = vb_encode(list(map(lambda x: int(x.strip()), line.split(' ')[1].split(','))))\n",
    "        \n",
    "        # 4byte使用\n",
    "        all_bytes += pack('i', len(byte_stream))\n",
    "        \n",
    "        all_bytes += pack(\"{}L\".format(len(byte_stream)), *byte_stream)\n",
    "        \n",
    "        \n",
    "        \n",
    "        \n",
    "#         all_bytes += byte_stream\n",
    "#         list_byte_stream.extend(pack(\"{}L\".format(len(byte_stream)+2), len(tag), len(byte_stream)))\n",
    "#         list_byte_stream.extend(lenbyte_stream)\n",
    "    with open('./encoded', mode='wb') as f:\n",
    "        # ファイルサイズと要素数はそれぞれ、unsigned long(256の4乗-1)以下という前提で実装する\n",
    "        print(all_bytes)\n",
    "        f.write(all_bytes)\n",
    "#         f.write(pack('l' , 1))\n",
    "#     return pack(\"{}L\".format(len(byte_stream)+2), len(tag), len(byte_stream), *byte_stream)\n",
    "\n",
    "\n"
   ]
  },
  {
   "cell_type": "code",
   "execution_count": 92,
   "metadata": {},
   "outputs": [
    {
     "data": {
      "text/plain": [
       "b'aaa\\xe3\\x81\\x82b'"
      ]
     },
     "execution_count": 92,
     "metadata": {},
     "output_type": "execute_result"
    }
   ],
   "source": [
    "pack(\"L\", len('aaa'.encode()))\n",
    "'aaaあ'.encode() + 'b'.encode()"
   ]
  },
  {
   "cell_type": "code",
   "execution_count": 93,
   "metadata": {},
   "outputs": [
    {
     "data": {
      "text/plain": [
       "b'\\x01\\x00\\x00\\x00\\x00\\x00\\x00\\x00'"
      ]
     },
     "execution_count": 93,
     "metadata": {},
     "output_type": "execute_result"
    }
   ],
   "source": [
    "pack('l' , 1)"
   ]
  },
  {
   "cell_type": "markdown",
   "metadata": {},
   "source": [
    "## テスト"
   ]
  },
  {
   "cell_type": "code",
   "execution_count": 94,
   "metadata": {
    "scrolled": true
   },
   "outputs": [
    {
     "name": "stdout",
     "output_type": "stream",
     "text": [
      "b'\\x03\\x00\\x00\\x00\\x02\\x00\\x00\\x00\\x01\\x00\\x00\\x00\\x00\\x00\\x00\\x00\\x82\\x00\\x00\\x00\\x00\\x00\\x00\\x00'\n"
     ]
    }
   ],
   "source": [
    "vb_encode_file('original.csv')"
   ]
  },
  {
   "cell_type": "code",
   "execution_count": 95,
   "metadata": {},
   "outputs": [
    {
     "data": {
      "text/plain": [
       "'\\x03\\x00\\x00\\x00\\x02\\x00\\x00\\x00\\x01\\x00\\x00\\x00\\x00\\x00\\x00\\x00\\x82\\x00\\x00\\x00\\x00\\x00\\x00\\x00'"
      ]
     },
     "execution_count": 95,
     "metadata": {},
     "output_type": "execute_result"
    }
   ],
   "source": [
    "f'\\x03\\x00\\x00\\x00\\x02\\x00\\x00\\x00\\x01\\x00\\x00\\x00\\x00\\x00\\x00\\x00\\x82\\x00\\x00\\x00\\x00\\x00\\x00\\x00'"
   ]
  },
  {
   "cell_type": "code",
   "execution_count": 96,
   "metadata": {},
   "outputs": [
    {
     "name": "stdout",
     "output_type": "stream",
     "text": [
      "b'\\x03\\x00\\x00\\x00\\x02\\x00\\x00\\x00\\x01\\x00\\x00\\x00\\x00\\x00\\x00\\x00\\x82\\x00\\x00\\x00\\x00\\x00\\x00\\x00'\n"
     ]
    }
   ],
   "source": [
    "vb_encode_file('original.csv')"
   ]
  },
  {
   "cell_type": "code",
   "execution_count": 97,
   "metadata": {},
   "outputs": [
    {
     "ename": "SyntaxError",
     "evalue": "invalid syntax (<ipython-input-97-d17c1803ced2>, line 1)",
     "output_type": "error",
     "traceback": [
      "\u001b[0;36m  File \u001b[0;32m\"<ipython-input-97-d17c1803ced2>\"\u001b[0;36m, line \u001b[0;32m1\u001b[0m\n\u001b[0;31m    \"\"{0:5}5\"\u001b[0m\n\u001b[0m      ^\u001b[0m\n\u001b[0;31mSyntaxError\u001b[0m\u001b[0;31m:\u001b[0m invalid syntax\n"
     ]
    }
   ],
   "source": [
    "\"\"{0:5}5\""
   ]
  },
  {
   "cell_type": "code",
   "execution_count": 193,
   "metadata": {},
   "outputs": [
    {
     "ename": "error",
     "evalue": "required argument is not an integer",
     "output_type": "error",
     "traceback": [
      "\u001b[0;31m---------------------------------------------------------------------------\u001b[0m",
      "\u001b[0;31merror\u001b[0m                                     Traceback (most recent call last)",
      "\u001b[0;32m<ipython-input-193-f6de338a53dd>\u001b[0m in \u001b[0;36m<module>\u001b[0;34m\u001b[0m\n\u001b[0;32m----> 1\u001b[0;31m \u001b[0mprint\u001b[0m\u001b[0;34m(\u001b[0m\u001b[0mpack\u001b[0m\u001b[0;34m(\u001b[0m\u001b[0;34m'N'\u001b[0m\u001b[0;34m,\u001b[0m \u001b[0;34m'aaa'\u001b[0m\u001b[0;34m)\u001b[0m \u001b[0;34m)\u001b[0m\u001b[0;34m\u001b[0m\u001b[0;34m\u001b[0m\u001b[0m\n\u001b[0m",
      "\u001b[0;31merror\u001b[0m: required argument is not an integer"
     ]
    }
   ],
   "source": [
    "print(pack('N', 'aaa') )"
   ]
  },
  {
   "cell_type": "code",
   "execution_count": null,
   "metadata": {},
   "outputs": [],
   "source": []
  }
 ],
 "metadata": {
  "kernelspec": {
   "display_name": "Python 3",
   "language": "python",
   "name": "python3"
  },
  "language_info": {
   "codemirror_mode": {
    "name": "ipython",
    "version": 3
   },
   "file_extension": ".py",
   "mimetype": "text/x-python",
   "name": "python",
   "nbconvert_exporter": "python",
   "pygments_lexer": "ipython3",
   "version": "3.8.1"
  }
 },
 "nbformat": 4,
 "nbformat_minor": 4
}
