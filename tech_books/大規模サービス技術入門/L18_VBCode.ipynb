{
 "cells": [
  {
   "cell_type": "code",
   "execution_count": 39,
   "metadata": {},
   "outputs": [],
   "source": [
    "from struct import *"
   ]
  },
  {
   "cell_type": "markdown",
   "metadata": {},
   "source": [
    "## Encoder"
   ]
  },
  {
   "cell_type": "code",
   "execution_count": 40,
   "metadata": {},
   "outputs": [],
   "source": [
    "def vb_encode_number(n):\n",
    "    # 全ての数字を４バイトや８バイトに固定するのでは無く、必要最小限のバイトにする\n",
    "    # ただし、各バイトの最大桁のビットに関しては、フラグとして使うため、1byte = 7bitになる\n",
    "    # bytesの各要素は、bit数を10進数で表す(合ってるよな?)\n",
    "    bytes = list()\n",
    "    while True:\n",
    "        bytes.insert(0, n%128)\n",
    "        n = n // 128\n",
    "        if n == 0:\n",
    "            break\n",
    "    bytes[-1] += 128\n",
    "    return bytes"
   ]
  },
  {
   "cell_type": "code",
   "execution_count": 41,
   "metadata": {},
   "outputs": [],
   "source": [
    "# 12 = 10001100\n",
    "assert vb_encode_number(12) == [140]\n",
    "# 130 = 00000001 10000010\n",
    "assert vb_encode_number(130) == [1, 130]"
   ]
  },
  {
   "cell_type": "code",
   "execution_count": 42,
   "metadata": {},
   "outputs": [],
   "source": [
    "def vb_encode(list_n):\n",
    "    byte_stream = []\n",
    "    \n",
    "    # len(lisn_n) >= 1 という前提で実装する\n",
    "    byte_stream.extend(vb_encode_number(list_n[0]))\n",
    "    \n",
    "    # list_nは短調増加するという前提で実装する\n",
    "    previous_n = list_n[0]\n",
    "    for n in list_n[1:]:\n",
    "        byte_stream.extend(vb_encode_number(n - previous_n))\n",
    "        previous_n = n\n",
    "    return byte_stream"
   ]
  },
  {
   "cell_type": "code",
   "execution_count": 43,
   "metadata": {},
   "outputs": [],
   "source": [
    "# 12, 142 => 12, 130 => [12], [1, 130]\n",
    "assert vb_encode([12, 142]) == [140, 1, 130]\n",
    "# 12, 142, 152 => 12,130,10 => [140, 1, 130, 138]\n",
    "assert vb_encode([12,142,152]) == [140, 1, 130, 138]\n",
    "\n",
    "# これらをpackする"
   ]
  },
  {
   "cell_type": "code",
   "execution_count": 44,
   "metadata": {},
   "outputs": [
    {
     "name": "stdout",
     "output_type": "stream",
     "text": [
      "b'aaa'\n",
      "b'bbb'\n"
     ]
    }
   ],
   "source": [
    "def vb_encode_file(filename):\n",
    "    all_bytes = bytes()\n",
    "    with open(\"./{}\".format(filename)) as f:\n",
    "        lines = f.read().splitlines()\n",
    "    for line in lines:\n",
    "        bytes_tag = line.split(' ')[0].encode()\n",
    "        print(bytes_tag)\n",
    "        # ファイルの各行のタグ(文字列)をバイト配列にした時、それが何バイトに相当するか\n",
    "        # iなので、4byte分使う(つまり、tagの長さは最大2の32乗バイトで表せる文字列までが実質許容される)\n",
    "        all_bytes += pack('i', len(bytes_tag))\n",
    "        \n",
    "        # 数列を変換したバイト配列\n",
    "        byte_stream = vb_encode(list(map(lambda x: int(x.strip()), line.split(' ', 1)[1].split(','))))\n",
    "        \n",
    "        # 4byte使用して、バイト配列が幾つの要素からなるかを表す(それぞれの要素は1byteに変換される)\n",
    "        # iなので、4byte分使う(つまり実質、、、)\n",
    "        all_bytes += pack('i', len(byte_stream))\n",
    "        \n",
    "        # tagをバイト配列にする\n",
    "        all_bytes += bytes_tag\n",
    "        \n",
    "        # バイト配列\n",
    "        all_bytes += pack(\"{}B\".format(len(byte_stream)), *byte_stream)\n",
    "\n",
    "#         all_bytes += byte_stream\n",
    "#         list_byte_stream.extend(pack(\"{}L\".format(len(byte_stream)+2), len(tag), len(byte_stream)))\n",
    "#         list_byte_stream.extend(lenbyte_stream)\n",
    "    with open('./encoded', mode='wb') as f:\n",
    "        # ファイルサイズと要素数はそれぞれ、unsigned long(256の4乗-1)以下という前提で実装する\n",
    "        f.write(all_bytes)\n",
    "#         f.write(pack('l' , 1))\n",
    "#     return pack(\"{}L\".format(len(byte_stream)+2), len(tag), len(byte_stream), *byte_stream)\n",
    "\n",
    "\n",
    "vb_encode_file('./original.csv')"
   ]
  },
  {
   "cell_type": "code",
   "execution_count": 45,
   "metadata": {},
   "outputs": [
    {
     "data": {
      "text/plain": [
       "b'\\x03\\x00\\x00\\x00'"
      ]
     },
     "execution_count": 45,
     "metadata": {},
     "output_type": "execute_result"
    }
   ],
   "source": [
    "pack('i', 3)"
   ]
  },
  {
   "cell_type": "code",
   "execution_count": 46,
   "metadata": {},
   "outputs": [
    {
     "data": {
      "text/plain": [
       "(3,)"
      ]
     },
     "execution_count": 46,
     "metadata": {},
     "output_type": "execute_result"
    }
   ],
   "source": [
    "unpack('l', b'\\x03\\x00\\x00\\x00\\x00\\x00\\x00\\x00')"
   ]
  },
  {
   "cell_type": "markdown",
   "metadata": {},
   "source": [
    "`aaa 1, 130, 142` だと、`03 00 00 00 04 00 00 00 61 61 61 8C 01 82 8A`\n",
    "\n",
    "- 最初の4byte`03 00 00 00`がタグが何バイト分取っているかを表すの要素数(3)\n",
    "- 次の4byte`04 00 00 00`がバイト配列の要素数を表す(4)\n",
    "- 次の3byte`61 61 61`が'aaa'をバイト配列にしたもの\n",
    "- 残りの4byte`8C 01 82 8A`が数列(1, 129, 12)のバイト配列"
   ]
  },
  {
   "cell_type": "markdown",
   "metadata": {},
   "source": [
    "## Decoder"
   ]
  },
  {
   "cell_type": "code",
   "execution_count": 68,
   "metadata": {},
   "outputs": [
    {
     "name": "stdout",
     "output_type": "stream",
     "text": [
      "3 4\n",
      "b'a'\n",
      "(b'a', b'a', b'\\x8c')\n",
      "a\n",
      "a\n",
      "a\n",
      "a\n",
      "b'\\x01\\x82\\x8a\\x03'\n"
     ]
    }
   ],
   "source": [
    "def vb_decode_file(filename):\n",
    "    with open(\"./{}\".format(filename), mode='rb') as f:\n",
    "        len_tag = unpack('i', f.read(4))[0]\n",
    "        len_bytes = unpack('i', f.read(4))[0]\n",
    "        print(len_tag, len_bytes)\n",
    "        \n",
    "        # 普通に\n",
    "        print(f.read(1))\n",
    "        print(unpack('c'*len_tag, f.read(len_tag)))\n",
    "        for _ in range(len_bytes):\n",
    "            print('a')\n",
    "        print(f.read(len_bytes))\n",
    "#         tag = unpack('c', f.read(len_tag))\n",
    "        \n",
    "vb_decode_file('encoded')"
   ]
  },
  {
   "cell_type": "code",
   "execution_count": 97,
   "metadata": {},
   "outputs": [
    {
     "data": {
      "text/plain": [
       "b'33CA'"
      ]
     },
     "execution_count": 97,
     "metadata": {},
     "output_type": "execute_result"
    }
   ],
   "source": [
    "pack('f', 12.2)"
   ]
  },
  {
   "cell_type": "code",
   "execution_count": 90,
   "metadata": {},
   "outputs": [
    {
     "ename": "TypeError",
     "evalue": "'bytes' object cannot be interpreted as an integer",
     "output_type": "error",
     "traceback": [
      "\u001b[0;31m---------------------------------------------------------------------------\u001b[0m",
      "\u001b[0;31mTypeError\u001b[0m                                 Traceback (most recent call last)",
      "\u001b[0;32m<ipython-input-90-5fd55b0fd698>\u001b[0m in \u001b[0;36m<module>\u001b[0;34m\u001b[0m\n\u001b[0;32m----> 1\u001b[0;31m \u001b[0mprint\u001b[0m\u001b[0;34m(\u001b[0m\u001b[0mhex\u001b[0m\u001b[0;34m(\u001b[0m\u001b[0;34mb'abc'\u001b[0m\u001b[0;34m)\u001b[0m\u001b[0;34m)\u001b[0m\u001b[0;34m\u001b[0m\u001b[0;34m\u001b[0m\u001b[0m\n\u001b[0m",
      "\u001b[0;31mTypeError\u001b[0m: 'bytes' object cannot be interpreted as an integer"
     ]
    }
   ],
   "source": [
    "print(hex(b'abc'))"
   ]
  },
  {
   "cell_type": "code",
   "execution_count": 103,
   "metadata": {},
   "outputs": [
    {
     "ename": "SyntaxError",
     "evalue": "bytes can only contain ASCII literal characters. (<ipython-input-103-8d084f527c5d>, line 1)",
     "output_type": "error",
     "traceback": [
      "\u001b[0;36m  File \u001b[0;32m\"<ipython-input-103-8d084f527c5d>\"\u001b[0;36m, line \u001b[0;32m1\u001b[0m\n\u001b[0;31m    type(b'aa\\あ')\u001b[0m\n\u001b[0m         ^\u001b[0m\n\u001b[0;31mSyntaxError\u001b[0m\u001b[0;31m:\u001b[0m bytes can only contain ASCII literal characters.\n"
     ]
    }
   ],
   "source": [
    "type(b'aa\\あ')"
   ]
  },
  {
   "cell_type": "code",
   "execution_count": 101,
   "metadata": {},
   "outputs": [
    {
     "data": {
      "text/plain": [
       "bytearray"
      ]
     },
     "execution_count": 101,
     "metadata": {},
     "output_type": "execute_result"
    }
   ],
   "source": [
    "type(bytearray.fromhex('2Ef0 F1f2  '))"
   ]
  },
  {
   "cell_type": "code",
   "execution_count": 104,
   "metadata": {},
   "outputs": [
    {
     "data": {
      "text/plain": [
       "b'\\x00\\x00\\x00\\x00\\x00\\x00\\x00\\x00\\x00\\x00'"
      ]
     },
     "execution_count": 104,
     "metadata": {},
     "output_type": "execute_result"
    }
   ],
   "source": [
    "bytes(10)"
   ]
  },
  {
   "cell_type": "code",
   "execution_count": 111,
   "metadata": {},
   "outputs": [
    {
     "data": {
      "text/plain": [
       "b'\\x00\\x01\\x02\\x03\\x04\\x05\\x06\\x07\\x08\\t\\n\\x0b\\x0c\\r\\x0e\\x0f\\x10\\x11\\x12\\x13\\x14\\x15\\x16\\x17\\x18\\x19\\x1a\\x1b\\x1c\\x1d\\x1e\\x1f !\"#$%&\\'()*+,-./0123456789:;<=>?@ABCDEFGHIJKLMNOPQRSTUVWXYZ[\\\\]^_`abcdefghijklmnopqrstuvwxyz{|}~\\x7f\\x80\\x81\\x82\\x83\\x84\\x85\\x86\\x87\\x88\\x89\\x8a\\x8b\\x8c\\x8d\\x8e\\x8f\\x90\\x91\\x92\\x93\\x94\\x95\\x96\\x97\\x98\\x99\\x9a\\x9b\\x9c\\x9d\\x9e\\x9f\\xa0\\xa1\\xa2\\xa3\\xa4\\xa5\\xa6\\xa7\\xa8\\xa9\\xaa\\xab\\xac\\xad\\xae\\xaf\\xb0\\xb1\\xb2\\xb3\\xb4\\xb5\\xb6\\xb7\\xb8\\xb9\\xba\\xbb\\xbc\\xbd\\xbe\\xbf\\xc0\\xc1\\xc2\\xc3\\xc4\\xc5\\xc6\\xc7\\xc8\\xc9\\xca\\xcb\\xcc\\xcd\\xce\\xcf\\xd0\\xd1\\xd2\\xd3\\xd4\\xd5\\xd6\\xd7\\xd8\\xd9\\xda\\xdb\\xdc\\xdd\\xde\\xdf\\xe0\\xe1\\xe2\\xe3\\xe4\\xe5\\xe6\\xe7\\xe8\\xe9\\xea\\xeb\\xec\\xed\\xee\\xef\\xf0\\xf1\\xf2\\xf3\\xf4\\xf5\\xf6\\xf7\\xf8\\xf9\\xfa\\xfb\\xfc\\xfd\\xfe\\xff'"
      ]
     },
     "execution_count": 111,
     "metadata": {},
     "output_type": "execute_result"
    }
   ],
   "source": [
    "bytes(range(256))"
   ]
  },
  {
   "cell_type": "code",
   "execution_count": 118,
   "metadata": {},
   "outputs": [
    {
     "name": "stdout",
     "output_type": "stream",
     "text": [
      "0\n",
      "1\n",
      "2\n",
      "3\n",
      "4\n",
      "5\n",
      "6\n",
      "7\n",
      "8\n",
      "9\n",
      "10\n",
      "11\n",
      "12\n",
      "13\n",
      "14\n",
      "15\n",
      "16\n",
      "17\n",
      "18\n",
      "19\n",
      "20\n",
      "21\n",
      "22\n",
      "23\n",
      "24\n",
      "25\n",
      "26\n",
      "27\n",
      "28\n",
      "29\n",
      "30\n",
      "31\n",
      "32\n",
      "33\n",
      "34\n",
      "35\n",
      "36\n",
      "37\n",
      "38\n",
      "39\n",
      "40\n",
      "41\n",
      "42\n",
      "43\n",
      "44\n",
      "45\n",
      "46\n",
      "47\n",
      "48\n",
      "49\n",
      "50\n",
      "51\n",
      "52\n",
      "53\n",
      "54\n",
      "55\n",
      "56\n",
      "57\n",
      "58\n",
      "59\n",
      "60\n",
      "61\n",
      "62\n",
      "63\n",
      "64\n",
      "65\n",
      "66\n",
      "67\n",
      "68\n",
      "69\n",
      "70\n",
      "71\n",
      "72\n",
      "73\n",
      "74\n",
      "75\n",
      "76\n",
      "77\n",
      "78\n",
      "79\n",
      "80\n",
      "81\n",
      "82\n",
      "83\n",
      "84\n",
      "85\n",
      "86\n",
      "87\n",
      "88\n",
      "89\n",
      "90\n",
      "91\n",
      "92\n",
      "93\n",
      "94\n",
      "95\n",
      "96\n",
      "97\n",
      "98\n",
      "99\n",
      "100\n",
      "101\n",
      "102\n",
      "103\n",
      "104\n",
      "105\n",
      "106\n",
      "107\n",
      "108\n",
      "109\n",
      "110\n",
      "111\n",
      "112\n",
      "113\n",
      "114\n",
      "115\n",
      "116\n",
      "117\n",
      "118\n",
      "119\n",
      "120\n",
      "121\n",
      "122\n",
      "123\n",
      "124\n",
      "125\n",
      "126\n",
      "127\n",
      "128\n",
      "129\n",
      "130\n",
      "131\n",
      "132\n",
      "133\n",
      "134\n",
      "135\n",
      "136\n",
      "137\n",
      "138\n",
      "139\n",
      "140\n",
      "141\n",
      "142\n",
      "143\n",
      "144\n",
      "145\n",
      "146\n",
      "147\n",
      "148\n",
      "149\n",
      "150\n",
      "151\n",
      "152\n",
      "153\n",
      "154\n",
      "155\n",
      "156\n",
      "157\n",
      "158\n",
      "159\n",
      "160\n",
      "161\n",
      "162\n",
      "163\n",
      "164\n",
      "165\n",
      "166\n",
      "167\n",
      "168\n",
      "169\n",
      "170\n",
      "171\n",
      "172\n",
      "173\n",
      "174\n",
      "175\n",
      "176\n",
      "177\n",
      "178\n",
      "179\n",
      "180\n",
      "181\n",
      "182\n",
      "183\n",
      "184\n",
      "185\n",
      "186\n",
      "187\n",
      "188\n",
      "189\n",
      "190\n",
      "191\n",
      "192\n",
      "193\n",
      "194\n",
      "195\n",
      "196\n",
      "197\n",
      "198\n",
      "199\n",
      "200\n",
      "201\n",
      "202\n",
      "203\n",
      "204\n",
      "205\n",
      "206\n",
      "207\n",
      "208\n",
      "209\n",
      "210\n",
      "211\n",
      "212\n",
      "213\n",
      "214\n",
      "215\n",
      "216\n",
      "217\n",
      "218\n",
      "219\n",
      "220\n",
      "221\n",
      "222\n",
      "223\n",
      "224\n",
      "225\n",
      "226\n",
      "227\n",
      "228\n",
      "229\n",
      "230\n",
      "231\n",
      "232\n",
      "233\n",
      "234\n",
      "235\n",
      "236\n",
      "237\n",
      "238\n",
      "239\n",
      "240\n",
      "241\n",
      "242\n",
      "243\n",
      "244\n",
      "245\n",
      "246\n",
      "247\n",
      "248\n",
      "249\n",
      "250\n",
      "251\n",
      "252\n",
      "253\n",
      "254\n",
      "255\n"
     ]
    }
   ],
   "source": [
    "for i in range(256):\n",
    "    print(bytes(range(256))[i])"
   ]
  },
  {
   "cell_type": "code",
   "execution_count": null,
   "metadata": {},
   "outputs": [],
   "source": []
  }
 ],
 "metadata": {
  "kernelspec": {
   "display_name": "Python 3",
   "language": "python",
   "name": "python3"
  },
  "language_info": {
   "codemirror_mode": {
    "name": "ipython",
    "version": 3
   },
   "file_extension": ".py",
   "mimetype": "text/x-python",
   "name": "python",
   "nbconvert_exporter": "python",
   "pygments_lexer": "ipython3",
   "version": "3.8.1"
  }
 },
 "nbformat": 4,
 "nbformat_minor": 4
}
