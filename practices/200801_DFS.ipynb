{
 "cells": [
  {
   "cell_type": "markdown",
   "metadata": {},
   "source": [
    "# [C - One-stroke Path](https://atcoder.jp/contests/abc054/tasks/abc054_c)\n",
    "\n",
    "自己ループと二重辺を含まない N 頂点 M 辺の重み無し無向グラフが与えられます。i(1≦i≦M) 番目の辺は頂点 ai と頂点 bi を結びます。ここで、自己ループは ai=bi(1≦i≦M) となる辺のことを表します。また、二重辺は ai=aj かつ bi=bj(1≦i<j≦M) となる辺のことを表します。頂点 1 を始点として、全ての頂点を1度だけ訪れるパスは何通りありますか。ただし、パスの始点と終点の頂点も訪れたものとみなします。例として、図1のような無向グラフが与えられたとします。ただし、パスの始点と終点の頂点も訪れたものとみなします。\n",
    "\n",
    "問題文の条件を満たすパスが何通りあるか出力せよ。"
   ]
  },
  {
   "cell_type": "markdown",
   "metadata": {},
   "source": [
    "## 答え見た\n",
    "\n",
    "- グラフ→幅優先探索なんかと思っていたけどそういうわけでもなさそう。\n",
    "- グラフないのアクセスのmax回数は幅優先探索で良いのだろう？\n",
    "- 深さ優先探索(再帰)でいけるっぽいので実装する。"
   ]
  },
  {
   "cell_type": "markdown",
   "metadata": {},
   "source": [
    "## 深さ優先探索"
   ]
  },
  {
   "cell_type": "code",
   "execution_count": 52,
   "metadata": {
    "scrolled": true
   },
   "outputs": [
    {
     "name": "stdout",
     "output_type": "stream",
     "text": [
      "3 3 \n",
      "1 2\n",
      "1 3\n",
      "2 3\n",
      "2\n"
     ]
    }
   ],
   "source": [
    "from collections import defaultdict\n",
    "n, m = map(lambda x: int(x), input().split())\n",
    "\n",
    "links = defaultdict(set)\n",
    "\n",
    "for _ in range(m):\n",
    "    a, b = map(lambda x: int(x), input().split())\n",
    "    links[a].add(b)\n",
    "    links[b].add(a) ### 最初忘れてた！無向だから両方の向き！\n",
    "    \n",
    "path_counter = 0\n",
    "    \n",
    "def path_patterns_number(current_node, remaining_nodes):#, remaining_links): <= linksは減らさなくてもOKだった\n",
    "    if len(remaining_nodes) == 0:\n",
    "        return 1\n",
    "    \n",
    "    patterns = 0\n",
    "    \n",
    "    for next_node in (links[current_node] & remaining_nodes):\n",
    "#         remaining_links_copy = remaining_links.copy()\n",
    "#         remaining_links_copy[current_node].remove(next_node) <=浅いコピーなので元のからもremoveされてる\n",
    "        patterns += path_patterns_number(\n",
    "            next_node,\n",
    "            remaining_nodes.copy() - {next_node}\n",
    "#             remaining_links_copy\n",
    "        )\n",
    "    \n",
    "    return patterns\n",
    "    \n",
    "print(path_patterns_number(1, set(range(2,n+1))))"
   ]
  },
  {
   "cell_type": "markdown",
   "metadata": {},
   "source": [
    "## 考察\n",
    "\n",
    "- 典型的な深さ優先探索で行けた。\n",
    "- 計算時間は頂点がmax8個なので、7!=5040通りですで計算時間はO(N!)\n",
    "- よって間に合うらしい。\n",
    "- bitDPでもいけるらしい"
   ]
  },
  {
   "cell_type": "markdown",
   "metadata": {},
   "source": [
    "# ちょっと引っかかったこと\n",
    "\n",
    "## defualt_dictの浅いコピー\n",
    "\n",
    "```\n",
    "default_dict = {1: [111,222], 2: [333, 444]}\n",
    "\n",
    "として、\n",
    "\n",
    "default_dict_copy = default_dict.copy()\n",
    "default_dict_copy[1].remove(111)\n",
    "\n",
    "すると\n",
    "\n",
    "default_dict => {1: [222], 2: [333, 444]}\n",
    "default_dict_copy => {1: [222], 2: [333, 444]}\n",
    "\n",
    "となってしまう。これはshallow copyになっているからであり、\n",
    "default_dictのkeyまではコピーされるが、そのvalueのリスト自体はcopyも、もとのリストを参照しているから。\n",
    "```"
   ]
  },
  {
   "cell_type": "code",
   "execution_count": null,
   "metadata": {},
   "outputs": [],
   "source": []
  }
 ],
 "metadata": {
  "kernelspec": {
   "display_name": "Python 3",
   "language": "python",
   "name": "python3"
  },
  "language_info": {
   "codemirror_mode": {
    "name": "ipython",
    "version": 3
   },
   "file_extension": ".py",
   "mimetype": "text/x-python",
   "name": "python",
   "nbconvert_exporter": "python",
   "pygments_lexer": "ipython3",
   "version": "3.8.1"
  }
 },
 "nbformat": 4,
 "nbformat_minor": 4
}
