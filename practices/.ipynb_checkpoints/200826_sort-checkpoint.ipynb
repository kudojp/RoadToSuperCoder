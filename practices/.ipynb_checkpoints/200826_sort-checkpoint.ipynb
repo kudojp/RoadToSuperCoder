{
 "cells": [
  {
   "cell_type": "markdown",
   "metadata": {},
   "source": [
    "# クイックソート"
   ]
  },
  {
   "cell_type": "code",
   "execution_count": 147,
   "metadata": {},
   "outputs": [],
   "source": [
    "# arrを要素が小さい順に並び替える\n",
    "def quick_sort(arr):\n",
    "    if len(arr) == 1:\n",
    "        return arr\n",
    "    first, last = partition(arr)\n",
    "    \n",
    "    if len(first) == 0:\n",
    "        return [last[0]] + quick_sort(last[1:])\n",
    "    return quick_sort(first) + quick_sort(last)"
   ]
  },
  {
   "cell_type": "code",
   "execution_count": 162,
   "metadata": {},
   "outputs": [],
   "source": [
    "# 引数として渡された配列の最初の要素をpivotとして、二つの配列を返す\n",
    "#\n",
    "# Returns:\n",
    "#     first array: pivot未満の要素の配列\n",
    "#     secod array: pivot以上の要素の配列\n",
    "def partition(arr):\n",
    "    pivot = arr[0]\n",
    "    i, j = 0, len(arr) - 1\n",
    "    while True:\n",
    "        is_end = False\n",
    "        while arr[i] < pivot:\n",
    "#             print(i,j)\n",
    "            i += 1\n",
    "            if i == j:\n",
    "                is_end = True\n",
    "                break\n",
    "        if is_end:\n",
    "            break\n",
    "        while arr[j] >= pivot:\n",
    "            j -= 1\n",
    "            if i == j:\n",
    "                is_end = True\n",
    "                break\n",
    "        if is_end:\n",
    "            break\n",
    "        # make a swap\n",
    "        ele_i = arr[i]\n",
    "        arr[i] = arr[j]\n",
    "        arr[j] = ele_i\n",
    "    return arr[:i], arr[i:]"
   ]
  },
  {
   "cell_type": "code",
   "execution_count": 163,
   "metadata": {},
   "outputs": [
    {
     "name": "stdout",
     "output_type": "stream",
     "text": [
      "[2, 1] [3, 3, 4, 3]\n",
      "[1, 3, 3, 2] [4]\n",
      "[1, 1, 2] [4, 5, 3]\n",
      "[1] [5, 6, 6, 6, 3]\n"
     ]
    }
   ],
   "source": [
    "# test for partition()\n",
    "# first_half should be: x < pivot\n",
    "# second_half should be: x >= pivot\n",
    "\n",
    "# pivot = 3\n",
    "first, last = partition([3,1,2,3,4,3])\n",
    "print(first, last)\n",
    "assert first == [2,1]\n",
    "assert last == [3,3,4,3]\n",
    "\n",
    "# pivot = 4\n",
    "first, last = partition([4,3,3,2,1])\n",
    "print(first, last)\n",
    "assert first == [1,3,3,2]\n",
    "assert last == [4]\n",
    "\n",
    "# pivot = 4\n",
    "first, last = partition([4,5,6,5,6])\n",
    "assert first == []\n",
    "assert last == [4,5,6,5,6]\n",
    "\n",
    "# pivot = 3\n",
    "# i ==> j\n",
    "first, last = partition([3,1,2,4,5,1])\n",
    "print(first, last)\n",
    "assert first == [1,1,2]\n",
    "assert last == [4,5,3]\n",
    "\n",
    "# pivot = 3\n",
    "first, last = partition([3,2,2,2,2,6,6,1])\n",
    "print(first, last)"
   ]
  },
  {
   "cell_type": "markdown",
   "metadata": {},
   "source": [
    "- やっぱり計算時間はO(nlogn)で、最悪なのは、すでに並んでる場合(降順昇順を問わない)で、O(n^2)かかる\n",
    "- テスト最高。エッジケースの確認に最高。 "
   ]
  },
  {
   "cell_type": "markdown",
   "metadata": {},
   "source": [
    "# マージソート"
   ]
  },
  {
   "cell_type": "code",
   "execution_count": 11,
   "metadata": {},
   "outputs": [],
   "source": [
    "# 引数として渡された整列済みの配列をマージした整列済みの配列を返す\n",
    "def merge_sorted_arrs(arr1, arr2):\n",
    "    i = 0\n",
    "    arr = []\n",
    "    while True:\n",
    "        arr_to_pop = arr1 if (arr1[0] < arr2[0]) else arr2\n",
    "        arr.append(arr_to_pop.pop(0))\n",
    "        if len(arr1) == 0:\n",
    "            arr.extend(arr2)\n",
    "            return arr\n",
    "        if len(arr2) == 0:\n",
    "            arr.extend(arr1)\n",
    "            return arr"
   ]
  },
  {
   "cell_type": "code",
   "execution_count": 12,
   "metadata": {},
   "outputs": [
    {
     "data": {
      "text/plain": [
       "[2, 3, 3, 4, 4, 7, 8]"
      ]
     },
     "execution_count": 12,
     "metadata": {},
     "output_type": "execute_result"
    }
   ],
   "source": [
    "merge_sorted_arrs([3,4,4],[2,3,7,8])\n"
   ]
  },
  {
   "cell_type": "code",
   "execution_count": 13,
   "metadata": {},
   "outputs": [],
   "source": [
    "def merge_sort(arr):\n",
    "    len_arr = len(arr)\n",
    "    if len_arr < 1:\n",
    "        return arr\n",
    "    return merge_sorted_arrs(merge_sort(arr[:(len_arr//2)]), merge_sort(arr[(len_arr//2):]))"
   ]
  },
  {
   "cell_type": "code",
   "execution_count": 14,
   "metadata": {},
   "outputs": [
    {
     "data": {
      "text/plain": [
       "[1, 1, 2, 2, 3]"
      ]
     },
     "execution_count": 14,
     "metadata": {},
     "output_type": "execute_result"
    }
   ],
   "source": [
    "merge_sort([1,2,3,2,1])"
   ]
  },
  {
   "cell_type": "markdown",
   "metadata": {},
   "source": [
    "- 計算時間はO(nlogn)\n",
    "- いつも一定"
   ]
  }
 ],
 "metadata": {
  "kernelspec": {
   "display_name": "Python 3",
   "language": "python",
   "name": "python3"
  },
  "language_info": {
   "codemirror_mode": {
    "name": "ipython",
    "version": 3
   },
   "file_extension": ".py",
   "mimetype": "text/x-python",
   "name": "python",
   "nbconvert_exporter": "python",
   "pygments_lexer": "ipython3",
   "version": "3.8.1"
  }
 },
 "nbformat": 4,
 "nbformat_minor": 4
}
