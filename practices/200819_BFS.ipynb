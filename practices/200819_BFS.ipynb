{
 "cells": [
  {
   "cell_type": "markdown",
   "metadata": {},
   "source": [
    "# C - [幅優先探索 ](https://atcoder.jp/contests/abc007/tasks/abc007_3?lang=ja)\n",
    "\n",
    "\n",
    "\n",
    "たかはし君は迷路が好きです。今、上下左右に移動できる二次元盤面上の迷路を解こうとしています。盤面は以下のような形式で与えられます。\n",
    "\n",
    "まず、盤面のサイズと、迷路のスタート地点とゴール地点の座標が与えられる。\n",
    "次に、それぞれのマスが通行可能な空きマス(.)か通行不可能な壁マス(#)かという情報を持った盤面が与えられる。盤面は壁マスで囲まれている。スタート地点とゴール地点は必ず空きマスであり、スタート地点からゴール地点へは、空きマスを辿って必ずたどり着ける。具体的には、入出力例を参考にすると良い。\n",
    "今、彼は上記の迷路を解くのに必要な最小移動手数を求めたいと思っています。どうやって求めるかを調べていたところ、「幅優先探索」という手法が効率的であることを知りました。幅優先探索というのは以下の手法です。\n",
    "\n",
    "スタート地点から近い(たどり着くための最短手数が少ない)マスから順番に、たどり着く手数を以下のように確定していく。説明の例として図1の迷路を利用する。\n",
    "\n",
    "図1. 説明に用いる盤面\n",
    "最初に、スタート地点は、スタート地点から手数0でたどり着ける(当然)ので、最短手数0で確定させる(図2)。\n",
    "\n",
    "図2. 最短手数0でたどり着けるマスが確定(初期)\n",
    "次に、スタート地点の四近傍(上下左右)の空きマスについて、手数1で確定させる(図3)。\n",
    "\n",
    "図3. 最短手数1でたどり着けるマスが確定\n",
    "次に、手数1で確定したそれぞれのマスの4近傍を見て、まだ確定していない空きマスがあればそのマスを手数2で確定させる(図4)。\n",
    "\n",
    "図4. 最短手数2でたどり着けるマスが確定\n",
    "次に、手数2で確定したそれぞれのマスの4近傍を見て、まだ確定していない空きマスがあればそのマスを手数3で確定させる(図5)。\n",
    "\n",
    "図5. 最短手数3でたどり着けるマスが確定\n",
    "次に、手数3で確定したそれぞれのマスの4近傍を見て、まだ確定していない空きマスがあればそのマスを手数4で確定させる(図6)。\n",
    "\n",
    "図6. 最短手数4でたどり着けるマスが確定\n",
    "上記の手順を確定の更新が無くなるまで繰り返すと、スタート地点からたどり着ける全ての空きマスについて最短手数が確定する(図7)。スタートとゴールは必ず空きマスを辿ってたどり着けるという制約があるので、ゴール地点への最短手数も分かる。\n",
    "\n",
    "図7. すべてのたどり着けるマスへの最短手数が確定\n",
    "さて、この処理をスマートに実装するためには、先入れ先出し(FIFO)のキュー(Queue)というデータ構造を用いると良いことが知られています。もちろん、使わなくても解くことは可能です。今回、よく分からなければ思いついた方法で解くことをおすすめします。先入れ先出しのキューとは以下のような機能を持つデータ構造です。\n",
    "\n",
    "追加(Push): キューの末尾にデータを追加する。\n",
    "取り出し(Pop): キューの先頭のデータを取り出す。\n",
    "このデータ構造を使うと、先ほどの幅優先探索の説明における「マスの最短手数の確定」のタイミングでその確定マスをキューに追加し、追加操作が終わればPopを行い、取り出したマスの4近傍を調べるということを繰り返せば(つまり先に追加されたものから順番に処理していけば)、簡潔に処理ができることが分かります。"
   ]
  },
  {
   "cell_type": "code",
   "execution_count": 16,
   "metadata": {},
   "outputs": [],
   "source": []
  },
  {
   "cell_type": "code",
   "execution_count": null,
   "metadata": {},
   "outputs": [],
   "source": [
    "#  ちょっと勘違いしてた　current_possible_index = next_possible_index　ここら辺\n",
    "\n",
    "# import sys\n",
    "\n",
    "\n",
    "# def get_next_possible_index(current_index, available_index, num_col):\n",
    "#     return set([current_index + gap for gap in [-num_col,-1, 1, num_col] if (current_index + gap) in available_index])\n",
    "\n",
    "# r, c = map(lambda x: int(x), input().split())\n",
    "# sy, sx = map(lambda x: int(x), input().split())\n",
    "# gx, gy = map(lambda x: int(x), input().split())\n",
    "\n",
    "# # 1-d array\n",
    "# unvisited_index = set()\n",
    "# max_index = r * c\n",
    "# start_index = r * (sx - 1) + sy-1\n",
    "# goal_index = r * (gx - 1) + gy-1\n",
    "\n",
    "# for r_i in range(r):\n",
    "#     unvisited_index = unvisited_index.union(set([c * r_i + col_i for col_i, cell in enumerate(input()) if cell == '.']))\n",
    "\n",
    "# # print(unvisited_index)\n",
    "# next_possible_index = set([start_index])\n",
    "# unvisited_index = unvisited_index.difference([start_index])\n",
    "# next_possible_index = get_next_possible_index(start_index, unvisited_index, c)\n",
    "# step_number = 0\n",
    "\n",
    "# while True:\n",
    "#     current_possible_index = next_possible_index\n",
    "#     step_number += 1\n",
    "#     next_possible_index = set()\n",
    "#     unvisited_index = unvisited_index.difference(current_possible_index)\n",
    "#     print(current_possible_index, start_index, goal_index, unvisited_index)\n",
    "    \n",
    "#     if goal_index in current_possible_index:\n",
    "#         print(step_number)\n",
    "#         sys.exit()\n",
    "#     from IPython.core.debugger import Pdb; Pdb().set_trace()\n",
    "\n",
    "#     for each_cell in current_possible_index:\n",
    "#         next_possible_index = next_possible_index.union(get_next_possible_index(each_cell, unvisited_index, c))"
   ]
  },
  {
   "cell_type": "code",
   "execution_count": 66,
   "metadata": {
    "scrolled": true
   },
   "outputs": [
    {
     "name": "stdout",
     "output_type": "stream",
     "text": [
      "2 2\n",
      "1 1\n",
      "2 2\n",
      "..\n",
      "..\n",
      "2\n"
     ]
    },
    {
     "ename": "SystemExit",
     "evalue": "",
     "output_type": "error",
     "traceback": [
      "An exception has occurred, use %tb to see the full traceback.\n",
      "\u001b[0;31mSystemExit\u001b[0m\n"
     ]
    }
   ],
   "source": [
    "import sys\n",
    "from collections import deque\n",
    "\n",
    "def get_next_possible_index(current_index, available_index, num_col):\n",
    "    return set([current_index + gap for gap in [-num_col,-1, 1, num_col] if (current_index + gap) in available_index])\n",
    "\n",
    "r, c = map(lambda x: int(x), input().split())\n",
    "sy, sx = map(lambda x: int(x), input().split())\n",
    "gx, gy = map(lambda x: int(x), input().split())\n",
    "\n",
    "# 1-d array\n",
    "unvisited_index = set()\n",
    "max_index = r * c\n",
    "start_index = c * (sx - 1) + sy-1\n",
    "goal_index = c * (gx - 1) + gy-1\n",
    "\n",
    "queue = deque()\n",
    "index_to_num_step = {}\n",
    "\n",
    "for r_i in range(r):\n",
    "    unvisited_index = unvisited_index.union(set([c * r_i + col_i for col_i, cell in enumerate(input()) if cell == '.']))\n",
    "\n",
    "# print(unvisited_index)\n",
    "# unvisited_index = unvisited_index.difference([start_index])\n",
    "queue.append(start_index)\n",
    "index_to_num_step[start_index] = 0\n",
    "unvisited_index.remove(start_index)\n",
    "\n",
    "step_number = 0\n",
    "\n",
    "while True:\n",
    "    current_index = queue.popleft()\n",
    "#     print(current_index)\n",
    "    \n",
    "    next_possible_index = get_next_possible_index(current_index, unvisited_index, c)\n",
    "#     print(queue, current_index, unvisited_index, next_possible_index)\n",
    "    if goal_index in next_possible_index:\n",
    "        print(index_to_num_step[current_index] + 1)\n",
    "        sys.exit()\n",
    "    \n",
    "    for each_next_index in next_possible_index:\n",
    "        index_to_num_step[each_next_index] = index_to_num_step[current_index] + 1\n",
    "        unvisited_index.remove(each_next_index)\n",
    "        queue.append(each_next_index)\n",
    "        \n",
    "        "
   ]
  },
  {
   "cell_type": "code",
   "execution_count": 58,
   "metadata": {},
   "outputs": [],
   "source": [
    "a = {1, 2}\n",
    "b = {1}"
   ]
  },
  {
   "cell_type": "code",
   "execution_count": 59,
   "metadata": {},
   "outputs": [
    {
     "data": {
      "text/plain": [
       "(4399315648, 4497131328, 4434055904, 4434055904)"
      ]
     },
     "execution_count": 59,
     "metadata": {},
     "output_type": "execute_result"
    }
   ],
   "source": [
    "id(a), id(b), id(a-b), id(a.difference(b))"
   ]
  },
  {
   "cell_type": "markdown",
   "metadata": {},
   "source": [
    "**pythonのdequeueはpopleftとappendを使うんだった(popじゃなくて)**"
   ]
  },
  {
   "cell_type": "markdown",
   "metadata": {},
   "source": [
    "**あるcellのindexをキューに追加した時点で、unvisitedセットからそのindexを取り除く必要があった。もし、これを訪れてからにしてしまうと、同じ深さのNodeにあたる処理の最中に、queueに同じindexの要素が加えられる可能性がある**"
   ]
  },
  {
   "cell_type": "markdown",
   "metadata": {},
   "source": [
    "```\n",
    "幅優先探索で\n",
    "\n",
    "que= [1,3,4 || 2,5,8 || 6,7 ]\n",
    "\n",
    "            ↑１ 　　↑２　↑３\n",
    "\n",
    "回で辿り着け李けるnodeのインデックスとして、\n",
    "この回数はqueに関連させてどう保持するのかというと、\n",
    "```\n",
    "\n",
    "それようにhashか配列かを用意する"
   ]
  },
  {
   "cell_type": "code",
   "execution_count": null,
   "metadata": {},
   "outputs": [],
   "source": []
  }
 ],
 "metadata": {
  "kernelspec": {
   "display_name": "Python 3",
   "language": "python",
   "name": "python3"
  },
  "language_info": {
   "codemirror_mode": {
    "name": "ipython",
    "version": 3
   },
   "file_extension": ".py",
   "mimetype": "text/x-python",
   "name": "python",
   "nbconvert_exporter": "python",
   "pygments_lexer": "ipython3",
   "version": "3.8.1"
  }
 },
 "nbformat": 4,
 "nbformat_minor": 4
}
