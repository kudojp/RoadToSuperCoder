{
 "cells": [
  {
   "cell_type": "markdown",
   "metadata": {},
   "source": [
    "# A - Disjoint Set Union\n",
    "実行時間制限: 5 sec / メモリ制限: 1024 MB\n",
    "\n",
    "N頂点0辺の無向グラフにQ個のクエリが飛んできます。処理してください。\n",
    "- 0 u v: 辺(u,v)を追加する。\n",
    "- 1 u v: u,v が連結ならば 1、そうでないなら 0 を出力する。"
   ]
  },
  {
   "cell_type": "code",
   "execution_count": 86,
   "metadata": {},
   "outputs": [
    {
     "name": "stdout",
     "output_type": "stream",
     "text": [
      "1 1\n",
      "0 0 0\n"
     ]
    }
   ],
   "source": [
    "class UnionFind:\n",
    "    def __init__(self, length):\n",
    "        self.parent_indexes = [-1]* length\n",
    "        \n",
    "    def union(self, i, j):\n",
    "        if self.are_in_the_same_group(i, j):\n",
    "            return\n",
    "        # iが所属する集団のサイズ>=jが所属する集団のサイズにする\n",
    "        if self.get_group_size(i) < self.get_group_size(j):\n",
    "            i, j = j, i\n",
    "        self.parent_indexes[self.find(i)] = - self.get_group_size(i) - self.get_group_size(j)\n",
    "        self.parent_indexes[self.find(j)] = self.find(i)\n",
    "        \n",
    "    # i番目の要素が所属する集団の親nodeのindexを返す\n",
    "    # メモ化もする\n",
    "    def find(self, i):\n",
    "        if self.parent_indexes[i] < 0:\n",
    "            return i\n",
    "        parent_index = self.find(self.parent_indexes[i])\n",
    "        self.parent_indexes[i] = parent_index\n",
    "        return parent_index\n",
    "\n",
    "    def get_group_size(self, i):\n",
    "        return - self.parent_indexes[self.find(i)]\n",
    "    \n",
    "    def are_in_the_same_group(self, i, j):\n",
    "        return self.find(i) == self.find(j)\n",
    "    \n",
    "    \n",
    "n, q = list(map(lambda x: int(x), input().split()))\n",
    "uf = UnionFind(n)\n",
    "for _ in range(q):\n",
    "    t, u, v = list(map(lambda x: int(x), input().split()))\n",
    "#     print(uf.parent_indexes)\n",
    "    if t == 0:\n",
    "        uf.union(u, v)\n",
    "        continue\n",
    "    print('1') if uf.are_in_the_same_group(u, v) else print('0')"
   ]
  },
  {
   "cell_type": "code",
   "execution_count": 83,
   "metadata": {},
   "outputs": [],
   "source": [
    "# UnionFindクラスのテスト\n",
    "uf = UnionFind(5)\n",
    "uf.union(0,1)\n",
    "uf.union(2,3)\n",
    "assert uf.parent_indexes == [-2, 0, -2, 2, -1]\n",
    "uf.union(0,2)\n",
    "assert uf.parent_indexes == [-4, 0, 0, 2, -1]\n",
    "uf.find(3)\n",
    "assert uf.parent_indexes == [-4, 0, 0, 0, -1]\n",
    "assert uf.are_in_the_same_group(0,1)\n",
    "assert ~uf.are_in_the_same_group(0,4)\n",
    "for i in range(4):\n",
    "    assert uf.get_group_size(i) == 4\n",
    "    assert uf.find(i) == 0\n",
    "assert uf.get_group_size(4) == 1"
   ]
  },
  {
   "cell_type": "markdown",
   "metadata": {},
   "source": [
    "# B - Fenwick Tree  / \n",
    "実行時間制限: 5 sec / メモリ制限: 1024 MB\n",
    "\n",
    "問題文\n",
    "長さ N の数列 a0,a1,...,aN−1 に Q 個のクエリが飛んできます。\n",
    "処理してください。\n",
    "- `0 p x`: `ap←ap+x`\n",
    "- `1 l r`: `∑r−1i=lai` を出力する。"
   ]
  },
  {
   "cell_type": "code",
   "execution_count": 117,
   "metadata": {},
   "outputs": [
    {
     "name": "stdout",
     "output_type": "stream",
     "text": [
      "5 5\n",
      "1 2 3 4 5\n",
      "1 0 5\n",
      "15\n",
      "1 2 4\n",
      "7\n",
      "0 3 10\n"
     ]
    },
    {
     "ename": "TypeError",
     "evalue": "object of type 'int' has no len()",
     "output_type": "error",
     "traceback": [
      "\u001b[0;31m---------------------------------------------------------------------------\u001b[0m",
      "\u001b[0;31mTypeError\u001b[0m                                 Traceback (most recent call last)",
      "\u001b[0;32m<ipython-input-117-60b63b0ac358>\u001b[0m in \u001b[0;36m<module>\u001b[0;34m\u001b[0m\n\u001b[1;32m     13\u001b[0m     \u001b[0mi\u001b[0m\u001b[0;34m,\u001b[0m \u001b[0mx\u001b[0m\u001b[0;34m,\u001b[0m \u001b[0my\u001b[0m \u001b[0;34m=\u001b[0m \u001b[0mlist\u001b[0m\u001b[0;34m(\u001b[0m\u001b[0mmap\u001b[0m\u001b[0;34m(\u001b[0m\u001b[0;32mlambda\u001b[0m \u001b[0mx\u001b[0m\u001b[0;34m:\u001b[0m \u001b[0mint\u001b[0m\u001b[0;34m(\u001b[0m\u001b[0mx\u001b[0m\u001b[0;34m)\u001b[0m\u001b[0;34m,\u001b[0m \u001b[0minput\u001b[0m\u001b[0;34m(\u001b[0m\u001b[0;34m)\u001b[0m\u001b[0;34m.\u001b[0m\u001b[0msplit\u001b[0m\u001b[0;34m(\u001b[0m\u001b[0;34m)\u001b[0m\u001b[0;34m)\u001b[0m\u001b[0;34m)\u001b[0m\u001b[0;34m\u001b[0m\u001b[0;34m\u001b[0m\u001b[0m\n\u001b[1;32m     14\u001b[0m     \u001b[0;32mif\u001b[0m \u001b[0mi\u001b[0m \u001b[0;34m==\u001b[0m \u001b[0;36m0\u001b[0m\u001b[0;34m:\u001b[0m\u001b[0;34m\u001b[0m\u001b[0;34m\u001b[0m\u001b[0m\n\u001b[0;32m---> 15\u001b[0;31m         \u001b[0;32mfor\u001b[0m \u001b[0mi\u001b[0m \u001b[0;32min\u001b[0m \u001b[0mrange\u001b[0m\u001b[0;34m(\u001b[0m\u001b[0mx\u001b[0m\u001b[0;34m,\u001b[0m \u001b[0mlen\u001b[0m\u001b[0;34m(\u001b[0m\u001b[0mx\u001b[0m\u001b[0;34m)\u001b[0m\u001b[0;34m)\u001b[0m\u001b[0;34m:\u001b[0m\u001b[0;34m\u001b[0m\u001b[0;34m\u001b[0m\u001b[0m\n\u001b[0m\u001b[1;32m     16\u001b[0m             \u001b[0msum_list_a\u001b[0m\u001b[0;34m[\u001b[0m\u001b[0mi\u001b[0m\u001b[0;34m]\u001b[0m \u001b[0;34m+=\u001b[0m \u001b[0my\u001b[0m\u001b[0;34m\u001b[0m\u001b[0;34m\u001b[0m\u001b[0m\n\u001b[1;32m     17\u001b[0m         \u001b[0;32mcontinue\u001b[0m\u001b[0;34m\u001b[0m\u001b[0;34m\u001b[0m\u001b[0m\n",
      "\u001b[0;31mTypeError\u001b[0m: object of type 'int' has no len()"
     ]
    }
   ],
   "source": [
    "n, q = list(map(lambda x: int(x), input().split()))\n",
    "list_a = list(map(lambda x: int(x), input().split()))\n",
    "\n",
    "# i-th element is sum of subarray: list_a[:i+1]\n",
    "current_sum = 0\n",
    "sum_list_a = []\n",
    "for ele in list_a:\n",
    "    current_sum += ele\n",
    "    sum_list_a.append(current_sum)\n",
    "\n",
    "for _ in range(q):\n",
    "    i, x, y = list(map(lambda x: int(x), input().split()))\n",
    "    if i == 0:\n",
    "        for i in range(x, n):\n",
    "            sum_list_a[i] += y\n",
    "        continue\n",
    "        \n",
    "    if (x == 0):\n",
    "        print(sum_list_a[y-1])\n",
    "        continue\n",
    "    print(sum_list_a[y-1] - sum_list_a[x-1])"
   ]
  },
  {
   "cell_type": "code",
   "execution_count": null,
   "metadata": {},
   "outputs": [],
   "source": []
  },
  {
   "cell_type": "code",
   "execution_count": null,
   "metadata": {},
   "outputs": [],
   "source": []
  },
  {
   "cell_type": "code",
   "execution_count": null,
   "metadata": {},
   "outputs": [],
   "source": []
  },
  {
   "cell_type": "code",
   "execution_count": null,
   "metadata": {},
   "outputs": [],
   "source": []
  },
  {
   "cell_type": "code",
   "execution_count": null,
   "metadata": {},
   "outputs": [],
   "source": []
  },
  {
   "cell_type": "code",
   "execution_count": null,
   "metadata": {},
   "outputs": [],
   "source": []
  },
  {
   "cell_type": "code",
   "execution_count": null,
   "metadata": {},
   "outputs": [],
   "source": []
  },
  {
   "cell_type": "code",
   "execution_count": null,
   "metadata": {},
   "outputs": [],
   "source": []
  },
  {
   "cell_type": "code",
   "execution_count": null,
   "metadata": {},
   "outputs": [],
   "source": []
  },
  {
   "cell_type": "code",
   "execution_count": null,
   "metadata": {},
   "outputs": [],
   "source": []
  },
  {
   "cell_type": "code",
   "execution_count": null,
   "metadata": {},
   "outputs": [],
   "source": []
  },
  {
   "cell_type": "code",
   "execution_count": null,
   "metadata": {},
   "outputs": [],
   "source": []
  },
  {
   "cell_type": "code",
   "execution_count": null,
   "metadata": {},
   "outputs": [],
   "source": []
  },
  {
   "cell_type": "code",
   "execution_count": null,
   "metadata": {},
   "outputs": [],
   "source": []
  },
  {
   "cell_type": "code",
   "execution_count": null,
   "metadata": {},
   "outputs": [],
   "source": []
  },
  {
   "cell_type": "code",
   "execution_count": null,
   "metadata": {},
   "outputs": [],
   "source": []
  },
  {
   "cell_type": "code",
   "execution_count": null,
   "metadata": {},
   "outputs": [],
   "source": []
  },
  {
   "cell_type": "code",
   "execution_count": null,
   "metadata": {},
   "outputs": [],
   "source": []
  },
  {
   "cell_type": "code",
   "execution_count": null,
   "metadata": {},
   "outputs": [],
   "source": []
  },
  {
   "cell_type": "code",
   "execution_count": null,
   "metadata": {},
   "outputs": [],
   "source": []
  },
  {
   "cell_type": "code",
   "execution_count": null,
   "metadata": {},
   "outputs": [],
   "source": []
  },
  {
   "cell_type": "markdown",
   "metadata": {},
   "source": [
    "# ちょっと実験"
   ]
  },
  {
   "cell_type": "code",
   "execution_count": 109,
   "metadata": {},
   "outputs": [
    {
     "data": {
      "text/plain": [
       "[1, 2, 3]"
      ]
     },
     "execution_count": 109,
     "metadata": {},
     "output_type": "execute_result"
    }
   ],
   "source": [
    "a = [1,2,3]\n",
    "for ele in a:\n",
    "    # eleという新たな変数(メモリスペース)に、<1という値>がコピーされて入れられた\n",
    "    # だから元のaに変更なし\n",
    "    ele += 1\n",
    "a"
   ]
  },
  {
   "cell_type": "code",
   "execution_count": 111,
   "metadata": {},
   "outputs": [
    {
     "data": {
      "text/plain": [
       "[[1, 1, 1, 'new'], [2, 2, 2, 'new'], [3, 3, 3, 'new']]"
      ]
     },
     "execution_count": 111,
     "metadata": {},
     "output_type": "execute_result"
    }
   ],
   "source": [
    "a = [[1,1,1],[2,2,2],[3,3,3]]\n",
    "for ele in a:\n",
    "    # eleという新たな変数(メモリスペース)に、<リストaの各要素を指し示す参照値>がコピーされて入れられた\n",
    "    # だから元のaに変更あり\n",
    "    ele.append('new')\n",
    "a"
   ]
  },
  {
   "cell_type": "markdown",
   "metadata": {},
   "source": [
    "## 要はforループを回すとそのカウンターに要素がコピー(ここ重要)されるっぽい"
   ]
  },
  {
   "cell_type": "code",
   "execution_count": 110,
   "metadata": {},
   "outputs": [
    {
     "data": {
      "text/plain": [
       "[2, 2, 3]"
      ]
     },
     "execution_count": 110,
     "metadata": {},
     "output_type": "execute_result"
    }
   ],
   "source": [
    "a = [1,2,3]\n",
    "# a[0]は<1が入ったメモリスペースそのもの>である\n",
    "a[0] += 1\n",
    "a"
   ]
  },
  {
   "cell_type": "code",
   "execution_count": 116,
   "metadata": {},
   "outputs": [
    {
     "data": {
      "text/plain": [
       "[[1, 1, 1, 'new'], [2, 2, 2], [3, 3, 3]]"
      ]
     },
     "execution_count": 116,
     "metadata": {},
     "output_type": "execute_result"
    }
   ],
   "source": [
    "a = [[1,1,1],[2,2,2],[3,3,3]]\n",
    "# a[0]は<[1,1,1]への参照値への参照値>である\n",
    "a[0].append('new')\n",
    "a"
   ]
  },
  {
   "cell_type": "code",
   "execution_count": 108,
   "metadata": {},
   "outputs": [
    {
     "data": {
      "text/plain": [
       "3"
      ]
     },
     "execution_count": 108,
     "metadata": {},
     "output_type": "execute_result"
    }
   ],
   "source": [
    "a = 2\n",
    "# aは<2が入ったメモリスペースそのもの>である\n",
    "a += 1\n",
    "a"
   ]
  },
  {
   "cell_type": "code",
   "execution_count": null,
   "metadata": {},
   "outputs": [],
   "source": [
    "\u0010"
   ]
  }
 ],
 "metadata": {
  "kernelspec": {
   "display_name": "Python 3",
   "language": "python",
   "name": "python3"
  },
  "language_info": {
   "codemirror_mode": {
    "name": "ipython",
    "version": 3
   },
   "file_extension": ".py",
   "mimetype": "text/x-python",
   "name": "python",
   "nbconvert_exporter": "python",
   "pygments_lexer": "ipython3",
   "version": "3.8.1"
  }
 },
 "nbformat": 4,
 "nbformat_minor": 4
}
