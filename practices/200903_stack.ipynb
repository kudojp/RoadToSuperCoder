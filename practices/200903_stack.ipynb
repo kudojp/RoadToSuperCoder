{
 "cells": [
  {
   "cell_type": "markdown",
   "metadata": {},
   "source": [
    "# Stackの実装\n",
    "\n",
    "- pop(), push(), getMini()を全て定数時間で返すように実装"
   ]
  },
  {
   "cell_type": "markdown",
   "metadata": {},
   "source": [
    "## LinkedLIstを用いる場合\n",
    "\n",
    "- なお、minimum_listでPythonのlist(ArrayList)を使うのが良いのかは謎\n",
    "- NodeはStackのInner Classにした"
   ]
  },
  {
   "cell_type": "code",
   "execution_count": 5,
   "metadata": {},
   "outputs": [],
   "source": [
    "class Stack:\n",
    "    def __init__(self):\n",
    "        self.top = None\n",
    "        self.minimum_list = []\n",
    "\n",
    "        \n",
    "    def push(self, value):\n",
    "        self.top = self.Node(value, self.top)\n",
    "        new_minimum = value if (self.getMin() == None) else min(self.getMin(), value)\n",
    "        self.minimum_list.append(new_minimum)\n",
    "\n",
    "    def pop(self):\n",
    "        if self.top == None:\n",
    "            return None\n",
    "        popped_value = self.top.value\n",
    "        self.top = self.top.next\n",
    "        \n",
    "        self.minimum = self.minimum_list.pop()\n",
    "        return popped_value\n",
    "    \n",
    "    def getMin(self):\n",
    "        if len(self.minimum_list) == 0:\n",
    "            return None\n",
    "        mini = self.minimum_list.pop()\n",
    "        self.minimum_list.append(mini)\n",
    "        return mini\n",
    "    \n",
    "    class Node:\n",
    "        text = 0\n",
    "\n",
    "        def __init__(self, value, next):\n",
    "            self.value = value\n",
    "            self.next = next\n",
    "        \n",
    "        \n",
    "        \n",
    "\n",
    "# 1,3,2,-1,0 <-Stack.top\n",
    "\n",
    "# 1,1,1,-1,-1"
   ]
  },
  {
   "cell_type": "markdown",
   "metadata": {},
   "source": [
    "## ArrayListを用いる場合\n",
    "\n",
    "- PythonではArrayListが"
   ]
  },
  {
   "cell_type": "code",
   "execution_count": null,
   "metadata": {},
   "outputs": [],
   "source": []
  },
  {
   "cell_type": "markdown",
   "metadata": {},
   "source": [
    "## TESTING"
   ]
  },
  {
   "cell_type": "code",
   "execution_count": null,
   "metadata": {},
   "outputs": [],
   "source": []
  },
  {
   "cell_type": "code",
   "execution_count": 6,
   "metadata": {},
   "outputs": [],
   "source": [
    "s = Stack()\n",
    "assert s.pop() == None\n",
    "assert s.getMin() == None\n",
    "\n",
    "s.push(1)\n",
    "assert s.getMin() == 1\n",
    "assert s.pop() == 1\n",
    "assert s.getMin() == None\n",
    "\n",
    "s.push(3)\n",
    "assert s.getMin() == 3\n",
    "s.push(5)\n",
    "assert s.getMin() == 3\n",
    "s.push(1)\n",
    "assert s.getMin() == 1\n",
    "s.push(2)\n",
    "assert s.getMin() == 1\n",
    "s.push(0)\n",
    "assert s.getMin() == 0\n",
    "assert s.pop() == 0"
   ]
  },
  {
   "cell_type": "code",
   "execution_count": 216,
   "metadata": {},
   "outputs": [
    {
     "data": {
      "text/plain": [
       "2"
      ]
     },
     "execution_count": 216,
     "metadata": {},
     "output_type": "execute_result"
    }
   ],
   "source": [
    "s.pop()"
   ]
  },
  {
   "cell_type": "code",
   "execution_count": 77,
   "metadata": {},
   "outputs": [],
   "source": [
    "s.first.next.next\n"
   ]
  },
  {
   "cell_type": "code",
   "execution_count": null,
   "metadata": {},
   "outputs": [],
   "source": []
  }
 ],
 "metadata": {
  "kernelspec": {
   "display_name": "Python 3",
   "language": "python",
   "name": "python3"
  },
  "language_info": {
   "codemirror_mode": {
    "name": "ipython",
    "version": 3
   },
   "file_extension": ".py",
   "mimetype": "text/x-python",
   "name": "python",
   "nbconvert_exporter": "python",
   "pygments_lexer": "ipython3",
   "version": "3.8.1"
  }
 },
 "nbformat": 4,
 "nbformat_minor": 4
}
